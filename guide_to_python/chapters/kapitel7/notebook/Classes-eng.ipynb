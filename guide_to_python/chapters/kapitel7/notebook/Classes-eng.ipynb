{
 "cells": [
  {
   "cell_type": "markdown",
   "metadata": {
    "lang": "en"
   },
   "source": [
    "# Object-oriented programming\n",
    "\n",
    "The basic concept is the concept of an object that combines data and methods into one entity.\n",
    "     \n",
    "* Objects often describe nouns, such as point, circle, equation, model or square\n",
    "* Objects interact with each other by sending messages.\n",
    "  * Messages are verbs.\n",
    "* An object often exists\n",
    "  * methods (verbs), which define what the object can do\n",
    "  * properties that describe attributes and links to other objects."
   ]
  },
  {
   "cell_type": "markdown",
   "metadata": {
    "colab_type": "text",
    "id": "fnw6gOYXOZnk"
   },
   "source": [
    "# Function based programming"
   ]
  },
  {
   "cell_type": "code",
   "execution_count": 1,
   "metadata": {
    "colab": {},
    "colab_type": "code",
    "id": "SG6jyxw_OZnm"
   },
   "outputs": [],
   "source": [
    "def createPoint(x, y):\n",
    "    return [x, y]\n",
    "\n",
    "def movePoint(point, dx, dy):\n",
    "    point[0] += dx\n",
    "    point[1] += dy\n",
    "    \n",
    "def zeroPoint(point):\n",
    "    point[0] = 0.0\n",
    "    point[1] = 0.0\n",
    "    \n",
    "def setPoint(point, x, y):\n",
    "    point[0] = x\n",
    "    point[1] = y\n",
    "    \n",
    "def printPoint(point):\n",
    "    print(\"x =\",point[0], \"y = \", point[1])\n",
    "    "
   ]
  },
  {
   "cell_type": "code",
   "execution_count": 2,
   "metadata": {
    "colab": {
     "base_uri": "https://localhost:8080/",
     "height": 35
    },
    "colab_type": "code",
    "id": "8TQ7RQNSOZnu",
    "outputId": "30d42cef-6fe1-4af7-dc1a-1ba67a5b59e6"
   },
   "outputs": [
    {
     "name": "stdout",
     "output_type": "stream",
     "text": [
      "[0.5, 0.0]\n"
     ]
    }
   ],
   "source": [
    "p = createPoint(0.5, 0.0)\n",
    "print(p)"
   ]
  },
  {
   "cell_type": "code",
   "execution_count": 3,
   "metadata": {
    "colab": {
     "base_uri": "https://localhost:8080/",
     "height": 35
    },
    "colab_type": "code",
    "id": "yLXf2m3nOZn4",
    "outputId": "89469a5a-3a24-4c7c-fb1c-624b2982f02b"
   },
   "outputs": [
    {
     "name": "stdout",
     "output_type": "stream",
     "text": [
      "[3.5, 2.0]\n"
     ]
    }
   ],
   "source": [
    "movePoint(p, 3.0, 2.0)\n",
    "print(p)"
   ]
  },
  {
   "cell_type": "code",
   "execution_count": 4,
   "metadata": {
    "colab": {
     "base_uri": "https://localhost:8080/",
     "height": 35
    },
    "colab_type": "code",
    "id": "dvKiAYXzOZoB",
    "outputId": "a31163b0-baee-4971-ecd4-1ffaaa13e800"
   },
   "outputs": [
    {
     "name": "stdout",
     "output_type": "stream",
     "text": [
      "[-2.0, -1.0]\n"
     ]
    }
   ],
   "source": [
    "setPoint(p, -2.0, -1.0)\n",
    "print(p)"
   ]
  },
  {
   "cell_type": "code",
   "execution_count": 5,
   "metadata": {
    "colab": {
     "base_uri": "https://localhost:8080/",
     "height": 35
    },
    "colab_type": "code",
    "id": "4PokqmcbOZoH",
    "outputId": "2b465275-7b4e-464d-80e6-8f2ab65ed4c0"
   },
   "outputs": [
    {
     "name": "stdout",
     "output_type": "stream",
     "text": [
      "x = -2.0 y =  -1.0\n"
     ]
    }
   ],
   "source": [
    "printPoint(p)"
   ]
  },
  {
   "cell_type": "markdown",
   "metadata": {
    "colab_type": "text",
    "id": "6LX5I2NxOZoO"
   },
   "source": [
    "# Classes"
   ]
  },
  {
   "cell_type": "markdown",
   "metadata": {
    "colab_type": "text",
    "id": "9hQ2YldzOZoS"
   },
   "source": [
    "## Class definition in Python"
   ]
  },
  {
   "cell_type": "code",
   "execution_count": 6,
   "metadata": {
    "colab": {},
    "colab_type": "code",
    "id": "KW67Gz-COZoW"
   },
   "outputs": [],
   "source": [
    "class Point:\n",
    "    def __init__(self):\n",
    "        self.x = 0.0\n",
    "        self.y = 0.0"
   ]
  },
  {
   "cell_type": "markdown",
   "metadata": {
    "lang": "en"
   },
   "source": [
    "**self.x** and **self.y** are instance attributes and will be unique for each instance (object) of a class."
   ]
  },
  {
   "cell_type": "markdown",
   "metadata": {
    "colab_type": "text",
    "id": "vpjhmONCOZog"
   },
   "source": [
    "## Instanciating classes (creating objects)"
   ]
  },
  {
   "cell_type": "code",
   "execution_count": 7,
   "metadata": {
    "colab": {},
    "colab_type": "code",
    "id": "K9dCN2v2OZok"
   },
   "outputs": [],
   "source": [
    "p = Point()\n",
    "q = Point()"
   ]
  },
  {
   "cell_type": "markdown",
   "metadata": {
    "lang": "en"
   },
   "source": [
    "This means that the **__init__()** method for the **Point** class will be called for both **p** and __q__."
   ]
  },
  {
   "cell_type": "code",
   "execution_count": 15,
   "metadata": {
    "colab": {
     "base_uri": "https://localhost:8080/",
     "height": 53
    },
    "colab_type": "code",
    "id": "jUYbESIoOZor",
    "outputId": "ed01869d-a611-4a49-c49f-f0c2f66dcbaa"
   },
   "outputs": [
    {
     "name": "stdout",
     "output_type": "stream",
     "text": [
      "0.0\n",
      "0.0\n"
     ]
    }
   ],
   "source": [
    "print(p.x)\n",
    "print(p.y)"
   ]
  },
  {
   "cell_type": "markdown",
   "metadata": {
    "lang": "en"
   },
   "source": [
    "The instance attributes can also be assigned:"
   ]
  },
  {
   "cell_type": "code",
   "execution_count": 16,
   "metadata": {
    "colab": {
     "base_uri": "https://localhost:8080/",
     "height": 88
    },
    "colab_type": "code",
    "id": "21QodLpjOZoz",
    "outputId": "76eae1d6-0404-4f58-9539-5e6ace930f30"
   },
   "outputs": [
    {
     "name": "stdout",
     "output_type": "stream",
     "text": [
      "1.0\n",
      "2.0\n",
      "0.0\n",
      "0.0\n"
     ]
    }
   ],
   "source": [
    "p.x = 1.0\n",
    "p.y = 2.0\n",
    "\n",
    "print(p.x)\n",
    "print(p.y)\n",
    "print(q.x)\n",
    "print(q.y)"
   ]
  },
  {
   "cell_type": "markdown",
   "metadata": {
    "lang": "en"
   },
   "source": [
    "Is this a correct form of encapsulation? Python does not explicitly prohibit access to instance attributes. This doesn't have to be a problem, but will come later. First, let's implement the class in the right object-oriented way:"
   ]
  },
  {
   "cell_type": "markdown",
   "metadata": {
    "lang": "en"
   },
   "source": [
    "# Encapsulation and attribute access"
   ]
  },
  {
   "cell_type": "markdown",
   "metadata": {
    "lang": "en"
   },
   "source": [
    "An instance attribute can be made private in Python by adding the **__** prefix (two underscores). To assign values ​​to these, we add two additional arguments to the **__ init __ ()** method."
   ]
  },
  {
   "cell_type": "code",
   "execution_count": 8,
   "metadata": {
    "colab": {},
    "colab_type": "code",
    "id": "PuUnS6HPOZo-"
   },
   "outputs": [],
   "source": [
    "class Point:\n",
    "    def __init__(self, x, y):\n",
    "        self.__x = x\n",
    "        self.__y = y"
   ]
  },
  {
   "cell_type": "markdown",
   "metadata": {
    "lang": "en"
   },
   "source": [
    "We can now create **Point** instances and assign the instance attributes at the same time:"
   ]
  },
  {
   "cell_type": "code",
   "execution_count": 9,
   "metadata": {
    "colab": {},
    "colab_type": "code",
    "id": "ZhNdHvm8OZpE"
   },
   "outputs": [],
   "source": [
    "p = Point(1.0, 2.0)"
   ]
  },
  {
   "cell_type": "markdown",
   "metadata": {
    "lang": "en"
   },
   "source": [
    "We can no longer assign the instance attributes directly anymore. Something goes wrong:"
   ]
  },
  {
   "cell_type": "code",
   "execution_count": 10,
   "metadata": {
    "colab": {
     "base_uri": "https://localhost:8080/",
     "height": 187
    },
    "colab_type": "code",
    "id": "IVABAMl0OZpL",
    "outputId": "40b4a3b1-8ffb-4175-aeca-1564e50e4362",
    "scrolled": true
   },
   "outputs": [
    {
     "ename": "AttributeError",
     "evalue": "'Point' object has no attribute 'x'",
     "output_type": "error",
     "traceback": [
      "\u001b[1;31m---------------------------------------------------------------------------\u001b[0m",
      "\u001b[1;31mAttributeError\u001b[0m                            Traceback (most recent call last)",
      "\u001b[1;32m<ipython-input-10-04d32b2fd664>\u001b[0m in \u001b[0;36m<module>\u001b[1;34m\u001b[0m\n\u001b[1;32m----> 1\u001b[1;33m \u001b[0mprint\u001b[0m\u001b[1;33m(\u001b[0m\u001b[0mp\u001b[0m\u001b[1;33m.\u001b[0m\u001b[0mx\u001b[0m\u001b[1;33m)\u001b[0m\u001b[1;33m\u001b[0m\u001b[1;33m\u001b[0m\u001b[0m\n\u001b[0m\u001b[0;32m      2\u001b[0m \u001b[0mprint\u001b[0m\u001b[1;33m(\u001b[0m\u001b[0mp\u001b[0m\u001b[1;33m.\u001b[0m\u001b[0my\u001b[0m\u001b[1;33m)\u001b[0m\u001b[1;33m\u001b[0m\u001b[1;33m\u001b[0m\u001b[0m\n",
      "\u001b[1;31mAttributeError\u001b[0m: 'Point' object has no attribute 'x'"
     ]
    }
   ],
   "source": [
    "print(p.x)\n",
    "print(p.y)"
   ]
  },
  {
   "cell_type": "markdown",
   "metadata": {
    "lang": "en"
   },
   "source": [
    "The reason for this is that the x and y properties are now private. The internal attributes **__ x** cannot be reached either:"
   ]
  },
  {
   "cell_type": "code",
   "execution_count": 11,
   "metadata": {
    "colab": {
     "base_uri": "https://localhost:8080/",
     "height": 169
    },
    "colab_type": "code",
    "id": "WlCgDzfhOZpW",
    "outputId": "503c1cf9-5b87-4ade-e337-3fe98bd8e207"
   },
   "outputs": [
    {
     "ename": "AttributeError",
     "evalue": "'Point' object has no attribute '__x'",
     "output_type": "error",
     "traceback": [
      "\u001b[1;31m---------------------------------------------------------------------------\u001b[0m",
      "\u001b[1;31mAttributeError\u001b[0m                            Traceback (most recent call last)",
      "\u001b[1;32m<ipython-input-11-a798b988bea1>\u001b[0m in \u001b[0;36m<module>\u001b[1;34m\u001b[0m\n\u001b[1;32m----> 1\u001b[1;33m \u001b[0mprint\u001b[0m\u001b[1;33m(\u001b[0m\u001b[0mp\u001b[0m\u001b[1;33m.\u001b[0m\u001b[0m__x\u001b[0m\u001b[1;33m)\u001b[0m\u001b[1;33m\u001b[0m\u001b[1;33m\u001b[0m\u001b[0m\n\u001b[0m",
      "\u001b[1;31mAttributeError\u001b[0m: 'Point' object has no attribute '__x'"
     ]
    }
   ],
   "source": [
    "print(p.__x)"
   ]
  },
  {
   "cell_type": "markdown",
   "metadata": {
    "lang": "en"
   },
   "source": [
    "We have now protected our internal instance variables from a user of the object (encapsulation). To access these, we must now add methods to assign and return values. This is often done with get / set methods in object-oriented programming. We add the set methods to be able to assign the instance variables."
   ]
  },
  {
   "cell_type": "code",
   "execution_count": 12,
   "metadata": {
    "colab": {},
    "colab_type": "code",
    "id": "aXXy8GFlOZpj"
   },
   "outputs": [],
   "source": [
    "class Point:\n",
    "    def __init__(self, x=0.0, y=0.0):\n",
    "        self.__x = x\n",
    "        self.__y = y\n",
    "    \n",
    "    def set_x(self, x):\n",
    "        self.__x = x\n",
    "    \n",
    "    def set_y(self, y):\n",
    "        self.__y = y\n",
    "    \n",
    "    def set(self, x, y):\n",
    "        self.__x = x\n",
    "        self.__y = y"
   ]
  },
  {
   "cell_type": "markdown",
   "metadata": {
    "lang": "en"
   },
   "source": [
    "The class can now be created and used as in the code below:"
   ]
  },
  {
   "cell_type": "code",
   "execution_count": 0,
   "metadata": {
    "colab": {},
    "colab_type": "code",
    "id": "H-wCNyLIOZpq"
   },
   "outputs": [],
   "source": [
    "p = Point(12.0, 13.0)\n",
    "\n",
    "p.set(2.0, 3.0)\n",
    "p.set_x(42.0)\n",
    "p.set_y(83.0)"
   ]
  },
  {
   "cell_type": "markdown",
   "metadata": {
    "lang": "en"
   },
   "source": [
    "To return values, we add the functions **x ()** and **y ()**."
   ]
  },
  {
   "cell_type": "code",
   "execution_count": 0,
   "metadata": {
    "colab": {},
    "colab_type": "code",
    "id": "i_5O5D_tOZpv"
   },
   "outputs": [],
   "source": [
    "class Point:\n",
    "    def __init__(self, x=0.0, y=0.0):\n",
    "        self.__x = x\n",
    "        self.__y = y\n",
    "\n",
    "    def set_x(self, x):\n",
    "        self.__x = x\n",
    "\n",
    "    def set_y(self, y):\n",
    "        self.__y = y\n",
    "    \n",
    "    def set(self, x, y):\n",
    "        self.__x = x\n",
    "        self.__y = y\n",
    "    \n",
    "    def x(self):\n",
    "        return self.__x\n",
    "    \n",
    "    def y(self):\n",
    "        return self.__y"
   ]
  },
  {
   "cell_type": "markdown",
   "metadata": {
    "lang": "en"
   },
   "source": [
    "Now we have full access to the internal instance variables in the class:"
   ]
  },
  {
   "cell_type": "code",
   "execution_count": 26,
   "metadata": {
    "colab": {
     "base_uri": "https://localhost:8080/",
     "height": 53
    },
    "colab_type": "code",
    "id": "H-Df-mdaOZp3",
    "outputId": "20f04985-cf23-47e7-fb71-5910ee14d48e"
   },
   "outputs": [
    {
     "name": "stdout",
     "output_type": "stream",
     "text": [
      "42.0\n",
      "83.0\n"
     ]
    }
   ],
   "source": [
    "p = Point(12.0, 13.0)\n",
    "\n",
    "p.set(2.0, 3.0)\n",
    "p.set_x(42.0)\n",
    "p.set_y(83.0)\n",
    "\n",
    "print(p.x())\n",
    "print(p.y())"
   ]
  },
  {
   "cell_type": "markdown",
   "metadata": {
    "colab_type": "text",
    "id": "47n5ssycOZp7"
   },
   "source": [
    "## Python properties"
   ]
  },
  {
   "cell_type": "markdown",
   "metadata": {
    "lang": "en"
   },
   "source": [
    "To make it easier to use instance variables in, Python supports the concept of property. This concept means that you still use get / set methods, but you add a special **property** declaration which means that access to instance variables can be made just as if they were variables directly on the object. For example, an assignment will automatically call the set method. The **property** declaration specifies the name of the property and the methods used to assign and return the value of properties.\n",
    "\n",
    "We can add the __x__ and **y** properties to our existing __Point__ class. The modified class will now be:"
   ]
  },
  {
   "cell_type": "code",
   "execution_count": 0,
   "metadata": {
    "colab": {},
    "colab_type": "code",
    "id": "SJFrIoHTOZp-"
   },
   "outputs": [],
   "source": [
    "class Point:\n",
    "    def __init__(self, x=0.0, y=0.0):\n",
    "        self.__x = x\n",
    "        self.__y = y\n",
    "    \n",
    "    def set_x(self, x):\n",
    "        print(\"set_x()\")\n",
    "        self.__x = x\n",
    "    \n",
    "    def set_y(self, y):\n",
    "        print(\"set_y()\")\n",
    "        self.__y = y\n",
    "    \n",
    "    def set(self, x, y):\n",
    "        self.__x = x\n",
    "        self.__y = y\n",
    "    \n",
    "    def get_x(self):\n",
    "        print(\"get_x()\")\n",
    "        return self.__x\n",
    "    \n",
    "    def get_y(self):\n",
    "        print(\"get_y()\")\n",
    "        return self.__y\n",
    "    \n",
    "    x = property(get_x, set_x)\n",
    "    y = property(get_y, set_y)"
   ]
  },
  {
   "cell_type": "markdown",
   "metadata": {
    "lang": "en"
   },
   "source": [
    "It is now much easier to access the instance variables:"
   ]
  },
  {
   "cell_type": "code",
   "execution_count": 13,
   "metadata": {
    "colab": {
     "base_uri": "https://localhost:8080/",
     "height": 124
    },
    "colab_type": "code",
    "id": "7ElCqo4xOZqH",
    "outputId": "8a2a12fb-6234-42df-a1f6-fe8bb54392b0"
   },
   "outputs": [
    {
     "name": "stdout",
     "output_type": "stream",
     "text": [
      "42.0\n",
      "84.0\n"
     ]
    }
   ],
   "source": [
    "p = Point()\n",
    "\n",
    "p.x = 42.0\n",
    "p.y = 84.0\n",
    "\n",
    "print(p.x)\n",
    "print(p.y)"
   ]
  },
  {
   "cell_type": "markdown",
   "metadata": {
    "lang": "en"
   },
   "source": [
    "Properties give us the protection of get / set methods, but with the simplicity of assigning instance variables directly. It also gives us the opportunity to postpone the decision to add get / set methods and to use direct access to instance variables until you need the added protection.\n",
    "Protection."
   ]
  },
  {
   "cell_type": "markdown",
   "metadata": {
    "lang": "en"
   },
   "source": [
    "# Instance methods\n",
    "\n",
    "*Main way of interacting with objects.* Due to the fact that all data is handled internally in the object, the methods can often be shortened.\n",
    "\n",
    "A typical instance method in the **Point** class can be a method of moving the point a certain distance in the x and y directions."
   ]
  },
  {
   "cell_type": "code",
   "execution_count": 0,
   "metadata": {
    "colab": {},
    "colab_type": "code",
    "id": "oe9iRqCsOZqO"
   },
   "outputs": [],
   "source": [
    "class Point:\n",
    "    def __init__(self, x=0.0, y=0.0):\n",
    "        self.__x = x\n",
    "        self.__y = y\n",
    "    \n",
    "    def set_x(self, x):\n",
    "        self.__x = x\n",
    "    \n",
    "    def set_y(self, y):\n",
    "        self.__y = y\n",
    "    \n",
    "    def set(self, x, y):\n",
    "        self.__x = x\n",
    "        self.__y = y\n",
    "    \n",
    "    def get_x(self):\n",
    "        return self.__x\n",
    "    \n",
    "    def get_y(self):\n",
    "        return self.__y\n",
    "    \n",
    "    def move(self, dx, dy): # <---- Ny move-metod.\n",
    "        self.__x += dx\n",
    "        self.__y += dy\n",
    "    \n",
    "    x = property(get_x, set_x)\n",
    "    y = property(get_y, set_y)"
   ]
  },
  {
   "cell_type": "markdown",
   "metadata": {
    "lang": "en"
   },
   "source": [
    "We can now use **. Move ()** to move our points:"
   ]
  },
  {
   "cell_type": "code",
   "execution_count": 30,
   "metadata": {
    "colab": {
     "base_uri": "https://localhost:8080/",
     "height": 35
    },
    "colab_type": "code",
    "id": "p8Kh5SNEOZqR",
    "outputId": "490fe623-712f-4196-95cc-f4e6c4af9615"
   },
   "outputs": [
    {
     "name": "stdout",
     "output_type": "stream",
     "text": [
      "5.0 15.0\n"
     ]
    }
   ],
   "source": [
    "p0 = Point()\n",
    "p1 = Point()\n",
    "p0.move(10.0, 20.0)\n",
    "p0.move(-5.0, -5.0)\n",
    "\n",
    "print(p0.x, p0.y)"
   ]
  },
  {
   "cell_type": "markdown",
   "metadata": {
    "lang": "en"
   },
   "source": [
    "Another method that can be implemented is a method for copying the attributes from another instance of the same object **.copy_from()**:"
   ]
  },
  {
   "cell_type": "code",
   "execution_count": 0,
   "metadata": {
    "colab": {},
    "colab_type": "code",
    "id": "XHGC8fx5OZqb"
   },
   "outputs": [],
   "source": [
    "class Point:\n",
    "    def __init__(self, x=0.0, y=0.0):\n",
    "        self.__x = x\n",
    "        self.__y = y\n",
    "    \n",
    "    def set_x(self, x):\n",
    "        self.__x = x\n",
    "    \n",
    "    def set_y(self, y):\n",
    "        self.__y = y\n",
    "    \n",
    "    def set(self, x, y):\n",
    "        self.__x = x\n",
    "        self.__y = y\n",
    "    \n",
    "    def get_x(self):\n",
    "        return self.__x\n",
    "    \n",
    "    def get_y(self):\n",
    "        return self.__y\n",
    "    \n",
    "    def move(self, dx, dy): \n",
    "        self.__x += dx\n",
    "        self.__y += dy\n",
    "        \n",
    "    def copy_from(self, p): # <---- Ny metod\n",
    "        self.__x = p.x\n",
    "        self.__y = p.y\n",
    "    \n",
    "    x = property(get_x, set_x)\n",
    "    y = property(get_y, set_y)"
   ]
  },
  {
   "cell_type": "markdown",
   "metadata": {
    "lang": "en"
   },
   "source": [
    "How this method is used is shown below:"
   ]
  },
  {
   "cell_type": "code",
   "execution_count": 33,
   "metadata": {
    "colab": {
     "base_uri": "https://localhost:8080/",
     "height": 71
    },
    "colab_type": "code",
    "id": "WVPr0di4OZqd",
    "outputId": "05d9d686-acc4-4c3c-d309-9f1809fa25eb"
   },
   "outputs": [
    {
     "name": "stdout",
     "output_type": "stream",
     "text": [
      "10.0 10.0\n",
      "-5.0 -5.0\n",
      "10.0 10.0\n"
     ]
    }
   ],
   "source": [
    "p0 = Point()\n",
    "p1 = Point()\n",
    "\n",
    "p0.move(10.0, 20.0)\n",
    "p1.move(-5.0, -5.0)\n",
    "\n",
    "print(p0.x, p0.x)\n",
    "print(p1.x, p1.x)\n",
    "\n",
    "p1.copy_from(p0)\n",
    "\n",
    "print(p1.x, p1.x)"
   ]
  },
  {
   "cell_type": "markdown",
   "metadata": {
    "lang": "en"
   },
   "source": [
    "# Special instance methods\n",
    "\n",
    "There are a variety of special instance methods for implementing extra functionality on objects **__ init __** is one of them\n",
    "**__str __** is used to convert an object to a printable form with **print()**\n",
    "\n",
    "Using **print()** on an instance without the **__str__** method produces the following printout."
   ]
  },
  {
   "cell_type": "code",
   "execution_count": 14,
   "metadata": {
    "colab": {
     "base_uri": "https://localhost:8080/",
     "height": 35
    },
    "colab_type": "code",
    "id": "Ktl2m3p6OZqh",
    "outputId": "ca5c472f-cb48-40f7-903b-c1d61f1221b5"
   },
   "outputs": [
    {
     "name": "stdout",
     "output_type": "stream",
     "text": [
      "<__main__.Point object at 0x0000020824402940>\n"
     ]
    }
   ],
   "source": [
    "p = Point()\n",
    "print(p)"
   ]
  },
  {
   "cell_type": "markdown",
   "metadata": {
    "lang": "en"
   },
   "source": [
    "It would be nicer if the item could print in a more presentable way:"
   ]
  },
  {
   "cell_type": "code",
   "execution_count": 0,
   "metadata": {
    "colab": {},
    "colab_type": "code",
    "id": "QJLZAAs1OZql"
   },
   "outputs": [],
   "source": [
    "class Point:\n",
    "    def __init__(self, x=0.0, y=0.0):\n",
    "        self.__x = x\n",
    "        self.__y = y\n",
    "    \n",
    "    def set_x(self, x):\n",
    "        self.__x = x\n",
    "    \n",
    "    def set_y(self, y):\n",
    "        self.__y = y\n",
    "    \n",
    "    def set(self, x, y):\n",
    "        self.__x = x\n",
    "        self.__y = y\n",
    "    \n",
    "    def get_x(self):\n",
    "        return self.__x\n",
    "    \n",
    "    def get_y(self):\n",
    "        return self.__y\n",
    "    \n",
    "    def move(self, dx, dy): \n",
    "        self.__x += dx\n",
    "        self.__y += dy\n",
    "        \n",
    "    def copy_from(self, p):\n",
    "        self.__x = p.x\n",
    "        self.__y = p.y\n",
    "        \n",
    "    def __str__(self): # <---- New __str__ method\n",
    "        return \"Point(\"+str(self.__x)+\", \"+str(self.__y)+\")\"\n",
    "    \n",
    "    x = property(get_x, set_x)\n",
    "    y = property(get_y, set_y)"
   ]
  },
  {
   "cell_type": "markdown",
   "metadata": {
    "lang": "en"
   },
   "source": [
    "If we use the same code to print, we get instead:"
   ]
  },
  {
   "cell_type": "code",
   "execution_count": 36,
   "metadata": {
    "colab": {
     "base_uri": "https://localhost:8080/",
     "height": 35
    },
    "colab_type": "code",
    "id": "HLQsLHXWOZqn",
    "outputId": "61fdb842-aa97-4e43-e309-186c27f75b90"
   },
   "outputs": [
    {
     "name": "stdout",
     "output_type": "stream",
     "text": [
      "Point(42.0, 84.0)\n"
     ]
    }
   ],
   "source": [
    "p = Point()\n",
    "\n",
    "p.x = 42.0\n",
    "p.y = 84.0\n",
    "\n",
    "print(p)"
   ]
  },
  {
   "cell_type": "markdown",
   "metadata": {
    "lang": "en"
   },
   "source": [
    "## Classes as data types\n",
    "\n",
    "Custom classes can be used as any other Python data type. Instances or objects can be stored in lists or reference lists just like any other data type.\n",
    "\n",
    "A list of **Point** objects can be created with the following code:"
   ]
  },
  {
   "cell_type": "code",
   "execution_count": 0,
   "metadata": {
    "colab": {},
    "colab_type": "code",
    "id": "xB261oIqOZqx"
   },
   "outputs": [],
   "source": [
    "import random\n",
    "\n",
    "points = []\n",
    "\n",
    "for i in range(10):\n",
    "    points.append(Point(random.random(), random.random()))"
   ]
  },
  {
   "cell_type": "markdown",
   "metadata": {
    "lang": "en"
   },
   "source": [
    "or"
   ]
  },
  {
   "cell_type": "code",
   "execution_count": 0,
   "metadata": {
    "colab": {},
    "colab_type": "code",
    "id": "JR6gOFhMOZq3"
   },
   "outputs": [],
   "source": [
    "points = [Point(random.random(), random.random()) for i in range(10)]"
   ]
  },
  {
   "cell_type": "markdown",
   "metadata": {
    "lang": "en"
   },
   "source": [
    "Because the **Point** class implements a **__ str __** method, you can easily print the list:"
   ]
  },
  {
   "cell_type": "code",
   "execution_count": 39,
   "metadata": {
    "colab": {
     "base_uri": "https://localhost:8080/",
     "height": 196
    },
    "colab_type": "code",
    "id": "PmTSIDwtOZq6",
    "outputId": "72d665f8-0366-4e38-d105-41c501d728d7"
   },
   "outputs": [
    {
     "name": "stdout",
     "output_type": "stream",
     "text": [
      "Point(0.7225453734331898, 0.9180511873219612)\n",
      "Point(0.39070400850904985, 0.9032252817539117)\n",
      "Point(0.836601036524842, 0.10852806217271282)\n",
      "Point(0.6612253638757242, 0.45123651348907645)\n",
      "Point(0.5326299137926801, 0.5091008376836006)\n",
      "Point(0.8107077037974635, 0.9053766118908402)\n",
      "Point(0.08278370194215956, 0.5158469586269234)\n",
      "Point(0.9377899339341865, 0.44035490152609125)\n",
      "Point(0.12823772041446935, 0.39086237005909497)\n",
      "Point(0.9129178612076297, 0.723888300857342)\n"
     ]
    }
   ],
   "source": [
    "for p in points:\n",
    "    print(p)"
   ]
  },
  {
   "cell_type": "markdown",
   "metadata": {
    "lang": "en"
   },
   "source": [
    "Variable references work the same way as for built-in Python data types:"
   ]
  },
  {
   "cell_type": "code",
   "execution_count": 40,
   "metadata": {
    "colab": {
     "base_uri": "https://localhost:8080/",
     "height": 88
    },
    "colab_type": "code",
    "id": "BnngOgHeOZrB",
    "outputId": "760246ad-01dc-475b-dd18-ce5a74b97379"
   },
   "outputs": [
    {
     "name": "stdout",
     "output_type": "stream",
     "text": [
      "140419921484656\n",
      "140419921484264\n",
      "140419921484656\n",
      "140419921484264\n"
     ]
    }
   ],
   "source": [
    "p0 = Point(0.0, 0.0)\n",
    "p1 = Point(1.0, 2.0)\n",
    "\n",
    "p2 = p0\n",
    "p3 = p1\n",
    "\n",
    "print(id(p0))\n",
    "print(id(p1))\n",
    "print(id(p2))\n",
    "print(id(p3))"
   ]
  },
  {
   "attachments": {},
   "cell_type": "markdown",
   "metadata": {
    "lang": "en"
   },
   "source": [
    "# Samansatta objekt\n",
    "\n",
    "* I många fall kommer klasser att referera til en eller flera objekt.\n",
    "* Denna typ av objekt kallas sammansatta objekt\n",
    "\n",
    "* In many cases objects will consist of other objects or references to objects\n",
    "* These kind of objects are referred as composite objects.\n",
    "\n",
    "Ett typiskt exempel är en **Line**-klass som hanterar en linje mellan två **Point**-instanser.\n"
   ]
  },
  {
   "cell_type": "code",
   "execution_count": 15,
   "metadata": {
    "colab": {},
    "colab_type": "code",
    "id": "osly9MwVOZrH"
   },
   "outputs": [],
   "source": [
    "class Circle(Point):\n",
    "    def __init__(self, x=0.0, y=0.0, r=1.0):\n",
    "        super().__init__(x, y) # <--- Call inherited constructor of Point-class\n",
    "        self._r = r\n",
    "    \n",
    "    def set_r(self, r):\n",
    "        self._r = r\n",
    "    \n",
    "    def get_r(self):\n",
    "        return self._r\n",
    "    \n",
    "    def copy_from(self, c):\n",
    "        super().copy_from(c)\n",
    "        self.r = c.r\n",
    "    \n",
    "    def __str__(self):\n",
    "        return \"Circle(\"+str(self.x)+\", \"+str(self.y)+\", \"+str(self._r)+\")\"\n",
    "\n",
    "    r = property(get_r, set_r)"
   ]
  },
  {
   "cell_type": "markdown",
   "metadata": {
    "colab_type": "text",
    "id": "z7WaBlZ8OZrI"
   },
   "source": [
    "Vi kan nu använda klassen i följande exempel:\n"
   ]
  },
  {
   "cell_type": "code",
   "execution_count": 43,
   "metadata": {
    "colab": {
     "base_uri": "https://localhost:8080/",
     "height": 53
    },
    "colab_type": "code",
    "id": "kF5A0FAaOZrJ",
    "outputId": "b1dcdfcc-5e79-4e80-f04c-3f94f15a3cde"
   },
   "outputs": [
    {
     "name": "stdout",
     "output_type": "stream",
     "text": [
      "Point(2.0, 3.0)\n",
      "Circle(3.0, 5.0, 10.0)\n"
     ]
    }
   ],
   "source": [
    "p = Point(1.0, 2.0)\n",
    "c = Circle(2.0, 4.0, 8.0)\n",
    "\n",
    "c.r = 10.0\n",
    "\n",
    "p.move(1.0, 1.0)\n",
    "c.move(1.0, 1.0)\n",
    "\n",
    "print(p)\n",
    "print(c)"
   ]
  },
  {
   "cell_type": "markdown",
   "metadata": {
    "lang": "sv"
   },
   "source": [
    "# Samansatta objekt\n",
    "\n",
    "* I många fall kommer klasser att referera til en eller flera objekt.\n",
    "* Denna typ av objekt kallas sammansatta objekt\n",
    "\n",
    "* In many cases objects will consist of other objects or references to objects\n",
    "* These kind of objects are referred as composite objects.\n",
    "\n",
    "Ett typiskt exempel är en **Line**-klass som hanterar en linje mellan två **Point**-instanser."
   ]
  },
  {
   "cell_type": "markdown",
   "metadata": {
    "lang": "en"
   },
   "source": [
    "# Composite classes\n",
    "\n",
    "* In many cases, classes will refer to one or more objects.* This type of object is called composite object\n",
    "* In many cases objects will consist of other objects or references to objects\n",
    "* These kind of objects are referred to as composite objects.\n",
    "\n",
    "A typical example is a **Line** class that handles a line between two **Point** instances."
   ]
  },
  {
   "cell_type": "code",
   "execution_count": 0,
   "metadata": {
    "colab": {},
    "colab_type": "code",
    "id": "EKtgAcuiOZrN"
   },
   "outputs": [],
   "source": [
    "class Line:\n",
    "    def __init__(self):\n",
    "        self.__p0 = Point()\n",
    "        self.__p1 = Point()\n",
    "    \n",
    "    def get_p0(self):\n",
    "        return self.__p0\n",
    "\n",
    "    def get_p1(self):\n",
    "        return self.__p1\n",
    "    \n",
    "    def __str__(self):\n",
    "        return \"Line from: \" + str(self.__p0) + \" to \" + str(self.__p1)\n",
    "\n",
    "    p0 = property(get_p0)\n",
    "    p1 = property(get_p1)"
   ]
  },
  {
   "cell_type": "markdown",
   "metadata": {
    "lang": "en"
   },
   "source": [
    "Note that the **Line** class does not inherit from **Point**. It only refers to instances of type **Point**."
   ]
  },
  {
   "cell_type": "code",
   "execution_count": 45,
   "metadata": {
    "colab": {
     "base_uri": "https://localhost:8080/",
     "height": 35
    },
    "colab_type": "code",
    "id": "_Ku6WSAJOZrP",
    "outputId": "a0f93c3f-7d0e-440b-99a9-5326e9e0e221"
   },
   "outputs": [
    {
     "name": "stdout",
     "output_type": "stream",
     "text": [
      "Line from: Point(0.0, 2.0) to Point(3.0, 4.0)\n"
     ]
    }
   ],
   "source": [
    "line = Line()\n",
    "line.p0.x = 0.0\n",
    "line.p0.y = 2.0\n",
    "line.p1.x = 3.0\n",
    "line.p1.y = 4.0\n",
    "print(line)"
   ]
  },
  {
   "cell_type": "markdown",
   "metadata": {
    "lang": "en"
   },
   "source": [
    "In this example, the **Point** instances cannot be modified as they can only be accessed by the **get_p0 ()** and **get_p1 ()** methods. The **x** and **y** attributes of the **Point** class can still be modified.\n",
    "\n",
    "It would also have been possible to modify the class to allow the assignment of the instance properties **p0** and **p1**."
   ]
  },
  {
   "cell_type": "code",
   "execution_count": 0,
   "metadata": {
    "colab": {},
    "colab_type": "code",
    "id": "5xV7kS-XOZrS"
   },
   "outputs": [],
   "source": [
    "class Line:\n",
    "    def __init__(self):\n",
    "        self.__p0 = Point()\n",
    "        self.__p1 = Point()\n",
    "    \n",
    "    def get_p0(self):\n",
    "        return self.__p0\n",
    "\n",
    "    def get_p1(self):\n",
    "        return self.__p1\n",
    "    \n",
    "    def set_p0(self, p):\n",
    "        self.__p0 = p\n",
    "        \n",
    "    def set_p1(self, p):\n",
    "        self.__p1 = p\n",
    "    \n",
    "    def __str__(self):\n",
    "        return \"Line from: \" + str(self.__p0) + \" to \" + str(self.__p1)\n",
    "\n",
    "    p0 = property(get_p0, set_p0)\n",
    "    p1 = property(get_p1, set_p1)"
   ]
  },
  {
   "cell_type": "markdown",
   "metadata": {
    "lang": "en"
   },
   "source": [
    "The class can now be used as follows:"
   ]
  },
  {
   "cell_type": "code",
   "execution_count": 47,
   "metadata": {
    "colab": {
     "base_uri": "https://localhost:8080/",
     "height": 53
    },
    "colab_type": "code",
    "id": "HAP2SQAmOZrT",
    "outputId": "d2ad134e-f9de-4833-fab7-a8bd925e848f"
   },
   "outputs": [
    {
     "name": "stdout",
     "output_type": "stream",
     "text": [
      "Line from: Point(0.0, 2.0) to Point(3.0, 4.0)\n",
      "Line from: Point(5.0, 5.0) to Point(10.0, 10.0)\n"
     ]
    }
   ],
   "source": [
    "line = Line()\n",
    "line.p0.x = 0.0\n",
    "line.p0.y = 2.0\n",
    "line.p1.x = 3.0\n",
    "line.p1.y = 4.0\n",
    "\n",
    "print(line)\n",
    "\n",
    "p3 = Point(5.0, 5.0)\n",
    "p4 = Point(10.0, 10.0)\n",
    "line.p0 = p3\n",
    "line.p1 = p4\n",
    "\n",
    "print(line)"
   ]
  },
  {
   "cell_type": "markdown",
   "metadata": {
    "lang": "en"
   },
   "source": [
    "A method for calculating the length can easily be added:"
   ]
  },
  {
   "cell_type": "code",
   "execution_count": 0,
   "metadata": {
    "colab": {},
    "colab_type": "code",
    "id": "qp1rMBX3OZrY"
   },
   "outputs": [],
   "source": [
    "import math\n",
    "\n",
    "class Line:\n",
    "    def __init__(self):\n",
    "        self.__p0 = Point()\n",
    "        self.__p1 = Point()\n",
    "    \n",
    "    def get_p0(self):\n",
    "        return self.__p0\n",
    "\n",
    "    def get_p1(self):\n",
    "        return self.__p1\n",
    "    \n",
    "    def set_p0(self, p):\n",
    "        self.__p0 = p\n",
    "        \n",
    "    def set_p1(self, p):\n",
    "        self.__p1 = p\n",
    "        \n",
    "    def length(self):\n",
    "        return math.sqrt(math.pow(self.p1.x - self.p0.x, 2) +\n",
    "            math.pow(self.p1.y - self.p0.y, 2))        \n",
    "    \n",
    "    def __str__(self):\n",
    "        return \"Line from: \" + str(self.__p0) + \" to \" + str(self.__p1)\n",
    "\n",
    "    p0 = property(get_p0, set_p0)\n",
    "    p1 = property(get_p1, set_p1)"
   ]
  },
  {
   "cell_type": "markdown",
   "metadata": {
    "lang": "en"
   },
   "source": [
    "Examples of use:"
   ]
  },
  {
   "cell_type": "code",
   "execution_count": 49,
   "metadata": {
    "colab": {
     "base_uri": "https://localhost:8080/",
     "height": 35
    },
    "colab_type": "code",
    "id": "Di1LNoqEOZrm",
    "outputId": "eed2c630-9765-4bf2-9093-79211f6f164b"
   },
   "outputs": [
    {
     "name": "stdout",
     "output_type": "stream",
     "text": [
      "3.605551275463989\n"
     ]
    }
   ],
   "source": [
    "line = Line()\n",
    "line.p0.x = 0.0\n",
    "line.p0.y = 2.0\n",
    "line.p1.x = 3.0\n",
    "line.p1.y = 4.0\n",
    "\n",
    "print(line.length())"
   ]
  },
  {
   "cell_type": "markdown",
   "metadata": {
    "colab_type": "text",
    "id": "I2CDYQ8ZOZrw",
    "lang": "sv"
   },
   "source": [
    "# Polymorfism\n",
    "\n",
    "* Innebär att rätt metod anropas beroende på vilken klassinstans som avses.\n",
    "* Om en metod inte är tillgänglig för den aktuella instansens klass kommer metoden i ovanliggande klass anropas.\n",
    "* Polymorfism möjliggör hantering en mix av instanser av olika typer och se till att rätt metod anropas beroende på vilken faktisk datatype instanser har.\n",
    "\n",
    "\n",
    "Example:"
   ]
  },
  {
   "cell_type": "markdown",
   "metadata": {
    "lang": "en"
   },
   "source": [
    "# Polymorphism\n",
    "\n",
    "* Means that the correct method is called depending on which class instance is intended.\n",
    "* If a method is not available for the current instance class, the method in the above class will be called.\n",
    "* Polymorphism enables handling a mix of instances of different types and ensures that the correct method is called depending on the actual data type instances have.\n",
    "\n",
    "\n",
    "Example:"
   ]
  },
  {
   "cell_type": "code",
   "execution_count": 50,
   "metadata": {
    "colab": {
     "base_uri": "https://localhost:8080/",
     "height": 88
    },
    "colab_type": "code",
    "id": "13aahnZVOZrw",
    "outputId": "5878bdf3-a627-4333-a190-73e6d8dba3ca"
   },
   "outputs": [
    {
     "name": "stdout",
     "output_type": "stream",
     "text": [
      "Point(0.0, 1.0)\n",
      "Circle(2.0, 1.0, 3.0)\n",
      "Line from: Point(0.0, 0.0) to Point(0.0, 0.0)\n",
      "42.0\n"
     ]
    }
   ],
   "source": [
    "shapes = []\n",
    "\n",
    "shapes.append(Point(0.0, 1.0))\n",
    "shapes.append(Circle(2.0, 1.0, 3.0))\n",
    "shapes.append(Line())\n",
    "shapes.append(42.0)\n",
    "\n",
    "for shape in shapes:\n",
    "    print(shape)"
   ]
  },
  {
   "cell_type": "markdown",
   "metadata": {
    "lang": "en"
   },
   "source": [
    "What does print (42.0) really mean?"
   ]
  },
  {
   "cell_type": "code",
   "execution_count": 51,
   "metadata": {
    "colab": {
     "base_uri": "https://localhost:8080/",
     "height": 35
    },
    "colab_type": "code",
    "id": "ILMfPtN4OZr3",
    "outputId": "565a8bcf-238d-44b2-908c-adb7fad58748"
   },
   "outputs": [
    {
     "name": "stdout",
     "output_type": "stream",
     "text": [
      "42.0\n"
     ]
    }
   ],
   "source": [
    "print(42.0.__str__())"
   ]
  },
  {
   "cell_type": "code",
   "execution_count": 0,
   "metadata": {
    "colab": {},
    "colab_type": "code",
    "id": "u0zfn3MY1N0y"
   },
   "outputs": [],
   "source": []
  }
 ],
 "metadata": {
  "colab": {
   "name": "Classes.ipynb",
   "provenance": [],
   "toc_visible": true,
   "version": "0.3.2"
  },
  "kernelspec": {
   "display_name": "Python 3",
   "language": "python",
   "name": "python3"
  },
  "language_info": {
   "codemirror_mode": {
    "name": "ipython",
    "version": 3
   },
   "file_extension": ".py",
   "mimetype": "text/x-python",
   "name": "python",
   "nbconvert_exporter": "python",
   "pygments_lexer": "ipython3",
   "version": "3.7.3"
  },
  "nbTranslate": {
   "displayLangs": [
    "*"
   ],
   "hotkey": "alt-t",
   "langInMainMenu": true,
   "sourceLang": "sv",
   "targetLang": "en",
   "useGoogleTranslate": true
  }
 },
 "nbformat": 4,
 "nbformat_minor": 1
}
