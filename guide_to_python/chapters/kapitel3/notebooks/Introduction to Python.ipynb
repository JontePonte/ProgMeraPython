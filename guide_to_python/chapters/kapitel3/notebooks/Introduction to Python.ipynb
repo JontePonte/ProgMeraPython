{
  "nbformat": 4,
  "nbformat_minor": 0,
  "metadata": {
    "colab": {
      "name": "Introduction to Python.ipynb",
      "version": "0.3.2",
      "provenance": [],
      "toc_visible": true
    },
    "language_info": {
      "codemirror_mode": {
        "name": "ipython",
        "version": 3
      },
      "file_extension": ".py",
      "mimetype": "text/x-python",
      "name": "python",
      "nbconvert_exporter": "python",
      "pygments_lexer": "ipython3",
      "version": "3.6.5"
    },
    "kernelspec": {
      "display_name": "Python 3",
      "language": "python",
      "name": "python3"
    }
  },
  "cells": [
    {
      "metadata": {
        "id": "Jl5r47mermbo",
        "colab_type": "text"
      },
      "cell_type": "markdown",
      "source": [
        "# Programstruktur"
      ]
    },
    {
      "metadata": {
        "id": "-3MWVUPRrmbt",
        "colab_type": "text"
      },
      "cell_type": "markdown",
      "source": [
        "* Python-program är textfiler som innehåller rader av programsatser.\n",
        "* Texfilerna översätts till datorinstruktioner med hjälp av en Python-tolk.\n",
        "* Tomma rader ignoreras.\n",
        "* Textfilerna med programsatser har ändelsen .py.\n",
        "* Textfilerna med programsatser kallas även källkodsfiler."
      ]
    },
    {
      "metadata": {
        "id": "gmpLn2Pcrmbx",
        "colab_type": "code",
        "outputId": "369c5a2a-4cfd-4a98-dd43-8deaae854a13",
        "colab": {}
      },
      "cell_type": "code",
      "source": [
        "#!/usr/bin/env python3\n",
        "# -*- coding: utf-8 -*-\n",
        "\n",
        "# Detta är en kommentar\n",
        "\n",
        "for i in range(10):\n",
        "\tprint(i)"
      ],
      "execution_count": 0,
      "outputs": [
        {
          "output_type": "stream",
          "text": [
            "0\n",
            "1\n",
            "2\n",
            "3\n",
            "4\n",
            "5\n",
            "6\n",
            "7\n",
            "8\n",
            "9\n"
          ],
          "name": "stdout"
        }
      ]
    },
    {
      "metadata": {
        "id": "A20KXJtPrmb-",
        "colab_type": "text"
      },
      "cell_type": "markdown",
      "source": [
        "# Inbyggda funktioner"
      ]
    },
    {
      "metadata": {
        "id": "x2uwLwvJrmcB",
        "colab_type": "text"
      },
      "cell_type": "markdown",
      "source": [
        "* Mycket av funktionaliteten i ett språk tillhandalhålls som funktioner.\n",
        "* Python innehåller en mängd funktionsbibliotek för utskrift, numeriska funktioenr, stränghantering och filhantering.\n",
        "* En funktion anropas genom att ge dess namn följt av en lista med parametrar inom paranteser ().\n"
      ]
    },
    {
      "metadata": {
        "id": "Iq7qCIP7rmcE",
        "colab_type": "code",
        "outputId": "3ff4a8ae-df1d-4165-a164-c230d8badf44",
        "colab": {}
      },
      "cell_type": "code",
      "source": [
        "print(\"This is the print-function\", 42)"
      ],
      "execution_count": 0,
      "outputs": [
        {
          "output_type": "stream",
          "text": [
            "This is the print-function 42\n"
          ],
          "name": "stdout"
        }
      ]
    },
    {
      "metadata": {
        "id": "G12vNJfOrmcO",
        "colab_type": "text"
      },
      "cell_type": "markdown",
      "source": [
        "Inte alla funktioner har parametrar. I detta fall anges en tom parantes."
      ]
    },
    {
      "metadata": {
        "id": "Hfzyel4MrmcQ",
        "colab_type": "code",
        "outputId": "57391d6f-0f13-4ddb-da41-771e5a191a34",
        "colab": {}
      },
      "cell_type": "code",
      "source": [
        "print()"
      ],
      "execution_count": 0,
      "outputs": [
        {
          "output_type": "stream",
          "text": [
            "\n"
          ],
          "name": "stdout"
        }
      ]
    },
    {
      "metadata": {
        "id": "FT-z1B9Xrmce",
        "colab_type": "text"
      },
      "cell_type": "markdown",
      "source": [
        "Alla funktioner i Python kan ha returvärden. Returvärden tilldelas genom att använda ett likhetstecken (=) till vänster om funktionsanropet."
      ]
    },
    {
      "metadata": {
        "id": "DcLDqMfzrmcg",
        "colab_type": "code",
        "colab": {}
      },
      "cell_type": "code",
      "source": [
        "y = abs(-4)"
      ],
      "execution_count": 0,
      "outputs": []
    },
    {
      "metadata": {
        "id": "xmHkqwVKrmco",
        "colab_type": "text"
      },
      "cell_type": "markdown",
      "source": [
        "Funktioner kan också ha fler returvärden. Dessa tilldelas genom flera variabelreferenser separerade med kommatecken till vänster om likhetstecknet."
      ]
    },
    {
      "metadata": {
        "id": "fuM4pAcMrmcr",
        "colab_type": "code",
        "outputId": "2a21c8c4-a2e7-4366-b269-27509275df00",
        "colab": {}
      },
      "cell_type": "code",
      "source": [
        "q, r = divmod(100,47)\n",
        "print(q, r)"
      ],
      "execution_count": 0,
      "outputs": [
        {
          "output_type": "stream",
          "text": [
            "2 6\n"
          ],
          "name": "stdout"
        }
      ]
    },
    {
      "metadata": {
        "id": "eQdTWxsgrmc0",
        "colab_type": "text"
      },
      "cell_type": "markdown",
      "source": [
        "# Lagra och referera till data"
      ]
    },
    {
      "metadata": {
        "id": "COvUmQrPrmc6",
        "colab_type": "text"
      },
      "cell_type": "markdown",
      "source": [
        "En fundamental egenskap i programmering är möjligheten att arbeta med lagrade data på olika sätt. I Python används variabler för att referera till data. I Python är det inte variabeln själv som lagrar data utan variabler är referenser till data i datorns minne. Det kan jämföras med en garderobsbiljett (variabelreferens) som gör att att garderobiären kan hitta dina kläder i garderoben (datorns minne)\n",
        "\n",
        "Några viktiga egenskaper för Python:s variabelreferenser:\n",
        "\n",
        "* I Python behöver man inte specificera datatyper vid tilldelning av variabler.\n",
        "* Datatypen bestäms av datatypen i tilldelningen.\n",
        "* En variabelreferens kan referera till olika datatyper under programkörningen."
      ]
    },
    {
      "metadata": {
        "id": "-kAz5nPurmc7",
        "colab_type": "code",
        "colab": {}
      },
      "cell_type": "code",
      "source": [
        "# Heltalsvariabler\n",
        "\n",
        "a = 1\n",
        "b = 15\n",
        "\n",
        "# Flyttalsvariabler\n",
        "\n",
        "c = 14.5\n",
        "d = 42.32\n",
        "\n",
        "# Strängar (text)\n",
        "\n",
        "e = \"Hejsan\"\n",
        "\n",
        "# Listor\n",
        "\n",
        "f = [1, 2, 4, \"A\"]\n",
        "\n",
        "# Tilldelning av nytt värde och typ\n",
        "\n",
        "a = \"Hej på dig!\""
      ],
      "execution_count": 0,
      "outputs": []
    },
    {
      "metadata": {
        "id": "3sRUirPprmdJ",
        "colab_type": "text"
      },
      "cell_type": "markdown",
      "source": [
        "## Namngivning av variabler"
      ]
    },
    {
      "metadata": {
        "id": "DoJoS6D5rmdL",
        "colab_type": "text"
      },
      "cell_type": "markdown",
      "source": [
        "Följande regler gäller vid namngivning av variabler i Python:\n",
        "\n",
        "* Bara bokstäver från det engelska alfabetet\n",
        "* Siffror\n",
        "* Inga specialtecken förutom understrykningstecken (_)\n",
        "* Får inte börja med en siffra.\n",
        "\n",
        "Tillåtna variabelnamn\n",
        "\n",
        "* first_name\n",
        "* last_name\n",
        "* number\n",
        "* i2\n",
        "\n",
        "Inte tillåtna variabelnamn\n",
        "\n",
        "* 1var\n",
        "* år"
      ]
    },
    {
      "metadata": {
        "id": "i49AisqsrmdN",
        "colab_type": "text"
      },
      "cell_type": "markdown",
      "source": [
        "## Mer om variabler"
      ]
    },
    {
      "metadata": {
        "id": "oWlVNLgFrmdP",
        "colab_type": "text"
      },
      "cell_type": "markdown",
      "source": [
        "Variabler i Python är alltid ** referenser ** till underliggande data\n",
        "\n",
        "När en variabel har tilldelats ett värde händer följande:\n",
        "\n",
        "1. Minne tilldelas för det värde som ska lagras.\n",
        "2. En namngiven variabelreferens skapas - variabeln.\n",
        "3. Variabeln refererar till minnet för värdet.\n",
        "\n",
        "Titta på följande kod:"
      ]
    },
    {
      "metadata": {
        "id": "diVyccCtrmdR",
        "colab_type": "code",
        "colab": {}
      },
      "cell_type": "code",
      "source": [
        "a = 42\n",
        "b = 84"
      ],
      "execution_count": 0,
      "outputs": []
    },
    {
      "metadata": {
        "id": "khFmhG7Drmdc",
        "colab_type": "text"
      },
      "cell_type": "markdown",
      "source": [
        "I detta exempel tilldelas variablerna ** a ** och ** b ** värdena 42 och 84. I minnet kommer det att se ut som i följande figur:\n",
        "\n",
        "![variable references 1](https://github.com/jonaslindemann/guide_to_python/blob/master/chapters/kapitel3/notebooks/images/variable1.png?raw=1)\n",
        "\n",
        "Två variabelreferenser som pekar på 2 olika minnesplatser.\n",
        "\n",
        "Vad händer i en variabel uppgift som i följande exempel?"
      ]
    },
    {
      "metadata": {
        "id": "fTNUynNUrmdf",
        "colab_type": "code",
        "outputId": "ebc65826-e1e6-471c-d258-0ea47cab2906",
        "colab": {}
      },
      "cell_type": "code",
      "source": [
        "a = b\n",
        "print(a)\n",
        "print(b)"
      ],
      "execution_count": 0,
      "outputs": [
        {
          "output_type": "stream",
          "text": [
            "84\n",
            "84\n"
          ],
          "name": "stdout"
        }
      ]
    },
    {
      "metadata": {
        "id": "WI_F88jSrmdr",
        "colab_type": "text"
      },
      "cell_type": "markdown",
      "source": [
        "Vi får vad vi förväntade oss. **a** har samma värde som **b**. Bakom kulisserna sker följande:\n",
        "\n",
        "![variabla referenser 1](https://github.com/jonaslindemann/guide_to_python/blob/master/chapters/kapitel3/notebooks/images/variable2.png?raw=1)\n",
        "\n",
        "En tilldelning av en variabelreferens tilldelar referensen. **a** pekar nu på samma data 84.\n",
        "\n",
        "Minnet som upptas av värdet 42 kommer automatiskt att tas bort av Python. Om vi nu tilldelar ** a ** ett annat värde:"
      ]
    },
    {
      "metadata": {
        "id": "_bAAYLoMrmdt",
        "colab_type": "code",
        "colab": {}
      },
      "cell_type": "code",
      "source": [
        "a = 21"
      ],
      "execution_count": 0,
      "outputs": []
    },
    {
      "metadata": {
        "id": "l9s1__JNrmdy",
        "colab_type": "text"
      },
      "cell_type": "markdown",
      "source": [
        " Får vi följande situation:\n",
        "\n",
        "![variable references 1](https://github.com/jonaslindemann/guide_to_python/blob/master/chapters/kapitel3/notebooks/images/variable3.png?raw=1)"
      ]
    },
    {
      "metadata": {
        "id": "QXjMomtbrmdz",
        "colab_type": "text"
      },
      "cell_type": "markdown",
      "source": [
        "Det är möjligt att kontrollera detta med funktionen **id()** i Python. Funktionen returnerar den unika identifieraren för variabelreferensen. Vi utför de tidigare operationerna och samtidigt skriva ut id för variablerna."
      ]
    },
    {
      "metadata": {
        "id": "uIAERpxFrmd0",
        "colab_type": "code",
        "outputId": "791b87f2-e4f9-4703-d9bd-09445f401d7b",
        "colab": {}
      },
      "cell_type": "code",
      "source": [
        "a = 42\n",
        "b = 84\n",
        "\n",
        "print(a, id(a))\n",
        "print(b, id(b))\n",
        "\n",
        "a = b\n",
        "\n",
        "print('a = b')\n",
        "print(a, id(a))\n",
        "print(b, id(b))\n",
        "\n",
        "a = 21\n",
        "\n",
        "print('a = 21')\n",
        "print(a, id(a))\n",
        "print(b, id(b))"
      ],
      "execution_count": 0,
      "outputs": [
        {
          "output_type": "stream",
          "text": [
            "42 1358655840\n",
            "84 1358657184\n",
            "a = b\n",
            "84 1358657184\n",
            "84 1358657184\n",
            "a = 21\n",
            "21 1358655168\n",
            "84 1358657184\n"
          ],
          "name": "stdout"
        }
      ]
    },
    {
      "metadata": {
        "id": "jEoD3t96rmd8",
        "colab_type": "text"
      },
      "cell_type": "markdown",
      "source": [
        "Vi ser de första tilldelningarna genererar unika id:n. Efter tilldelningen **a = b** är id:et samma för **a** och **b**. Efter **a = 21** får **a** ett nytt id och **b** behåller sitt id."
      ]
    },
    {
      "metadata": {
        "id": "i_Qr1iubrmd-",
        "colab_type": "text"
      },
      "cell_type": "markdown",
      "source": [
        "# Datatyper i Python"
      ]
    },
    {
      "metadata": {
        "id": "K9OwgOhjrmeD",
        "colab_type": "text"
      },
      "cell_type": "markdown",
      "source": [
        "## Heltal och flyttal"
      ]
    },
    {
      "metadata": {
        "id": "mTxrx_pIrmeI",
        "colab_type": "code",
        "outputId": "c4bca8f9-ee8c-4767-fc4e-d11efd8ab8d6",
        "colab": {
          "base_uri": "https://localhost:8080/",
          "height": 35
        }
      },
      "cell_type": "code",
      "source": [
        "a = 42 # Heltalsvariabel\n",
        "a"
      ],
      "execution_count": 1,
      "outputs": [
        {
          "output_type": "execute_result",
          "data": {
            "text/plain": [
              "42"
            ]
          },
          "metadata": {
            "tags": []
          },
          "execution_count": 1
        }
      ]
    },
    {
      "metadata": {
        "id": "pcXmdr0ArmeT",
        "colab_type": "code",
        "outputId": "4e2aa219-c8ac-47d6-a06a-75e3eb4d65e6",
        "colab": {
          "base_uri": "https://localhost:8080/",
          "height": 35
        }
      },
      "cell_type": "code",
      "source": [
        "b = 42.0 # Flyttalsvariabel\n",
        "b"
      ],
      "execution_count": 2,
      "outputs": [
        {
          "output_type": "execute_result",
          "data": {
            "text/plain": [
              "42.0"
            ]
          },
          "metadata": {
            "tags": []
          },
          "execution_count": 2
        }
      ]
    },
    {
      "metadata": {
        "id": "vG9vusMBrmec",
        "colab_type": "text"
      },
      "cell_type": "markdown",
      "source": [
        "## Operatorer och uttryck"
      ]
    },
    {
      "metadata": {
        "id": "ORU7QPtArmef",
        "colab_type": "code",
        "outputId": "c246bff5-7764-4d68-ee6f-873ac5c023ec",
        "colab": {}
      },
      "cell_type": "code",
      "source": [
        "2+2"
      ],
      "execution_count": 0,
      "outputs": [
        {
          "output_type": "execute_result",
          "data": {
            "text/plain": [
              "4"
            ]
          },
          "metadata": {
            "tags": []
          },
          "execution_count": 13
        }
      ]
    },
    {
      "metadata": {
        "id": "Pc5QbvKPrmer",
        "colab_type": "code",
        "outputId": "c62677cb-793f-4735-93e5-44a06694dc8d",
        "colab": {}
      },
      "cell_type": "code",
      "source": [
        "(50-5*6)/4"
      ],
      "execution_count": 0,
      "outputs": [
        {
          "output_type": "execute_result",
          "data": {
            "text/plain": [
              "5.0"
            ]
          },
          "metadata": {
            "tags": []
          },
          "execution_count": 14
        }
      ]
    },
    {
      "metadata": {
        "id": "HMQiIBKkrmez",
        "colab_type": "code",
        "outputId": "68d39782-98f7-4598-953b-81d9b44e9870",
        "colab": {}
      },
      "cell_type": "code",
      "source": [
        "7/3"
      ],
      "execution_count": 0,
      "outputs": [
        {
          "output_type": "execute_result",
          "data": {
            "text/plain": [
              "2.3333333333333335"
            ]
          },
          "metadata": {
            "tags": []
          },
          "execution_count": 15
        }
      ]
    },
    {
      "metadata": {
        "id": "IIwJB4azrme9",
        "colab_type": "code",
        "outputId": "653bd48e-64b5-4f0b-c4dd-2cadf2adb637",
        "colab": {}
      },
      "cell_type": "code",
      "source": [
        "7/-3"
      ],
      "execution_count": 0,
      "outputs": [
        {
          "output_type": "execute_result",
          "data": {
            "text/plain": [
              "-2.3333333333333335"
            ]
          },
          "metadata": {
            "tags": []
          },
          "execution_count": 16
        }
      ]
    },
    {
      "metadata": {
        "id": "d7LNPu4ormfC",
        "colab_type": "code",
        "outputId": "ca3c535b-9b40-4263-c64e-240c0f853249",
        "colab": {}
      },
      "cell_type": "code",
      "source": [
        "3*3.75/1.5"
      ],
      "execution_count": 0,
      "outputs": [
        {
          "output_type": "execute_result",
          "data": {
            "text/plain": [
              "7.5"
            ]
          },
          "metadata": {
            "tags": []
          },
          "execution_count": 17
        }
      ]
    },
    {
      "metadata": {
        "id": "XDnwO0w4rmfI",
        "colab_type": "text"
      },
      "cell_type": "markdown",
      "source": [
        "## Flaggor och booleska variabler"
      ]
    },
    {
      "metadata": {
        "id": "jayc2oi4rmfI",
        "colab_type": "text"
      },
      "cell_type": "markdown",
      "source": [
        "* Anger ett av eller på läge eller att något är sant eller falskt.\n",
        "* **True** eller **False** används för att tilldela en variabelreferens ett booleskt värde."
      ]
    },
    {
      "metadata": {
        "id": "GTVu6GFsrmfR",
        "colab_type": "code",
        "outputId": "b62e12fe-92d5-4e77-ecdc-f26249ea0108",
        "colab": {
          "base_uri": "https://localhost:8080/",
          "height": 35
        }
      },
      "cell_type": "code",
      "source": [
        "c = True  # c är nu en boolesk variabel\n",
        "c"
      ],
      "execution_count": 3,
      "outputs": [
        {
          "output_type": "execute_result",
          "data": {
            "text/plain": [
              "True"
            ]
          },
          "metadata": {
            "tags": []
          },
          "execution_count": 3
        }
      ]
    },
    {
      "metadata": {
        "id": "LzhVGhmPrmfV",
        "colab_type": "code",
        "outputId": "6ef17a9c-b7cf-4262-a22e-e79badd60a7d",
        "colab": {
          "base_uri": "https://localhost:8080/",
          "height": 35
        }
      },
      "cell_type": "code",
      "source": [
        "d = False\n",
        "d"
      ],
      "execution_count": 4,
      "outputs": [
        {
          "output_type": "execute_result",
          "data": {
            "text/plain": [
              "False"
            ]
          },
          "metadata": {
            "tags": []
          },
          "execution_count": 4
        }
      ]
    },
    {
      "metadata": {
        "id": "I7DIYOegrmfb",
        "colab_type": "text"
      },
      "cell_type": "markdown",
      "source": [
        "## Listor"
      ]
    },
    {
      "metadata": {
        "id": "Af2m3VFZrmfc",
        "colab_type": "text"
      },
      "cell_type": "markdown",
      "source": [
        "Lista är en datatyp som kan innehålla en lista med värden med olika datatyper. Listor definieras med en inledande \\[ och en avslutande \\]. En tom lista kan skapas genom att tilldela en tom [ ]."
      ]
    },
    {
      "metadata": {
        "id": "BdyXvpsGrmfe",
        "colab_type": "code",
        "colab": {}
      },
      "cell_type": "code",
      "source": [
        "values = [] # Tom lista"
      ],
      "execution_count": 0,
      "outputs": []
    },
    {
      "metadata": {
        "id": "228u5Ycurmfi",
        "colab_type": "text"
      },
      "cell_type": "markdown",
      "source": [
        "Initiella värden i listan kan tilldelas genom att lista värden mellan \\[ och \\]:"
      ]
    },
    {
      "metadata": {
        "id": "sILJJ1y5rmfi",
        "colab_type": "code",
        "colab": {}
      },
      "cell_type": "code",
      "source": [
        "values = [1, 3, 6, 4, 'hej', 1.0]"
      ],
      "execution_count": 0,
      "outputs": []
    },
    {
      "metadata": {
        "id": "WRR0apw9rmfo",
        "colab_type": "text"
      },
      "cell_type": "markdown",
      "source": [
        "Individuella värden i en lista nås genom att ange listans namn följt av ett index mellan \\[ och \\]."
      ]
    },
    {
      "metadata": {
        "id": "1z4aMeIBrmfp",
        "colab_type": "code",
        "outputId": "6c72d1ac-c0cf-46e0-8d65-521aa5c66a6e",
        "colab": {
          "base_uri": "https://localhost:8080/",
          "height": 35
        }
      },
      "cell_type": "code",
      "source": [
        "print(values[2])"
      ],
      "execution_count": 7,
      "outputs": [
        {
          "output_type": "stream",
          "text": [
            "6\n"
          ],
          "name": "stdout"
        }
      ]
    },
    {
      "metadata": {
        "id": "iqPPBZztrmfv",
        "colab_type": "text"
      },
      "cell_type": "markdown",
      "source": [
        "Listor kan ändras genom att tilldela värden till ett specifikt index:"
      ]
    },
    {
      "metadata": {
        "id": "5hKrDmCsrmfv",
        "colab_type": "code",
        "outputId": "a84bc09e-0995-48c0-90a6-0ba748aecadf",
        "colab": {
          "base_uri": "https://localhost:8080/",
          "height": 35
        }
      },
      "cell_type": "code",
      "source": [
        "values[4] = 'hopp'\n",
        "print(values)"
      ],
      "execution_count": 8,
      "outputs": [
        {
          "output_type": "stream",
          "text": [
            "[1, 3, 6, 4, 'hopp', 1.0]\n"
          ],
          "name": "stdout"
        }
      ]
    },
    {
      "metadata": {
        "id": "4Bu1C0aErmfz",
        "colab_type": "text"
      },
      "cell_type": "markdown",
      "source": [
        "Index i listor börjar på 0. Dvs första element är 0. Negativa index anger värden från slutet av listan."
      ]
    },
    {
      "metadata": {
        "id": "uUU-OHGRrmf1",
        "colab_type": "code",
        "outputId": "f85d6d46-a684-408a-832a-d748289395df",
        "colab": {
          "base_uri": "https://localhost:8080/",
          "height": 35
        }
      },
      "cell_type": "code",
      "source": [
        "print(values[-1]) # Sista elementet i listan"
      ],
      "execution_count": 9,
      "outputs": [
        {
          "output_type": "stream",
          "text": [
            "1.0\n"
          ],
          "name": "stdout"
        }
      ]
    },
    {
      "metadata": {
        "id": "CGOICfJurmf6",
        "colab_type": "code",
        "outputId": "fdffe4ca-ff92-49c8-f497-7160c6fcdb3b",
        "colab": {
          "base_uri": "https://localhost:8080/",
          "height": 35
        }
      },
      "cell_type": "code",
      "source": [
        "print(values[-3]) # Tredje sista elementet i listan."
      ],
      "execution_count": 10,
      "outputs": [
        {
          "output_type": "stream",
          "text": [
            "4\n"
          ],
          "name": "stdout"
        }
      ]
    },
    {
      "metadata": {
        "id": "b0az1calrmf_",
        "colab_type": "text"
      },
      "cell_type": "markdown",
      "source": [
        "### Listor och variabelreferenser"
      ]
    },
    {
      "metadata": {
        "id": "71RT14lsrmgA",
        "colab_type": "text"
      },
      "cell_type": "markdown",
      "source": [
        "* En lista består av referenser till data i minnet\n",
        "* Data lagras inte i listan.\n",
        "\n",
        "Följande figur och kodexempel visar detta:\n",
        "\n",
        "![variable references 1](https://github.com/jonaslindemann/guide_to_python/blob/master/chapters/kapitel3/notebooks/images/variable4.png?raw=1)\n",
        "\n"
      ]
    },
    {
      "metadata": {
        "id": "Cnhl4txFrmgA",
        "colab_type": "code",
        "outputId": "9789332a-19a3-45ee-ff5d-f514c5ddd8f4",
        "colab": {
          "base_uri": "https://localhost:8080/",
          "height": 53
        }
      },
      "cell_type": "code",
      "source": [
        "values = [1, 3, 6, 4, 'hej', 1.0, 42]\n",
        "\n",
        "b = values[4]\n",
        "\n",
        "print(b, id(b))\n",
        "print(values[4], id(values[4]))"
      ],
      "execution_count": 11,
      "outputs": [
        {
          "output_type": "stream",
          "text": [
            "hej 140248215273288\n",
            "hej 140248215273288\n"
          ],
          "name": "stdout"
        }
      ]
    },
    {
      "metadata": {
        "id": "eQGzOefQrmgK",
        "colab_type": "text"
      },
      "cell_type": "markdown",
      "source": [
        "I detta exempel tilldelas **b** referensen som lagras i position 4 i listan **values**. Efter denna tilldelning pekar **b** och **values[4]** på samma data på samma minnesplats som i följande figur:\n",
        "\n",
        "![variable references 1](https://github.com/jonaslindemann/guide_to_python/blob/master/chapters/kapitel3/notebooks/images/variable5.png?raw=1)"
      ]
    },
    {
      "metadata": {
        "id": "G50qkBI5rmgL",
        "colab_type": "text"
      },
      "cell_type": "markdown",
      "source": [
        "I de flesta fall fungerar variabler intuitivt utan att man behöver tänka så mycket på det, men det är bra att känna till de underliggande mekanismerna."
      ]
    },
    {
      "metadata": {
        "id": "OoalEahermgM",
        "colab_type": "text"
      },
      "cell_type": "markdown",
      "source": [
        "### Index-notation och listor"
      ]
    },
    {
      "metadata": {
        "id": "58-qhdYlrmgM",
        "colab_type": "text"
      },
      "cell_type": "markdown",
      "source": [
        "Det är möjligt att extrahera delområden av listor genom att använda index-notation:"
      ]
    },
    {
      "metadata": {
        "id": "d5EWjjTnrmgU",
        "colab_type": "code",
        "outputId": "cbbb0a57-ead5-448f-c3d8-696ba88de049",
        "colab": {
          "base_uri": "https://localhost:8080/",
          "height": 124
        }
      },
      "cell_type": "code",
      "source": [
        "# Delområde från från 1 >= idx < 3\n",
        "print(values[1:3])\n",
        "\n",
        "# Delområde från från 1 >= idx < len(values)-2\n",
        "print(values[1:-1])\n",
        "\n",
        "# Delområde från idx >= 3\n",
        "print(values[3:])\n",
        "\n",
        "# Alla element i listan\n",
        "print(values[:])\n",
        "\n",
        "# Delområde från från 0 >= idx < len(values)-2\n",
        "print(values[:-2])\n",
        "\n",
        "# Delområde från len(values)-3 >= idx < len(values)-1\n",
        "print(values[-3:])"
      ],
      "execution_count": 12,
      "outputs": [
        {
          "output_type": "stream",
          "text": [
            "[3, 6]\n",
            "[3, 6, 4, 'hej', 1.0]\n",
            "[4, 'hej', 1.0, 42]\n",
            "[1, 3, 6, 4, 'hej', 1.0, 42]\n",
            "[1, 3, 6, 4, 'hej']\n",
            "['hej', 1.0, 42]\n"
          ],
          "name": "stdout"
        }
      ]
    },
    {
      "metadata": {
        "id": "yEC-Jaq5rmga",
        "colab_type": "text"
      },
      "cell_type": "markdown",
      "source": [
        "### Listors storlek"
      ]
    },
    {
      "metadata": {
        "id": "AvmGjw81rmge",
        "colab_type": "text"
      },
      "cell_type": "markdown",
      "source": [
        "Antalet element i en lista kan erhållas med hjälp av den generiska funktionen **len()** i Python. "
      ]
    },
    {
      "metadata": {
        "id": "zE4nzcDqrmge",
        "colab_type": "code",
        "outputId": "065250d9-004c-4ecd-e174-c97da0660143",
        "colab": {
          "base_uri": "https://localhost:8080/",
          "height": 35
        }
      },
      "cell_type": "code",
      "source": [
        "print(len(values))"
      ],
      "execution_count": 13,
      "outputs": [
        {
          "output_type": "stream",
          "text": [
            "7\n"
          ],
          "name": "stdout"
        }
      ]
    },
    {
      "metadata": {
        "id": "oiVJdc3Lrmgj",
        "colab_type": "text"
      },
      "cell_type": "markdown",
      "source": [
        "### Lägga till värden i listor"
      ]
    },
    {
      "metadata": {
        "id": "rQbweAm3rmgk",
        "colab_type": "text"
      },
      "cell_type": "markdown",
      "source": [
        "Värden kan läggas till en lista genom att använda metoden **.append()**"
      ]
    },
    {
      "metadata": {
        "id": "E0F0sld1rmgk",
        "colab_type": "code",
        "outputId": "eb76b73b-45f0-4460-f25c-b1a368c70119",
        "colab": {}
      },
      "cell_type": "code",
      "source": [
        "values.append(42)\n",
        "print(values)"
      ],
      "execution_count": 0,
      "outputs": [
        {
          "output_type": "stream",
          "text": [
            "[1, 3, 6, 4, 'hej', 1.0, 42, 42]\n"
          ],
          "name": "stdout"
        }
      ]
    },
    {
      "metadata": {
        "id": "xWRQqefUrmgm",
        "colab_type": "text"
      },
      "cell_type": "markdown",
      "source": [
        "Värden kan infogas i listor på specifika positioner med metoden **.insert()**."
      ]
    },
    {
      "metadata": {
        "id": "wFxqysTMrmgn",
        "colab_type": "code",
        "outputId": "ca0dbabf-fec2-4919-f73a-d10a78f7ef58",
        "colab": {
          "base_uri": "https://localhost:8080/",
          "height": 35
        }
      },
      "cell_type": "code",
      "source": [
        "values.insert(1, \"squeeze\")\n",
        "print(values)"
      ],
      "execution_count": 15,
      "outputs": [
        {
          "output_type": "stream",
          "text": [
            "[1, 'squeeze', 3, 6, 4, 'hej', 1.0, 42]\n"
          ],
          "name": "stdout"
        }
      ]
    },
    {
      "metadata": {
        "id": "WJFCxDQarmgp",
        "colab_type": "text"
      },
      "cell_type": "markdown",
      "source": [
        "### Ta bort värden från en lista"
      ]
    },
    {
      "metadata": {
        "id": "nHTPwP9armgq",
        "colab_type": "text"
      },
      "cell_type": "markdown",
      "source": [
        "Värden i en lista kan tas bort med hjälp av metoden **.remove()**."
      ]
    },
    {
      "metadata": {
        "id": "a3JLn7Ltrmgq",
        "colab_type": "code",
        "outputId": "f73747b2-2d6a-43fc-d03c-9312ccd296cb",
        "colab": {
          "base_uri": "https://localhost:8080/",
          "height": 88
        }
      },
      "cell_type": "code",
      "source": [
        "print(\"Före remove()\")\n",
        "print(values)\n",
        "\n",
        "values.remove(\"squeeze\") # första värdet med \"squeeze\"\n",
        "\n",
        "print(\"Efter remove()\")\n",
        "print(values)"
      ],
      "execution_count": 16,
      "outputs": [
        {
          "output_type": "stream",
          "text": [
            "Före remove()\n",
            "[1, 'squeeze', 3, 6, 4, 'hej', 1.0, 42]\n",
            "Efter remove()\n",
            "[1, 3, 6, 4, 'hej', 1.0, 42]\n"
          ],
          "name": "stdout"
        }
      ]
    },
    {
      "metadata": {
        "id": "v2E9a_01rmgt",
        "colab_type": "text"
      },
      "cell_type": "markdown",
      "source": [
        "De är också möjligt att använda den generiska funktionen **del** för att ta bort värden i en lista."
      ]
    },
    {
      "metadata": {
        "id": "oCqNiQ1grmgu",
        "colab_type": "code",
        "outputId": "487b395c-96fb-4619-91cd-6ce4509d11d8",
        "colab": {
          "base_uri": "https://localhost:8080/",
          "height": 88
        }
      },
      "cell_type": "code",
      "source": [
        "print(\"Före del[0]\")\n",
        "print(values)\n",
        "\n",
        "del values[0]\n",
        "\n",
        "print(\"Efter del[0]\")\n",
        "print(values)"
      ],
      "execution_count": 17,
      "outputs": [
        {
          "output_type": "stream",
          "text": [
            "Före del[0]\n",
            "[1, 3, 6, 4, 'hej', 1.0, 42]\n",
            "Efter del[0]\n",
            "[3, 6, 4, 'hej', 1.0, 42]\n"
          ],
          "name": "stdout"
        }
      ]
    },
    {
      "metadata": {
        "id": "HSt8lycGrmgy",
        "colab_type": "text"
      },
      "cell_type": "markdown",
      "source": [
        "Det är ockås möjligt att ta bort delområden i en lista med **del**."
      ]
    },
    {
      "metadata": {
        "id": "OW-hB1Kcrmgy",
        "colab_type": "code",
        "outputId": "03b1776a-8224-444a-d8c4-1146e5071625",
        "colab": {
          "base_uri": "https://localhost:8080/",
          "height": 88
        }
      },
      "cell_type": "code",
      "source": [
        "print(\"Före del[3:]\")\n",
        "print(values)\n",
        "\n",
        "del values[3:]\n",
        "\n",
        "print(\"Efter del[3:]\")\n",
        "print(values)"
      ],
      "execution_count": 18,
      "outputs": [
        {
          "output_type": "stream",
          "text": [
            "Före del[3:]\n",
            "[3, 6, 4, 'hej', 1.0, 42]\n",
            "Efter del[3:]\n",
            "[3, 6, 4]\n"
          ],
          "name": "stdout"
        }
      ]
    },
    {
      "metadata": {
        "id": "ZmnvRn6nrmg1",
        "colab_type": "text"
      },
      "cell_type": "markdown",
      "source": [
        "Det är också möjligt att använda listan som en \"stack\"-datayp, dvs en datatyp där data läggs till och tas bort från slutet av listan. En Python-lista har en speciell metod, **.pop()** för detta ändamål:"
      ]
    },
    {
      "metadata": {
        "id": "SWE1DEfmrmg2",
        "colab_type": "code",
        "outputId": "9a24e964-3482-423a-f705-40ae976454e0",
        "colab": {
          "base_uri": "https://localhost:8080/",
          "height": 124
        }
      },
      "cell_type": "code",
      "source": [
        "print(\"Lista före pop()\")\n",
        "print(values)\n",
        "\n",
        "v = values.pop()\n",
        "\n",
        "print(\"Värde returnerat från pop()\")\n",
        "print(v)\n",
        "print(\"Lista efter pop()\")\n",
        "print(values)"
      ],
      "execution_count": 19,
      "outputs": [
        {
          "output_type": "stream",
          "text": [
            "Lista före pop()\n",
            "[3, 6, 4]\n",
            "Värde returnerat från pop()\n",
            "4\n",
            "Lista efter pop()\n",
            "[3, 6]\n"
          ],
          "name": "stdout"
        }
      ]
    },
    {
      "metadata": {
        "id": "7EEFsVnlrmg5",
        "colab_type": "text"
      },
      "cell_type": "markdown",
      "source": [
        "### Rensa en lista"
      ]
    },
    {
      "metadata": {
        "id": "iKQ_19Xjrmg5",
        "colab_type": "text"
      },
      "cell_type": "markdown",
      "source": [
        "En lista kan rensas genom att använda metoden **.clear()** eller genom att tilldela en tom lista till en variabelreferens."
      ]
    },
    {
      "metadata": {
        "id": "dUtcUVv7rmg5",
        "colab_type": "code",
        "colab": {}
      },
      "cell_type": "code",
      "source": [
        "a = [4, 6, 3, 7, 9]\n",
        "a = []"
      ],
      "execution_count": 0,
      "outputs": []
    },
    {
      "metadata": {
        "id": "rvtgOzVsrmhA",
        "colab_type": "text"
      },
      "cell_type": "markdown",
      "source": [
        "Det är dock viktigt att förstå att i det ovanstående exemplet kan det fortfarande finnas variabelreferenser som pekar på värden i listan. Ett exempel på detta visas nedan:"
      ]
    },
    {
      "metadata": {
        "id": "zB7q2VjwrmhA",
        "colab_type": "code",
        "outputId": "245bec64-10f4-4cc6-db16-dfd228429e71",
        "colab": {
          "base_uri": "https://localhost:8080/",
          "height": 35
        }
      },
      "cell_type": "code",
      "source": [
        "a = [4, 6, 3, 7, 9]\n",
        "b = a\n",
        "a = []\n",
        "print(b)"
      ],
      "execution_count": 21,
      "outputs": [
        {
          "output_type": "stream",
          "text": [
            "[4, 6, 3, 7, 9]\n"
          ],
          "name": "stdout"
        }
      ]
    },
    {
      "metadata": {
        "id": "i7Xq5MtRrmhH",
        "colab_type": "text"
      },
      "cell_type": "markdown",
      "source": [
        "För att verkligen rensa en lista används lämpligen metoden **.clear()** enligt följande exempel:\n"
      ]
    },
    {
      "metadata": {
        "id": "zrp2S8x7rmhI",
        "colab_type": "code",
        "outputId": "77e7b3a5-1049-4831-e474-512f5fac3745",
        "colab": {
          "base_uri": "https://localhost:8080/",
          "height": 35
        }
      },
      "cell_type": "code",
      "source": [
        "a = [4, 6, 3, 7, 9]\n",
        "b = a\n",
        "\n",
        "a.clear()\n",
        "\n",
        "print(b)"
      ],
      "execution_count": 22,
      "outputs": [
        {
          "output_type": "stream",
          "text": [
            "[]\n"
          ],
          "name": "stdout"
        }
      ]
    },
    {
      "metadata": {
        "id": "d9LYutHwrmhK",
        "colab_type": "text"
      },
      "cell_type": "markdown",
      "source": [
        "### Nästlade listor"
      ]
    },
    {
      "metadata": {
        "id": "rWuZg45GrmhK",
        "colab_type": "text"
      },
      "cell_type": "markdown",
      "source": [
        "Listor är en mycket flexibel datatyp i Python, som kan innehålla vilka datatyper som helst även andra listor. In det följande exemplet skapas en lista med 5 element, där det andra elementet innehåller en lista med 2 element:"
      ]
    },
    {
      "metadata": {
        "id": "7hH7Y-LwrmhK",
        "colab_type": "code",
        "outputId": "eedb2cd0-5687-4a39-de61-d077627f48df",
        "colab": {
          "base_uri": "https://localhost:8080/",
          "height": 35
        }
      },
      "cell_type": "code",
      "source": [
        "a = [1, 2, [3, 4], 5, 6]\n",
        "\n",
        "print(a[2])"
      ],
      "execution_count": 23,
      "outputs": [
        {
          "output_type": "stream",
          "text": [
            "[3, 4]\n"
          ],
          "name": "stdout"
        }
      ]
    },
    {
      "metadata": {
        "id": "rrnVzzVIrmhQ",
        "colab_type": "text"
      },
      "cell_type": "markdown",
      "source": [
        "Att nå ett värde i en nästlad lista gör man genom att lägga till en extra index-operator enligt exemplet nedan:"
      ]
    },
    {
      "metadata": {
        "id": "8_32QRsdrmhT",
        "colab_type": "code",
        "outputId": "5249cc80-1769-4571-bae7-5ae4fddc6dea",
        "colab": {
          "base_uri": "https://localhost:8080/",
          "height": 53
        }
      },
      "cell_type": "code",
      "source": [
        "a = [1, 2, [3, 4], 5, 6]\n",
        "\n",
        "print(a[2][0])\n",
        "print(a[2][1])"
      ],
      "execution_count": 24,
      "outputs": [
        {
          "output_type": "stream",
          "text": [
            "3\n",
            "4\n"
          ],
          "name": "stdout"
        }
      ]
    },
    {
      "metadata": {
        "id": "fWus1eB6rmhX",
        "colab_type": "text"
      },
      "cell_type": "markdown",
      "source": [
        "På detta sätt kan vi snabbt skapa tvådimensionella data strukturer på ett enkelt sätt:"
      ]
    },
    {
      "metadata": {
        "id": "IBW5vNH8rmhX",
        "colab_type": "code",
        "outputId": "03ccd4e7-4103-4b1f-96fa-807046bbd1a8",
        "colab": {
          "base_uri": "https://localhost:8080/",
          "height": 53
        }
      },
      "cell_type": "code",
      "source": [
        "spread_sheet = []\n",
        "spread_sheet.append([0]*10)\n",
        "spread_sheet.append([0]*10)\n",
        "spread_sheet.append([0]*10)\n",
        "spread_sheet.append([0]*10)\n",
        "print(spread_sheet)\n",
        "print(len(spread_sheet))"
      ],
      "execution_count": 25,
      "outputs": [
        {
          "output_type": "stream",
          "text": [
            "[[0, 0, 0, 0, 0, 0, 0, 0, 0, 0], [0, 0, 0, 0, 0, 0, 0, 0, 0, 0], [0, 0, 0, 0, 0, 0, 0, 0, 0, 0], [0, 0, 0, 0, 0, 0, 0, 0, 0, 0]]\n",
            "4\n"
          ],
          "name": "stdout"
        }
      ]
    },
    {
      "metadata": {
        "id": "T_lq9Nkzrmhb",
        "colab_type": "text"
      },
      "cell_type": "markdown",
      "source": [
        "Det är viktigt att tänka på att alla värden i listor egentligen är referenser till data i minnet. Detta illustreras i följande exempel:\n"
      ]
    },
    {
      "metadata": {
        "id": "WUrzMpmFrmhd",
        "colab_type": "code",
        "outputId": "0463e67e-3743-4df1-b33c-6ed0bb74441c",
        "colab": {
          "base_uri": "https://localhost:8080/",
          "height": 53
        }
      },
      "cell_type": "code",
      "source": [
        "b = [3, 4]\n",
        "a = [1, 2, b, 5, 6] # Listan b läggs till i listan a\n",
        "b[0] = -1           # värde tilldelas index 0 i b\n",
        "\n",
        "print(b)\n",
        "print(a)"
      ],
      "execution_count": 26,
      "outputs": [
        {
          "output_type": "stream",
          "text": [
            "[-1, 4]\n",
            "[1, 2, [-1, 4], 5, 6]\n"
          ],
          "name": "stdout"
        }
      ]
    },
    {
      "metadata": {
        "id": "2ddZ9PfQrmhh",
        "colab_type": "text"
      },
      "cell_type": "markdown",
      "source": [
        "I exemplet ändras även värdet i listan **a** när **b** tilledelas, vilket illustreras i följande figur:\n",
        "\n",
        "![variable references 1](https://github.com/jonaslindemann/guide_to_python/blob/master/chapters/kapitel3/notebooks/images/variable6.png?raw=1)"
      ]
    },
    {
      "metadata": {
        "id": "81u75NXMrmhn",
        "colab_type": "text"
      },
      "cell_type": "markdown",
      "source": [
        "Om man inte önskar denna effekt kan man använda metoden **.copy()** för att göra en kopia av listan man lägger till."
      ]
    },
    {
      "metadata": {
        "id": "GJpUGgG7rmho",
        "colab_type": "code",
        "outputId": "658b4d3c-5b42-49cd-ad0a-d9d6312ad6d0",
        "colab": {
          "base_uri": "https://localhost:8080/",
          "height": 53
        }
      },
      "cell_type": "code",
      "source": [
        "b = [3, 4]\n",
        "a = [1, 2, b.copy(), 5, 6]\n",
        "b[0] = -1\n",
        "\n",
        "print(b)\n",
        "print(a)"
      ],
      "execution_count": 27,
      "outputs": [
        {
          "output_type": "stream",
          "text": [
            "[-1, 4]\n",
            "[1, 2, [3, 4], 5, 6]\n"
          ],
          "name": "stdout"
        }
      ]
    },
    {
      "metadata": {
        "id": "Sxb5-gDOrmhr",
        "colab_type": "text"
      },
      "cell_type": "markdown",
      "source": [
        "Minneslayouten efter tilldelningarna visas i följande figur:\n",
        "\n",
        "![variable references 1](https://github.com/jonaslindemann/guide_to_python/blob/master/chapters/kapitel3/notebooks/images/variable7.png?raw=1)"
      ]
    },
    {
      "metadata": {
        "id": "POVoq1KFrmhu",
        "colab_type": "text"
      },
      "cell_type": "markdown",
      "source": [
        "## Strängar"
      ]
    },
    {
      "metadata": {
        "id": "36Vtn9cRrmhu",
        "colab_type": "text"
      },
      "cell_type": "markdown",
      "source": [
        "* Lagrar sekvenser av bokstäver.\n",
        "* Många sätt att skapa strängar i Python.\n",
        "* Strängar kan inte ändras när de skapats (Immutable)\n"
      ]
    },
    {
      "metadata": {
        "id": "S1zjVNBtrmhu",
        "colab_type": "code",
        "outputId": "66f64dd0-2c9b-44d7-da5a-c39a328de30d",
        "colab": {
          "base_uri": "https://localhost:8080/",
          "height": 35
        }
      },
      "cell_type": "code",
      "source": [
        "full_name = \"Guido van Rossum\"\n",
        "print(full_name)"
      ],
      "execution_count": 28,
      "outputs": [
        {
          "output_type": "stream",
          "text": [
            "Guido van Rossum\n"
          ],
          "name": "stdout"
        }
      ]
    },
    {
      "metadata": {
        "id": "8hm6MVnjrmhx",
        "colab_type": "code",
        "outputId": "89e6c892-fd22-4127-c783-3d8b98dee37a",
        "colab": {
          "base_uri": "https://localhost:8080/",
          "height": 35
        }
      },
      "cell_type": "code",
      "source": [
        "full_name = 'Guido van Rossum' # Enkla citattecken\n",
        "print(full_name)"
      ],
      "execution_count": 29,
      "outputs": [
        {
          "output_type": "stream",
          "text": [
            "Guido van Rossum\n"
          ],
          "name": "stdout"
        }
      ]
    },
    {
      "metadata": {
        "id": "SDeB606Urmhz",
        "colab_type": "text"
      },
      "cell_type": "markdown",
      "source": [
        "Om man behöver använda ett visst citattecken i en sträng använder man helt enkelt det andra citattecknet som avgränsare.\n"
      ]
    },
    {
      "metadata": {
        "id": "Xlfkemhkrmh0",
        "colab_type": "code",
        "outputId": "61ac59ec-31d7-4fa8-aa32-2c85f4b700ed",
        "colab": {
          "base_uri": "https://localhost:8080/",
          "height": 35
        }
      },
      "cell_type": "code",
      "source": [
        "title = \"don't give up\"\n",
        "print(title)"
      ],
      "execution_count": 30,
      "outputs": [
        {
          "output_type": "stream",
          "text": [
            "don't give up\n"
          ],
          "name": "stdout"
        }
      ]
    },
    {
      "metadata": {
        "id": "6jDCnhGBrmh2",
        "colab_type": "code",
        "outputId": "a7b28dc7-ea2f-4a15-e1d6-d045c1459088",
        "colab": {
          "base_uri": "https://localhost:8080/",
          "height": 35
        }
      },
      "cell_type": "code",
      "source": [
        "sentence = 'He used the \"Aguamenti\" spell.'\n",
        "print(sentence)"
      ],
      "execution_count": 31,
      "outputs": [
        {
          "output_type": "stream",
          "text": [
            "He used the \"Aguamenti\" spell.\n"
          ],
          "name": "stdout"
        }
      ]
    },
    {
      "metadata": {
        "id": "o24ElnXtrmiF",
        "colab_type": "text"
      },
      "cell_type": "markdown",
      "source": [
        "Speciella kontrolltecken kan användas för att få till specialtecken i en sträng. Några av dessa visas i följande tabell:\n",
        "\n",
        "![variable references 1](https://github.com/jonaslindemann/guide_to_python/blob/master/chapters/kapitel3/notebooks/images/strings1.png?raw=1)"
      ]
    },
    {
      "metadata": {
        "id": "CGaKTIG2rmiF",
        "colab_type": "code",
        "outputId": "3ece25f9-167a-4a41-e14a-1b610d82d16a",
        "colab": {
          "base_uri": "https://localhost:8080/",
          "height": 53
        }
      },
      "cell_type": "code",
      "source": [
        "full_name = \"Guido van Rossum\\nPython Creator\" # Newline control character\n",
        "print(full_name)"
      ],
      "execution_count": 32,
      "outputs": [
        {
          "output_type": "stream",
          "text": [
            "Guido van Rossum\n",
            "Python Creator\n"
          ],
          "name": "stdout"
        }
      ]
    },
    {
      "metadata": {
        "id": "k1nD2q4jrmiI",
        "colab_type": "text"
      },
      "cell_type": "markdown",
      "source": [
        "Ibland kan det vara önskvärt att Python inte göra någon tolkning av kontrolltecken i strängen. Detta kan åstadkommas med s.k. raw-strängar. Dessa anges med prefixet **r**."
      ]
    },
    {
      "metadata": {
        "id": "7g32xVWKrmiJ",
        "colab_type": "code",
        "outputId": "53ae92ba-448f-4081-bea5-e2a9387d1e07",
        "colab": {
          "base_uri": "https://localhost:8080/",
          "height": 71
        }
      },
      "cell_type": "code",
      "source": [
        "raw_string = r\"Row1\\nRow2\"\n",
        "std_string = \"Row1\\nRow2\"\n",
        "print(raw_string)\n",
        "print(std_string)"
      ],
      "execution_count": 33,
      "outputs": [
        {
          "output_type": "stream",
          "text": [
            "Row1\\nRow2\n",
            "Row1\n",
            "Row2\n"
          ],
          "name": "stdout"
        }
      ]
    },
    {
      "metadata": {
        "id": "EzBh16_KrmiL",
        "colab_type": "text"
      },
      "cell_type": "markdown",
      "source": [
        "Ett annat alternativ för att ange mer precis hur en sträng skall vara uppbyggd är att använda trippen-citerade strängar. Dessa strängar tolkas med de kontrolltecken som använts när strängen skapades. Bäst illustrerat med ett exempel:\n"
      ]
    },
    {
      "metadata": {
        "id": "rMLrHHE6rmiM",
        "colab_type": "code",
        "outputId": "24ed213b-3d85-4ed9-b3f4-12016717fc77",
        "colab": {
          "base_uri": "https://localhost:8080/",
          "height": 71
        }
      },
      "cell_type": "code",
      "source": [
        "full_name = \"\"\"Guido van Rossum\n",
        "Python Creator\n",
        "Python är fantastiskt\"\"\"\n",
        "print(full_name)"
      ],
      "execution_count": 34,
      "outputs": [
        {
          "output_type": "stream",
          "text": [
            "Guido van Rossum\n",
            "Python Creator\n",
            "Python är fantastiskt\n"
          ],
          "name": "stdout"
        }
      ]
    },
    {
      "metadata": {
        "id": "En5RA4ojrmiO",
        "colab_type": "text"
      },
      "cell_type": "markdown",
      "source": [
        "I exemplet bibehålls radbrytningarna som gavs när strängen tilldelats."
      ]
    },
    {
      "metadata": {
        "id": "Dt2I4jn_rmiP",
        "colab_type": "text"
      },
      "cell_type": "markdown",
      "source": [
        "### Längden av en sträng"
      ]
    },
    {
      "metadata": {
        "id": "mm28gH6frmiQ",
        "colab_type": "text"
      },
      "cell_type": "markdown",
      "source": [
        "Längden av en sträng kan erhållas genom att använda den generiska funktionen **len()**, som också användes för listor:\n"
      ]
    },
    {
      "metadata": {
        "id": "TwPXolf6rmiQ",
        "colab_type": "code",
        "outputId": "0509d42c-dfcb-4631-968a-0a41a4217517",
        "colab": {
          "base_uri": "https://localhost:8080/",
          "height": 53
        }
      },
      "cell_type": "code",
      "source": [
        "s1 = \"Detta är en sträng\"\n",
        "s2 = \"Detta är en längre sträng\"\n",
        "\n",
        "print(s1, len(s1))\n",
        "print(s2, len(s2))"
      ],
      "execution_count": 35,
      "outputs": [
        {
          "output_type": "stream",
          "text": [
            "Detta är en sträng 18\n",
            "Detta är en längre sträng 25\n"
          ],
          "name": "stdout"
        }
      ]
    },
    {
      "metadata": {
        "id": "O6UPAdEIrmiW",
        "colab_type": "text"
      },
      "cell_type": "markdown",
      "source": [
        "### Lägga ihop strängar"
      ]
    },
    {
      "metadata": {
        "id": "ztgjMHFPrmiW",
        "colab_type": "text"
      },
      "cell_type": "markdown",
      "source": [
        "\\+ operatorn kan användas för att sätt ihop nya strängar av befintliga:\n",
        "\n"
      ]
    },
    {
      "metadata": {
        "id": "jrNwOnaOrmiX",
        "colab_type": "code",
        "outputId": "50040f76-63b6-4edb-bf86-266b3dc70414",
        "colab": {
          "base_uri": "https://localhost:8080/",
          "height": 35
        }
      },
      "cell_type": "code",
      "source": [
        "s1 = \"Det är kul med \"\n",
        "s2 = \"Python\"\n",
        "\n",
        "s3 = s1 + s2\n",
        "\n",
        "print(s3)"
      ],
      "execution_count": 37,
      "outputs": [
        {
          "output_type": "stream",
          "text": [
            "Det är kul med Python\n"
          ],
          "name": "stdout"
        }
      ]
    },
    {
      "metadata": {
        "id": "yqeOxVkzrmiZ",
        "colab_type": "text"
      },
      "cell_type": "markdown",
      "source": [
        "### Upprepa strängar"
      ]
    },
    {
      "metadata": {
        "id": "4LhCBwEkrmia",
        "colab_type": "text"
      },
      "cell_type": "markdown",
      "source": [
        "\\* operatorn kan användas för att upprepa en sträng ett antal gånger för att på detta sätt skapa längre strängar.\n",
        "\n"
      ]
    },
    {
      "metadata": {
        "id": "RcvWs44krmia",
        "colab_type": "code",
        "outputId": "41145fa5-4061-44ea-9ae4-08c7921b43b4",
        "colab": {
          "base_uri": "https://localhost:8080/",
          "height": 53
        }
      },
      "cell_type": "code",
      "source": [
        "s1 = \"Detta är en sträng vi vill stryka under\"\n",
        "s2 = \"-\" * len(s1)\n",
        "\n",
        "print(s1)\n",
        "print(s2)"
      ],
      "execution_count": 38,
      "outputs": [
        {
          "output_type": "stream",
          "text": [
            "Detta är en sträng vi vill stryka under\n",
            "---------------------------------------\n"
          ],
          "name": "stdout"
        }
      ]
    },
    {
      "metadata": {
        "id": "g4wxdKaFrmid",
        "colab_type": "text"
      },
      "cell_type": "markdown",
      "source": [
        "### Dela på strängar"
      ]
    },
    {
      "metadata": {
        "id": "4HhHNhBFrmie",
        "colab_type": "text"
      },
      "cell_type": "markdown",
      "source": [
        "Strängdatatypen har en metod, **.split()**, som kan användas för att dela upp strängar i mindre delar:\n"
      ]
    },
    {
      "metadata": {
        "id": "soZ1copIrmie",
        "colab_type": "code",
        "outputId": "7a06a138-a60f-4b78-9a28-d5f6f61fde7b",
        "colab": {
          "base_uri": "https://localhost:8080/",
          "height": 35
        }
      },
      "cell_type": "code",
      "source": [
        "s = \"Detta är en mening med en mängd ord!\"\n",
        "\n",
        "ord_lista = s.split()\n",
        "\n",
        "print(ord_lista)"
      ],
      "execution_count": 39,
      "outputs": [
        {
          "output_type": "stream",
          "text": [
            "['Detta', 'är', 'en', 'mening', 'med', 'en', 'mängd', 'ord!']\n"
          ],
          "name": "stdout"
        }
      ]
    },
    {
      "metadata": {
        "id": "9a1fqACHrmig",
        "colab_type": "text"
      },
      "cell_type": "markdown",
      "source": [
        "Argumentet till funktionen anger vilket tecken som skall dela upp strängen.\n"
      ]
    },
    {
      "metadata": {
        "id": "Pk2ja4z8rmig",
        "colab_type": "code",
        "outputId": "518cf1e5-d490-465f-e4f9-d5ae18b2c608",
        "colab": {
          "base_uri": "https://localhost:8080/",
          "height": 35
        }
      },
      "cell_type": "code",
      "source": [
        "s = \"123, 456, 123, 35456, 12, 34\"\n",
        "\n",
        "delar = s.split(\",\")\n",
        "\n",
        "print(delar)"
      ],
      "execution_count": 40,
      "outputs": [
        {
          "output_type": "stream",
          "text": [
            "['123', ' 456', ' 123', ' 35456', ' 12', ' 34']\n"
          ],
          "name": "stdout"
        }
      ]
    },
    {
      "metadata": {
        "id": "u0L2fegcrmii",
        "colab_type": "text"
      },
      "cell_type": "markdown",
      "source": [
        "### Skapa strängar från listor"
      ]
    },
    {
      "metadata": {
        "id": "NMwVMIBOrmii",
        "colab_type": "text"
      },
      "cell_type": "markdown",
      "source": [
        "Om man har listor av strängar kan man kombinera ihop dessa till strängar med hjälp av metoden **.join()**.\n"
      ]
    },
    {
      "metadata": {
        "id": "jTvWULWormik",
        "colab_type": "code",
        "outputId": "7d727c4c-63ec-4eda-8d3c-fce7e60a0b59",
        "colab": {
          "base_uri": "https://localhost:8080/",
          "height": 71
        }
      },
      "cell_type": "code",
      "source": [
        "list_of_strings = [\"Detta\", \"är\", \"en\", \"lista\", \"med\", \"ord\"]\n",
        "list_of_things = [\"tree\", \"house\", \"pencil\", \"eraser\"]\n",
        "\n",
        "s1 = \" \".join(list_of_strings) # Append with spaces\n",
        "s2 = \",\".join(list_of_things)  # Append with comma\n",
        "s3 = \"\".join(list_of_things)   # Append withou spacing.\n",
        "\n",
        "print(s1)\n",
        "print(s2)\n",
        "print(s3)"
      ],
      "execution_count": 41,
      "outputs": [
        {
          "output_type": "stream",
          "text": [
            "Detta är en lista med ord\n",
            "tree,house,pencil,eraser\n",
            "treehousepencileraser\n"
          ],
          "name": "stdout"
        }
      ]
    },
    {
      "metadata": {
        "id": "EDJHv9tqrmir",
        "colab_type": "text"
      },
      "cell_type": "markdown",
      "source": [
        "### Söka i strängar"
      ]
    },
    {
      "metadata": {
        "id": "OoNzUSVlrmir",
        "colab_type": "text"
      },
      "cell_type": "markdown",
      "source": [
        "En mycket vanlig operation på strängar är att undersöka om en delsträng återfinns i en sträng. Detta görs enklast med operatorn **in**. Om delsträngen återfinns i strängen returnerar **in** **True** i annat fall **False**.\n"
      ]
    },
    {
      "metadata": {
        "id": "cNGEbId6rmis",
        "colab_type": "code",
        "outputId": "f09119be-e796-4daf-f6d3-a8652843a5d9",
        "colab": {
          "base_uri": "https://localhost:8080/",
          "height": 35
        }
      },
      "cell_type": "code",
      "source": [
        "s = \"Far far away, behind the word mountains, far from the countries \" \\\n",
        "\"Vokalia and Consonantia, there live the blind texts. Separated they \" \\\n",
        "\"live in Bookmarksgrove right at the coast of the Semantics, a large \" \\\n",
        "\"language ocean.\"\n",
        "print(\"Vokalia\" in s)"
      ],
      "execution_count": 43,
      "outputs": [
        {
          "output_type": "stream",
          "text": [
            "True\n"
          ],
          "name": "stdout"
        }
      ]
    },
    {
      "metadata": {
        "id": "pFZNGxTcrmiu",
        "colab_type": "text"
      },
      "cell_type": "markdown",
      "source": [
        "Ett annat alternativ är att använda metoden **.find()**, vilket också returnerar position för var strängen återfinns.\n"
      ]
    },
    {
      "metadata": {
        "id": "z9NfAJJzrmiu",
        "colab_type": "code",
        "outputId": "2efa9dab-2690-4467-9ac0-3a2ffcd33deb",
        "colab": {
          "base_uri": "https://localhost:8080/",
          "height": 71
        }
      },
      "cell_type": "code",
      "source": [
        "s = \"Far far away, behind the word mountains, far from the countries \" \\\n",
        "\"Vokalia and Consonantia, there live the blind texts. Separated they \" \\\n",
        "\"live in Bookmarksgrove right at the coast of the Semantics, a large \" \\\n",
        "\"language ocean.\"\n",
        "pos = s.find(\"far\")\n",
        "print(pos)\n",
        "\n",
        "pos = s.find(\"far\", pos+1)\n",
        "print(pos)\n",
        "\n",
        "pos = s.find(\"python\")\n",
        "print(pos)"
      ],
      "execution_count": 44,
      "outputs": [
        {
          "output_type": "stream",
          "text": [
            "4\n",
            "41\n",
            "-1\n"
          ],
          "name": "stdout"
        }
      ]
    },
    {
      "metadata": {
        "id": "G_zO1LEcrmi-",
        "colab_type": "text"
      },
      "cell_type": "markdown",
      "source": [
        "### Rensa extra mellanrum i strängar"
      ]
    },
    {
      "metadata": {
        "id": "ydv9-sztrmi_",
        "colab_type": "text"
      },
      "cell_type": "markdown",
      "source": [
        "I många fall när man läser data från filer innehåller raderna ofta extra mellanrum som måste rensas bort. Detta kan göras med metoden **.strip()**."
      ]
    },
    {
      "metadata": {
        "id": "rp7mMzoirmjA",
        "colab_type": "code",
        "outputId": "ae672a22-fa0a-4947-d267-f60009ca9b0c",
        "colab": {
          "base_uri": "https://localhost:8080/",
          "height": 53
        }
      },
      "cell_type": "code",
      "source": [
        "s1 = \" Detta är en sträng med extra utrymme. \"\n",
        "s2 = s1.strip()\n",
        "\n",
        "print(\">\" + s1 + \"<\")\n",
        "print(\">\" + s2 + \"<\")"
      ],
      "execution_count": 45,
      "outputs": [
        {
          "output_type": "stream",
          "text": [
            "> Detta är en sträng med extra utrymme. <\n",
            ">Detta är en sträng med extra utrymme.<\n"
          ],
          "name": "stdout"
        }
      ]
    },
    {
      "metadata": {
        "id": "hsVoE1HjrmjC",
        "colab_type": "text"
      },
      "cell_type": "markdown",
      "source": [
        "Det finns specialversionen av denna metod som rensar höger respektive vänster sida av strängen:"
      ]
    },
    {
      "metadata": {
        "id": "wgGk22XdrmjD",
        "colab_type": "code",
        "outputId": "39581ad2-cf23-4e55-d094-cddd90e40a82",
        "colab": {
          "base_uri": "https://localhost:8080/",
          "height": 53
        }
      },
      "cell_type": "code",
      "source": [
        "s1 = \" Detta är en sträng med extra utrymme. \"\n",
        "s2 = s1.rstrip()\n",
        "\n",
        "print(\">\" + s1 + \"<\")\n",
        "print(\">\" + s2 + \"<\")"
      ],
      "execution_count": 46,
      "outputs": [
        {
          "output_type": "stream",
          "text": [
            "> Detta är en sträng med extra utrymme. <\n",
            "> Detta är en sträng med extra utrymme.<\n"
          ],
          "name": "stdout"
        }
      ]
    },
    {
      "metadata": {
        "id": "PNk1gYTnrmjH",
        "colab_type": "code",
        "outputId": "3cf3aa57-38f1-4e04-d07a-5df385792c0c",
        "colab": {
          "base_uri": "https://localhost:8080/",
          "height": 53
        }
      },
      "cell_type": "code",
      "source": [
        "s1 = \" Detta är en sträng med extra utrymme. \"\n",
        "s2 = s1.lstrip()\n",
        "\n",
        "print(\">\" + s1 + \"<\")\n",
        "print(\">\" + s2 + \"<\")"
      ],
      "execution_count": 47,
      "outputs": [
        {
          "output_type": "stream",
          "text": [
            "> Detta är en sträng med extra utrymme. <\n",
            ">Detta är en sträng med extra utrymme. <\n"
          ],
          "name": "stdout"
        }
      ]
    },
    {
      "metadata": {
        "id": "5kHYbSXjrmjI",
        "colab_type": "text"
      },
      "cell_type": "markdown",
      "source": [
        "## Undersöka underliggande datatyp av en variabel"
      ]
    },
    {
      "metadata": {
        "id": "IBeqH5JurmjJ",
        "colab_type": "text"
      },
      "cell_type": "markdown",
      "source": [
        "I vissa fall är man intresserad av att ta reda på den underliggande datatypen som en variabel refererar till. Detta kan göras med hjälp av **type()**-funktionen, vilken skriver ut den faktiska datatypen."
      ]
    },
    {
      "metadata": {
        "id": "JFeXrFYdrmjK",
        "colab_type": "code",
        "outputId": "2859526b-6be1-4855-c0d9-0e05ce5ac7b7",
        "colab": {
          "base_uri": "https://localhost:8080/",
          "height": 88
        }
      },
      "cell_type": "code",
      "source": [
        "a = 42\n",
        "b = 42.0\n",
        "c = True\n",
        "d = 'Hejsan'\n",
        "print(type(a))\n",
        "print(type(b))\n",
        "print(type(c))\n",
        "print(type(d))"
      ],
      "execution_count": 48,
      "outputs": [
        {
          "output_type": "stream",
          "text": [
            "<class 'int'>\n",
            "<class 'float'>\n",
            "<class 'bool'>\n",
            "<class 'str'>\n"
          ],
          "name": "stdout"
        }
      ]
    },
    {
      "metadata": {
        "id": "X0HYJBT-rmjL",
        "colab_type": "text"
      },
      "cell_type": "markdown",
      "source": [
        "# Uppslagslistor"
      ]
    },
    {
      "metadata": {
        "id": "t4MkxuEPrmjM",
        "colab_type": "text"
      },
      "cell_type": "markdown",
      "source": [
        "Uppslagslistor i Python är en speciell form av datatyp där data lagras i nyckel/värde-par. Att leta upp en nyckel i en uppslagslista är oftast en snabb operation.\n",
        "\n",
        "Uppslagslistor använder \"curly\"-parenteser, \\{ \\} istället för [] för att definiera innehållet.\n",
        "\n",
        "En tom uppslagslista skapas med följande kod:"
      ]
    },
    {
      "metadata": {
        "id": "FMtbcm3VrmjM",
        "colab_type": "code",
        "colab": {}
      },
      "cell_type": "code",
      "source": [
        "values = {}"
      ],
      "execution_count": 0,
      "outputs": []
    },
    {
      "metadata": {
        "id": "ctzwCdhbrmjP",
        "colab_type": "text"
      },
      "cell_type": "markdown",
      "source": [
        "Initiella värden kan tilldelas genom att lista nyckel/värde-par separarede med kommatecken. Värdeparen anges med notationen *key:value*-notation."
      ]
    },
    {
      "metadata": {
        "id": "khPMN0T5rmjP",
        "colab_type": "code",
        "outputId": "c165b599-6558-4dc1-e916-375bc9cb899d",
        "colab": {
          "base_uri": "https://localhost:8080/",
          "height": 35
        }
      },
      "cell_type": "code",
      "source": [
        "values = {\n",
        "    \"Petra\":\"9046112\", \"David\":\"1234145\",\n",
        "    \"Olle\":\"534532\"\n",
        "}\n",
        "print(values)"
      ],
      "execution_count": 50,
      "outputs": [
        {
          "output_type": "stream",
          "text": [
            "{'Petra': '9046112', 'David': '1234145', 'Olle': '534532'}\n"
          ],
          "name": "stdout"
        }
      ]
    },
    {
      "metadata": {
        "id": "MU3yb7PMrmjV",
        "colab_type": "text"
      },
      "cell_type": "markdown",
      "source": [
        "Värdena i en uppslagslista nås genom att använda \\[ och \\], fast index-värdet ersätts med nyckelvärdet."
      ]
    },
    {
      "metadata": {
        "id": "oIkjN7CyrmjW",
        "colab_type": "code",
        "outputId": "2d2a6e9f-896e-4a92-d37a-da2677950ab7",
        "colab": {
          "base_uri": "https://localhost:8080/",
          "height": 53
        }
      },
      "cell_type": "code",
      "source": [
        "print(values[\"David\"])\n",
        "print(values[\"Petra\"])"
      ],
      "execution_count": 51,
      "outputs": [
        {
          "output_type": "stream",
          "text": [
            "1234145\n",
            "9046112\n"
          ],
          "name": "stdout"
        }
      ]
    },
    {
      "metadata": {
        "id": "tiEnLdkTrmjY",
        "colab_type": "text"
      },
      "cell_type": "markdown",
      "source": [
        "Tilldelning av värden i en uppslagslista görs på samma sätt som att tilldela listor. Index-värdet är nu istället nyckelvärdet:\n"
      ]
    },
    {
      "metadata": {
        "id": "tZkvOw-VrmjY",
        "colab_type": "code",
        "outputId": "55dd05f7-0d4f-4f2e-9e90-f3337968476a",
        "colab": {
          "base_uri": "https://localhost:8080/",
          "height": 35
        }
      },
      "cell_type": "code",
      "source": [
        "values[\"Peter\"] = 734847\n",
        "print(values)"
      ],
      "execution_count": 52,
      "outputs": [
        {
          "output_type": "stream",
          "text": [
            "{'Petra': '9046112', 'David': '1234145', 'Olle': '534532', 'Peter': 734847}\n"
          ],
          "name": "stdout"
        }
      ]
    },
    {
      "metadata": {
        "id": "urxsuxy4rmjc",
        "colab_type": "text"
      },
      "cell_type": "markdown",
      "source": [
        "## Hitta värden i en uppslagslista"
      ]
    },
    {
      "metadata": {
        "id": "7HDsUIh6rmjd",
        "colab_type": "text"
      },
      "cell_type": "markdown",
      "source": [
        "På samma sätt som för listor kan man undersöka om en viss nyckel finns i en uppslagslista genom att använda operatorn **in**. Om nyckeln finns i uppslagslistan returneras **True** annars returneras **False**."
      ]
    },
    {
      "metadata": {
        "id": "shUxrBivrmje",
        "colab_type": "code",
        "outputId": "d28a6c18-b5ad-43dc-8ef0-fc59b3211a4b",
        "colab": {
          "base_uri": "https://localhost:8080/",
          "height": 53
        }
      },
      "cell_type": "code",
      "source": [
        "idx = {\n",
        "    'Olle': '534532',\n",
        "    'David': '1234145',\n",
        "    'Petra': '9046112'\n",
        "}\n",
        "print('Petra' in idx)\n",
        "print('Bosse' in idx)"
      ],
      "execution_count": 53,
      "outputs": [
        {
          "output_type": "stream",
          "text": [
            "True\n",
            "False\n"
          ],
          "name": "stdout"
        }
      ]
    },
    {
      "metadata": {
        "id": "Qo__uGskrmjg",
        "colab_type": "text"
      },
      "cell_type": "markdown",
      "source": [
        "## Antal värden i en uppslagslista"
      ]
    },
    {
      "metadata": {
        "id": "6gc329Wermjg",
        "colab_type": "text"
      },
      "cell_type": "markdown",
      "source": [
        "Precis som tidigare kan antalet värden i en uppslagslista erhållas genom funktionen **.len()**.\n"
      ]
    },
    {
      "metadata": {
        "id": "Z4wYsB_krmjg",
        "colab_type": "code",
        "outputId": "f7cc9291-0f58-450e-e8b0-018979231bdb",
        "colab": {
          "base_uri": "https://localhost:8080/",
          "height": 35
        }
      },
      "cell_type": "code",
      "source": [
        "print(len(values))"
      ],
      "execution_count": 54,
      "outputs": [
        {
          "output_type": "stream",
          "text": [
            "4\n"
          ],
          "name": "stdout"
        }
      ]
    },
    {
      "metadata": {
        "id": "AJA4izfyrmji",
        "colab_type": "text"
      },
      "cell_type": "markdown",
      "source": [
        "## Lägga till värden i en lista"
      ]
    },
    {
      "metadata": {
        "id": "hE9QQOqgrmji",
        "colab_type": "text"
      },
      "cell_type": "markdown",
      "source": [
        "Värden kan läggas till en lista genom att tilldela värden till nycklar:\n"
      ]
    },
    {
      "metadata": {
        "id": "xzINGU_yrmjj",
        "colab_type": "code",
        "outputId": "e3a73e8c-5965-447f-b8eb-c1ba57b7920f",
        "colab": {
          "base_uri": "https://localhost:8080/",
          "height": 35
        }
      },
      "cell_type": "code",
      "source": [
        "values[\"Guido\"] = 187493\n",
        "print(values)"
      ],
      "execution_count": 55,
      "outputs": [
        {
          "output_type": "stream",
          "text": [
            "{'Petra': '9046112', 'David': '1234145', 'Olle': '534532', 'Peter': 734847, 'Guido': 187493}\n"
          ],
          "name": "stdout"
        }
      ]
    },
    {
      "metadata": {
        "id": "3xqMq20grmjm",
        "colab_type": "text"
      },
      "cell_type": "markdown",
      "source": [
        "## Nästlade uppslagslistor"
      ]
    },
    {
      "metadata": {
        "id": "pUvcGnC-rmjn",
        "colab_type": "text"
      },
      "cell_type": "markdown",
      "source": [
        "På samma sätt som listor kan även uppslagslistor nästlas och innehålla flera olika typer av datastrukturer:"
      ]
    },
    {
      "metadata": {
        "id": "nhZebrGzrmjn",
        "colab_type": "code",
        "outputId": "f5656985-b840-4199-8b72-9e02651761bf",
        "colab": {
          "base_uri": "https://localhost:8080/",
          "height": 71
        }
      },
      "cell_type": "code",
      "source": [
        "config = {\n",
        "    \"general\":\n",
        "        {\n",
        "            \"username\":\"olle\",\n",
        "            \"temp_path\":\"C:\\\\TEMP\"\n",
        "        },\n",
        "    \"constants\":\n",
        "        {\n",
        "            \"pi\":3.14159,\n",
        "            \"g\":9.82\n",
        "        },\n",
        "    \"items\":\n",
        "        {\n",
        "            \"values\": [1, 2, 3, 4, 5]\n",
        "        }\n",
        "}\n",
        "\n",
        "print(config[\"general\"][\"username\"])\n",
        "print(config[\"constants\"][\"pi\"])\n",
        "print(config[\"items\"][\"values\"][1])"
      ],
      "execution_count": 56,
      "outputs": [
        {
          "output_type": "stream",
          "text": [
            "olle\n",
            "3.14159\n",
            "2\n"
          ],
          "name": "stdout"
        }
      ]
    },
    {
      "metadata": {
        "id": "QXtPpHSDrmjp",
        "colab_type": "text"
      },
      "cell_type": "markdown",
      "source": [
        "# Upprepning och villkor"
      ]
    },
    {
      "metadata": {
        "id": "PGjQvy_frmjp",
        "colab_type": "text"
      },
      "cell_type": "markdown",
      "source": [
        "## Kodblock i Python"
      ]
    },
    {
      "metadata": {
        "id": "1kfaXEQOrmjp",
        "colab_type": "text"
      },
      "cell_type": "markdown",
      "source": [
        "I Python grupperas satser till koblock genom att göra indrag i koden. En grupp av satser är en grupp om dessa föregås av ett kolon (:) och de följande satserna är indragna.\n",
        "In Python statements are grouped in codeblocks by the structure of the source file. A group of statements in considered grouped if it is proceeded by a : and the following statements are indented."
      ]
    },
    {
      "metadata": {
        "id": "jJtmYgc1rmjr",
        "colab_type": "code",
        "outputId": "9fbca74c-d305-4b99-b3a8-a9f2ebb4db68",
        "colab": {
          "base_uri": "https://localhost:8080/",
          "height": 124
        }
      },
      "cell_type": "code",
      "source": [
        "for i in range(5): # Markerar start av kodblock\n",
        "    print(i)       # Indraget kodblock.\n",
        "                   # Tillhör for-satsen\n",
        "\n",
        "print(\"Denna sats tillhör inte kodblocket\")"
      ],
      "execution_count": 57,
      "outputs": [
        {
          "output_type": "stream",
          "text": [
            "0\n",
            "1\n",
            "2\n",
            "3\n",
            "4\n",
            "Denna sats tillhör inte kodblocket\n"
          ],
          "name": "stdout"
        }
      ]
    },
    {
      "metadata": {
        "id": "qxAR-GeZrmjt",
        "colab_type": "text"
      },
      "cell_type": "markdown",
      "source": [
        "## Loopar eller upprepning"
      ]
    },
    {
      "metadata": {
        "id": "YK-ox5LRrmju",
        "colab_type": "text"
      },
      "cell_type": "markdown",
      "source": [
        "### Upprepa ett kodblock ett visst antal gånger - for"
      ]
    },
    {
      "metadata": {
        "id": "jxVbv0s5rmju",
        "colab_type": "code",
        "outputId": "5f587daf-7c15-4654-e63d-6dd83b77db3a",
        "colab": {
          "base_uri": "https://localhost:8080/",
          "height": 196
        }
      },
      "cell_type": "code",
      "source": [
        "for i in range(10):  # Sekvens 0 - 9\n",
        "    print(i)"
      ],
      "execution_count": 58,
      "outputs": [
        {
          "output_type": "stream",
          "text": [
            "0\n",
            "1\n",
            "2\n",
            "3\n",
            "4\n",
            "5\n",
            "6\n",
            "7\n",
            "8\n",
            "9\n"
          ],
          "name": "stdout"
        }
      ]
    },
    {
      "metadata": {
        "id": "-XU-A9oHrmjw",
        "colab_type": "code",
        "outputId": "b805fa09-8541-4b7e-e082-82c2fd1c20e2",
        "colab": {
          "base_uri": "https://localhost:8080/",
          "height": 124
        }
      },
      "cell_type": "code",
      "source": [
        "for i in range(5, 11): # Sekvens 5 - 10\n",
        "    print(i)"
      ],
      "execution_count": 59,
      "outputs": [
        {
          "output_type": "stream",
          "text": [
            "5\n",
            "6\n",
            "7\n",
            "8\n",
            "9\n",
            "10\n"
          ],
          "name": "stdout"
        }
      ]
    },
    {
      "metadata": {
        "id": "DaV37oJMrmjz",
        "colab_type": "code",
        "outputId": "f9f23dda-e34a-422d-9f4b-d10fdc5f1a5d",
        "colab": {
          "base_uri": "https://localhost:8080/",
          "height": 124
        }
      },
      "cell_type": "code",
      "source": [
        "for i in range(5,21,3): # Sekvens med steglängd 3\n",
        "    print(i)"
      ],
      "execution_count": 60,
      "outputs": [
        {
          "output_type": "stream",
          "text": [
            "5\n",
            "8\n",
            "11\n",
            "14\n",
            "17\n",
            "20\n"
          ],
          "name": "stdout"
        }
      ]
    },
    {
      "metadata": {
        "id": "V1ucTOJprmj0",
        "colab_type": "text"
      },
      "cell_type": "markdown",
      "source": [
        "### Iterera över lista"
      ]
    },
    {
      "metadata": {
        "id": "cUUPWPMYrmj0",
        "colab_type": "code",
        "outputId": "cc5a7248-22b5-4669-e138-7b9ffe86957f",
        "colab": {
          "base_uri": "https://localhost:8080/",
          "height": 142
        }
      },
      "cell_type": "code",
      "source": [
        "values = [1, 3, 6, 4, 'hej', 1.0, 42]\n",
        "\n",
        "for value in values:\n",
        "    print(value)"
      ],
      "execution_count": 61,
      "outputs": [
        {
          "output_type": "stream",
          "text": [
            "1\n",
            "3\n",
            "6\n",
            "4\n",
            "hej\n",
            "1.0\n",
            "42\n"
          ],
          "name": "stdout"
        }
      ]
    },
    {
      "metadata": {
        "id": "Bi0Vj6wDrmj6",
        "colab_type": "text"
      },
      "cell_type": "markdown",
      "source": [
        "### Iterera över en lista med en loop-variabel"
      ]
    },
    {
      "metadata": {
        "id": "M_h_qqGsrmj7",
        "colab_type": "code",
        "outputId": "6c7036e2-3048-4fc6-bc4f-8e1d45c4b731",
        "colab": {
          "base_uri": "https://localhost:8080/",
          "height": 106
        }
      },
      "cell_type": "code",
      "source": [
        "a = [\"a\", \"b\", \"c\", \"d\", \"e\"]\n",
        "b = [5, 4, 3, 2, 1]\n",
        "for i in range(len(a)):\n",
        "    print(a[i], \",\", b[i])"
      ],
      "execution_count": 62,
      "outputs": [
        {
          "output_type": "stream",
          "text": [
            "a , 5\n",
            "b , 4\n",
            "c , 3\n",
            "d , 2\n",
            "e , 1\n"
          ],
          "name": "stdout"
        }
      ]
    },
    {
      "metadata": {
        "id": "tZdLXiVErmkA",
        "colab_type": "text"
      },
      "cell_type": "markdown",
      "source": [
        "### Iterera över flera listor"
      ]
    },
    {
      "metadata": {
        "id": "r-dTxouGrmkA",
        "colab_type": "code",
        "outputId": "45635bb7-2a3a-49af-ade1-eb1a4ec56c44",
        "colab": {
          "base_uri": "https://localhost:8080/",
          "height": 88
        }
      },
      "cell_type": "code",
      "source": [
        "x_pos = [50, 130, 200, 250]\n",
        "y_pos = [50, 70, 220, 300]\n",
        "\n",
        "for x, y in zip(x_pos, y_pos):\n",
        "    print(x, y)"
      ],
      "execution_count": 63,
      "outputs": [
        {
          "output_type": "stream",
          "text": [
            "50 50\n",
            "130 70\n",
            "200 220\n",
            "250 300\n"
          ],
          "name": "stdout"
        }
      ]
    },
    {
      "metadata": {
        "id": "7VQU4YwfrmkD",
        "colab_type": "text"
      },
      "cell_type": "markdown",
      "source": [
        "### Iterera över nästlade listor"
      ]
    },
    {
      "metadata": {
        "id": "S45VKUJTrmkD",
        "colab_type": "code",
        "outputId": "54251752-efde-4334-e768-c0562ec5d9d6",
        "colab": {
          "base_uri": "https://localhost:8080/",
          "height": 88
        }
      },
      "cell_type": "code",
      "source": [
        "points = [[50,50], [130,70], [200,220], [250,300]]\n",
        "\n",
        "for p in points:\n",
        "    print(p)"
      ],
      "execution_count": 64,
      "outputs": [
        {
          "output_type": "stream",
          "text": [
            "[50, 50]\n",
            "[130, 70]\n",
            "[200, 220]\n",
            "[250, 300]\n"
          ],
          "name": "stdout"
        }
      ]
    },
    {
      "metadata": {
        "id": "mHLDlBrGrmkF",
        "colab_type": "text"
      },
      "cell_type": "markdown",
      "source": [
        "### Iteration med while-satsen"
      ]
    },
    {
      "metadata": {
        "id": "kJxaygfMrmkF",
        "colab_type": "code",
        "outputId": "d02ced1f-7a59-4894-d0d6-c730a5826906",
        "colab": {
          "base_uri": "https://localhost:8080/",
          "height": 1804
        }
      },
      "cell_type": "code",
      "source": [
        "from math import *\n",
        "\n",
        "sum = 0.0\n",
        "err = 1e-2\n",
        "k = 1\n",
        "\n",
        "while abs(pi-4*sum)>err:\n",
        "    sum += pow(-1, k+1) / (2*k-1)\n",
        "    k = k + 1\n",
        "    print(\"Iteration\", k, \"pi = \", 4*sum, \"err = \", abs(-pi-4*sum))"
      ],
      "execution_count": 65,
      "outputs": [
        {
          "output_type": "stream",
          "text": [
            "Iteration 2 pi =  4.0 err =  7.141592653589793\n",
            "Iteration 3 pi =  2.666666666666667 err =  5.80825932025646\n",
            "Iteration 4 pi =  3.466666666666667 err =  6.60825932025646\n",
            "Iteration 5 pi =  2.8952380952380956 err =  6.036830748827889\n",
            "Iteration 6 pi =  3.3396825396825403 err =  6.481275193272333\n",
            "Iteration 7 pi =  2.9760461760461765 err =  6.11763882963597\n",
            "Iteration 8 pi =  3.2837384837384844 err =  6.4253311373282775\n",
            "Iteration 9 pi =  3.017071817071818 err =  6.158664470661611\n",
            "Iteration 10 pi =  3.2523659347188767 err =  6.39395858830867\n",
            "Iteration 11 pi =  3.0418396189294032 err =  6.183432272519196\n",
            "Iteration 12 pi =  3.232315809405594 err =  6.373908462995387\n",
            "Iteration 13 pi =  3.058402765927333 err =  6.199995419517126\n",
            "Iteration 14 pi =  3.2184027659273333 err =  6.359995419517126\n",
            "Iteration 15 pi =  3.0702546177791854 err =  6.2118472713689785\n",
            "Iteration 16 pi =  3.208185652261944 err =  6.349778305851737\n",
            "Iteration 17 pi =  3.079153394197428 err =  6.220746047787221\n",
            "Iteration 18 pi =  3.200365515409549 err =  6.3419581689993425\n",
            "Iteration 19 pi =  3.0860798011238346 err =  6.227672454713628\n",
            "Iteration 20 pi =  3.1941879092319425 err =  6.335780562821736\n",
            "Iteration 21 pi =  3.09162380666784 err =  6.233216460257633\n",
            "Iteration 22 pi =  3.189184782277596 err =  6.33077743586739\n",
            "Iteration 23 pi =  3.0961615264636424 err =  6.237754180053436\n",
            "Iteration 24 pi =  3.1850504153525314 err =  6.3266430689423245\n",
            "Iteration 25 pi =  3.099944032373808 err =  6.241536685963601\n",
            "Iteration 26 pi =  3.1815766854350325 err =  6.323169339024826\n",
            "Iteration 27 pi =  3.1031453128860127 err =  6.244737966475806\n",
            "Iteration 28 pi =  3.1786170109992202 err =  6.320209664589013\n",
            "Iteration 29 pi =  3.1058897382719475 err =  6.247482391861741\n",
            "Iteration 30 pi =  3.1760651768684385 err =  6.317657830458232\n",
            "Iteration 31 pi =  3.108268566698947 err =  6.24986122028874\n",
            "Iteration 32 pi =  3.1738423371907505 err =  6.315434990780544\n",
            "Iteration 33 pi =  3.110350273698687 err =  6.25194292728848\n",
            "Iteration 34 pi =  3.1718887352371485 err =  6.313481388826942\n",
            "Iteration 35 pi =  3.112187242699835 err =  6.253779896289628\n",
            "Iteration 36 pi =  3.1701582571925884 err =  6.311750910782381\n",
            "Iteration 37 pi =  3.1138202290235744 err =  6.255412882613367\n",
            "Iteration 38 pi =  3.1686147495715193 err =  6.3102074031613125\n",
            "Iteration 39 pi =  3.115281416238186 err =  6.25687406982798\n",
            "Iteration 40 pi =  3.167229468186238 err =  6.308822121776031\n",
            "Iteration 41 pi =  3.116596556793833 err =  6.258189210383627\n",
            "Iteration 42 pi =  3.1659792728432157 err =  6.307571926433009\n",
            "Iteration 43 pi =  3.117786501758878 err =  6.259379155348672\n",
            "Iteration 44 pi =  3.1648453252882898 err =  6.306437978878083\n",
            "Iteration 45 pi =  3.118868313794037 err =  6.26046096738383\n",
            "Iteration 46 pi =  3.163812134018756 err =  6.305404787608549\n",
            "Iteration 47 pi =  3.1198560900627124 err =  6.2614487436525055\n",
            "Iteration 48 pi =  3.1628668427508844 err =  6.3044594963406775\n",
            "Iteration 49 pi =  3.1207615795929895 err =  6.262354233182783\n",
            "Iteration 50 pi =  3.161998692995051 err =  6.303591346584844\n",
            "Iteration 51 pi =  3.121594652591011 err =  6.263187306180804\n",
            "Iteration 52 pi =  3.1611986129870506 err =  6.302791266576843\n",
            "Iteration 53 pi =  3.12236366153074 err =  6.263956315120533\n",
            "Iteration 54 pi =  3.160458899625978 err =  6.302051553215771\n",
            "Iteration 55 pi =  3.1230757220558845 err =  6.264668375645678\n",
            "Iteration 56 pi =  3.1597729697623063 err =  6.301365623352099\n",
            "Iteration 57 pi =  3.12373693372627 err =  6.265329587316064\n",
            "Iteration 58 pi =  3.159135163814766 err =  6.3007278174045585\n",
            "Iteration 59 pi =  3.124352555119114 err =  6.2659452087089065\n",
            "Iteration 60 pi =  3.158540589307148 err =  6.3001332428969405\n",
            "Iteration 61 pi =  3.1249271439289967 err =  6.266519797518789\n",
            "Iteration 62 pi =  3.157984995168666 err =  6.29957764875846\n",
            "Iteration 63 pi =  3.125464669965414 err =  6.267057323555207\n",
            "Iteration 64 pi =  3.157464669965414 err =  6.299057323555207\n",
            "Iteration 65 pi =  3.125968606973288 err =  6.267561260563081\n",
            "Iteration 66 pi =  3.1569763589112725 err =  6.298569012501066\n",
            "Iteration 67 pi =  3.1264420077662343 err =  6.268034661356028\n",
            "Iteration 68 pi =  3.156517195736159 err =  6.298109849325952\n",
            "Iteration 69 pi =  3.126887566106529 err =  6.268480219696322\n",
            "Iteration 70 pi =  3.1560846463985 err =  6.297677299988293\n",
            "Iteration 71 pi =  3.127307667981234 err =  6.268900321571027\n",
            "Iteration 72 pi =  3.155676462307475 err =  6.297269115897269\n",
            "Iteration 73 pi =  3.127704434335447 err =  6.26929708792524\n",
            "Iteration 74 pi =  3.155290641231999 err =  6.296883294821792\n",
            "Iteration 75 pi =  3.1280797568782575 err =  6.269672410468051\n",
            "Iteration 76 pi =  3.15492539446215 err =  6.296518048051944\n",
            "Iteration 77 pi =  3.1284353282369843 err =  6.270027981826777\n",
            "Iteration 78 pi =  3.1545791190866574 err =  6.29617177267645\n",
            "Iteration 79 pi =  3.128772667473754 err =  6.270365321063547\n",
            "Iteration 80 pi =  3.1542503744801236 err =  6.295843028069917\n",
            "Iteration 81 pi =  3.129093141775721 err =  6.270685795365514\n",
            "Iteration 82 pi =  3.1539378622726155 err =  6.295530515862408\n",
            "Iteration 83 pi =  3.129397984972002 err =  6.270990638561795\n",
            "Iteration 84 pi =  3.1536404092144266 err =  6.29523306280422\n",
            "Iteration 85 pi =  3.129688313406043 err =  6.271280966995836\n",
            "Iteration 86 pi =  3.1533569524592977 err =  6.294949606049091\n",
            "Iteration 87 pi =  3.129965139593801 err =  6.271557793183594\n",
            "Iteration 88 pi =  3.153086526877038 err =  6.294679180466831\n",
            "Iteration 89 pi =  3.1302293840198954 err =  6.271822037609688\n",
            "Iteration 90 pi =  3.1528282540763923 err =  6.2944209076661854\n",
            "Iteration 91 pi =  3.1304818853613083 err =  6.2720745389511015\n",
            "Iteration 92 pi =  3.1525813328751204 err =  6.294173986464914\n",
            "Iteration 93 pi =  3.1307234093778527 err =  6.272316062967645\n",
            "Iteration 94 pi =  3.1523450309994745 err =  6.293937684589268\n",
            "Iteration 95 pi =  3.1309546566679236 err =  6.272547310257717\n",
            "Iteration 96 pi =  3.152118677831945 err =  6.293711331421738\n",
            "Iteration 97 pi =  3.131176269454982 err =  6.272768923044775\n",
            "Iteration 98 pi =  3.151901658056018 err =  6.293494311645811\n",
            "Iteration 99 pi =  3.1313888375431977 err =  6.272981491132991\n",
            "Iteration 100 pi =  3.1516934060711166 err =  6.293286059660909\n",
            "Iteration 101 pi =  3.1315929035585537 err =  6.273185557148347\n"
          ],
          "name": "stdout"
        }
      ]
    },
    {
      "metadata": {
        "id": "TrXaana3rmkJ",
        "colab_type": "text"
      },
      "cell_type": "markdown",
      "source": [
        "## Villkors-satser"
      ]
    },
    {
      "metadata": {
        "id": "ah8D8NCirmkJ",
        "colab_type": "code",
        "outputId": "46613d34-e631-4360-886c-d60246bf692e",
        "colab": {
          "base_uri": "https://localhost:8080/",
          "height": 35
        }
      },
      "cell_type": "code",
      "source": [
        "i = 0\n",
        "if i == 0:\n",
        "    print(\"i = 0\")"
      ],
      "execution_count": 66,
      "outputs": [
        {
          "output_type": "stream",
          "text": [
            "i = 0\n"
          ],
          "name": "stdout"
        }
      ]
    },
    {
      "metadata": {
        "id": "36Hp7-H4rmkL",
        "colab_type": "code",
        "outputId": "ac143688-a534-4af9-892d-addc77b841b3",
        "colab": {
          "base_uri": "https://localhost:8080/",
          "height": 35
        }
      },
      "cell_type": "code",
      "source": [
        "if i == 0:\n",
        "    print(\"i = 0\")\n",
        "else:\n",
        "    print(\"i är inte 0\")"
      ],
      "execution_count": 67,
      "outputs": [
        {
          "output_type": "stream",
          "text": [
            "i = 0\n"
          ],
          "name": "stdout"
        }
      ]
    },
    {
      "metadata": {
        "id": "UNT9WCs6rmkQ",
        "colab_type": "code",
        "outputId": "64e0cc24-f97d-4bd5-df76-45489ec352fd",
        "colab": {
          "base_uri": "https://localhost:8080/",
          "height": 35
        }
      },
      "cell_type": "code",
      "source": [
        "if i == 0:\n",
        "    print(\"i == 0\")\n",
        "elif i < 1:\n",
        "    print(\"i < 1\")\n",
        "elif i > 1:\n",
        "    print(\"i > 1\")\n",
        "else:\n",
        "    print(\"Mittemellan\")"
      ],
      "execution_count": 68,
      "outputs": [
        {
          "output_type": "stream",
          "text": [
            "i == 0\n"
          ],
          "name": "stdout"
        }
      ]
    },
    {
      "metadata": {
        "id": "aYU7QWThrmkT",
        "colab_type": "text"
      },
      "cell_type": "markdown",
      "source": [
        "### Nästlade if-satser"
      ]
    },
    {
      "metadata": {
        "id": "TWHWZuTWrmkT",
        "colab_type": "code",
        "outputId": "ff6d2d05-8385-4203-86ff-d8fa37283b41",
        "colab": {
          "base_uri": "https://localhost:8080/",
          "height": 35
        }
      },
      "cell_type": "code",
      "source": [
        "if i == 0:\n",
        "    print(\"i == 0\")\n",
        "else:\n",
        "    if i > 0:\n",
        "        print(\"i > 0\")\n",
        "    elif i < 0:\n",
        "        print(\"i < 0\")"
      ],
      "execution_count": 69,
      "outputs": [
        {
          "output_type": "stream",
          "text": [
            "i == 0\n"
          ],
          "name": "stdout"
        }
      ]
    },
    {
      "metadata": {
        "id": "UaMItt6mrmkU",
        "colab_type": "text"
      },
      "cell_type": "markdown",
      "source": [
        "## Kontrollera loop-iterationer\n",
        "\n",
        "En iteration kan styras med:\n",
        "\n",
        "* break - avslutar loopen\n",
        "* continue - fortsätter till nästa iteration"
      ]
    },
    {
      "metadata": {
        "id": "CcxhLvuWrmkV",
        "colab_type": "code",
        "outputId": "7ee03eda-e248-40e6-c34b-2ea1b666ad98",
        "colab": {
          "base_uri": "https://localhost:8080/",
          "height": 231
        }
      },
      "cell_type": "code",
      "source": [
        "for i in range(20):\n",
        "    if i == 10:\n",
        "        print(\"Avbryter loopen\")\n",
        "        break\n",
        "    if i == 5:\n",
        "        print(\"Gå till nästa iteration\")\n",
        "        continue\n",
        "    print(i)\n",
        "\n",
        "print(\"...efter loopen\")"
      ],
      "execution_count": 70,
      "outputs": [
        {
          "output_type": "stream",
          "text": [
            "0\n",
            "1\n",
            "2\n",
            "3\n",
            "4\n",
            "Gå till nästa iteration\n",
            "6\n",
            "7\n",
            "8\n",
            "9\n",
            "Avbryter loopen\n",
            "...efter loopen\n"
          ],
          "name": "stdout"
        }
      ]
    },
    {
      "metadata": {
        "id": "mbQtp1s5rmkX",
        "colab_type": "text"
      },
      "cell_type": "markdown",
      "source": [
        "# Funktioner och subrutiner"
      ]
    },
    {
      "metadata": {
        "id": "SaLByqeGrmkX",
        "colab_type": "text"
      },
      "cell_type": "markdown",
      "source": [
        "* Funktioner definieras med nyckelordet **def** följt av funktionsnamnet och parametrarna inim parentes () följt av ett kolon (:)\n",
        "* Funktionskod definieras i påföljande kodblock"
      ]
    },
    {
      "metadata": {
        "id": "4g4gCCEVrmkX",
        "colab_type": "code",
        "colab": {}
      },
      "cell_type": "code",
      "source": [
        "def print_doc():\n",
        "    print(\"Detta är en utskrift från en funktion\")"
      ],
      "execution_count": 0,
      "outputs": []
    },
    {
      "metadata": {
        "id": "ebClcZ6ormka",
        "colab_type": "text"
      },
      "cell_type": "markdown",
      "source": [
        "Anrop av funktion"
      ]
    },
    {
      "metadata": {
        "id": "LkWsNpbwrmkb",
        "colab_type": "code",
        "outputId": "c47899a1-a6e1-4542-f7c2-2f6e3cc0ba01",
        "colab": {
          "base_uri": "https://localhost:8080/",
          "height": 35
        }
      },
      "cell_type": "code",
      "source": [
        "print_doc()"
      ],
      "execution_count": 72,
      "outputs": [
        {
          "output_type": "stream",
          "text": [
            "Detta är en utskrift från en funktion\n"
          ],
          "name": "stdout"
        }
      ]
    },
    {
      "metadata": {
        "id": "18rMgMVxrmkd",
        "colab_type": "text"
      },
      "cell_type": "markdown",
      "source": [
        "Funktion med parameter"
      ]
    },
    {
      "metadata": {
        "id": "Ck_N1yKdrmkd",
        "colab_type": "code",
        "colab": {}
      },
      "cell_type": "code",
      "source": [
        "def print_value(a):\n",
        "    print(\"Värdet är \"+str(a))"
      ],
      "execution_count": 0,
      "outputs": []
    },
    {
      "metadata": {
        "id": "EToxQclxrmkf",
        "colab_type": "text"
      },
      "cell_type": "markdown",
      "source": [
        "Anrop av funktion med parameter"
      ]
    },
    {
      "metadata": {
        "id": "tSabWj9Jrmkg",
        "colab_type": "code",
        "outputId": "a0cba45e-d0d7-4659-e3ca-38764bff1934",
        "colab": {
          "base_uri": "https://localhost:8080/",
          "height": 35
        }
      },
      "cell_type": "code",
      "source": [
        "b = 42\n",
        "print_value(b)"
      ],
      "execution_count": 74,
      "outputs": [
        {
          "output_type": "stream",
          "text": [
            "Värdet är 42\n"
          ],
          "name": "stdout"
        }
      ]
    },
    {
      "metadata": {
        "id": "JOLFFQt1rmki",
        "colab_type": "text"
      },
      "cell_type": "markdown",
      "source": [
        "Andra parametrar:"
      ]
    },
    {
      "metadata": {
        "id": "NrH5aKtZrmkj",
        "colab_type": "code",
        "colab": {}
      },
      "cell_type": "code",
      "source": [
        "def print_value(a):\n",
        "    print(\"Värdet är \"+str(a))\n",
        "    a = 84"
      ],
      "execution_count": 0,
      "outputs": []
    },
    {
      "metadata": {
        "id": "cCN1hI18rmkk",
        "colab_type": "text"
      },
      "cell_type": "markdown",
      "source": [
        "Anrop av funktion"
      ]
    },
    {
      "metadata": {
        "id": "M4hcDt0Rrmkl",
        "colab_type": "code",
        "outputId": "90d36af9-9d7a-4a1e-fb75-4d1256cf597d",
        "colab": {
          "base_uri": "https://localhost:8080/",
          "height": 35
        }
      },
      "cell_type": "code",
      "source": [
        "b = 42\n",
        "print_value(b)"
      ],
      "execution_count": 76,
      "outputs": [
        {
          "output_type": "stream",
          "text": [
            "Värdet är 42\n"
          ],
          "name": "stdout"
        }
      ]
    },
    {
      "metadata": {
        "id": "KZMbBqZcrmkn",
        "colab_type": "text"
      },
      "cell_type": "markdown",
      "source": [
        "## Returvärden"
      ]
    },
    {
      "metadata": {
        "id": "tKNnA1k0rmkn",
        "colab_type": "code",
        "outputId": "06f30da3-524b-46b6-d4a1-2bb75d7842b3",
        "colab": {
          "base_uri": "https://localhost:8080/",
          "height": 35
        }
      },
      "cell_type": "code",
      "source": [
        "from math import *\n",
        "\n",
        "def f(x):\n",
        "    return sin(x)\n",
        "\n",
        "x = pi/2\n",
        "y = f(x)\n",
        "\n",
        "print(y)"
      ],
      "execution_count": 77,
      "outputs": [
        {
          "output_type": "stream",
          "text": [
            "1.0\n"
          ],
          "name": "stdout"
        }
      ]
    },
    {
      "metadata": {
        "id": "qtMpmBrxrmkp",
        "colab_type": "text"
      },
      "cell_type": "markdown",
      "source": [
        "Funktioner kan användas i komplexa uttryck."
      ]
    },
    {
      "metadata": {
        "id": "WqoTNNXWrmkq",
        "colab_type": "text"
      },
      "cell_type": "markdown",
      "source": [
        "# Organisera kod i moduler"
      ]
    },
    {
      "metadata": {
        "id": "VA2tUtoarmkq",
        "colab_type": "text"
      },
      "cell_type": "markdown",
      "source": [
        "## Importera moduler"
      ]
    },
    {
      "metadata": {
        "id": "e6MP3WUFrmkq",
        "colab_type": "text"
      },
      "cell_type": "markdown",
      "source": [
        "Moduler är bibliotek av kod i Python. De kan vara inbyggda eller tillägg. För att använda en modul måste den importeras. I det följande exemplet importerar vi Python matematikmodulen **math** med **import**-satsen."
      ]
    },
    {
      "metadata": {
        "id": "3KveY_43rmkq",
        "colab_type": "code",
        "outputId": "f789fa69-ec48-492a-e964-925f2ddbac71",
        "colab": {
          "base_uri": "https://localhost:8080/",
          "height": 35
        }
      },
      "cell_type": "code",
      "source": [
        "import math\n",
        "\n",
        "print(math.sin(math.pi/2))"
      ],
      "execution_count": 78,
      "outputs": [
        {
          "output_type": "stream",
          "text": [
            "1.0\n"
          ],
          "name": "stdout"
        }
      ]
    },
    {
      "metadata": {
        "id": "JJekp5j5rmkt",
        "colab_type": "text"
      },
      "cell_type": "markdown",
      "source": [
        "Med denna form av import krävs att alla funktioner i modulen är prefixade med modulnamnet. I detta fall **math**. Det är också möjligt att importera alla funktioner i en modul utan prefixet med **from** importdeklarationen."
      ]
    },
    {
      "metadata": {
        "id": "AubIwk0mrmku",
        "colab_type": "code",
        "outputId": "8a5d8d7b-67b2-46f0-8764-e1f830b56f7a",
        "colab": {
          "base_uri": "https://localhost:8080/",
          "height": 35
        }
      },
      "cell_type": "code",
      "source": [
        "from math import *\n",
        "\n",
        "print(sin(pi/2))"
      ],
      "execution_count": 79,
      "outputs": [
        {
          "output_type": "stream",
          "text": [
            "1.0\n"
          ],
          "name": "stdout"
        }
      ]
    },
    {
      "metadata": {
        "id": "KU0RZ4q3rmkw",
        "colab_type": "text"
      },
      "cell_type": "markdown",
      "source": [
        "The \\* i **from**-satsen anger att Python skall importera alla funktioner från modulen. Deta kan vara ett problem eftersom importen av funktioner som använder **from** kan kollidera med redan importerade funktioner. Det är också möjligt att explicit importera vissa funktioner genom att lista dem efter importordet i ett **from**-sats."
      ]
    },
    {
      "metadata": {
        "id": "-0HcXC50rmkx",
        "colab_type": "code",
        "outputId": "229519bc-0142-4c32-d032-8186014feb4d",
        "colab": {
          "base_uri": "https://localhost:8080/",
          "height": 35
        }
      },
      "cell_type": "code",
      "source": [
        "from math import sin, sqrt\n",
        "\n",
        "print(sqrt(2))"
      ],
      "execution_count": 80,
      "outputs": [
        {
          "output_type": "stream",
          "text": [
            "1.4142135623730951\n"
          ],
          "name": "stdout"
        }
      ]
    },
    {
      "metadata": {
        "id": "Gn2U0e3Rrmk1",
        "colab_type": "text"
      },
      "cell_type": "markdown",
      "source": [
        "Alla Python-källkodsfiler är moduler.\n"
      ]
    },
    {
      "metadata": {
        "id": "5g0hdvhMrmk1",
        "colab_type": "text"
      },
      "cell_type": "markdown",
      "source": [
        "Följande kod är ett exempel på en module **prime.py** som innehåller funktionen **is_prime()** för att undersöka om ett heltalsvärde är ett primtal.\n",
        "\n",
        "    # -*- coding: utf-8 -*-\n",
        "\n",
        "    from math import sqrt\n",
        "\n",
        "    def is_prime(n):\n",
        "\n",
        "        prime = True\n",
        "\n",
        "        k = 2\n",
        "        while k<=sqrt(n) and prime:\n",
        "            if (n % k == 0):\n",
        "                prime = False\n",
        "                break\n",
        "            k+=1      \n",
        "\n",
        "        return prime\n",
        "        \n"
      ]
    },
    {
      "metadata": {
        "id": "fMpQPI3-W5H0",
        "colab_type": "text"
      },
      "cell_type": "markdown",
      "source": [
        "Innan vi importerar den måste vi ladda upp den till vår notebook:"
      ]
    },
    {
      "metadata": {
        "id": "ndIIsZ9oV0dp",
        "colab_type": "code",
        "colab": {
          "base_uri": "https://localhost:8080/",
          "height": 214
        },
        "outputId": "746edd48-b88e-4fdd-dd19-d87ac471ca93"
      },
      "cell_type": "code",
      "source": [
        "!wget https://raw.githubusercontent.com/jonaslindemann/guide_to_python/master/chapters/kapitel3/notebooks/prime.py"
      ],
      "execution_count": 89,
      "outputs": [
        {
          "output_type": "stream",
          "text": [
            "--2019-04-23 22:39:13--  https://raw.githubusercontent.com/jonaslindemann/guide_to_python/master/chapters/kapitel3/notebooks/prime.py\n",
            "Resolving raw.githubusercontent.com (raw.githubusercontent.com)... 151.101.0.133, 151.101.64.133, 151.101.128.133, ...\n",
            "Connecting to raw.githubusercontent.com (raw.githubusercontent.com)|151.101.0.133|:443... connected.\n",
            "HTTP request sent, awaiting response... 200 OK\n",
            "Length: 260 [text/plain]\n",
            "Saving to: ‘prime.py’\n",
            "\n",
            "\rprime.py              0%[                    ]       0  --.-KB/s               \rprime.py            100%[===================>]     260  --.-KB/s    in 0s      \n",
            "\n",
            "2019-04-23 22:39:13 (40.3 MB/s) - ‘prime.py’ saved [260/260]\n",
            "\n"
          ],
          "name": "stdout"
        }
      ]
    },
    {
      "metadata": {
        "id": "tccFDPFDXDXz",
        "colab_type": "text"
      },
      "cell_type": "markdown",
      "source": [
        "Vi kan nu importera denna modul med följande kommandon:"
      ]
    },
    {
      "metadata": {
        "id": "ugMxigeirmk2",
        "colab_type": "code",
        "colab": {}
      },
      "cell_type": "code",
      "source": [
        "import prime"
      ],
      "execution_count": 0,
      "outputs": []
    },
    {
      "metadata": {
        "id": "Oc8XeGwormk4",
        "colab_type": "text"
      },
      "cell_type": "markdown",
      "source": [
        "We can now use the function in the module:"
      ]
    },
    {
      "metadata": {
        "id": "opF4jb1Nrmk5",
        "colab_type": "code",
        "outputId": "7b8ab5d6-da96-451b-a9de-aa86bfe26f00",
        "colab": {
          "base_uri": "https://localhost:8080/",
          "height": 35
        }
      },
      "cell_type": "code",
      "source": [
        "print(prime.is_prime(3))"
      ],
      "execution_count": 96,
      "outputs": [
        {
          "output_type": "stream",
          "text": [
            "True\n"
          ],
          "name": "stdout"
        }
      ]
    },
    {
      "metadata": {
        "id": "fO905reVrmk5",
        "colab_type": "code",
        "outputId": "96e5702c-608f-4084-bac3-5f93bfd145cd",
        "colab": {
          "base_uri": "https://localhost:8080/",
          "height": 35
        }
      },
      "cell_type": "code",
      "source": [
        "print(prime.is_prime(8))"
      ],
      "execution_count": 97,
      "outputs": [
        {
          "output_type": "stream",
          "text": [
            "False\n"
          ],
          "name": "stdout"
        }
      ]
    },
    {
      "metadata": {
        "id": "ZsRCrGFqrmk7",
        "colab_type": "text"
      },
      "cell_type": "markdown",
      "source": [
        "## Huvudprogram och skript i Python"
      ]
    },
    {
      "metadata": {
        "id": "9zxL1nmwrmk7",
        "colab_type": "text"
      },
      "cell_type": "markdown",
      "source": [
        "Python exekverar all kod i en modul eller källfil. De flesta andra språk definierar ofta en huvudfunktion som körs av operativsystemet. I Python anses ofta någon källfil vara huvudmodul där programmet har sin startpunkt. I många fall kan Python-moduler utföras som skript eller importeras som en modul. Om en modul importeras vill man ofta bara ha tillgång till inbyggda funktionerna och inte att exekverbara satser skall köras.\n",
        "\n",
        "När en python-källfil importeras en särskild variabel, **__main__**, tilldelas namnet på modulen. Om samma källfil exekveras som ett skript kommer variabeln att innehålla \"main\".\n",
        "\n",
        "Vi modifierar kopiera vår prime.py-modul och skapar prime_extra.py med en extra utskriftsdeklaration som skriver ut namnsvariabeln.\n",
        "\n",
        "    # -*- coding: utf-8 -*-\n",
        "\n",
        "    from math import sqrt\n",
        "    \n",
        "    print(__name__)\n",
        "\n",
        "    def is_prime(n):\n",
        "\n",
        "        prime = True\n",
        "\n",
        "        k = 2\n",
        "        while k<=sqrt(n) and prime:\n",
        "            if (n % k == 0):\n",
        "                prime = False\n",
        "                break\n",
        "            k+=1      \n",
        "\n",
        "        return prime\n",
        "        \n"
      ]
    },
    {
      "metadata": {
        "id": "vLjmUnlpYBtP",
        "colab_type": "code",
        "colab": {
          "base_uri": "https://localhost:8080/",
          "height": 214
        },
        "outputId": "e90b049c-6afc-4f1b-ab07-cf617117ec58"
      },
      "cell_type": "code",
      "source": [
        "!wget https://raw.githubusercontent.com/jonaslindemann/guide_to_python/master/chapters/kapitel3/notebooks/prime_extra.py"
      ],
      "execution_count": 102,
      "outputs": [
        {
          "output_type": "stream",
          "text": [
            "--2019-04-23 22:48:30--  https://raw.githubusercontent.com/jonaslindemann/guide_to_python/master/chapters/kapitel3/notebooks/prime_extra.py\n",
            "Resolving raw.githubusercontent.com (raw.githubusercontent.com)... 151.101.0.133, 151.101.64.133, 151.101.128.133, ...\n",
            "Connecting to raw.githubusercontent.com (raw.githubusercontent.com)|151.101.0.133|:443... connected.\n",
            "HTTP request sent, awaiting response... 200 OK\n",
            "Length: 260 [text/plain]\n",
            "Saving to: ‘prime_extra.py’\n",
            "\n",
            "\rprime_extra.py        0%[                    ]       0  --.-KB/s               \rprime_extra.py      100%[===================>]     260  --.-KB/s    in 0s      \n",
            "\n",
            "2019-04-23 22:48:31 (46.8 MB/s) - ‘prime_extra.py’ saved [260/260]\n",
            "\n"
          ],
          "name": "stdout"
        }
      ]
    },
    {
      "metadata": {
        "id": "zp5L9Y5DYX91",
        "colab_type": "code",
        "colab": {
          "base_uri": "https://localhost:8080/",
          "height": 214
        },
        "outputId": "172a055d-3fd3-4263-cc9b-5bc28e454f92"
      },
      "cell_type": "code",
      "source": [
        "!wget https://raw.githubusercontent.com/jonaslindemann/guide_to_python/master/chapters/kapitel3/notebooks/prime_main.py"
      ],
      "execution_count": 103,
      "outputs": [
        {
          "output_type": "stream",
          "text": [
            "--2019-04-23 22:48:36--  https://raw.githubusercontent.com/jonaslindemann/guide_to_python/master/chapters/kapitel3/notebooks/prime_main.py\n",
            "Resolving raw.githubusercontent.com (raw.githubusercontent.com)... 151.101.0.133, 151.101.64.133, 151.101.128.133, ...\n",
            "Connecting to raw.githubusercontent.com (raw.githubusercontent.com)|151.101.0.133|:443... connected.\n",
            "HTTP request sent, awaiting response... 200 OK\n",
            "Length: 124 [text/plain]\n",
            "Saving to: ‘prime_main.py.2’\n",
            "\n",
            "\rprime_main.py.2       0%[                    ]       0  --.-KB/s               \rprime_main.py.2     100%[===================>]     124  --.-KB/s    in 0s      \n",
            "\n",
            "2019-04-23 22:48:36 (24.1 MB/s) - ‘prime_main.py.2’ saved [124/124]\n",
            "\n"
          ],
          "name": "stdout"
        }
      ]
    },
    {
      "metadata": {
        "id": "FFo58mOarmk9",
        "colab_type": "code",
        "outputId": "ff49fdd3-3de7-41bf-90f9-a9d44c16e528",
        "colab": {
          "base_uri": "https://localhost:8080/",
          "height": 35
        }
      },
      "cell_type": "code",
      "source": [
        "import prime_extra"
      ],
      "execution_count": 104,
      "outputs": [
        {
          "output_type": "stream",
          "text": [
            "prime_extra\n"
          ],
          "name": "stdout"
        }
      ]
    },
    {
      "metadata": {
        "id": "tnP0zJLKrmk-",
        "colab_type": "text"
      },
      "cell_type": "markdown",
      "source": [
        "Om vi nu exekverar samma fil med Python-tolken får vi ett annat resultat:"
      ]
    },
    {
      "metadata": {
        "id": "CT488Kozrmk-",
        "colab_type": "code",
        "outputId": "f57a12ed-a45f-415d-81dd-0ebb6eff629c",
        "colab": {
          "base_uri": "https://localhost:8080/",
          "height": 35
        }
      },
      "cell_type": "code",
      "source": [
        "run prime_extra"
      ],
      "execution_count": 105,
      "outputs": [
        {
          "output_type": "stream",
          "text": [
            "__main__\n"
          ],
          "name": "stdout"
        }
      ]
    },
    {
      "metadata": {
        "id": "BRX-MF27rmlA",
        "colab_type": "text"
      },
      "cell_type": "markdown",
      "source": [
        "På så sätt kan vi skapa python-källfiler som både kan importeras och användas som skript. Detta är också en säkerhetsåtgärd för att säkerställa att en python-källfil inte felaktigt utför kod när den importeras som modul.\n",
        "\n",
        "Många Pythonprojekt har ofta ett huvud pythonskript för att starta huvudapplikationen. Ett typiskt huvudprogram (prime_main.py) visas nedan:\n",
        "\n",
        "    # -*- coding: utf-8 -*-\n",
        "    \n",
        "    import prime\n",
        "    \n",
        "    if __name__ == \"__main__\":\n",
        "        \n",
        "        print(prime.is_prime(6))\n",
        "        print(prime.is_prime(5))\n",
        "        \n",
        "The code in the if-statement is only executed when run as a script."
      ]
    },
    {
      "metadata": {
        "id": "q8iIkAQvrmlA",
        "colab_type": "code",
        "outputId": "a5267945-87af-4bb0-cc0d-301180b47e4f",
        "colab": {
          "base_uri": "https://localhost:8080/",
          "height": 53
        }
      },
      "cell_type": "code",
      "source": [
        "run prime_main"
      ],
      "execution_count": 106,
      "outputs": [
        {
          "output_type": "stream",
          "text": [
            "False\n",
            "True\n"
          ],
          "name": "stdout"
        }
      ]
    },
    {
      "metadata": {
        "id": "MkgQmd2xrmlB",
        "colab_type": "code",
        "colab": {}
      },
      "cell_type": "code",
      "source": [
        "import prime_main"
      ],
      "execution_count": 0,
      "outputs": []
    },
    {
      "metadata": {
        "id": "Sk4deUrlrmlD",
        "colab_type": "text"
      },
      "cell_type": "markdown",
      "source": [
        " # Formatera utdata"
      ]
    },
    {
      "metadata": {
        "id": "zl_g_LW5rmlD",
        "colab_type": "text"
      },
      "cell_type": "markdown",
      "source": [
        "När du skriver ut krävs det ofta att utskriften formateras på något sätt. Python innehåller många sätt att göra detta. I Python 3 görs detta med hjälp av **.format ()**-metoden för ett strängobjekt. I följande exempel placeras värden i strängen med platshållarna \\{\\}"
      ]
    },
    {
      "metadata": {
        "id": "Cc36FPkKrmlD",
        "colab_type": "code",
        "outputId": "b6a7def3-1a73-4908-b19e-736db9c6290b",
        "colab": {
          "base_uri": "https://localhost:8080/",
          "height": 35
        }
      },
      "cell_type": "code",
      "source": [
        "a = 2.0\n",
        "b = 45.0\n",
        "c = 1500\n",
        "d = \"My string\"\n",
        "\n",
        "form_string = \"{}, {}, {}, {}\".format(a, b, c, d)\n",
        "\n",
        "print(form_string)"
      ],
      "execution_count": 108,
      "outputs": [
        {
          "output_type": "stream",
          "text": [
            "2.0, 45.0, 1500, My string\n"
          ],
          "name": "stdout"
        }
      ]
    },
    {
      "metadata": {
        "id": "aN90vIudrmlF",
        "colab_type": "text"
      },
      "cell_type": "markdown",
      "source": [
        "Det går också att referera till variablern med indes i platshållarna."
      ]
    },
    {
      "metadata": {
        "id": "L3CCs1JFrmlG",
        "colab_type": "code",
        "outputId": "9cc48d21-513f-4a7e-95a8-cbecef09f91b",
        "colab": {
          "base_uri": "https://localhost:8080/",
          "height": 35
        }
      },
      "cell_type": "code",
      "source": [
        "form_string = \"{3}, {2}, {1}, {0}\".format(a, b, c, d)\n",
        "print(form_string)"
      ],
      "execution_count": 109,
      "outputs": [
        {
          "output_type": "stream",
          "text": [
            "My string, 1500, 45.0, 2.0\n"
          ],
          "name": "stdout"
        }
      ]
    },
    {
      "metadata": {
        "id": "Ca0AptwJrmlI",
        "colab_type": "text"
      },
      "cell_type": "markdown",
      "source": [
        "## String formatting"
      ]
    },
    {
      "metadata": {
        "id": "VisYAmLrrmlJ",
        "colab_type": "text"
      },
      "cell_type": "markdown",
      "source": [
        "För strängvariabler kan en bredd ges för utskriften. Den givna strängen kommer då att placeras i inom den angivna bredden. Som standard lämnas strängen vänsterjusterad i fältet. I följande exempel placeras strängen \"Python 3\" i ett 15 tecken bredt fält med olika formateringsalternativ"
      ]
    },
    {
      "metadata": {
        "id": "aKgvkn5DrmlK",
        "colab_type": "code",
        "outputId": "78b7ac9d-172c-4bcd-8c7c-e76c4d48aa93",
        "colab": {}
      },
      "cell_type": "code",
      "source": [
        "form_string = \">{:15}<\".format(\"Python 3\")\n",
        "print(form_string)"
      ],
      "execution_count": 0,
      "outputs": [
        {
          "output_type": "stream",
          "text": [
            ">Python 3       <\n"
          ],
          "name": "stdout"
        }
      ]
    },
    {
      "metadata": {
        "id": "Bel7TNYTrmlL",
        "colab_type": "text"
      },
      "cell_type": "markdown",
      "source": [
        "Högerjustering görs genom att använda > i platshållaren.\n"
      ]
    },
    {
      "metadata": {
        "id": "hOhWt8GxrmlL",
        "colab_type": "code",
        "outputId": "9a16e2b0-3919-4faa-b8e0-22cb043e5876",
        "colab": {
          "base_uri": "https://localhost:8080/",
          "height": 35
        }
      },
      "cell_type": "code",
      "source": [
        "form_string = \">{:>15}<\".format(\"Python 3\")\n",
        "print(form_string)"
      ],
      "execution_count": 110,
      "outputs": [
        {
          "output_type": "stream",
          "text": [
            ">       Python 3<\n"
          ],
          "name": "stdout"
        }
      ]
    },
    {
      "metadata": {
        "id": "mmgbgwTXrmlO",
        "colab_type": "text"
      },
      "cell_type": "markdown",
      "source": [
        "Centrering uppnås genom att använda ^ operatorn.\n"
      ]
    },
    {
      "metadata": {
        "id": "cmvKXekMrmlO",
        "colab_type": "code",
        "outputId": "ab5578ba-48fd-4aa1-abea-f8f87d00ae36",
        "colab": {
          "base_uri": "https://localhost:8080/",
          "height": 35
        }
      },
      "cell_type": "code",
      "source": [
        "form_string = \">{:^15}<\".format(\"Python 3\")\n",
        "print(form_string)"
      ],
      "execution_count": 111,
      "outputs": [
        {
          "output_type": "stream",
          "text": [
            ">   Python 3    <\n"
          ],
          "name": "stdout"
        }
      ]
    },
    {
      "metadata": {
        "id": "qmDtDGuTrmlP",
        "colab_type": "text"
      },
      "cell_type": "markdown",
      "source": [
        "Utfyllnad görs genom att ange ett utfyllnadstecken i platshållaren:\n"
      ]
    },
    {
      "metadata": {
        "id": "Y6Qb1GuwrmlQ",
        "colab_type": "code",
        "outputId": "781afcd0-5395-452e-d0e2-f8d1c436339b",
        "colab": {
          "base_uri": "https://localhost:8080/",
          "height": 35
        }
      },
      "cell_type": "code",
      "source": [
        "form_string = \">{:_^15}<\".format(\"Python 3\")\n",
        "print(form_string)"
      ],
      "execution_count": 112,
      "outputs": [
        {
          "output_type": "stream",
          "text": [
            ">___Python 3____<\n"
          ],
          "name": "stdout"
        }
      ]
    },
    {
      "metadata": {
        "id": "kOsdXBWtrmlR",
        "colab_type": "text"
      },
      "cell_type": "markdown",
      "source": [
        "## Formatering av heltal\n"
      ]
    },
    {
      "metadata": {
        "id": "1pwZ9FPhrmlS",
        "colab_type": "text"
      },
      "cell_type": "markdown",
      "source": [
        "Precis som för strängar kan utskriften av heltal också styras med platshållare. Platshållaren för heltal är **\\{:d\\}** vilket visas i nedanstående exempel:\n"
      ]
    },
    {
      "metadata": {
        "id": "TnxO8WjFrmlS",
        "colab_type": "code",
        "outputId": "d6688bb2-a7ac-4dbf-d8c3-d9dcfbce9c68",
        "colab": {
          "base_uri": "https://localhost:8080/",
          "height": 35
        }
      },
      "cell_type": "code",
      "source": [
        "form_string = \">{:d}<\".format(42)\n",
        "print(form_string)"
      ],
      "execution_count": 113,
      "outputs": [
        {
          "output_type": "stream",
          "text": [
            ">42<\n"
          ],
          "name": "stdout"
        }
      ]
    },
    {
      "metadata": {
        "id": "nXZTsittrmlU",
        "colab_type": "text"
      },
      "cell_type": "markdown",
      "source": [
        "Fältbredden kan också styras som för strängar:"
      ]
    },
    {
      "metadata": {
        "id": "qw7HRUIGrmlU",
        "colab_type": "code",
        "outputId": "c5afada0-2cdc-42ee-8ea4-0f4cbea014b8",
        "colab": {
          "base_uri": "https://localhost:8080/",
          "height": 106
        }
      },
      "cell_type": "code",
      "source": [
        "print(\">{:10d}<\".format(42))\n",
        "print(\">{:>10d}<\".format(42))\n",
        "print(\">{:<10d}<\".format(42))\n",
        "print(\">{:^10d}<\".format(42))\n",
        "print(\">{:_<10d}<\".format(42))"
      ],
      "execution_count": 114,
      "outputs": [
        {
          "output_type": "stream",
          "text": [
            ">        42<\n",
            ">        42<\n",
            ">42        <\n",
            ">    42    <\n",
            ">42________<\n"
          ],
          "name": "stdout"
        }
      ]
    },
    {
      "metadata": {
        "id": "7_Si7LTxrmll",
        "colab_type": "text"
      },
      "cell_type": "markdown",
      "source": [
        "## Formatering av flyttal"
      ]
    },
    {
      "metadata": {
        "id": "oimO9vxJrmll",
        "colab_type": "text"
      },
      "cell_type": "markdown",
      "source": [
        "Fix form av flyttal formateras med hjälp av **\\{:f\\}**-platshållaren. Fältbredd och antal decimaler kan anges. I följande exempel är fältbredden 10 och antalet decimaler varierade från 2 till 6."
      ]
    },
    {
      "metadata": {
        "id": "U2_UZntZrmll",
        "colab_type": "code",
        "outputId": "c4f81a40-693b-44ac-baee-caebaa57a95d",
        "colab": {
          "base_uri": "https://localhost:8080/",
          "height": 71
        }
      },
      "cell_type": "code",
      "source": [
        "print(\">{:10.2f}<\".format(3.141592653589793))\n",
        "print(\">{:10.4f}<\".format(3.141592653589793))\n",
        "print(\">{:10.6f}<\".format(3.141592653589793))"
      ],
      "execution_count": 115,
      "outputs": [
        {
          "output_type": "stream",
          "text": [
            ">      3.14<\n",
            ">    3.1416<\n",
            ">  3.141593<\n"
          ],
          "name": "stdout"
        }
      ]
    },
    {
      "metadata": {
        "id": "762ubqocrmlm",
        "colab_type": "text"
      },
      "cell_type": "markdown",
      "source": [
        "Vetenskaplig notation kan anges med platshållaren **{:e}**."
      ]
    },
    {
      "metadata": {
        "id": "IDVT5x5Frmln",
        "colab_type": "code",
        "outputId": "306192ec-0f3b-4d55-d499-958ea911959a",
        "colab": {
          "base_uri": "https://localhost:8080/",
          "height": 71
        }
      },
      "cell_type": "code",
      "source": [
        "print(\">{:15.2e}<\".format(3.141592653589793))\n",
        "print(\">{:15.4e}<\".format(3.141592653589793))\n",
        "print(\">{:15.6e}<\".format(3.141592653589793))"
      ],
      "execution_count": 116,
      "outputs": [
        {
          "output_type": "stream",
          "text": [
            ">       3.14e+00<\n",
            ">     3.1416e+00<\n",
            ">   3.141593e+00<\n"
          ],
          "name": "stdout"
        }
      ]
    },
    {
      "metadata": {
        "id": "uq7z_nWBrmlo",
        "colab_type": "text"
      },
      "cell_type": "markdown",
      "source": [
        "## Namngivna platshållare"
      ]
    },
    {
      "metadata": {
        "id": "FN9umca0rmlo",
        "colab_type": "text"
      },
      "cell_type": "markdown",
      "source": [
        "För att stödja mer komplicerad formatering är det möjligt att använda namngivna platshållare med metoden **.format()**. Parametrar måste då namnges i anropet till metoden **.format()**:"
      ]
    },
    {
      "metadata": {
        "id": "nLDhzqeSrmlp",
        "colab_type": "code",
        "outputId": "e2167d3f-cf74-4540-e326-2737f1b801c4",
        "colab": {
          "base_uri": "https://localhost:8080/",
          "height": 35
        }
      },
      "cell_type": "code",
      "source": [
        "print(\"({x}, {y})\".format(x = 0.0, y = 2.0))"
      ],
      "execution_count": 117,
      "outputs": [
        {
          "output_type": "stream",
          "text": [
            "(0.0, 2.0)\n"
          ],
          "name": "stdout"
        }
      ]
    },
    {
      "metadata": {
        "id": "m5uc2ebArmlq",
        "colab_type": "text"
      },
      "cell_type": "markdown",
      "source": [
        "Det är också möjligt att direkt använda en uppslagslista i **.format()**-metoden.\n"
      ]
    },
    {
      "metadata": {
        "id": "23XemrXPrmlq",
        "colab_type": "code",
        "outputId": "7f4906b4-f156-4ba5-d7dc-f5239d416afc",
        "colab": {
          "base_uri": "https://localhost:8080/",
          "height": 35
        }
      },
      "cell_type": "code",
      "source": [
        "params = {\"value1\": 42, \"value2\": 3.14, \"value3\": \"Python\"}\n",
        "print(\"{value1}, {value2}, {value3}\".format(**params))"
      ],
      "execution_count": 118,
      "outputs": [
        {
          "output_type": "stream",
          "text": [
            "42, 3.14, Python\n"
          ],
          "name": "stdout"
        }
      ]
    },
    {
      "metadata": {
        "id": "tSBxEmuMrmls",
        "colab_type": "text"
      },
      "cell_type": "markdown",
      "source": [
        "Allt i Python lagras i uppslagslistor, även variablerna definieras i en uppslagslista. I följande exempel definieras variabler i skriptet och ordlistan för globala variabler kan returneras med **globals()** -funktionen."
      ]
    },
    {
      "metadata": {
        "id": "E7Ozao4Ormlt",
        "colab_type": "code",
        "outputId": "510133ee-1250-479d-e28b-ffd285b36072",
        "colab": {
          "base_uri": "https://localhost:8080/",
          "height": 35
        }
      },
      "cell_type": "code",
      "source": [
        "value1 = 34\n",
        "value2 = 84\n",
        "value3 = \"Easy as pie!\"\n",
        "print(\"{value1}, {value2}, {value3}\".format(**globals()))"
      ],
      "execution_count": 119,
      "outputs": [
        {
          "output_type": "stream",
          "text": [
            "34, 84, Easy as pie!\n"
          ],
          "name": "stdout"
        }
      ]
    },
    {
      "metadata": {
        "id": "fq7QJVR3rmlu",
        "colab_type": "text"
      },
      "cell_type": "markdown",
      "source": [
        "# Reading and writing files"
      ]
    },
    {
      "metadata": {
        "id": "RzbheewRrmlv",
        "colab_type": "text"
      },
      "cell_type": "markdown",
      "source": [
        "En av de viktigaste uppgifterna i många applikationer är möjligheten att läsa och skriva filer. För att läsa och skriva filer i Python måste ett speciellt filobjekt skapas. Detta filobjekt skapar en länk mellan Python och en fil i filsystemet. Med hjälp av detta objekt kan man sedan skriva och läsa från den valda filen.\n",
        "\n",
        "Ett filobjekt skapas med **open()**-satsen."
      ]
    },
    {
      "metadata": {
        "id": "qKYfDI79rmlv",
        "colab_type": "text"
      },
      "cell_type": "markdown",
      "source": [
        "## Writing to a file"
      ]
    },
    {
      "metadata": {
        "id": "rUjW7WwVrmlw",
        "colab_type": "text"
      },
      "cell_type": "markdown",
      "source": [
        "Textfiler lagras som rader av text. En textfil kan öppnas för skrivning med **open()**-funktionen.\n"
      ]
    },
    {
      "metadata": {
        "id": "D_zvm8lurmlx",
        "colab_type": "code",
        "colab": {}
      },
      "cell_type": "code",
      "source": [
        "text_file = open(\"myfile.txt\", \"w\")"
      ],
      "execution_count": 0,
      "outputs": []
    },
    {
      "metadata": {
        "id": "-ufvtSabrmly",
        "colab_type": "text"
      },
      "cell_type": "markdown",
      "source": [
        "**text_file** är nu vår länk till filen **myfile.txt** till vilken vi skall skriva.\n",
        "\n",
        "Skrivning till filen görs med metoden **.write()**. Metoden fungerar i princip som **print()**-funktionen förutom att den aldring lägger till kontrolltecknet för en ny rad efter anropet. Nya rader måste anges strängarna som skrivs till fil. I följnade kod skriver till filen 3 ggr för att skriva ut 2 rader.\n"
      ]
    },
    {
      "metadata": {
        "id": "3Mwbm2svrmly",
        "colab_type": "code",
        "outputId": "065e5a04-cdbf-4ad9-9ff9-5394d33432c1",
        "colab": {
          "base_uri": "https://localhost:8080/",
          "height": 35
        }
      },
      "cell_type": "code",
      "source": [
        "text_file.write(\"Filens innehåll. \")\n",
        "text_file.write(\"Detta skrivs ut på samma rad.\\n\")\n",
        "text_file.write(\"Denna text kommer på en ny rad\")"
      ],
      "execution_count": 3,
      "outputs": [
        {
          "output_type": "execute_result",
          "data": {
            "text/plain": [
              "30"
            ]
          },
          "metadata": {
            "tags": []
          },
          "execution_count": 3
        }
      ]
    },
    {
      "metadata": {
        "id": "2jvPhDy5rml0",
        "colab_type": "text"
      },
      "cell_type": "markdown",
      "source": [
        "När vi är klara att skriva till vår fil, måste denna stängas, så att operativsystemet inte tror att den fortfarande är öppen. Detta görs med meotden **.close()**.\n"
      ]
    },
    {
      "metadata": {
        "id": "7gtWJ2jRrml0",
        "colab_type": "code",
        "colab": {}
      },
      "cell_type": "code",
      "source": [
        "text_file.close()"
      ],
      "execution_count": 0,
      "outputs": []
    },
    {
      "metadata": {
        "id": "MfoZXMTMrml2",
        "colab_type": "text"
      },
      "cell_type": "markdown",
      "source": [
        "The contents of the file is now:"
      ]
    },
    {
      "metadata": {
        "id": "Dn_V6WJdrml2",
        "colab_type": "code",
        "outputId": "f0675777-f2de-4096-f287-be713f92fcd7",
        "colab": {
          "base_uri": "https://localhost:8080/",
          "height": 53
        }
      },
      "cell_type": "code",
      "source": [
        "!cat myfile.txt"
      ],
      "execution_count": 5,
      "outputs": [
        {
          "output_type": "stream",
          "text": [
            "Filens innehåll. Detta skrivs ut på samma rad.\n",
            "Denna text kommer på en ny rad"
          ],
          "name": "stdout"
        }
      ]
    },
    {
      "metadata": {
        "id": "PTYnxdfrrml3",
        "colab_type": "text"
      },
      "cell_type": "markdown",
      "source": [
        "## Läsa från en fil"
      ]
    },
    {
      "metadata": {
        "id": "81FMnIktrml3",
        "colab_type": "text"
      },
      "cell_type": "markdown",
      "source": [
        "Att öppna en fil för läsning sker också med **open()**-funktion och den extra parametern **\"r\""
      ]
    },
    {
      "metadata": {
        "id": "-ch5fWW7rml3",
        "colab_type": "code",
        "colab": {}
      },
      "cell_type": "code",
      "source": [
        "text_file = open(\"myfile.txt\", \"r\")"
      ],
      "execution_count": 0,
      "outputs": []
    },
    {
      "metadata": {
        "id": "AXbf5eKXrml6",
        "colab_type": "text"
      },
      "cell_type": "markdown",
      "source": [
        "Hela filen kan läsas in till en sträng med metoden **.read()**."
      ]
    },
    {
      "metadata": {
        "id": "KEuu8waCrml6",
        "colab_type": "code",
        "outputId": "e1407268-38f1-4fbb-eb41-9e69969e3881",
        "colab": {
          "base_uri": "https://localhost:8080/",
          "height": 53
        }
      },
      "cell_type": "code",
      "source": [
        "content = text_file.read()\n",
        "text_file.close()\n",
        "\n",
        "print(content)"
      ],
      "execution_count": 7,
      "outputs": [
        {
          "output_type": "stream",
          "text": [
            "Filens innehåll. Detta skrivs ut på samma rad.\n",
            "Denna text kommer på en ny rad\n"
          ],
          "name": "stdout"
        }
      ]
    },
    {
      "metadata": {
        "id": "Rwcua3Nbrml7",
        "colab_type": "text"
      },
      "cell_type": "markdown",
      "source": [
        "Att använda **.read ()** för stora filer kan vara mycket ineffektivt eftersom hela filen måste lagras i en enda sträng. Det är då bättre att använda metoden **.readline()** för att läsa en rad i taget."
      ]
    },
    {
      "metadata": {
        "id": "Iit_IEvbrml7",
        "colab_type": "code",
        "outputId": "c1b8ad50-4d27-4992-f6ec-1123bcacf3e4",
        "colab": {
          "base_uri": "https://localhost:8080/",
          "height": 71
        }
      },
      "cell_type": "code",
      "source": [
        "text_file = open(\"myfile.txt\", \"r\")\n",
        "\n",
        "line = text_file.readline()\n",
        "while line!='':\n",
        "    print(\">\"+line)\n",
        "    line = text_file.readline()\n",
        "    \n",
        "text_file.close()"
      ],
      "execution_count": 8,
      "outputs": [
        {
          "output_type": "stream",
          "text": [
            ">Filens innehåll. Detta skrivs ut på samma rad.\n",
            "\n",
            ">Denna text kommer på en ny rad\n"
          ],
          "name": "stdout"
        }
      ]
    },
    {
      "metadata": {
        "id": "aSFSkAT6rml9",
        "colab_type": "text"
      },
      "cell_type": "markdown",
      "source": [
        "Raden mellan print-satserna beror på att **.readline()** också läser eventuella returtecken från filerna. Vi kan använda **.rstrip()** för att ta bort dessa kontrolltecken.\n"
      ]
    },
    {
      "metadata": {
        "id": "ybHaxOWYrml9",
        "colab_type": "code",
        "outputId": "13e51782-04e4-4251-d10d-a58fef37e96e",
        "colab": {
          "base_uri": "https://localhost:8080/",
          "height": 53
        }
      },
      "cell_type": "code",
      "source": [
        "text_file = open(\"myfile.txt\", \"r\")\n",
        "\n",
        "line = text_file.readline().rstrip()\n",
        "\n",
        "while line!='':\n",
        "    print(\">\"+line)\n",
        "    line = text_file.readline().rstrip()\n",
        "\n",
        "text_file.close()"
      ],
      "execution_count": 9,
      "outputs": [
        {
          "output_type": "stream",
          "text": [
            ">Filens innehåll. Detta skrivs ut på samma rad.\n",
            ">Denna text kommer på en ny rad\n"
          ],
          "name": "stdout"
        }
      ]
    },
    {
      "metadata": {
        "id": "0TDzNthxrmmA",
        "colab_type": "text"
      },
      "cell_type": "markdown",
      "source": [
        "Det går också att iterera över en fil med hjälp av for-satsen:"
      ]
    },
    {
      "metadata": {
        "id": "5wxta1ZPrmmA",
        "colab_type": "code",
        "outputId": "0c255917-5e6f-4748-e11c-e40168d542cd",
        "colab": {
          "base_uri": "https://localhost:8080/",
          "height": 53
        }
      },
      "cell_type": "code",
      "source": [
        "text_file = open(\"myfile.txt\", \"r\")\n",
        "\n",
        "for line in text_file:\n",
        "    print(\">\"+line.rstrip())\n",
        "\n",
        "text_file.close()"
      ],
      "execution_count": 10,
      "outputs": [
        {
          "output_type": "stream",
          "text": [
            ">Filens innehåll. Detta skrivs ut på samma rad.\n",
            ">Denna text kommer på en ny rad\n"
          ],
          "name": "stdout"
        }
      ]
    },
    {
      "metadata": {
        "id": "x72QcNA7rmmB",
        "colab_type": "text"
      },
      "cell_type": "markdown",
      "source": [
        "Det går att läsa in hela filen till en lista av strängar genom att använda metoden **.readlines()** på filobjektet."
      ]
    },
    {
      "metadata": {
        "id": "1fFm4zOcrmmB",
        "colab_type": "code",
        "outputId": "e0d26fb9-6c48-4799-f4f5-029a38dc858c",
        "colab": {
          "base_uri": "https://localhost:8080/",
          "height": 35
        }
      },
      "cell_type": "code",
      "source": [
        "text_file = open(\"myfile.txt\", \"r\")\n",
        "lines = text_file.readlines()\n",
        "text_file.close()\n",
        "\n",
        "print(lines)"
      ],
      "execution_count": 11,
      "outputs": [
        {
          "output_type": "stream",
          "text": [
            "['Filens innehåll. Detta skrivs ut på samma rad.\\n', 'Denna text kommer på en ny rad']\n"
          ],
          "name": "stdout"
        }
      ]
    },
    {
      "metadata": {
        "id": "_2ayLOWarmmE",
        "colab_type": "text"
      },
      "cell_type": "markdown",
      "source": [
        "## Öppna filer med with-satsen"
      ]
    },
    {
      "metadata": {
        "id": "BE9iHHorrmmE",
        "colab_type": "text"
      },
      "cell_type": "markdown",
      "source": [
        "Att stänga filer efter användning är mycket viktigt. För att säkerställa att **.close()** alltid kommer att anropas, kan en speciell språkkonstruktion, **with**-satsen användas. Kodblocket för ett **with**-sats garanterar att metoden **.close()** alltid anropas.\n",
        "\n",
        "I följande kod öppnas en fil med **with**-satsen"
      ]
    },
    {
      "metadata": {
        "id": "BXLY7oCirmmE",
        "colab_type": "code",
        "outputId": "43567576-65c1-47b3-f7ae-98270ed92a82",
        "colab": {
          "base_uri": "https://localhost:8080/",
          "height": 35
        }
      },
      "cell_type": "code",
      "source": [
        "with open(\"myfile.txt\", \"r\") as text_file:\n",
        "    lines = text_file.readlines()\n",
        "\n",
        "print(lines)"
      ],
      "execution_count": 12,
      "outputs": [
        {
          "output_type": "stream",
          "text": [
            "['Filens innehåll. Detta skrivs ut på samma rad.\\n', 'Denna text kommer på en ny rad']\n"
          ],
          "name": "stdout"
        }
      ]
    },
    {
      "metadata": {
        "id": "riNMCKkOrmmG",
        "colab_type": "text"
      },
      "cell_type": "markdown",
      "source": [
        "#Felhantering"
      ]
    },
    {
      "metadata": {
        "id": "zPyY2K1vrmmH",
        "colab_type": "text"
      },
      "cell_type": "markdown",
      "source": [
        "Felhantering hanteras ofta genom att anropa funktioner för att undersöka felstatus och sedan vidta åtgärder beroende på vad funktionen returnerar. Att hantera fel på detta sätt gör koden ofta lätt komplex. I följande exempel kontrolleras om en fil existerar innan den öppnas. Det kan dock finnas flera anledningar att en fil inte kan öppnas, som inte hanteras av exemplet:"
      ]
    },
    {
      "metadata": {
        "id": "ZopQbIMFrmmH",
        "colab_type": "code",
        "outputId": "ae3832ef-ed73-4362-a2fd-3558b9c6cf4f",
        "colab": {
          "base_uri": "https://localhost:8080/",
          "height": 35
        }
      },
      "cell_type": "code",
      "source": [
        "import os\n",
        "\n",
        "filename = \"myfil.txt\"\n",
        "\n",
        "if os.path.exists(filename):\n",
        "    with open(filename, \"r\") as text_file:\n",
        "        lines = text_file.readlines()\n",
        "else:\n",
        "    print(\"Filen \"+filename+\" hittades inte!\")"
      ],
      "execution_count": 13,
      "outputs": [
        {
          "output_type": "stream",
          "text": [
            "Filen myfil.txt hittades inte!\n"
          ],
          "name": "stdout"
        }
      ]
    },
    {
      "metadata": {
        "id": "XzTrhUn7rmmI",
        "colab_type": "text"
      },
      "cell_type": "markdown",
      "source": [
        "## Felhantering med undantag"
      ]
    },
    {
      "metadata": {
        "id": "MZDFc4ukrmmI",
        "colab_type": "text"
      },
      "cell_type": "markdown",
      "source": [
        "Det vanligast sättet att hanter fel i Python är genom undantag (exceptions). De flesta funktioner i Python generar undantag när något fel uppstår. Du har antagligen sätt dessa när din kod inte fungerar. Kör du följande exempel genereras ett undantag.\n"
      ]
    },
    {
      "metadata": {
        "id": "M2BxYDGGrmmI",
        "colab_type": "code",
        "outputId": "c6c1f740-ddef-41c7-a465-05617ea70e5f",
        "colab": {
          "base_uri": "https://localhost:8080/",
          "height": 187
        }
      },
      "cell_type": "code",
      "source": [
        "with open(\"myfil.txt\", \"r\") as text_file:\n",
        "    lines = text_file.readlines()"
      ],
      "execution_count": 14,
      "outputs": [
        {
          "output_type": "error",
          "ename": "FileNotFoundError",
          "evalue": "ignored",
          "traceback": [
            "\u001b[0;31m---------------------------------------------------------------------------\u001b[0m",
            "\u001b[0;31mFileNotFoundError\u001b[0m                         Traceback (most recent call last)",
            "\u001b[0;32m<ipython-input-14-5ef9f9b286ad>\u001b[0m in \u001b[0;36m<module>\u001b[0;34m()\u001b[0m\n\u001b[0;32m----> 1\u001b[0;31m \u001b[0;32mwith\u001b[0m \u001b[0mopen\u001b[0m\u001b[0;34m(\u001b[0m\u001b[0;34m\"myfil.txt\"\u001b[0m\u001b[0;34m,\u001b[0m \u001b[0;34m\"r\"\u001b[0m\u001b[0;34m)\u001b[0m \u001b[0;32mas\u001b[0m \u001b[0mtext_file\u001b[0m\u001b[0;34m:\u001b[0m\u001b[0;34m\u001b[0m\u001b[0;34m\u001b[0m\u001b[0m\n\u001b[0m\u001b[1;32m      2\u001b[0m     \u001b[0mlines\u001b[0m \u001b[0;34m=\u001b[0m \u001b[0mtext_file\u001b[0m\u001b[0;34m.\u001b[0m\u001b[0mreadlines\u001b[0m\u001b[0;34m(\u001b[0m\u001b[0;34m)\u001b[0m\u001b[0;34m\u001b[0m\u001b[0;34m\u001b[0m\u001b[0m\n",
            "\u001b[0;31mFileNotFoundError\u001b[0m: [Errno 2] No such file or directory: 'myfil.txt'"
          ]
        }
      ]
    },
    {
      "metadata": {
        "id": "Cpn-EjFQrmmK",
        "colab_type": "text"
      },
      "cell_type": "markdown",
      "source": [
        "FileNotFoundError är ett undantag. Vi kan förbättra vår kod att hantera alla undantag genom att använda **try..except**-satsen.\n"
      ]
    },
    {
      "metadata": {
        "id": "H1U0XwdirmmK",
        "colab_type": "code",
        "colab": {
          "base_uri": "https://localhost:8080/",
          "height": 35
        },
        "outputId": "077b55a3-b16e-462e-d676-37be0dd10aee"
      },
      "cell_type": "code",
      "source": [
        "try:\n",
        "    with open(\"myfil.txt\", \"r\") as text_file:\n",
        "        lines = text_file.readlines()\n",
        "except:\n",
        "    print(\"Filen kunde inte öppnas\")"
      ],
      "execution_count": 15,
      "outputs": [
        {
          "output_type": "stream",
          "text": [
            "Filen kunde inte öppnas\n"
          ],
          "name": "stdout"
        }
      ]
    },
    {
      "metadata": {
        "id": "kurLt5-KrmmL",
        "colab_type": "text"
      },
      "cell_type": "markdown",
      "source": [
        "Problemet med ovanstående kod är den fångar **alla** undantag. Det går inte att särskilja felen."
      ]
    },
    {
      "metadata": {
        "id": "fay28tKJrmmL",
        "colab_type": "text"
      },
      "cell_type": "markdown",
      "source": [
        "## Hantera specifika undantag"
      ]
    },
    {
      "metadata": {
        "id": "NOzaavuZrmmL",
        "colab_type": "text"
      },
      "cell_type": "markdown",
      "source": [
        "Det går att ange vilka undantag man är intresserad av genom att modifiera **try..except**-satsen enligt:\n"
      ]
    },
    {
      "metadata": {
        "id": "nT5IYQSSrmmM",
        "colab_type": "code",
        "colab": {
          "base_uri": "https://localhost:8080/",
          "height": 35
        },
        "outputId": "5940a289-5911-444d-a4ba-d37265e33a8b"
      },
      "cell_type": "code",
      "source": [
        "try:\n",
        "    with open(\"myfil.txt\", \"r\") as text_file:\n",
        "        lines = text_file.readlines()\n",
        "except FileNotFoundError:\n",
        "    print(\"Filen hittades inte.\")"
      ],
      "execution_count": 16,
      "outputs": [
        {
          "output_type": "stream",
          "text": [
            "Filen hittades inte.\n"
          ],
          "name": "stdout"
        }
      ]
    },
    {
      "metadata": {
        "id": "kd83jHw1rmmN",
        "colab_type": "text"
      },
      "cell_type": "markdown",
      "source": [
        "Koden kan utökas för att även hantera undantaget PermissionDenied som genereras om du inte har tillstånd att läsa en fil. Fler undantag specificeras med fler **except**-block i koden för de specifika undantagen."
      ]
    },
    {
      "metadata": {
        "id": "W1YwlL8zrmmO",
        "colab_type": "code",
        "colab": {
          "base_uri": "https://localhost:8080/",
          "height": 35
        },
        "outputId": "f15c90c5-afb8-4efc-8a7e-ee5ee452dbaa"
      },
      "cell_type": "code",
      "source": [
        "try:\n",
        "    with open(\"myfil.txt\", \"r\") as text_file:\n",
        "        lines = text_file.readlines()\n",
        "except FileNotFoundError:\n",
        "    print(\"Filen hittades inte.\")\n",
        "except PermissionError:\n",
        "    print(\"Vi har inte rätt att läsa filen.\")"
      ],
      "execution_count": 17,
      "outputs": [
        {
          "output_type": "stream",
          "text": [
            "Filen hittades inte.\n"
          ],
          "name": "stdout"
        }
      ]
    },
    {
      "metadata": {
        "id": "nOO8J2DRrmmP",
        "colab_type": "text"
      },
      "cell_type": "markdown",
      "source": [
        "På detta sätt kan vi mer finkornigt hantera olika undantag."
      ]
    },
    {
      "metadata": {
        "id": "8UDi1rKcrmmP",
        "colab_type": "text"
      },
      "cell_type": "markdown",
      "source": [
        "## Felinformation från undantag"
      ]
    },
    {
      "metadata": {
        "id": "EBVQRcehrmmQ",
        "colab_type": "text"
      },
      "cell_type": "markdown",
      "source": [
        "Många undantag skickar med extra information med undantaget. För att få ut denna information måste vi lägga till ett undantagsobjekt i **try..except**-satsen:\n"
      ]
    },
    {
      "metadata": {
        "id": "frmXcA-ormmQ",
        "colab_type": "code",
        "colab": {
          "base_uri": "https://localhost:8080/",
          "height": 35
        },
        "outputId": "3cd753c9-bbd3-4fd9-a654-fb7077f89eab"
      },
      "cell_type": "code",
      "source": [
        "try:\n",
        "    with open(\"myfil.txt\", \"r\") as text_file:\n",
        "        lines = text_file.readlines()\n",
        "except FileNotFoundError as e:\n",
        "    print(\"Filen\", e.filename, \"kunde inte öppnas.\")\n",
        "except PermissionError as e:\n",
        "    print(\"Felsträngen är '\"+e.strerror+\"'\")"
      ],
      "execution_count": 18,
      "outputs": [
        {
          "output_type": "stream",
          "text": [
            "Filen myfil.txt kunde inte öppnas.\n"
          ],
          "name": "stdout"
        }
      ]
    },
    {
      "metadata": {
        "id": "3a0Yrz-KrmmR",
        "colab_type": "text"
      },
      "cell_type": "markdown",
      "source": [
        "## Säkerställa att kod körs efter undantag"
      ]
    },
    {
      "metadata": {
        "id": "SHnCdWZ3rmmR",
        "colab_type": "text"
      },
      "cell_type": "markdown",
      "source": [
        "Python erbjuder också **try..finally**-satsen som ser till att koden i blocket för **finally** alltid exekveras även om ett undantag har genererats. Följande exempel illustrerar detta."
      ]
    },
    {
      "metadata": {
        "id": "diLAl6t-f20i",
        "colab_type": "code",
        "colab": {
          "base_uri": "https://localhost:8080/",
          "height": 214
        },
        "outputId": "f79e23f7-7108-45a8-cb0e-936523cc2055"
      },
      "cell_type": "code",
      "source": [
        "!wget https://raw.githubusercontent.com/jonaslindemann/guide_to_python/master/chapters/kapitel3/notebooks/numbers.txt"
      ],
      "execution_count": 20,
      "outputs": [
        {
          "output_type": "stream",
          "text": [
            "--2019-04-25 17:16:28--  https://raw.githubusercontent.com/jonaslindemann/guide_to_python/master/chapters/kapitel3/notebooks/numbers.txt\n",
            "Resolving raw.githubusercontent.com (raw.githubusercontent.com)... 151.101.0.133, 151.101.64.133, 151.101.128.133, ...\n",
            "Connecting to raw.githubusercontent.com (raw.githubusercontent.com)|151.101.0.133|:443... connected.\n",
            "HTTP request sent, awaiting response... 200 OK\n",
            "Length: 40 [text/plain]\n",
            "Saving to: ‘numbers.txt’\n",
            "\n",
            "\rnumbers.txt           0%[                    ]       0  --.-KB/s               \rnumbers.txt         100%[===================>]      40  --.-KB/s    in 0s      \n",
            "\n",
            "2019-04-25 17:16:29 (3.65 MB/s) - ‘numbers.txt’ saved [40/40]\n",
            "\n"
          ],
          "name": "stdout"
        }
      ]
    },
    {
      "metadata": {
        "id": "yBhh0hClrmmS",
        "colab_type": "code",
        "colab": {
          "base_uri": "https://localhost:8080/",
          "height": 53
        },
        "outputId": "1466085b-ebdc-49aa-c135-03b1f3dceab6"
      },
      "cell_type": "code",
      "source": [
        "try:\n",
        "    input_file = open(\"numbers.txt\", \"r\")\n",
        "    output_file = open(\"sums.txt\", \"w\")\n",
        "    lines = input_file.readlines()\n",
        "    for line in lines:\n",
        "        items = line.strip().split()\n",
        "        numbers = []\n",
        "        for item in items:\n",
        "            numbers.append(int(item))\n",
        "        \n",
        "        output_file.write(\"%d\\n\" % sum(numbers))\n",
        "except ValueError:\n",
        "    print(\"Felaktiga indata på rad\", line)\n",
        "finally:\n",
        "    print(\"Stäng öppna filer.\")\n",
        "    input_file.close()\n",
        "    output_file.close()"
      ],
      "execution_count": 22,
      "outputs": [
        {
          "output_type": "stream",
          "text": [
            "Felaktiga indata på rad a b c d e \n",
            "Stäng öppna filer.\n"
          ],
          "name": "stdout"
        }
      ]
    },
    {
      "metadata": {
        "id": "5tLZnryRrmmS",
        "colab_type": "code",
        "colab": {}
      },
      "cell_type": "code",
      "source": [
        ""
      ],
      "execution_count": 0,
      "outputs": []
    }
  ]
}