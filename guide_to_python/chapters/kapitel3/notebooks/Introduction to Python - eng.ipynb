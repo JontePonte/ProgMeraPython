{
 "cells": [
  {
   "cell_type": "markdown",
   "metadata": {
    "colab_type": "text",
    "id": "Jl5r47mermbo"
   },
   "source": [
    "# Program structure"
   ]
  },
  {
   "cell_type": "markdown",
   "metadata": {
    "colab_type": "text",
    "id": "-3MWVUPRrmbt"
   },
   "source": [
    "* Python programs are text files that contain rows of statements.\n",
    "* The text files are translated into computer instructions using a Python interpreter.\n",
    "* Empty lines are ignored.\n",
    "* The text files with statements have the extension .py.\n",
    "* The text files with statements are also called source code files."
   ]
  },
  {
   "cell_type": "code",
   "execution_count": 136,
   "metadata": {
    "colab": {},
    "colab_type": "code",
    "id": "gmpLn2Pcrmbx",
    "outputId": "369c5a2a-4cfd-4a98-dd43-8deaae854a13"
   },
   "outputs": [
    {
     "name": "stdout",
     "output_type": "stream",
     "text": [
      "0\n",
      "1\n",
      "2\n",
      "3\n",
      "4\n",
      "5\n",
      "6\n",
      "7\n",
      "8\n",
      "9\n"
     ]
    }
   ],
   "source": [
    "#!/usr/bin/env python3\n",
    "# -*- coding: utf-8 -*-\n",
    "\n",
    "# Detta är en kommentar\n",
    "\n",
    "for i in range(10):\n",
    "\tprint(i)"
   ]
  },
  {
   "cell_type": "markdown",
   "metadata": {
    "colab_type": "text",
    "id": "A20KXJtPrmb-"
   },
   "source": [
    "# Built-in functions"
   ]
  },
  {
   "cell_type": "markdown",
   "metadata": {
    "colab_type": "text",
    "id": "x2uwLwvJrmcB"
   },
   "source": [
    "* Much of the functionality of a language is provided as functions.\n",
    "* Python contains a variety of function libraries for printing, numeric functions, string management and file management.\n",
    "* A function is called by giving its name followed by a list of parameters within parentheses ()."
   ]
  },
  {
   "cell_type": "code",
   "execution_count": 137,
   "metadata": {
    "colab": {},
    "colab_type": "code",
    "id": "Iq7qCIP7rmcE",
    "outputId": "3ff4a8ae-df1d-4165-a164-c230d8badf44"
   },
   "outputs": [
    {
     "name": "stdout",
     "output_type": "stream",
     "text": [
      "This is the print-function 42\n"
     ]
    }
   ],
   "source": [
    "print(\"This is the print-function\", 42)"
   ]
  },
  {
   "cell_type": "markdown",
   "metadata": {
    "colab_type": "text",
    "id": "G12vNJfOrmcO"
   },
   "source": [
    "Not all functions have parameters. In this case, an empty parenthesis indicates that no parameters are given."
   ]
  },
  {
   "cell_type": "code",
   "execution_count": 138,
   "metadata": {
    "colab": {},
    "colab_type": "code",
    "id": "Hfzyel4MrmcQ",
    "outputId": "57391d6f-0f13-4ddb-da41-771e5a191a34"
   },
   "outputs": [
    {
     "name": "stdout",
     "output_type": "stream",
     "text": [
      "\n"
     ]
    }
   ],
   "source": [
    "print()"
   ]
  },
  {
   "cell_type": "markdown",
   "metadata": {
    "colab_type": "text",
    "id": "FT-z1B9Xrmce"
   },
   "source": [
    "All functions in Python can have return values. Return values are assigned by using an equal sign (=) to the left of the function call."
   ]
  },
  {
   "cell_type": "code",
   "execution_count": 139,
   "metadata": {
    "colab": {},
    "colab_type": "code",
    "id": "DcLDqMfzrmcg"
   },
   "outputs": [],
   "source": [
    "y = abs(-4)"
   ]
  },
  {
   "cell_type": "markdown",
   "metadata": {
    "colab_type": "text",
    "id": "xmHkqwVKrmco"
   },
   "source": [
    "Functions can also have one or more return values. These are assigned through multiple variable references separated by commas to the left of the equal sign."
   ]
  },
  {
   "cell_type": "code",
   "execution_count": 140,
   "metadata": {
    "colab": {},
    "colab_type": "code",
    "id": "fuM4pAcMrmcr",
    "outputId": "2a21c8c4-a2e7-4366-b269-27509275df00"
   },
   "outputs": [
    {
     "name": "stdout",
     "output_type": "stream",
     "text": [
      "2 6\n"
     ]
    }
   ],
   "source": [
    "q, r = divmod(100,47)\n",
    "print(q, r)"
   ]
  },
  {
   "cell_type": "markdown",
   "metadata": {
    "colab_type": "text",
    "id": "eQdTWxsgrmc0"
   },
   "source": [
    "# Storing and referencing data"
   ]
  },
  {
   "cell_type": "markdown",
   "metadata": {
    "colab_type": "text",
    "id": "COvUmQrPrmc6"
   },
   "source": [
    "A fundamental feature of programming is the ability to work with stored data in different ways. In Python, variables are used to refer to data. In Python, it is not the variable itself that stores data, but variables are references to data in the computer's memory. It can be compared to a wardrobe ticket (variable reference) that allows the wardrobe to find your clothes in the wardrobe (computer memory)\n",
    "\n",
    "Some key features of Python variable references:\n",
    "\n",
    "* Python does not need to specify data types when assigning variables.\n",
    "* The data type is determined by the data type in the assignment.\n",
    "* A variable reference can refer to different data types during program execution."
   ]
  },
  {
   "cell_type": "code",
   "execution_count": 141,
   "metadata": {
    "colab": {},
    "colab_type": "code",
    "id": "-kAz5nPurmc7"
   },
   "outputs": [],
   "source": [
    "# integer variables\n",
    "\n",
    "a = 1\n",
    "b = 15\n",
    "\n",
    "# floating point variables\n",
    "\n",
    "c = 14.5\n",
    "d = 42.32\n",
    "\n",
    "# Strings\n",
    "\n",
    "e = \"Hejsan\"\n",
    "\n",
    "# Lists\n",
    "\n",
    "f = [1, 2, 4, \"A\"]\n",
    "\n",
    "# Assignment of new type and value\n",
    "\n",
    "a = \"Hej på dig!\""
   ]
  },
  {
   "cell_type": "markdown",
   "metadata": {
    "colab_type": "text",
    "id": "3sRUirPprmdJ"
   },
   "source": [
    "## Namngivning av variabler"
   ]
  },
  {
   "cell_type": "markdown",
   "metadata": {
    "colab_type": "text",
    "id": "DoJoS6D5rmdL"
   },
   "source": [
    "The following rules apply when naming variables in Python:\n",
    "\n",
    "* Only letters from the English alphabet\n",
    "* Numbers\n",
    "* No special characters except underscores (_)\n",
    "* Can't start with a number.\n",
    "\n",
    "Allowed variable names\n",
    "\n",
    "* first_name\n",
    "* last_name\n",
    "* number\n",
    "* i2\n",
    "\n",
    "Not allowed variable names\n",
    "\n",
    "* 1var\n",
    "* år"
   ]
  },
  {
   "cell_type": "markdown",
   "metadata": {
    "colab_type": "text",
    "id": "i49AisqsrmdN"
   },
   "source": [
    "## More on variables"
   ]
  },
  {
   "cell_type": "markdown",
   "metadata": {
    "colab_type": "text",
    "id": "oWlVNLgFrmdP"
   },
   "source": [
    "Variables in Python are always **references** to the underlying data\n",
    "\n",
    "When a variable is assigned a value, the following happens:\n",
    "\n",
    "1. Memory is allocated for the value to be stored.\n",
    "2. A named variable reference is created - the variable.\n",
    "3. The variable refers to the memory for the value.\n",
    "\n",
    "Look at the following code:"
   ]
  },
  {
   "cell_type": "code",
   "execution_count": 142,
   "metadata": {
    "colab": {},
    "colab_type": "code",
    "id": "diVyccCtrmdR"
   },
   "outputs": [],
   "source": [
    "a = 42\n",
    "b = 84"
   ]
  },
  {
   "cell_type": "markdown",
   "metadata": {
    "colab_type": "text",
    "id": "khFmhG7Drmdc"
   },
   "source": [
    "In this example, variables **a** and **b** are assigned values 42 and 84. In memory, it will look like the following figure:\n",
    "\n",
    "![variable references 1](https://github.com/jonaslindemann/guide_to_python/blob/master/chapters/kapitel3/notebooks/images/variable1.png?raw=1)\n",
    "\n",
    "Two variable references pointing to 2 different memory locations.\n",
    "\n",
    "What happens in the following example:"
   ]
  },
  {
   "cell_type": "code",
   "execution_count": 143,
   "metadata": {
    "colab": {},
    "colab_type": "code",
    "id": "fTNUynNUrmdf",
    "outputId": "ebc65826-e1e6-471c-d258-0ea47cab2906"
   },
   "outputs": [
    {
     "name": "stdout",
     "output_type": "stream",
     "text": [
      "84\n",
      "84\n"
     ]
    }
   ],
   "source": [
    "a = b\n",
    "print(a)\n",
    "print(b)"
   ]
  },
  {
   "cell_type": "markdown",
   "metadata": {
    "colab_type": "text",
    "id": "WI_F88jSrmdr"
   },
   "source": [
    "We get what we expected. **a** has the same value as **b**. Behind the scenes is the following:\n",
    "\n",
    "![variabla referenser 1](https://github.com/jonaslindemann/guide_to_python/blob/master/chapters/kapitel3/notebooks/images/variable2.png?raw=1)\n",
    "\n",
    "An assignment of a variable reference assigns the reference. **a** now points to the same data 84.\n",
    "\n",
    "The memory occupied by the value 42 will be automatically deleted by Python. If we now assign **a** another value:"
   ]
  },
  {
   "cell_type": "code",
   "execution_count": 144,
   "metadata": {
    "colab": {},
    "colab_type": "code",
    "id": "_bAAYLoMrmdt"
   },
   "outputs": [],
   "source": [
    "a = 21"
   ]
  },
  {
   "cell_type": "markdown",
   "metadata": {
    "colab_type": "text",
    "id": "l9s1__JNrmdy"
   },
   "source": [
    " We get the following situation:\n",
    "\n",
    "![variable references 1](https://github.com/jonaslindemann/guide_to_python/blob/master/chapters/kapitel3/notebooks/images/variable3.png?raw=1)"
   ]
  },
  {
   "cell_type": "markdown",
   "metadata": {
    "colab_type": "text",
    "id": "QXjMomtbrmdz"
   },
   "source": [
    "It is possible to check this with the **id()** function in Python. The function returns the unique identifier for the variable reference. We perform the previous operations and simultaneously print the id of the variables."
   ]
  },
  {
   "cell_type": "code",
   "execution_count": 145,
   "metadata": {
    "colab": {},
    "colab_type": "code",
    "id": "uIAERpxFrmd0",
    "outputId": "791b87f2-e4f9-4703-d9bd-09445f401d7b"
   },
   "outputs": [
    {
     "name": "stdout",
     "output_type": "stream",
     "text": [
      "42 140711221827680\n",
      "84 140711221829024\n",
      "a = b\n",
      "84 140711221829024\n",
      "84 140711221829024\n",
      "a = 21\n",
      "21 140711221827008\n",
      "84 140711221829024\n"
     ]
    }
   ],
   "source": [
    "a = 42\n",
    "b = 84\n",
    "\n",
    "print(a, id(a))\n",
    "print(b, id(b))\n",
    "\n",
    "a = b\n",
    "\n",
    "print('a = b')\n",
    "print(a, id(a))\n",
    "print(b, id(b))\n",
    "\n",
    "a = 21\n",
    "\n",
    "print('a = 21')\n",
    "print(a, id(a))\n",
    "print(b, id(b))"
   ]
  },
  {
   "cell_type": "markdown",
   "metadata": {
    "colab_type": "text",
    "id": "jEoD3t96rmd8"
   },
   "source": [
    "We see the first assignments generate unique IDs. After the assignment **a = b** , the ID is the same for **a and b**. After **a = 21**, a gets a new ID and b retains its ID."
   ]
  },
  {
   "cell_type": "markdown",
   "metadata": {
    "colab_type": "text",
    "id": "i_Qr1iubrmd-"
   },
   "source": [
    "# Data types in Python"
   ]
  },
  {
   "cell_type": "markdown",
   "metadata": {
    "colab_type": "text",
    "id": "K9OwgOhjrmeD"
   },
   "source": [
    "## Integer and floating point values"
   ]
  },
  {
   "cell_type": "code",
   "execution_count": 146,
   "metadata": {
    "colab": {
     "base_uri": "https://localhost:8080/",
     "height": 35
    },
    "colab_type": "code",
    "id": "mTxrx_pIrmeI",
    "outputId": "c4bca8f9-ee8c-4767-fc4e-d11efd8ab8d6"
   },
   "outputs": [
    {
     "data": {
      "text/plain": [
       "42"
      ]
     },
     "execution_count": 146,
     "metadata": {},
     "output_type": "execute_result"
    }
   ],
   "source": [
    "a = 42 # integer variable\n",
    "a"
   ]
  },
  {
   "cell_type": "code",
   "execution_count": 147,
   "metadata": {
    "colab": {
     "base_uri": "https://localhost:8080/",
     "height": 35
    },
    "colab_type": "code",
    "id": "pcXmdr0ArmeT",
    "outputId": "4e2aa219-c8ac-47d6-a06a-75e3eb4d65e6"
   },
   "outputs": [
    {
     "data": {
      "text/plain": [
       "42.0"
      ]
     },
     "execution_count": 147,
     "metadata": {},
     "output_type": "execute_result"
    }
   ],
   "source": [
    "b = 42.0 # floating point variable\n",
    "b"
   ]
  },
  {
   "cell_type": "markdown",
   "metadata": {
    "colab_type": "text",
    "id": "vG9vusMBrmec"
   },
   "source": [
    "## Operators and expressions"
   ]
  },
  {
   "cell_type": "code",
   "execution_count": 148,
   "metadata": {
    "colab": {},
    "colab_type": "code",
    "id": "ORU7QPtArmef",
    "outputId": "c246bff5-7764-4d68-ee6f-873ac5c023ec"
   },
   "outputs": [
    {
     "data": {
      "text/plain": [
       "4"
      ]
     },
     "execution_count": 148,
     "metadata": {},
     "output_type": "execute_result"
    }
   ],
   "source": [
    "2+2"
   ]
  },
  {
   "cell_type": "code",
   "execution_count": 149,
   "metadata": {
    "colab": {},
    "colab_type": "code",
    "id": "Pc5QbvKPrmer",
    "outputId": "c62677cb-793f-4735-93e5-44a06694dc8d"
   },
   "outputs": [
    {
     "data": {
      "text/plain": [
       "5.0"
      ]
     },
     "execution_count": 149,
     "metadata": {},
     "output_type": "execute_result"
    }
   ],
   "source": [
    "(50-5*6)/4"
   ]
  },
  {
   "cell_type": "code",
   "execution_count": 150,
   "metadata": {
    "colab": {},
    "colab_type": "code",
    "id": "HMQiIBKkrmez",
    "outputId": "68d39782-98f7-4598-953b-81d9b44e9870"
   },
   "outputs": [
    {
     "data": {
      "text/plain": [
       "2.3333333333333335"
      ]
     },
     "execution_count": 150,
     "metadata": {},
     "output_type": "execute_result"
    }
   ],
   "source": [
    "7/3"
   ]
  },
  {
   "cell_type": "code",
   "execution_count": 151,
   "metadata": {
    "colab": {},
    "colab_type": "code",
    "id": "IIwJB4azrme9",
    "outputId": "653bd48e-64b5-4f0b-c4dd-2cadf2adb637"
   },
   "outputs": [
    {
     "data": {
      "text/plain": [
       "-2.3333333333333335"
      ]
     },
     "execution_count": 151,
     "metadata": {},
     "output_type": "execute_result"
    }
   ],
   "source": [
    "7/-3"
   ]
  },
  {
   "cell_type": "code",
   "execution_count": 152,
   "metadata": {
    "colab": {},
    "colab_type": "code",
    "id": "d7LNPu4ormfC",
    "outputId": "ca3c535b-9b40-4263-c64e-240c0f853249"
   },
   "outputs": [
    {
     "data": {
      "text/plain": [
       "7.5"
      ]
     },
     "execution_count": 152,
     "metadata": {},
     "output_type": "execute_result"
    }
   ],
   "source": [
    "3*3.75/1.5"
   ]
  },
  {
   "cell_type": "markdown",
   "metadata": {
    "colab_type": "text",
    "id": "XDnwO0w4rmfI"
   },
   "source": [
    "## Flags and boolean variables"
   ]
  },
  {
   "cell_type": "markdown",
   "metadata": {
    "colab_type": "text",
    "id": "jayc2oi4rmfI"
   },
   "source": [
    "* Indicates an off or on position or something is true or false.\n",
    "* **True** or **False** is used to assign a Boolean value to a variable reference."
   ]
  },
  {
   "cell_type": "code",
   "execution_count": 153,
   "metadata": {
    "colab": {
     "base_uri": "https://localhost:8080/",
     "height": 35
    },
    "colab_type": "code",
    "id": "GTVu6GFsrmfR",
    "outputId": "b62e12fe-92d5-4e77-ecdc-f26249ea0108"
   },
   "outputs": [
    {
     "data": {
      "text/plain": [
       "True"
      ]
     },
     "execution_count": 153,
     "metadata": {},
     "output_type": "execute_result"
    }
   ],
   "source": [
    "c = True  # c now is a boolean variables\n",
    "c"
   ]
  },
  {
   "cell_type": "code",
   "execution_count": 154,
   "metadata": {
    "colab": {
     "base_uri": "https://localhost:8080/",
     "height": 35
    },
    "colab_type": "code",
    "id": "LzhVGhmPrmfV",
    "outputId": "6ef17a9c-b7cf-4262-a22e-e79badd60a7d"
   },
   "outputs": [
    {
     "data": {
      "text/plain": [
       "False"
      ]
     },
     "execution_count": 154,
     "metadata": {},
     "output_type": "execute_result"
    }
   ],
   "source": [
    "d = False\n",
    "d"
   ]
  },
  {
   "cell_type": "markdown",
   "metadata": {
    "colab_type": "text",
    "id": "I7DIYOegrmfb"
   },
   "source": [
    "## Lists"
   ]
  },
  {
   "cell_type": "markdown",
   "metadata": {
    "colab_type": "text",
    "id": "Af2m3VFZrmfc"
   },
   "source": [
    "List is a data type that can contain a list of values with different data types. Lists are defined with an initial \\[and an ending \\]. An empty list can be created by assigning an empty []."
   ]
  },
  {
   "cell_type": "code",
   "execution_count": 155,
   "metadata": {
    "colab": {},
    "colab_type": "code",
    "id": "BdyXvpsGrmfe"
   },
   "outputs": [],
   "source": [
    "values = [] # Empty list"
   ]
  },
  {
   "cell_type": "markdown",
   "metadata": {
    "colab_type": "text",
    "id": "228u5Ycurmfi"
   },
   "source": [
    "Initial values in the list can be assigned by listing values between \\[and \\]:"
   ]
  },
  {
   "cell_type": "code",
   "execution_count": 156,
   "metadata": {
    "colab": {},
    "colab_type": "code",
    "id": "sILJJ1y5rmfi"
   },
   "outputs": [],
   "source": [
    "values = [1, 3, 6, 4, 'hej', 1.0]"
   ]
  },
  {
   "cell_type": "markdown",
   "metadata": {
    "colab_type": "text",
    "id": "WRR0apw9rmfo"
   },
   "source": [
    "Individual values in a list are reached by entering the name of the list followed by an index between \\[and \\]."
   ]
  },
  {
   "cell_type": "code",
   "execution_count": 157,
   "metadata": {
    "colab": {
     "base_uri": "https://localhost:8080/",
     "height": 35
    },
    "colab_type": "code",
    "id": "1z4aMeIBrmfp",
    "outputId": "6c72d1ac-c0cf-46e0-8d65-521aa5c66a6e"
   },
   "outputs": [
    {
     "name": "stdout",
     "output_type": "stream",
     "text": [
      "6\n"
     ]
    }
   ],
   "source": [
    "print(values[2])"
   ]
  },
  {
   "cell_type": "markdown",
   "metadata": {
    "colab_type": "text",
    "id": "iqPPBZztrmfv"
   },
   "source": [
    "Lists can be changed by assigning values to a specific index:"
   ]
  },
  {
   "cell_type": "code",
   "execution_count": 158,
   "metadata": {
    "colab": {
     "base_uri": "https://localhost:8080/",
     "height": 35
    },
    "colab_type": "code",
    "id": "5hKrDmCsrmfv",
    "outputId": "a84bc09e-0995-48c0-90a6-0ba748aecadf"
   },
   "outputs": [
    {
     "name": "stdout",
     "output_type": "stream",
     "text": [
      "[1, 3, 6, 4, 'hopp', 1.0]\n"
     ]
    }
   ],
   "source": [
    "values[4] = 'hopp'\n",
    "print(values)"
   ]
  },
  {
   "cell_type": "markdown",
   "metadata": {
    "colab_type": "text",
    "id": "4Bu1C0aErmfz"
   },
   "source": [
    "Indexes in lists start at 0. That is, the first element is 0. Negative indexes indicate values from the end of the list."
   ]
  },
  {
   "cell_type": "code",
   "execution_count": null,
   "metadata": {
    "colab": {
     "base_uri": "https://localhost:8080/",
     "height": 35
    },
    "colab_type": "code",
    "id": "uUU-OHGRrmf1",
    "outputId": "f85d6d46-a684-408a-832a-d748289395df"
   },
   "outputs": [],
   "source": [
    "print(values[-1]) # Sista elementet i listan"
   ]
  },
  {
   "cell_type": "code",
   "execution_count": null,
   "metadata": {
    "colab": {
     "base_uri": "https://localhost:8080/",
     "height": 35
    },
    "colab_type": "code",
    "id": "CGOICfJurmf6",
    "outputId": "fdffe4ca-ff92-49c8-f497-7160c6fcdb3b"
   },
   "outputs": [],
   "source": [
    "print(values[-3]) # Tredje sista elementet i listan."
   ]
  },
  {
   "cell_type": "markdown",
   "metadata": {
    "colab_type": "text",
    "id": "b0az1calrmf_"
   },
   "source": [
    "### Lists and variable references"
   ]
  },
  {
   "cell_type": "markdown",
   "metadata": {
    "colab_type": "text",
    "id": "71RT14lsrmgA"
   },
   "source": [
    "* A list consists of references to data in memory\n",
    "* Data is not stored in the list.\n",
    "\n",
    "The following figure and code example illustrate this:\n",
    "\n",
    "![variable references 1](https://github.com/jonaslindemann/guide_to_python/blob/master/chapters/kapitel3/notebooks/images/variable4.png?raw=1)\n",
    "\n"
   ]
  },
  {
   "cell_type": "code",
   "execution_count": 159,
   "metadata": {
    "colab": {
     "base_uri": "https://localhost:8080/",
     "height": 53
    },
    "colab_type": "code",
    "id": "Cnhl4txFrmgA",
    "outputId": "9789332a-19a3-45ee-ff5d-f514c5ddd8f4"
   },
   "outputs": [
    {
     "name": "stdout",
     "output_type": "stream",
     "text": [
      "hej 1686724459800\n",
      "hej 1686724459800\n"
     ]
    }
   ],
   "source": [
    "values = [1, 3, 6, 4, 'hej', 1.0, 42]\n",
    "\n",
    "b = values[4]\n",
    "\n",
    "print(b, id(b))\n",
    "print(values[4], id(values[4]))"
   ]
  },
  {
   "cell_type": "markdown",
   "metadata": {
    "colab_type": "text",
    "id": "eQGzOefQrmgK"
   },
   "source": [
    "In this example, b is assigned the reference stored in position 4 in the ** values ** list. After this assignment, b and ** values [4] ** point to the same data at the same memory location as in the following figure:\n",
    "\n",
    "![variable references 1](https://github.com/jonaslindemann/guide_to_python/blob/master/chapters/kapitel3/notebooks/images/variable5.png?raw=1)"
   ]
  },
  {
   "cell_type": "markdown",
   "metadata": {
    "colab_type": "text",
    "id": "G50qkBI5rmgL"
   },
   "source": [
    "In most cases, variables work intuitively without the need for much thought, but it is good to know the underlying mechanisms."
   ]
  },
  {
   "cell_type": "markdown",
   "metadata": {
    "colab_type": "text",
    "id": "OoalEahermgM"
   },
   "source": [
    "### Index-notation and lists"
   ]
  },
  {
   "cell_type": "markdown",
   "metadata": {
    "colab_type": "text",
    "id": "58-qhdYlrmgM"
   },
   "source": [
    "It is possible to extract sub-areas of lists using index notation:"
   ]
  },
  {
   "cell_type": "code",
   "execution_count": 160,
   "metadata": {
    "colab": {
     "base_uri": "https://localhost:8080/",
     "height": 124
    },
    "colab_type": "code",
    "id": "d5EWjjTnrmgU",
    "outputId": "cbbb0a57-ead5-448f-c3d8-696ba88de049"
   },
   "outputs": [
    {
     "name": "stdout",
     "output_type": "stream",
     "text": [
      "[3, 6]\n",
      "[3, 6, 4, 'hej', 1.0]\n",
      "[4, 'hej', 1.0, 42]\n",
      "[1, 3, 6, 4, 'hej', 1.0, 42]\n",
      "[1, 3, 6, 4, 'hej']\n",
      "['hej', 1.0, 42]\n"
     ]
    }
   ],
   "source": [
    "# Range from 1 >= idx < 3\n",
    "print(values[1:3])\n",
    "\n",
    "# Range from 1 >= idx < len(values)-2\n",
    "print(values[1:-1])\n",
    "\n",
    "# Range idx >= 3\n",
    "print(values[3:])\n",
    "\n",
    "# All elements in the list\n",
    "print(values[:])\n",
    "\n",
    "# Range from 0 >= idx < len(values)-2\n",
    "print(values[:-2])\n",
    "\n",
    "# Range from len(values)-3 >= idx < len(values)-1\n",
    "print(values[-3:])"
   ]
  },
  {
   "cell_type": "markdown",
   "metadata": {
    "colab_type": "text",
    "id": "yEC-Jaq5rmga"
   },
   "source": [
    "### Sizes of lists"
   ]
  },
  {
   "cell_type": "markdown",
   "metadata": {
    "colab_type": "text",
    "id": "AvmGjw81rmge"
   },
   "source": [
    "The number of elements in a list can be obtained using the generic function **len()** in Python."
   ]
  },
  {
   "cell_type": "code",
   "execution_count": 161,
   "metadata": {
    "colab": {
     "base_uri": "https://localhost:8080/",
     "height": 35
    },
    "colab_type": "code",
    "id": "zE4nzcDqrmge",
    "outputId": "065250d9-004c-4ecd-e174-c97da0660143"
   },
   "outputs": [
    {
     "name": "stdout",
     "output_type": "stream",
     "text": [
      "7\n"
     ]
    }
   ],
   "source": [
    "print(len(values))"
   ]
  },
  {
   "cell_type": "markdown",
   "metadata": {
    "colab_type": "text",
    "id": "oiVJdc3Lrmgj"
   },
   "source": [
    "### Adding values to lists"
   ]
  },
  {
   "cell_type": "markdown",
   "metadata": {
    "colab_type": "text",
    "id": "rQbweAm3rmgk"
   },
   "source": [
    "Values can be added to a list using the **.append()** method"
   ]
  },
  {
   "cell_type": "code",
   "execution_count": 162,
   "metadata": {
    "colab": {},
    "colab_type": "code",
    "id": "E0F0sld1rmgk",
    "outputId": "eb76b73b-45f0-4460-f25c-b1a368c70119"
   },
   "outputs": [
    {
     "name": "stdout",
     "output_type": "stream",
     "text": [
      "[1, 3, 6, 4, 'hej', 1.0, 42, 42]\n"
     ]
    }
   ],
   "source": [
    "values.append(42)\n",
    "print(values)"
   ]
  },
  {
   "cell_type": "markdown",
   "metadata": {
    "colab_type": "text",
    "id": "xWRQqefUrmgm"
   },
   "source": [
    "Values can be inserted into lists at specific positions using the **.insert()** method."
   ]
  },
  {
   "cell_type": "code",
   "execution_count": 163,
   "metadata": {
    "colab": {
     "base_uri": "https://localhost:8080/",
     "height": 35
    },
    "colab_type": "code",
    "id": "wFxqysTMrmgn",
    "outputId": "ca0dbabf-fec2-4919-f73a-d10a78f7ef58"
   },
   "outputs": [
    {
     "name": "stdout",
     "output_type": "stream",
     "text": [
      "[1, 'squeeze', 3, 6, 4, 'hej', 1.0, 42, 42]\n"
     ]
    }
   ],
   "source": [
    "values.insert(1, \"squeeze\")\n",
    "print(values)"
   ]
  },
  {
   "cell_type": "markdown",
   "metadata": {
    "colab_type": "text",
    "id": "WJFCxDQarmgp"
   },
   "source": [
    "### Removing items from a list"
   ]
  },
  {
   "cell_type": "markdown",
   "metadata": {
    "colab_type": "text",
    "id": "nHTPwP9armgq"
   },
   "source": [
    "Values in a list can be removed using the **.remove()** method."
   ]
  },
  {
   "cell_type": "code",
   "execution_count": 164,
   "metadata": {
    "colab": {
     "base_uri": "https://localhost:8080/",
     "height": 88
    },
    "colab_type": "code",
    "id": "a3JLn7Ltrmgq",
    "outputId": "f73747b2-2d6a-43fc-d03c-9312ccd296cb"
   },
   "outputs": [
    {
     "name": "stdout",
     "output_type": "stream",
     "text": [
      "Before remove()\n",
      "[1, 'squeeze', 3, 6, 4, 'hej', 1.0, 42, 42]\n",
      "After remove()\n",
      "[1, 3, 6, 4, 'hej', 1.0, 42, 42]\n"
     ]
    }
   ],
   "source": [
    "print(\"Before remove()\")\n",
    "print(values)\n",
    "\n",
    "values.remove(\"squeeze\") # first value with \"squeeze\"\n",
    "\n",
    "print(\"After remove()\")\n",
    "print(values)"
   ]
  },
  {
   "cell_type": "markdown",
   "metadata": {
    "colab_type": "text",
    "id": "v2E9a_01rmgt"
   },
   "source": [
    "They are also possible to use the generic **del** function to delete values in a list."
   ]
  },
  {
   "cell_type": "code",
   "execution_count": 165,
   "metadata": {
    "colab": {
     "base_uri": "https://localhost:8080/",
     "height": 88
    },
    "colab_type": "code",
    "id": "oCqNiQ1grmgu",
    "outputId": "487b395c-96fb-4619-91cd-6ce4509d11d8"
   },
   "outputs": [
    {
     "name": "stdout",
     "output_type": "stream",
     "text": [
      "Before del[0]\n",
      "[1, 3, 6, 4, 'hej', 1.0, 42, 42]\n",
      "After del[0]\n",
      "[3, 6, 4, 'hej', 1.0, 42, 42]\n"
     ]
    }
   ],
   "source": [
    "print(\"Before del[0]\")\n",
    "print(values)\n",
    "\n",
    "del values[0]\n",
    "\n",
    "print(\"After del[0]\")\n",
    "print(values)"
   ]
  },
  {
   "cell_type": "markdown",
   "metadata": {
    "colab_type": "text",
    "id": "HSt8lycGrmgy"
   },
   "source": [
    "It is also possible to remove sub-ranges in a list with **del**."
   ]
  },
  {
   "cell_type": "code",
   "execution_count": 166,
   "metadata": {
    "colab": {
     "base_uri": "https://localhost:8080/",
     "height": 88
    },
    "colab_type": "code",
    "id": "OW-hB1Kcrmgy",
    "outputId": "03b1776a-8224-444a-d8c4-1146e5071625"
   },
   "outputs": [
    {
     "name": "stdout",
     "output_type": "stream",
     "text": [
      "Före del[3:]\n",
      "[3, 6, 4, 'hej', 1.0, 42, 42]\n",
      "Efter del[3:]\n",
      "[3, 6, 4]\n"
     ]
    }
   ],
   "source": [
    "print(\"Före del[3:]\")\n",
    "print(values)\n",
    "\n",
    "del values[3:]\n",
    "\n",
    "print(\"Efter del[3:]\")\n",
    "print(values)"
   ]
  },
  {
   "cell_type": "markdown",
   "metadata": {
    "colab_type": "text",
    "id": "ZmnvRn6nrmg1"
   },
   "source": [
    "It is also possible to use the list as a \"stack\" data type, i.e. a data type where data is added and deleted from the end of the list. A Python list has a special method, **.pop()** for this purpose:"
   ]
  },
  {
   "cell_type": "code",
   "execution_count": 167,
   "metadata": {
    "colab": {
     "base_uri": "https://localhost:8080/",
     "height": 124
    },
    "colab_type": "code",
    "id": "SWE1DEfmrmg2",
    "outputId": "9a24e964-3482-423a-f705-40ae976454e0"
   },
   "outputs": [
    {
     "name": "stdout",
     "output_type": "stream",
     "text": [
      "List before pop()\n",
      "[3, 6, 4]\n",
      "Value returned from pop()\n",
      "4\n",
      "List after pop()\n",
      "[3, 6]\n"
     ]
    }
   ],
   "source": [
    "print(\"List before pop()\")\n",
    "print(values)\n",
    "\n",
    "v = values.pop()\n",
    "\n",
    "print(\"Value returned from pop()\")\n",
    "print(v)\n",
    "print(\"List after pop()\")\n",
    "print(values)"
   ]
  },
  {
   "cell_type": "markdown",
   "metadata": {
    "colab_type": "text",
    "id": "7EEFsVnlrmg5"
   },
   "source": [
    "### Clearing a list"
   ]
  },
  {
   "cell_type": "markdown",
   "metadata": {
    "colab_type": "text",
    "id": "iKQ_19Xjrmg5"
   },
   "source": [
    "A list can be cleared by using the **.clear()** method or by assigning an empty list to a variable reference."
   ]
  },
  {
   "cell_type": "code",
   "execution_count": 168,
   "metadata": {
    "colab": {},
    "colab_type": "code",
    "id": "dUtcUVv7rmg5"
   },
   "outputs": [],
   "source": [
    "a = [4, 6, 3, 7, 9]\n",
    "a = []"
   ]
  },
  {
   "cell_type": "markdown",
   "metadata": {
    "colab_type": "text",
    "id": "rvtgOzVsrmhA"
   },
   "source": [
    "However, it is important to understand that in the above example, there may still be variable references that point to values in the list. An example of this is shown below:"
   ]
  },
  {
   "cell_type": "code",
   "execution_count": 169,
   "metadata": {
    "colab": {
     "base_uri": "https://localhost:8080/",
     "height": 35
    },
    "colab_type": "code",
    "id": "zB7q2VjwrmhA",
    "outputId": "245bec64-10f4-4cc6-db16-dfd228429e71"
   },
   "outputs": [
    {
     "name": "stdout",
     "output_type": "stream",
     "text": [
      "[4, 6, 3, 7, 9]\n"
     ]
    }
   ],
   "source": [
    "a = [4, 6, 3, 7, 9]\n",
    "b = a\n",
    "a = []\n",
    "print(b)"
   ]
  },
  {
   "cell_type": "markdown",
   "metadata": {
    "colab_type": "text",
    "id": "i7Xq5MtRrmhH"
   },
   "source": [
    "To really clear a list, the **.clear()** method is preferably used as follows:"
   ]
  },
  {
   "cell_type": "code",
   "execution_count": 170,
   "metadata": {
    "colab": {
     "base_uri": "https://localhost:8080/",
     "height": 35
    },
    "colab_type": "code",
    "id": "zrp2S8x7rmhI",
    "outputId": "77e7b3a5-1049-4831-e474-512f5fac3745"
   },
   "outputs": [
    {
     "name": "stdout",
     "output_type": "stream",
     "text": [
      "[]\n"
     ]
    }
   ],
   "source": [
    "a = [4, 6, 3, 7, 9]\n",
    "b = a\n",
    "\n",
    "a.clear()\n",
    "\n",
    "print(b)"
   ]
  },
  {
   "cell_type": "markdown",
   "metadata": {
    "colab_type": "text",
    "id": "d9LYutHwrmhK"
   },
   "source": [
    "### Nested lists"
   ]
  },
  {
   "cell_type": "markdown",
   "metadata": {
    "colab_type": "text",
    "id": "rWuZg45GrmhK"
   },
   "source": [
    "Lists are a very flexible data type in Python, which can contain any data type, including other lists. In the following example, a list of 5 elements is created, the second element contains a list of 2 elements:"
   ]
  },
  {
   "cell_type": "code",
   "execution_count": 171,
   "metadata": {
    "colab": {
     "base_uri": "https://localhost:8080/",
     "height": 35
    },
    "colab_type": "code",
    "id": "7hH7Y-LwrmhK",
    "outputId": "eedb2cd0-5687-4a39-de61-d077627f48df"
   },
   "outputs": [
    {
     "name": "stdout",
     "output_type": "stream",
     "text": [
      "[3, 4]\n"
     ]
    }
   ],
   "source": [
    "a = [1, 2, [3, 4], 5, 6]\n",
    "\n",
    "print(a[2])"
   ]
  },
  {
   "cell_type": "markdown",
   "metadata": {
    "colab_type": "text",
    "id": "rrnVzzVIrmhQ"
   },
   "source": [
    "To reach a value in a nested list, you do this by adding an additional index operator as shown below:"
   ]
  },
  {
   "cell_type": "code",
   "execution_count": 172,
   "metadata": {
    "colab": {
     "base_uri": "https://localhost:8080/",
     "height": 53
    },
    "colab_type": "code",
    "id": "8_32QRsdrmhT",
    "outputId": "5249cc80-1769-4571-bae7-5ae4fddc6dea"
   },
   "outputs": [
    {
     "name": "stdout",
     "output_type": "stream",
     "text": [
      "3\n",
      "4\n"
     ]
    }
   ],
   "source": [
    "a = [1, 2, [3, 4], 5, 6]\n",
    "\n",
    "print(a[2][0])\n",
    "print(a[2][1])"
   ]
  },
  {
   "cell_type": "markdown",
   "metadata": {
    "colab_type": "text",
    "id": "fWus1eB6rmhX"
   },
   "source": [
    "In this way, we can quickly create two-dimensional data structures in a simple way:"
   ]
  },
  {
   "cell_type": "code",
   "execution_count": 177,
   "metadata": {
    "colab": {
     "base_uri": "https://localhost:8080/",
     "height": 53
    },
    "colab_type": "code",
    "id": "IBW5vNH8rmhX",
    "outputId": "03ccd4e7-4103-4b1f-96fa-807046bbd1a8"
   },
   "outputs": [
    {
     "name": "stdout",
     "output_type": "stream",
     "text": [
      "[[0, 0, 0, 0, 0, 0, 0, 0, 0, 0], [0, 0, 0, 0, 0, 0, 0, 0, 0, 0], [0, 0, 0, 0, 0, 0, 0, 0, 0, 0], [0, 0, 0, 0, 0, 0, 0, 0, 0, 0]]\n",
      "4\n"
     ]
    }
   ],
   "source": [
    "spread_sheet = []\n",
    "spread_sheet.append([0]*10)\n",
    "spread_sheet.append([0]*10)\n",
    "spread_sheet.append([0]*10)\n",
    "spread_sheet.append([0]*10)\n",
    "print(spread_sheet)\n",
    "print(len(spread_sheet))"
   ]
  },
  {
   "cell_type": "markdown",
   "metadata": {
    "colab_type": "text",
    "id": "T_lq9Nkzrmhb"
   },
   "source": [
    "It is important to remember that all values in lists are actually references to data in memory. This is illustrated in the following examples:"
   ]
  },
  {
   "cell_type": "code",
   "execution_count": 178,
   "metadata": {
    "colab": {
     "base_uri": "https://localhost:8080/",
     "height": 53
    },
    "colab_type": "code",
    "id": "WUrzMpmFrmhd",
    "outputId": "0463e67e-3743-4df1-b33c-6ed0bb74441c"
   },
   "outputs": [
    {
     "name": "stdout",
     "output_type": "stream",
     "text": [
      "[-1, 4]\n",
      "[1, 2, [-1, 4], 5, 6]\n"
     ]
    }
   ],
   "source": [
    "b = [3, 4]\n",
    "a = [1, 2, b, 5, 6] # List b is added to list a\n",
    "b[0] = -1           # a values is assigned index 0 in b\n",
    "\n",
    "print(b)\n",
    "print(a)"
   ]
  },
  {
   "cell_type": "markdown",
   "metadata": {
    "colab_type": "text",
    "id": "2ddZ9PfQrmhh"
   },
   "source": [
    "In the example, the value in the list a also changes when b is assigned, which is illustrated in the following figure:\n",
    "\n",
    "![variable references 1](https://github.com/jonaslindemann/guide_to_python/blob/master/chapters/kapitel3/notebooks/images/variable6.png?raw=1)"
   ]
  },
  {
   "cell_type": "markdown",
   "metadata": {
    "colab_type": "text",
    "id": "81u75NXMrmhn"
   },
   "source": [
    "If you do not want this effect, you can use the **.copy()** method to make a copy of the list you add."
   ]
  },
  {
   "cell_type": "code",
   "execution_count": 179,
   "metadata": {
    "colab": {
     "base_uri": "https://localhost:8080/",
     "height": 53
    },
    "colab_type": "code",
    "id": "GJpUGgG7rmho",
    "outputId": "658b4d3c-5b42-49cd-ad0a-d9d6312ad6d0"
   },
   "outputs": [
    {
     "name": "stdout",
     "output_type": "stream",
     "text": [
      "[-1, 4]\n",
      "[1, 2, [3, 4], 5, 6]\n"
     ]
    }
   ],
   "source": [
    "b = [3, 4]\n",
    "a = [1, 2, b.copy(), 5, 6]\n",
    "b[0] = -1\n",
    "\n",
    "print(b)\n",
    "print(a)"
   ]
  },
  {
   "cell_type": "markdown",
   "metadata": {
    "colab_type": "text",
    "id": "Sxb5-gDOrmhr"
   },
   "source": [
    "The memory layout after the assignments is shown in the following figure:\n",
    "\n",
    "![variable references 1](https://github.com/jonaslindemann/guide_to_python/blob/master/chapters/kapitel3/notebooks/images/variable7.png?raw=1)"
   ]
  },
  {
   "cell_type": "markdown",
   "metadata": {
    "colab_type": "text",
    "id": "POVoq1KFrmhu"
   },
   "source": [
    "## Strings"
   ]
  },
  {
   "cell_type": "markdown",
   "metadata": {
    "colab_type": "text",
    "id": "36Vtn9cRrmhu"
   },
   "source": [
    "* Stores sequences of letters.\n",
    "* Many ways to create strings in Python.\n",
    "* Strings cannot be changed when created (Immutable)"
   ]
  },
  {
   "cell_type": "code",
   "execution_count": 180,
   "metadata": {
    "colab": {
     "base_uri": "https://localhost:8080/",
     "height": 35
    },
    "colab_type": "code",
    "id": "S1zjVNBtrmhu",
    "outputId": "66f64dd0-2c9b-44d7-da5a-c39a328de30d"
   },
   "outputs": [
    {
     "name": "stdout",
     "output_type": "stream",
     "text": [
      "Guido van Rossum\n"
     ]
    }
   ],
   "source": [
    "full_name = \"Guido van Rossum\"\n",
    "print(full_name)"
   ]
  },
  {
   "cell_type": "code",
   "execution_count": 181,
   "metadata": {
    "colab": {
     "base_uri": "https://localhost:8080/",
     "height": 35
    },
    "colab_type": "code",
    "id": "8hm6MVnjrmhx",
    "outputId": "89e6c892-fd22-4127-c783-3d8b98dee37a"
   },
   "outputs": [
    {
     "name": "stdout",
     "output_type": "stream",
     "text": [
      "Guido van Rossum\n"
     ]
    }
   ],
   "source": [
    "full_name = 'Guido van Rossum'\n",
    "print(full_name)"
   ]
  },
  {
   "cell_type": "markdown",
   "metadata": {
    "colab_type": "text",
    "id": "SDeB606Urmhz"
   },
   "source": [
    "If you need to use a particular quote character in a string, simply use the second quote character as a delimiter."
   ]
  },
  {
   "cell_type": "code",
   "execution_count": 182,
   "metadata": {
    "colab": {
     "base_uri": "https://localhost:8080/",
     "height": 35
    },
    "colab_type": "code",
    "id": "Xlfkemhkrmh0",
    "outputId": "61ac59ec-31d7-4fa8-aa32-2c85f4b700ed"
   },
   "outputs": [
    {
     "name": "stdout",
     "output_type": "stream",
     "text": [
      "don't give up\n"
     ]
    }
   ],
   "source": [
    "title = \"don't give up\"\n",
    "print(title)"
   ]
  },
  {
   "cell_type": "code",
   "execution_count": 183,
   "metadata": {
    "colab": {
     "base_uri": "https://localhost:8080/",
     "height": 35
    },
    "colab_type": "code",
    "id": "6jDCnhGBrmh2",
    "outputId": "a7b28dc7-ea2f-4a15-e1d6-d045c1459088"
   },
   "outputs": [
    {
     "name": "stdout",
     "output_type": "stream",
     "text": [
      "He used the \"Aguamenti\" spell.\n"
     ]
    }
   ],
   "source": [
    "sentence = 'He used the \"Aguamenti\" spell.'\n",
    "print(sentence)"
   ]
  },
  {
   "cell_type": "markdown",
   "metadata": {
    "colab_type": "text",
    "id": "o24ElnXtrmiF"
   },
   "source": [
    "Special control characters can be used to create special characters in a string. Some of these are shown in the following table:\n",
    "\n",
    "![variable references 1](https://github.com/jonaslindemann/guide_to_python/blob/master/chapters/kapitel3/notebooks/images/strings1.png?raw=1)"
   ]
  },
  {
   "cell_type": "code",
   "execution_count": 184,
   "metadata": {
    "colab": {
     "base_uri": "https://localhost:8080/",
     "height": 53
    },
    "colab_type": "code",
    "id": "CGaKTIG2rmiF",
    "outputId": "3ece25f9-167a-4a41-e14a-1b610d82d16a"
   },
   "outputs": [
    {
     "name": "stdout",
     "output_type": "stream",
     "text": [
      "Guido van Rossum\n",
      "Python Creator\n"
     ]
    }
   ],
   "source": [
    "full_name = \"Guido van Rossum\\nPython Creator\" # Newline control character\n",
    "print(full_name)"
   ]
  },
  {
   "cell_type": "markdown",
   "metadata": {
    "colab_type": "text",
    "id": "k1nD2q4jrmiI"
   },
   "source": [
    "Sometimes it may be desirable that Python does not interpret any control characters in the string. This can be achieved with so-called raw strands. These are indicated by the **r** prefix."
   ]
  },
  {
   "cell_type": "code",
   "execution_count": 185,
   "metadata": {
    "colab": {
     "base_uri": "https://localhost:8080/",
     "height": 71
    },
    "colab_type": "code",
    "id": "7g32xVWKrmiJ",
    "outputId": "53ae92ba-448f-4081-bea5-e2a9387d1e07"
   },
   "outputs": [
    {
     "name": "stdout",
     "output_type": "stream",
     "text": [
      "Row1\\nRow2\n",
      "Row1\n",
      "Row2\n"
     ]
    }
   ],
   "source": [
    "raw_string = r\"Row1\\nRow2\"\n",
    "std_string = \"Row1\\nRow2\"\n",
    "print(raw_string)\n",
    "print(std_string)"
   ]
  },
  {
   "cell_type": "markdown",
   "metadata": {
    "colab_type": "text",
    "id": "EzBh16_KrmiL"
   },
   "source": [
    "Another option for specifying more precisely how a string should be constructed is to use triple-quoted strings. These strings are interpreted by the control characters used when the string was created. Best illustrated with an example:"
   ]
  },
  {
   "cell_type": "code",
   "execution_count": 186,
   "metadata": {
    "colab": {
     "base_uri": "https://localhost:8080/",
     "height": 71
    },
    "colab_type": "code",
    "id": "rMLrHHE6rmiM",
    "outputId": "24ed213b-3d85-4ed9-b3f4-12016717fc77"
   },
   "outputs": [
    {
     "name": "stdout",
     "output_type": "stream",
     "text": [
      "Guido van Rossum\n",
      "Python Creator\n",
      "Python är fantastiskt\n"
     ]
    }
   ],
   "source": [
    "full_name = \"\"\"Guido van Rossum\n",
    "Python Creator\n",
    "Python är fantastiskt\"\"\"\n",
    "print(full_name)"
   ]
  },
  {
   "cell_type": "markdown",
   "metadata": {
    "colab_type": "text",
    "id": "En5RA4ojrmiO"
   },
   "source": [
    "In the example, the line breaks given when the string is assigned are retained."
   ]
  },
  {
   "cell_type": "markdown",
   "metadata": {
    "colab_type": "text",
    "id": "Dt2I4jn_rmiP"
   },
   "source": [
    "### Length of strings"
   ]
  },
  {
   "cell_type": "markdown",
   "metadata": {
    "colab_type": "text",
    "id": "mm28gH6frmiQ"
   },
   "source": [
    "The length of a string can be obtained by using the generic function **len()**, which is also can be used for lists:"
   ]
  },
  {
   "cell_type": "code",
   "execution_count": 187,
   "metadata": {
    "colab": {
     "base_uri": "https://localhost:8080/",
     "height": 53
    },
    "colab_type": "code",
    "id": "TwPXolf6rmiQ",
    "outputId": "0509d42c-dfcb-4631-968a-0a41a4217517"
   },
   "outputs": [
    {
     "name": "stdout",
     "output_type": "stream",
     "text": [
      "Detta är en sträng 18\n",
      "Detta är en längre sträng 25\n"
     ]
    }
   ],
   "source": [
    "s1 = \"Detta är en sträng\"\n",
    "s2 = \"Detta är en längre sträng\"\n",
    "\n",
    "print(s1, len(s1))\n",
    "print(s2, len(s2))"
   ]
  },
  {
   "cell_type": "markdown",
   "metadata": {
    "colab_type": "text",
    "id": "O6UPAdEIrmiW"
   },
   "source": [
    "### Concatenating strings"
   ]
  },
  {
   "cell_type": "markdown",
   "metadata": {
    "colab_type": "text",
    "id": "ztgjMHFPrmiW"
   },
   "source": [
    "\\+ operator can be used to put together new strings of existing ones:\n"
   ]
  },
  {
   "cell_type": "code",
   "execution_count": 188,
   "metadata": {
    "colab": {
     "base_uri": "https://localhost:8080/",
     "height": 35
    },
    "colab_type": "code",
    "id": "jrNwOnaOrmiX",
    "outputId": "50040f76-63b6-4edb-bf86-266b3dc70414"
   },
   "outputs": [
    {
     "name": "stdout",
     "output_type": "stream",
     "text": [
      "Det är kul med Python\n"
     ]
    }
   ],
   "source": [
    "s1 = \"Det är kul med \"\n",
    "s2 = \"Python\"\n",
    "\n",
    "s3 = s1 + s2\n",
    "\n",
    "print(s3)"
   ]
  },
  {
   "cell_type": "markdown",
   "metadata": {
    "colab_type": "text",
    "id": "yqeOxVkzrmiZ"
   },
   "source": [
    "### Repeating strings"
   ]
  },
  {
   "cell_type": "markdown",
   "metadata": {
    "colab_type": "text",
    "id": "4LhCBwEkrmia"
   },
   "source": [
    "\\* operator can be used to repeat a string a number of times to create longer strings."
   ]
  },
  {
   "cell_type": "code",
   "execution_count": 189,
   "metadata": {
    "colab": {
     "base_uri": "https://localhost:8080/",
     "height": 53
    },
    "colab_type": "code",
    "id": "RcvWs44krmia",
    "outputId": "41145fa5-4061-44ea-9ae4-08c7921b43b4"
   },
   "outputs": [
    {
     "name": "stdout",
     "output_type": "stream",
     "text": [
      "Detta är en sträng vi vill stryka under\n",
      "---------------------------------------\n"
     ]
    }
   ],
   "source": [
    "s1 = \"Detta är en sträng vi vill stryka under\"\n",
    "s2 = \"-\" * len(s1)\n",
    "\n",
    "print(s1)\n",
    "print(s2)"
   ]
  },
  {
   "cell_type": "markdown",
   "metadata": {
    "colab_type": "text",
    "id": "g4wxdKaFrmid"
   },
   "source": [
    "### Splitting strings"
   ]
  },
  {
   "cell_type": "markdown",
   "metadata": {
    "colab_type": "text",
    "id": "4HhHNhBFrmie"
   },
   "source": [
    "The string data type has a method, **.split()**, which can be used to split strings into smaller parts:"
   ]
  },
  {
   "cell_type": "code",
   "execution_count": 190,
   "metadata": {
    "colab": {
     "base_uri": "https://localhost:8080/",
     "height": 35
    },
    "colab_type": "code",
    "id": "soZ1copIrmie",
    "outputId": "7a06a138-a60f-4b78-9a28-d5f6f61fde7b"
   },
   "outputs": [
    {
     "name": "stdout",
     "output_type": "stream",
     "text": [
      "['Detta', 'är', 'en', 'mening', 'med', 'en', 'mängd', 'ord!']\n"
     ]
    }
   ],
   "source": [
    "s = \"Detta är en mening med en mängd ord!\"\n",
    "\n",
    "ord_lista = s.split()\n",
    "\n",
    "print(ord_lista)"
   ]
  },
  {
   "cell_type": "markdown",
   "metadata": {
    "colab_type": "text",
    "id": "9a1fqACHrmig"
   },
   "source": [
    "The argument to the function specifies which character should split the string."
   ]
  },
  {
   "cell_type": "code",
   "execution_count": 191,
   "metadata": {
    "colab": {
     "base_uri": "https://localhost:8080/",
     "height": 35
    },
    "colab_type": "code",
    "id": "Pk2ja4z8rmig",
    "outputId": "518cf1e5-d490-465f-e4f9-d5ae18b2c608"
   },
   "outputs": [
    {
     "name": "stdout",
     "output_type": "stream",
     "text": [
      "['123', ' 456', ' 123', ' 35456', ' 12', ' 34']\n"
     ]
    }
   ],
   "source": [
    "s = \"123, 456, 123, 35456, 12, 34\"\n",
    "\n",
    "delar = s.split(\",\")\n",
    "\n",
    "print(delar)"
   ]
  },
  {
   "cell_type": "markdown",
   "metadata": {
    "colab_type": "text",
    "id": "u0L2fegcrmii"
   },
   "source": [
    "### Creating strings from lists"
   ]
  },
  {
   "cell_type": "markdown",
   "metadata": {
    "colab_type": "text",
    "id": "NMwVMIBOrmii"
   },
   "source": [
    "If you have lists of strings, you can combine them into strings using the **.join()** method."
   ]
  },
  {
   "cell_type": "code",
   "execution_count": 192,
   "metadata": {
    "colab": {
     "base_uri": "https://localhost:8080/",
     "height": 71
    },
    "colab_type": "code",
    "id": "jTvWULWormik",
    "outputId": "7d727c4c-63ec-4eda-8d3c-fce7e60a0b59"
   },
   "outputs": [
    {
     "name": "stdout",
     "output_type": "stream",
     "text": [
      "Detta är en lista med ord\n",
      "tree,house,pencil,eraser\n",
      "treehousepencileraser\n"
     ]
    }
   ],
   "source": [
    "list_of_strings = [\"Detta\", \"är\", \"en\", \"lista\", \"med\", \"ord\"]\n",
    "list_of_things = [\"tree\", \"house\", \"pencil\", \"eraser\"]\n",
    "\n",
    "s1 = \" \".join(list_of_strings) # Append with spaces\n",
    "s2 = \",\".join(list_of_things)  # Append with comma\n",
    "s3 = \"\".join(list_of_things)   # Append withou spacing.\n",
    "\n",
    "print(s1)\n",
    "print(s2)\n",
    "print(s3)"
   ]
  },
  {
   "cell_type": "markdown",
   "metadata": {
    "colab_type": "text",
    "id": "EDJHv9tqrmir"
   },
   "source": [
    "### Searching strings"
   ]
  },
  {
   "cell_type": "markdown",
   "metadata": {
    "colab_type": "text",
    "id": "OoNzUSVlrmir"
   },
   "source": [
    "A very common operation on strings is to check if a sub string is found in a string. This is most easily done with the operator **in**. If the sub string is found in the string, **returns** **True** otherwise **False**."
   ]
  },
  {
   "cell_type": "code",
   "execution_count": 196,
   "metadata": {
    "colab": {
     "base_uri": "https://localhost:8080/",
     "height": 35
    },
    "colab_type": "code",
    "id": "cNGEbId6rmis",
    "outputId": "f09119be-e796-4daf-f6d3-a8652843a5d9"
   },
   "outputs": [
    {
     "name": "stdout",
     "output_type": "stream",
     "text": [
      "True\n"
     ]
    }
   ],
   "source": [
    "s = \"Far far away, behind the word mountains, far from the countries \" \\\n",
    "\"Vokalia and Consonantia, there live the blind texts. Separated they \" \\\n",
    "\"live in Bookmarksgrove right at the coast of the Semantics, a large \" \\\n",
    "\"language ocean.\"\n",
    "print(\"Vokalia\" in s)"
   ]
  },
  {
   "cell_type": "markdown",
   "metadata": {
    "colab_type": "text",
    "id": "pFZNGxTcrmiu"
   },
   "source": [
    "Another option is to use the **.find()** method, which also returns the location of where the string is found."
   ]
  },
  {
   "cell_type": "code",
   "execution_count": 197,
   "metadata": {
    "colab": {
     "base_uri": "https://localhost:8080/",
     "height": 71
    },
    "colab_type": "code",
    "id": "z9NfAJJzrmiu",
    "outputId": "2efa9dab-2690-4467-9ac0-3a2ffcd33deb"
   },
   "outputs": [
    {
     "name": "stdout",
     "output_type": "stream",
     "text": [
      "4\n",
      "41\n",
      "-1\n"
     ]
    }
   ],
   "source": [
    "s = \"Far far away, behind the word mountains, far from the countries \" \\\n",
    "\"Vokalia and Consonantia, there live the blind texts. Separated they \" \\\n",
    "\"live in Bookmarksgrove right at the coast of the Semantics, a large \" \\\n",
    "\"language ocean.\"\n",
    "pos = s.find(\"far\")\n",
    "print(pos)\n",
    "\n",
    "pos = s.find(\"far\", pos+1)\n",
    "print(pos)\n",
    "\n",
    "pos = s.find(\"python\")\n",
    "print(pos)"
   ]
  },
  {
   "cell_type": "markdown",
   "metadata": {
    "colab_type": "text",
    "id": "G_zO1LEcrmi-"
   },
   "source": [
    "### Stripping leading and trailing spaces"
   ]
  },
  {
   "cell_type": "markdown",
   "metadata": {
    "colab_type": "text",
    "id": "ydv9-sztrmi_"
   },
   "source": [
    "In many cases when reading data from files, the lines often contain extra spaces that need to be cleared. This can be done with the **.strip()** method."
   ]
  },
  {
   "cell_type": "code",
   "execution_count": 199,
   "metadata": {
    "colab": {
     "base_uri": "https://localhost:8080/",
     "height": 53
    },
    "colab_type": "code",
    "id": "rp7mMzoirmjA",
    "outputId": "ae672a22-fa0a-4947-d267-f60009ca9b0c"
   },
   "outputs": [
    {
     "name": "stdout",
     "output_type": "stream",
     "text": [
      ">     Detta är en sträng med extra utrymme. <\n",
      ">Detta är en sträng med extra utrymme.<\n"
     ]
    }
   ],
   "source": [
    "s1 = \"     Detta är en sträng med extra utrymme. \"\n",
    "s2 = s1.strip()\n",
    "\n",
    "print(\">\" + s1 + \"<\")\n",
    "print(\">\" + s2 + \"<\")"
   ]
  },
  {
   "cell_type": "markdown",
   "metadata": {
    "colab_type": "text",
    "id": "hsVoE1HjrmjC"
   },
   "source": [
    "There is the special version of this method that cleans the right and left sides of the string, respectively:"
   ]
  },
  {
   "cell_type": "code",
   "execution_count": 200,
   "metadata": {
    "colab": {
     "base_uri": "https://localhost:8080/",
     "height": 53
    },
    "colab_type": "code",
    "id": "wgGk22XdrmjD",
    "outputId": "39581ad2-cf23-4e55-d094-cddd90e40a82"
   },
   "outputs": [
    {
     "name": "stdout",
     "output_type": "stream",
     "text": [
      "> Detta är en sträng med extra utrymme. <\n",
      "> Detta är en sträng med extra utrymme.<\n"
     ]
    }
   ],
   "source": [
    "s1 = \" Detta är en sträng med extra utrymme. \"\n",
    "s2 = s1.rstrip()\n",
    "\n",
    "print(\">\" + s1 + \"<\")\n",
    "print(\">\" + s2 + \"<\")"
   ]
  },
  {
   "cell_type": "code",
   "execution_count": 201,
   "metadata": {
    "colab": {
     "base_uri": "https://localhost:8080/",
     "height": 53
    },
    "colab_type": "code",
    "id": "PNk1gYTnrmjH",
    "outputId": "3cf3aa57-38f1-4e04-d07a-5df385792c0c"
   },
   "outputs": [
    {
     "name": "stdout",
     "output_type": "stream",
     "text": [
      "> Detta är en sträng med extra utrymme. <\n",
      ">Detta är en sträng med extra utrymme. <\n"
     ]
    }
   ],
   "source": [
    "s1 = \" Detta är en sträng med extra utrymme. \"\n",
    "s2 = s1.lstrip()\n",
    "\n",
    "print(\">\" + s1 + \"<\")\n",
    "print(\">\" + s2 + \"<\")"
   ]
  },
  {
   "cell_type": "markdown",
   "metadata": {
    "colab_type": "text",
    "id": "5kHYbSXjrmjI"
   },
   "source": [
    "## Querying the underlying datatype of a variable reference"
   ]
  },
  {
   "cell_type": "markdown",
   "metadata": {
    "colab_type": "text",
    "id": "IBeqH5JurmjJ"
   },
   "source": [
    "In some cases, you are interested in finding out the underlying data type that a variable refers to. This can be done using the **type()** function, which prints the actual data type."
   ]
  },
  {
   "cell_type": "code",
   "execution_count": 202,
   "metadata": {
    "colab": {
     "base_uri": "https://localhost:8080/",
     "height": 88
    },
    "colab_type": "code",
    "id": "JFeXrFYdrmjK",
    "outputId": "2859526b-6be1-4855-c0d9-0e05ce5ac7b7"
   },
   "outputs": [
    {
     "name": "stdout",
     "output_type": "stream",
     "text": [
      "<class 'int'>\n",
      "<class 'float'>\n",
      "<class 'bool'>\n",
      "<class 'str'>\n"
     ]
    }
   ],
   "source": [
    "a = 42\n",
    "b = 42.0\n",
    "c = True\n",
    "d = 'Hejsan'\n",
    "print(type(a))\n",
    "print(type(b))\n",
    "print(type(c))\n",
    "print(type(d))"
   ]
  },
  {
   "cell_type": "markdown",
   "metadata": {
    "colab_type": "text",
    "id": "X0HYJBT-rmjL"
   },
   "source": [
    "# Dictionaries"
   ]
  },
  {
   "cell_type": "markdown",
   "metadata": {
    "colab_type": "text",
    "id": "t4MkxuEPrmjM"
   },
   "source": [
    "Dictionaries in Python are a special form of data type where data is stored in key / value pairs. Finding a key in a dictionary is usually a quick operation.\n",
    "\n",
    "Dictionaries use \"curly\" brackets, \\ {\\} instead of [] to define the content.\n",
    "\n",
    "An empty dictionary is created with the following code:"
   ]
  },
  {
   "cell_type": "code",
   "execution_count": 203,
   "metadata": {
    "colab": {},
    "colab_type": "code",
    "id": "FMtbcm3VrmjM"
   },
   "outputs": [],
   "source": [
    "values = {}"
   ]
  },
  {
   "cell_type": "markdown",
   "metadata": {
    "colab_type": "text",
    "id": "ctzwCdhbrmjP"
   },
   "source": [
    "Initial values can be assigned by listing key / value pairs separately with commas. The value pair is specified with the notation *key:value* notation."
   ]
  },
  {
   "cell_type": "code",
   "execution_count": 204,
   "metadata": {
    "colab": {
     "base_uri": "https://localhost:8080/",
     "height": 35
    },
    "colab_type": "code",
    "id": "khPMN0T5rmjP",
    "outputId": "c165b599-6558-4dc1-e916-375bc9cb899d"
   },
   "outputs": [
    {
     "name": "stdout",
     "output_type": "stream",
     "text": [
      "{'Petra': '9046112', 'David': '1234145', 'Olle': '534532'}\n"
     ]
    }
   ],
   "source": [
    "values = {\n",
    "    \"Petra\":\"9046112\", \"David\":\"1234145\",\n",
    "    \"Olle\":\"534532\"\n",
    "}\n",
    "print(values)"
   ]
  },
  {
   "cell_type": "markdown",
   "metadata": {
    "colab_type": "text",
    "id": "MU3yb7PMrmjV"
   },
   "source": [
    "The values in a dictionary are reached by using \\[and \\], although the index value is replaced by the key value."
   ]
  },
  {
   "cell_type": "code",
   "execution_count": 205,
   "metadata": {
    "colab": {
     "base_uri": "https://localhost:8080/",
     "height": 53
    },
    "colab_type": "code",
    "id": "oIkjN7CyrmjW",
    "outputId": "2d2a6e9f-896e-4a92-d37a-da2677950ab7"
   },
   "outputs": [
    {
     "name": "stdout",
     "output_type": "stream",
     "text": [
      "1234145\n",
      "9046112\n"
     ]
    }
   ],
   "source": [
    "print(values[\"David\"])\n",
    "print(values[\"Petra\"])"
   ]
  },
  {
   "cell_type": "markdown",
   "metadata": {
    "colab_type": "text",
    "id": "tiEnLdkTrmjY"
   },
   "source": [
    "Assigning values in a dictionary is done in the same way as assigning lists. The index value is now instead the key value:"
   ]
  },
  {
   "cell_type": "code",
   "execution_count": 206,
   "metadata": {
    "colab": {
     "base_uri": "https://localhost:8080/",
     "height": 35
    },
    "colab_type": "code",
    "id": "tZkvOw-VrmjY",
    "outputId": "55dd05f7-0d4f-4f2e-9e90-f3337968476a"
   },
   "outputs": [
    {
     "name": "stdout",
     "output_type": "stream",
     "text": [
      "{'Petra': '9046112', 'David': '1234145', 'Olle': '534532', 'Peter': 734847}\n"
     ]
    }
   ],
   "source": [
    "values[\"Peter\"] = 734847\n",
    "print(values)"
   ]
  },
  {
   "cell_type": "markdown",
   "metadata": {
    "colab_type": "text",
    "id": "urxsuxy4rmjc"
   },
   "source": [
    "## Finding values in a dictionary"
   ]
  },
  {
   "cell_type": "markdown",
   "metadata": {
    "colab_type": "text",
    "id": "7HDsUIh6rmjd"
   },
   "source": [
    "Similar to lists, you can check if a particular key is in a dictionary by using the **in** operator. If the key is in the lookup list, **True** is returned, otherwise **False** is returned."
   ]
  },
  {
   "cell_type": "code",
   "execution_count": 207,
   "metadata": {
    "colab": {
     "base_uri": "https://localhost:8080/",
     "height": 53
    },
    "colab_type": "code",
    "id": "shUxrBivrmje",
    "outputId": "d28a6c18-b5ad-43dc-8ef0-fc59b3211a4b"
   },
   "outputs": [
    {
     "name": "stdout",
     "output_type": "stream",
     "text": [
      "True\n",
      "False\n"
     ]
    }
   ],
   "source": [
    "idx = {\n",
    "    'Olle': '534532',\n",
    "    'David': '1234145',\n",
    "    'Petra': '9046112'\n",
    "}\n",
    "print('Petra' in idx)\n",
    "print('Bosse' in idx)"
   ]
  },
  {
   "cell_type": "markdown",
   "metadata": {
    "colab_type": "text",
    "id": "Qo__uGskrmjg"
   },
   "source": [
    "## Number of values in a dictionary"
   ]
  },
  {
   "cell_type": "markdown",
   "metadata": {
    "colab_type": "text",
    "id": "6gc329Wermjg"
   },
   "source": [
    "As before, the number of values in a dictionary can be obtained by the function **.len()**."
   ]
  },
  {
   "cell_type": "code",
   "execution_count": null,
   "metadata": {
    "colab": {
     "base_uri": "https://localhost:8080/",
     "height": 35
    },
    "colab_type": "code",
    "id": "Z4wYsB_krmjg",
    "outputId": "f7cc9291-0f58-450e-e8b0-018979231bdb"
   },
   "outputs": [],
   "source": [
    "print(len(values))"
   ]
  },
  {
   "cell_type": "markdown",
   "metadata": {
    "colab_type": "text",
    "id": "AJA4izfyrmji"
   },
   "source": [
    "## Adding values to a dictionary"
   ]
  },
  {
   "cell_type": "markdown",
   "metadata": {
    "colab_type": "text",
    "id": "hE9QQOqgrmji"
   },
   "source": [
    "Values can be added to a list by assigning values to keys:"
   ]
  },
  {
   "cell_type": "code",
   "execution_count": null,
   "metadata": {
    "colab": {
     "base_uri": "https://localhost:8080/",
     "height": 35
    },
    "colab_type": "code",
    "id": "xzINGU_yrmjj",
    "outputId": "e3a73e8c-5965-447f-b8eb-c1ba57b7920f"
   },
   "outputs": [],
   "source": [
    "values[\"Guido\"] = 187493\n",
    "print(values)"
   ]
  },
  {
   "cell_type": "markdown",
   "metadata": {
    "colab_type": "text",
    "id": "3xqMq20grmjm"
   },
   "source": [
    "## Nested dictionaries"
   ]
  },
  {
   "cell_type": "markdown",
   "metadata": {
    "colab_type": "text",
    "id": "pUvcGnC-rmjn"
   },
   "source": [
    "Similar to lists, dictionaries can also be nested and contain several different types of data structures:"
   ]
  },
  {
   "cell_type": "code",
   "execution_count": null,
   "metadata": {
    "colab": {
     "base_uri": "https://localhost:8080/",
     "height": 71
    },
    "colab_type": "code",
    "id": "nhZebrGzrmjn",
    "outputId": "f5656985-b840-4199-8b72-9e02651761bf"
   },
   "outputs": [],
   "source": [
    "config = {\n",
    "    \"general\":\n",
    "        {\n",
    "            \"username\":\"olle\",\n",
    "            \"temp_path\":\"C:\\\\TEMP\"\n",
    "        },\n",
    "    \"constants\":\n",
    "        {\n",
    "            \"pi\":3.14159,\n",
    "            \"g\":9.82\n",
    "        },\n",
    "    \"items\":\n",
    "        {\n",
    "            \"values\": [1, 2, 3, 4, 5]\n",
    "        }\n",
    "}\n",
    "\n",
    "print(config[\"general\"][\"username\"])\n",
    "print(config[\"constants\"][\"pi\"])\n",
    "print(config[\"items\"][\"values\"][1])"
   ]
  },
  {
   "cell_type": "markdown",
   "metadata": {
    "colab_type": "text",
    "id": "QXtPpHSDrmjp"
   },
   "source": [
    "# Loops and conditional statements"
   ]
  },
  {
   "cell_type": "markdown",
   "metadata": {
    "colab_type": "text",
    "id": "PGjQvy_frmjp"
   },
   "source": [
    "## Code blocks in Python"
   ]
  },
  {
   "cell_type": "markdown",
   "metadata": {
    "colab_type": "text",
    "id": "1kfaXEQOrmjp"
   },
   "source": [
    "In Python statements are grouped in codeblocks by the structure of the source file. A group of statements in considered grouped if it is proceeded by a : and the following statements are indented."
   ]
  },
  {
   "cell_type": "code",
   "execution_count": 208,
   "metadata": {
    "colab": {
     "base_uri": "https://localhost:8080/",
     "height": 124
    },
    "colab_type": "code",
    "id": "jJtmYgc1rmjr",
    "outputId": "9fbca74c-d305-4b99-b3a8-a9f2ebb4db68"
   },
   "outputs": [
    {
     "name": "stdout",
     "output_type": "stream",
     "text": [
      "0\n",
      "1\n",
      "2\n",
      "3\n",
      "4\n",
      "Denna sats tillhör inte kodblocket\n"
     ]
    }
   ],
   "source": [
    "for i in range(5): # Markerar start av kodblock\n",
    "    print(i)       # Indraget kodblock.\n",
    "                   # Tillhör for-satsen\n",
    "\n",
    "print(\"Denna sats tillhör inte kodblocket\")"
   ]
  },
  {
   "cell_type": "markdown",
   "metadata": {
    "colab_type": "text",
    "id": "qxAR-GeZrmjt"
   },
   "source": [
    "## Loops"
   ]
  },
  {
   "cell_type": "markdown",
   "metadata": {
    "colab_type": "text",
    "id": "YK-ox5LRrmju"
   },
   "source": [
    "### Repeating a code block a given number of times - for"
   ]
  },
  {
   "cell_type": "code",
   "execution_count": 209,
   "metadata": {
    "colab": {
     "base_uri": "https://localhost:8080/",
     "height": 196
    },
    "colab_type": "code",
    "id": "jxVbv0s5rmju",
    "outputId": "5f587daf-7c15-4654-e63d-6dd83b77db3a"
   },
   "outputs": [
    {
     "name": "stdout",
     "output_type": "stream",
     "text": [
      "0\n",
      "1\n",
      "2\n",
      "3\n",
      "4\n",
      "5\n",
      "6\n",
      "7\n",
      "8\n",
      "9\n"
     ]
    }
   ],
   "source": [
    "for i in range(10):  # Sekvens 0 - 9\n",
    "    print(i)"
   ]
  },
  {
   "cell_type": "code",
   "execution_count": 210,
   "metadata": {
    "colab": {
     "base_uri": "https://localhost:8080/",
     "height": 124
    },
    "colab_type": "code",
    "id": "-XU-A9oHrmjw",
    "outputId": "b805fa09-8541-4b7e-e082-82c2fd1c20e2"
   },
   "outputs": [
    {
     "name": "stdout",
     "output_type": "stream",
     "text": [
      "5\n",
      "6\n",
      "7\n",
      "8\n",
      "9\n",
      "10\n"
     ]
    }
   ],
   "source": [
    "for i in range(5, 11): # Sekvens 5 - 10\n",
    "    print(i)"
   ]
  },
  {
   "cell_type": "code",
   "execution_count": 211,
   "metadata": {
    "colab": {
     "base_uri": "https://localhost:8080/",
     "height": 124
    },
    "colab_type": "code",
    "id": "DaV37oJMrmjz",
    "outputId": "f9f23dda-e34a-422d-9f4b-d10fdc5f1a5d"
   },
   "outputs": [
    {
     "name": "stdout",
     "output_type": "stream",
     "text": [
      "5\n",
      "8\n",
      "11\n",
      "14\n",
      "17\n",
      "20\n"
     ]
    }
   ],
   "source": [
    "for i in range(5,21,3): # Sekvens med steglängd 3\n",
    "    print(i)"
   ]
  },
  {
   "cell_type": "markdown",
   "metadata": {
    "colab_type": "text",
    "id": "V1ucTOJprmj0"
   },
   "source": [
    "### Iterating over a list"
   ]
  },
  {
   "cell_type": "code",
   "execution_count": 212,
   "metadata": {
    "colab": {
     "base_uri": "https://localhost:8080/",
     "height": 142
    },
    "colab_type": "code",
    "id": "cUUPWPMYrmj0",
    "outputId": "cc5a7248-22b5-4669-e138-7b9ffe86957f"
   },
   "outputs": [
    {
     "name": "stdout",
     "output_type": "stream",
     "text": [
      "1\n",
      "3\n",
      "6\n",
      "4\n",
      "hej\n",
      "1.0\n",
      "42\n"
     ]
    }
   ],
   "source": [
    "values = [1, 3, 6, 4, 'hej', 1.0, 42]\n",
    "\n",
    "for value in values:\n",
    "    print(value)"
   ]
  },
  {
   "cell_type": "markdown",
   "metadata": {
    "colab_type": "text",
    "id": "Bi0Vj6wDrmj6"
   },
   "source": [
    "### Iterating over a list with a loop variable"
   ]
  },
  {
   "cell_type": "code",
   "execution_count": 213,
   "metadata": {
    "colab": {
     "base_uri": "https://localhost:8080/",
     "height": 106
    },
    "colab_type": "code",
    "id": "M_h_qqGsrmj7",
    "outputId": "6c7036e2-3048-4fc6-bc4f-8e1d45c4b731"
   },
   "outputs": [
    {
     "name": "stdout",
     "output_type": "stream",
     "text": [
      "a , 5\n",
      "b , 4\n",
      "c , 3\n",
      "d , 2\n",
      "e , 1\n"
     ]
    }
   ],
   "source": [
    "a = [\"a\", \"b\", \"c\", \"d\", \"e\"]\n",
    "b = [5, 4, 3, 2, 1]\n",
    "for i in range(len(a)):\n",
    "    print(a[i], \",\", b[i])"
   ]
  },
  {
   "cell_type": "markdown",
   "metadata": {
    "colab_type": "text",
    "id": "tZdLXiVErmkA"
   },
   "source": [
    "### Iterating over multiple lists"
   ]
  },
  {
   "cell_type": "code",
   "execution_count": 214,
   "metadata": {
    "colab": {
     "base_uri": "https://localhost:8080/",
     "height": 88
    },
    "colab_type": "code",
    "id": "r-dTxouGrmkA",
    "outputId": "45635bb7-2a3a-49af-ade1-eb1a4ec56c44"
   },
   "outputs": [
    {
     "name": "stdout",
     "output_type": "stream",
     "text": [
      "50 50\n",
      "130 70\n",
      "200 220\n",
      "250 300\n"
     ]
    }
   ],
   "source": [
    "x_pos = [50, 130, 200, 250]\n",
    "y_pos = [50, 70, 220, 300]\n",
    "\n",
    "for x, y in zip(x_pos, y_pos):\n",
    "    print(x, y)"
   ]
  },
  {
   "cell_type": "markdown",
   "metadata": {
    "colab_type": "text",
    "id": "7VQU4YwfrmkD"
   },
   "source": [
    "### Iterating over nested lists"
   ]
  },
  {
   "cell_type": "code",
   "execution_count": 217,
   "metadata": {
    "colab": {
     "base_uri": "https://localhost:8080/",
     "height": 88
    },
    "colab_type": "code",
    "id": "S45VKUJTrmkD",
    "outputId": "54251752-efde-4334-e768-c0562ec5d9d6"
   },
   "outputs": [
    {
     "name": "stdout",
     "output_type": "stream",
     "text": [
      "50\n",
      "50\n",
      "130\n",
      "70\n",
      "200\n",
      "220\n",
      "250\n",
      "300\n"
     ]
    }
   ],
   "source": [
    "points = [[50,50], [130,70], [200,220], [250,300]]\n",
    "\n",
    "for p in points:\n",
    "    for coord in p:\n",
    "        print(coord)"
   ]
  },
  {
   "cell_type": "markdown",
   "metadata": {
    "colab_type": "text",
    "id": "mHLDlBrGrmkF"
   },
   "source": [
    "### Iterating using the while-statement"
   ]
  },
  {
   "cell_type": "code",
   "execution_count": 218,
   "metadata": {
    "colab": {
     "base_uri": "https://localhost:8080/",
     "height": 1804
    },
    "colab_type": "code",
    "id": "kJxaygfMrmkF",
    "outputId": "d02ced1f-7a59-4894-d0d6-c730a5826906"
   },
   "outputs": [
    {
     "name": "stdout",
     "output_type": "stream",
     "text": [
      "Iteration 2 pi =  4.0 err =  7.141592653589793\n",
      "Iteration 3 pi =  2.666666666666667 err =  5.80825932025646\n",
      "Iteration 4 pi =  3.466666666666667 err =  6.60825932025646\n",
      "Iteration 5 pi =  2.8952380952380956 err =  6.036830748827889\n",
      "Iteration 6 pi =  3.3396825396825403 err =  6.481275193272333\n",
      "Iteration 7 pi =  2.9760461760461765 err =  6.11763882963597\n",
      "Iteration 8 pi =  3.2837384837384844 err =  6.4253311373282775\n",
      "Iteration 9 pi =  3.017071817071818 err =  6.158664470661611\n",
      "Iteration 10 pi =  3.2523659347188767 err =  6.39395858830867\n",
      "Iteration 11 pi =  3.0418396189294032 err =  6.183432272519196\n",
      "Iteration 12 pi =  3.232315809405594 err =  6.373908462995387\n",
      "Iteration 13 pi =  3.058402765927333 err =  6.199995419517126\n",
      "Iteration 14 pi =  3.2184027659273333 err =  6.359995419517126\n",
      "Iteration 15 pi =  3.0702546177791854 err =  6.2118472713689785\n",
      "Iteration 16 pi =  3.208185652261944 err =  6.349778305851737\n",
      "Iteration 17 pi =  3.079153394197428 err =  6.220746047787221\n",
      "Iteration 18 pi =  3.200365515409549 err =  6.3419581689993425\n",
      "Iteration 19 pi =  3.0860798011238346 err =  6.227672454713628\n",
      "Iteration 20 pi =  3.1941879092319425 err =  6.335780562821736\n",
      "Iteration 21 pi =  3.09162380666784 err =  6.233216460257633\n",
      "Iteration 22 pi =  3.189184782277596 err =  6.33077743586739\n",
      "Iteration 23 pi =  3.0961615264636424 err =  6.237754180053436\n",
      "Iteration 24 pi =  3.1850504153525314 err =  6.3266430689423245\n",
      "Iteration 25 pi =  3.099944032373808 err =  6.241536685963601\n",
      "Iteration 26 pi =  3.1815766854350325 err =  6.323169339024826\n",
      "Iteration 27 pi =  3.1031453128860127 err =  6.244737966475806\n",
      "Iteration 28 pi =  3.1786170109992202 err =  6.320209664589013\n",
      "Iteration 29 pi =  3.1058897382719475 err =  6.247482391861741\n",
      "Iteration 30 pi =  3.1760651768684385 err =  6.317657830458232\n",
      "Iteration 31 pi =  3.108268566698947 err =  6.24986122028874\n",
      "Iteration 32 pi =  3.1738423371907505 err =  6.315434990780544\n",
      "Iteration 33 pi =  3.110350273698687 err =  6.25194292728848\n",
      "Iteration 34 pi =  3.1718887352371485 err =  6.313481388826942\n",
      "Iteration 35 pi =  3.112187242699835 err =  6.253779896289628\n",
      "Iteration 36 pi =  3.1701582571925884 err =  6.311750910782381\n",
      "Iteration 37 pi =  3.1138202290235744 err =  6.255412882613367\n",
      "Iteration 38 pi =  3.1686147495715193 err =  6.3102074031613125\n",
      "Iteration 39 pi =  3.115281416238186 err =  6.25687406982798\n",
      "Iteration 40 pi =  3.167229468186238 err =  6.308822121776031\n",
      "Iteration 41 pi =  3.116596556793833 err =  6.258189210383627\n",
      "Iteration 42 pi =  3.1659792728432157 err =  6.307571926433009\n",
      "Iteration 43 pi =  3.117786501758878 err =  6.259379155348672\n",
      "Iteration 44 pi =  3.1648453252882898 err =  6.306437978878083\n",
      "Iteration 45 pi =  3.118868313794037 err =  6.26046096738383\n",
      "Iteration 46 pi =  3.163812134018756 err =  6.305404787608549\n",
      "Iteration 47 pi =  3.1198560900627124 err =  6.2614487436525055\n",
      "Iteration 48 pi =  3.1628668427508844 err =  6.3044594963406775\n",
      "Iteration 49 pi =  3.1207615795929895 err =  6.262354233182783\n",
      "Iteration 50 pi =  3.161998692995051 err =  6.303591346584844\n",
      "Iteration 51 pi =  3.121594652591011 err =  6.263187306180804\n",
      "Iteration 52 pi =  3.1611986129870506 err =  6.302791266576843\n",
      "Iteration 53 pi =  3.12236366153074 err =  6.263956315120533\n",
      "Iteration 54 pi =  3.160458899625978 err =  6.302051553215771\n",
      "Iteration 55 pi =  3.1230757220558845 err =  6.264668375645678\n",
      "Iteration 56 pi =  3.1597729697623063 err =  6.301365623352099\n",
      "Iteration 57 pi =  3.12373693372627 err =  6.265329587316064\n",
      "Iteration 58 pi =  3.159135163814766 err =  6.3007278174045585\n",
      "Iteration 59 pi =  3.124352555119114 err =  6.2659452087089065\n",
      "Iteration 60 pi =  3.158540589307148 err =  6.3001332428969405\n",
      "Iteration 61 pi =  3.1249271439289967 err =  6.266519797518789\n",
      "Iteration 62 pi =  3.157984995168666 err =  6.29957764875846\n",
      "Iteration 63 pi =  3.125464669965414 err =  6.267057323555207\n",
      "Iteration 64 pi =  3.157464669965414 err =  6.299057323555207\n",
      "Iteration 65 pi =  3.125968606973288 err =  6.267561260563081\n",
      "Iteration 66 pi =  3.1569763589112725 err =  6.298569012501066\n",
      "Iteration 67 pi =  3.1264420077662343 err =  6.268034661356028\n",
      "Iteration 68 pi =  3.156517195736159 err =  6.298109849325952\n",
      "Iteration 69 pi =  3.126887566106529 err =  6.268480219696322\n",
      "Iteration 70 pi =  3.1560846463985 err =  6.297677299988293\n",
      "Iteration 71 pi =  3.127307667981234 err =  6.268900321571027\n",
      "Iteration 72 pi =  3.155676462307475 err =  6.297269115897269\n",
      "Iteration 73 pi =  3.127704434335447 err =  6.26929708792524\n",
      "Iteration 74 pi =  3.155290641231999 err =  6.296883294821792\n",
      "Iteration 75 pi =  3.1280797568782575 err =  6.269672410468051\n",
      "Iteration 76 pi =  3.15492539446215 err =  6.296518048051944\n",
      "Iteration 77 pi =  3.1284353282369843 err =  6.270027981826777\n",
      "Iteration 78 pi =  3.1545791190866574 err =  6.29617177267645\n",
      "Iteration 79 pi =  3.128772667473754 err =  6.270365321063547\n",
      "Iteration 80 pi =  3.1542503744801236 err =  6.295843028069917\n",
      "Iteration 81 pi =  3.129093141775721 err =  6.270685795365514\n",
      "Iteration 82 pi =  3.1539378622726155 err =  6.295530515862408\n",
      "Iteration 83 pi =  3.129397984972002 err =  6.270990638561795\n",
      "Iteration 84 pi =  3.1536404092144266 err =  6.29523306280422\n",
      "Iteration 85 pi =  3.129688313406043 err =  6.271280966995836\n",
      "Iteration 86 pi =  3.1533569524592977 err =  6.294949606049091\n",
      "Iteration 87 pi =  3.129965139593801 err =  6.271557793183594\n",
      "Iteration 88 pi =  3.153086526877038 err =  6.294679180466831\n",
      "Iteration 89 pi =  3.1302293840198954 err =  6.271822037609688\n",
      "Iteration 90 pi =  3.1528282540763923 err =  6.2944209076661854\n",
      "Iteration 91 pi =  3.1304818853613083 err =  6.2720745389511015\n",
      "Iteration 92 pi =  3.1525813328751204 err =  6.294173986464914\n",
      "Iteration 93 pi =  3.1307234093778527 err =  6.272316062967645\n",
      "Iteration 94 pi =  3.1523450309994745 err =  6.293937684589268\n",
      "Iteration 95 pi =  3.1309546566679236 err =  6.272547310257717\n",
      "Iteration 96 pi =  3.152118677831945 err =  6.293711331421738\n",
      "Iteration 97 pi =  3.131176269454982 err =  6.272768923044775\n",
      "Iteration 98 pi =  3.151901658056018 err =  6.293494311645811\n",
      "Iteration 99 pi =  3.1313888375431977 err =  6.272981491132991\n",
      "Iteration 100 pi =  3.1516934060711166 err =  6.293286059660909\n",
      "Iteration 101 pi =  3.1315929035585537 err =  6.273185557148347\n"
     ]
    }
   ],
   "source": [
    "from math import *\n",
    "\n",
    "sum = 0.0\n",
    "err = 1e-2\n",
    "k = 1\n",
    "\n",
    "while abs(pi-4*sum)>err:\n",
    "    sum += pow(-1, k+1) / (2*k-1)\n",
    "    k = k + 1\n",
    "    print(\"Iteration\", k, \"pi = \", 4*sum, \"err = \", abs(-pi-4*sum))"
   ]
  },
  {
   "cell_type": "markdown",
   "metadata": {
    "colab_type": "text",
    "id": "TrXaana3rmkJ"
   },
   "source": [
    "## Conditional statements"
   ]
  },
  {
   "cell_type": "code",
   "execution_count": 219,
   "metadata": {
    "colab": {
     "base_uri": "https://localhost:8080/",
     "height": 35
    },
    "colab_type": "code",
    "id": "ah8D8NCirmkJ",
    "outputId": "46613d34-e631-4360-886c-d60246bf692e"
   },
   "outputs": [
    {
     "name": "stdout",
     "output_type": "stream",
     "text": [
      "i = 0\n"
     ]
    }
   ],
   "source": [
    "i = 0\n",
    "if i == 0:\n",
    "    print(\"i = 0\")"
   ]
  },
  {
   "cell_type": "code",
   "execution_count": 220,
   "metadata": {
    "colab": {
     "base_uri": "https://localhost:8080/",
     "height": 35
    },
    "colab_type": "code",
    "id": "36Hp7-H4rmkL",
    "outputId": "ac143688-a534-4af9-892d-addc77b841b3"
   },
   "outputs": [
    {
     "name": "stdout",
     "output_type": "stream",
     "text": [
      "i = 0\n"
     ]
    }
   ],
   "source": [
    "if i == 0:\n",
    "    print(\"i = 0\")\n",
    "else:\n",
    "    print(\"i är inte 0\")"
   ]
  },
  {
   "cell_type": "code",
   "execution_count": 221,
   "metadata": {
    "colab": {
     "base_uri": "https://localhost:8080/",
     "height": 35
    },
    "colab_type": "code",
    "id": "UNT9WCs6rmkQ",
    "outputId": "64e0cc24-f97d-4bd5-df76-45489ec352fd"
   },
   "outputs": [
    {
     "name": "stdout",
     "output_type": "stream",
     "text": [
      "i == 0\n"
     ]
    }
   ],
   "source": [
    "if i == 0:\n",
    "    print(\"i == 0\")\n",
    "elif i < 1:\n",
    "    print(\"i < 1\")\n",
    "elif i > 1:\n",
    "    print(\"i > 1\")\n",
    "else:\n",
    "    print(\"Mittemellan\")"
   ]
  },
  {
   "cell_type": "markdown",
   "metadata": {
    "colab_type": "text",
    "id": "aYU7QWThrmkT"
   },
   "source": [
    "### Nested if-statements"
   ]
  },
  {
   "cell_type": "code",
   "execution_count": 222,
   "metadata": {
    "colab": {
     "base_uri": "https://localhost:8080/",
     "height": 35
    },
    "colab_type": "code",
    "id": "TWHWZuTWrmkT",
    "outputId": "ff6d2d05-8385-4203-86ff-d8fa37283b41"
   },
   "outputs": [
    {
     "name": "stdout",
     "output_type": "stream",
     "text": [
      "i == 0\n"
     ]
    }
   ],
   "source": [
    "if i == 0:\n",
    "    print(\"i == 0\")\n",
    "else:\n",
    "    if i > 0:\n",
    "        print(\"i > 0\")\n",
    "    elif i < 0:\n",
    "        print(\"i < 0\")"
   ]
  },
  {
   "cell_type": "markdown",
   "metadata": {
    "colab_type": "text",
    "id": "UaMItt6mrmkU"
   },
   "source": [
    "## Controlling loop-iterations\n",
    "\n",
    "An iteration can be controlled by:\n",
    "\n",
    "* break - exits the looop\n",
    "* continue - continue to next iteration"
   ]
  },
  {
   "cell_type": "code",
   "execution_count": 223,
   "metadata": {
    "colab": {
     "base_uri": "https://localhost:8080/",
     "height": 231
    },
    "colab_type": "code",
    "id": "CcxhLvuWrmkV",
    "outputId": "7ee03eda-e248-40e6-c34b-2ea1b666ad98"
   },
   "outputs": [
    {
     "name": "stdout",
     "output_type": "stream",
     "text": [
      "0\n",
      "1\n",
      "2\n",
      "3\n",
      "4\n",
      "Go to next iteration\n",
      "6\n",
      "7\n",
      "8\n",
      "9\n",
      "exits loop\n",
      "...after the loop\n"
     ]
    }
   ],
   "source": [
    "for i in range(20):\n",
    "    if i == 10:\n",
    "        print(\"exits loop\")\n",
    "        break\n",
    "    if i == 5:\n",
    "        print(\"Go to next iteration\")\n",
    "        continue\n",
    "    print(i)\n",
    "\n",
    "print(\"...after the loop\")"
   ]
  },
  {
   "cell_type": "markdown",
   "metadata": {
    "colab_type": "text",
    "id": "mbQtp1s5rmkX"
   },
   "source": [
    "# Functions and subroutines"
   ]
  },
  {
   "cell_type": "markdown",
   "metadata": {
    "colab_type": "text",
    "id": "SaLByqeGrmkX"
   },
   "source": [
    "* Functions are defined with the keyword **def** followed by the function name and parameters in brackets () followed by a colon (:)\n",
    "* Function code is defined in subsequent code blocks"
   ]
  },
  {
   "cell_type": "code",
   "execution_count": 224,
   "metadata": {
    "colab": {},
    "colab_type": "code",
    "id": "4g4gCCEVrmkX"
   },
   "outputs": [],
   "source": [
    "def print_doc():\n",
    "    print(\"Detta är en utskrift från en funktion\")"
   ]
  },
  {
   "cell_type": "markdown",
   "metadata": {
    "colab_type": "text",
    "id": "ebClcZ6ormka"
   },
   "source": [
    "Calling a function"
   ]
  },
  {
   "cell_type": "code",
   "execution_count": 225,
   "metadata": {
    "colab": {
     "base_uri": "https://localhost:8080/",
     "height": 35
    },
    "colab_type": "code",
    "id": "LkWsNpbwrmkb",
    "outputId": "c47899a1-a6e1-4542-f7c2-2f6e3cc0ba01"
   },
   "outputs": [
    {
     "name": "stdout",
     "output_type": "stream",
     "text": [
      "Detta är en utskrift från en funktion\n"
     ]
    }
   ],
   "source": [
    "print_doc()"
   ]
  },
  {
   "cell_type": "markdown",
   "metadata": {
    "colab_type": "text",
    "id": "18rMgMVxrmkd"
   },
   "source": [
    "Function with parameters"
   ]
  },
  {
   "cell_type": "code",
   "execution_count": 226,
   "metadata": {
    "colab": {},
    "colab_type": "code",
    "id": "Ck_N1yKdrmkd"
   },
   "outputs": [],
   "source": [
    "def print_value(a):\n",
    "    print(\"Värdet är \"+str(a))"
   ]
  },
  {
   "cell_type": "markdown",
   "metadata": {
    "colab_type": "text",
    "id": "EToxQclxrmkf"
   },
   "source": [
    "Calling a function with parameters"
   ]
  },
  {
   "cell_type": "code",
   "execution_count": 227,
   "metadata": {
    "colab": {
     "base_uri": "https://localhost:8080/",
     "height": 35
    },
    "colab_type": "code",
    "id": "tSabWj9Jrmkg",
    "outputId": "a0cba45e-d0d7-4659-e3ca-38764bff1934"
   },
   "outputs": [
    {
     "name": "stdout",
     "output_type": "stream",
     "text": [
      "Värdet är 42\n"
     ]
    }
   ],
   "source": [
    "b = 42\n",
    "print_value(b)"
   ]
  },
  {
   "cell_type": "markdown",
   "metadata": {
    "colab_type": "text",
    "id": "JOLFFQt1rmki"
   },
   "source": [
    "Changing parameters in function(?)"
   ]
  },
  {
   "cell_type": "code",
   "execution_count": 228,
   "metadata": {
    "colab": {},
    "colab_type": "code",
    "id": "NrH5aKtZrmkj"
   },
   "outputs": [],
   "source": [
    "def print_value(a):\n",
    "    print(\"Värdet är \"+str(a))\n",
    "    a = 84"
   ]
  },
  {
   "cell_type": "markdown",
   "metadata": {
    "colab_type": "text",
    "id": "cCN1hI18rmkk"
   },
   "source": [
    "Calling a function"
   ]
  },
  {
   "cell_type": "code",
   "execution_count": 229,
   "metadata": {
    "colab": {
     "base_uri": "https://localhost:8080/",
     "height": 35
    },
    "colab_type": "code",
    "id": "M4hcDt0Rrmkl",
    "outputId": "90d36af9-9d7a-4a1e-fb75-4d1256cf597d"
   },
   "outputs": [
    {
     "name": "stdout",
     "output_type": "stream",
     "text": [
      "Värdet är 42\n"
     ]
    }
   ],
   "source": [
    "b = 42\n",
    "print_value(b)"
   ]
  },
  {
   "cell_type": "markdown",
   "metadata": {
    "colab_type": "text",
    "id": "KZMbBqZcrmkn"
   },
   "source": [
    "## Return values"
   ]
  },
  {
   "cell_type": "code",
   "execution_count": 230,
   "metadata": {
    "colab": {
     "base_uri": "https://localhost:8080/",
     "height": 35
    },
    "colab_type": "code",
    "id": "tKNnA1k0rmkn",
    "outputId": "06f30da3-524b-46b6-d4a1-2bb75d7842b3"
   },
   "outputs": [
    {
     "name": "stdout",
     "output_type": "stream",
     "text": [
      "1.0\n"
     ]
    }
   ],
   "source": [
    "from math import *\n",
    "\n",
    "def f(x):\n",
    "    return sin(x)\n",
    "\n",
    "x = pi/2\n",
    "y = f(x)\n",
    "\n",
    "print(y)"
   ]
  },
  {
   "cell_type": "markdown",
   "metadata": {
    "colab_type": "text",
    "id": "qtMpmBrxrmkp"
   },
   "source": [
    "Functions can be used in complex expressions."
   ]
  },
  {
   "cell_type": "markdown",
   "metadata": {
    "colab_type": "text",
    "id": "WqoTNNXWrmkq"
   },
   "source": [
    "# Organising code in modules"
   ]
  },
  {
   "cell_type": "markdown",
   "metadata": {
    "colab_type": "text",
    "id": "VA2tUtoarmkq"
   },
   "source": [
    "## Using modules (import)"
   ]
  },
  {
   "cell_type": "markdown",
   "metadata": {
    "colab_type": "text",
    "id": "e6MP3WUFrmkq"
   },
   "source": [
    "Modules are library of code in Python. They can be built-in or add-ons. To use a module, it must be imported. In the following example, we import the Python math module **math** with the **import** statement."
   ]
  },
  {
   "cell_type": "code",
   "execution_count": null,
   "metadata": {
    "colab": {
     "base_uri": "https://localhost:8080/",
     "height": 35
    },
    "colab_type": "code",
    "id": "3KveY_43rmkq",
    "outputId": "f789fa69-ec48-492a-e964-925f2ddbac71"
   },
   "outputs": [],
   "source": [
    "import math\n",
    "\n",
    "print(math.sin(math.pi/2))"
   ]
  },
  {
   "cell_type": "markdown",
   "metadata": {
    "colab_type": "text",
    "id": "JJekp5j5rmkt"
   },
   "source": [
    "This form of import requires that all functions in the module are prefixed with the module name. In this case **math**. It is also possible to import all functions into a module without the prefix with the **from** import declaration."
   ]
  },
  {
   "cell_type": "code",
   "execution_count": null,
   "metadata": {
    "colab": {
     "base_uri": "https://localhost:8080/",
     "height": 35
    },
    "colab_type": "code",
    "id": "AubIwk0mrmku",
    "outputId": "8a5d8d7b-67b2-46f0-8764-e1f830b56f7a"
   },
   "outputs": [],
   "source": [
    "from math import *\n",
    "\n",
    "print(sin(pi/2))"
   ]
  },
  {
   "cell_type": "markdown",
   "metadata": {
    "colab_type": "text",
    "id": "KU0RZ4q3rmkw"
   },
   "source": [
    "The \\* in the **from** statement specifies that Python will import all functions from the module. This can be a problem as the import of functions using **from** can collide with already imported functions. It is also possible to explicitly import certain functions by listing them after the import word in a **from** statement."
   ]
  },
  {
   "cell_type": "code",
   "execution_count": null,
   "metadata": {
    "colab": {
     "base_uri": "https://localhost:8080/",
     "height": 35
    },
    "colab_type": "code",
    "id": "-0HcXC50rmkx",
    "outputId": "229519bc-0142-4c32-d032-8186014feb4d"
   },
   "outputs": [],
   "source": [
    "from math import sin, sqrt\n",
    "\n",
    "print(sqrt(2))"
   ]
  },
  {
   "cell_type": "markdown",
   "metadata": {
    "colab_type": "text",
    "id": "Gn2U0e3Rrmk1"
   },
   "source": [
    "All Python source files can be used as modules\n"
   ]
  },
  {
   "cell_type": "markdown",
   "metadata": {
    "colab_type": "text",
    "id": "5g0hdvhMrmk1"
   },
   "source": [
    "The following code is an example of a module **prime.py** that contains the function **is_prime()** to check if an integer value is a prime number.\n",
    "\n",
    "    # -*- coding: utf-8 -*-\n",
    "\n",
    "    from math import sqrt\n",
    "\n",
    "    def is_prime(n):\n",
    "\n",
    "        prime = True\n",
    "\n",
    "        k = 2\n",
    "        while k<=sqrt(n) and prime:\n",
    "            if (n % k == 0):\n",
    "                prime = False\n",
    "                break\n",
    "            k+=1      \n",
    "\n",
    "        return prime\n",
    "        \n"
   ]
  },
  {
   "cell_type": "markdown",
   "metadata": {
    "colab_type": "text",
    "id": "fMpQPI3-W5H0"
   },
   "source": [
    "Before we import it, we need to upload it to our notebook:"
   ]
  },
  {
   "cell_type": "code",
   "execution_count": null,
   "metadata": {
    "colab": {
     "base_uri": "https://localhost:8080/",
     "height": 214
    },
    "colab_type": "code",
    "id": "ndIIsZ9oV0dp",
    "outputId": "746edd48-b88e-4fdd-dd19-d87ac471ca93"
   },
   "outputs": [],
   "source": [
    "!wget https://raw.githubusercontent.com/jonaslindemann/guide_to_python/master/chapters/kapitel3/notebooks/prime.py"
   ]
  },
  {
   "cell_type": "markdown",
   "metadata": {
    "colab_type": "text",
    "id": "tccFDPFDXDXz"
   },
   "source": [
    "We can now use this module with the following statements:"
   ]
  },
  {
   "cell_type": "code",
   "execution_count": 231,
   "metadata": {
    "colab": {},
    "colab_type": "code",
    "id": "ugMxigeirmk2"
   },
   "outputs": [],
   "source": [
    "import prime"
   ]
  },
  {
   "cell_type": "markdown",
   "metadata": {
    "colab_type": "text",
    "id": "Oc8XeGwormk4"
   },
   "source": [
    "We can now use the function in the module:"
   ]
  },
  {
   "cell_type": "code",
   "execution_count": 232,
   "metadata": {
    "colab": {
     "base_uri": "https://localhost:8080/",
     "height": 35
    },
    "colab_type": "code",
    "id": "opF4jb1Nrmk5",
    "outputId": "7b8ab5d6-da96-451b-a9de-aa86bfe26f00"
   },
   "outputs": [
    {
     "name": "stdout",
     "output_type": "stream",
     "text": [
      "True\n"
     ]
    }
   ],
   "source": [
    "print(prime.is_prime(3))"
   ]
  },
  {
   "cell_type": "code",
   "execution_count": 233,
   "metadata": {
    "colab": {
     "base_uri": "https://localhost:8080/",
     "height": 35
    },
    "colab_type": "code",
    "id": "fO905reVrmk5",
    "outputId": "96e5702c-608f-4084-bac3-5f93bfd145cd"
   },
   "outputs": [
    {
     "name": "stdout",
     "output_type": "stream",
     "text": [
      "False\n"
     ]
    }
   ],
   "source": [
    "print(prime.is_prime(8))"
   ]
  },
  {
   "cell_type": "markdown",
   "metadata": {
    "colab_type": "text",
    "id": "ZsRCrGFqrmk7"
   },
   "source": [
    "## Main program and scripts in Python"
   ]
  },
  {
   "cell_type": "markdown",
   "metadata": {
    "colab_type": "text",
    "id": "9zxL1nmwrmk7"
   },
   "source": [
    "Python executes all code in a module or source file. Most other languages often define a main function that is run by the operating system. In Python, some source file is often considered the main module where the program has its starting point. In many cases, Python modules can be executed as scripts or imported as a module. If a module is imported, you often only want access to the built-in functions and not executable statements to run.\n",
    "\n",
    "When a python source file is imported, a specific variable, **__main__**, is assigned the name of the module. If the same source file is executed as a script, the variable will contain \"main\".\n",
    "\n",
    "We modify copy our prime.py module and create prime_extra.py with an extra print declaration that prints the name variable.\n",
    "\n",
    "    # -*- coding: utf-8 -*-\n",
    "\n",
    "    from math import sqrt\n",
    "    \n",
    "    print(__name__)\n",
    "\n",
    "    def is_prime(n):\n",
    "\n",
    "        prime = True\n",
    "\n",
    "        k = 2\n",
    "        while k<=sqrt(n) and prime:\n",
    "            if (n % k == 0):\n",
    "                prime = False\n",
    "                break\n",
    "            k+=1      \n",
    "\n",
    "        return prime\n",
    "        \n"
   ]
  },
  {
   "cell_type": "code",
   "execution_count": null,
   "metadata": {
    "colab": {
     "base_uri": "https://localhost:8080/",
     "height": 214
    },
    "colab_type": "code",
    "id": "vLjmUnlpYBtP",
    "outputId": "e90b049c-6afc-4f1b-ab07-cf617117ec58"
   },
   "outputs": [],
   "source": [
    "!wget https://raw.githubusercontent.com/jonaslindemann/guide_to_python/master/chapters/kapitel3/notebooks/prime_extra.py"
   ]
  },
  {
   "cell_type": "code",
   "execution_count": null,
   "metadata": {
    "colab": {
     "base_uri": "https://localhost:8080/",
     "height": 214
    },
    "colab_type": "code",
    "id": "zp5L9Y5DYX91",
    "outputId": "172a055d-3fd3-4263-cc9b-5bc28e454f92"
   },
   "outputs": [],
   "source": [
    "!wget https://raw.githubusercontent.com/jonaslindemann/guide_to_python/master/chapters/kapitel3/notebooks/prime_main.py"
   ]
  },
  {
   "cell_type": "code",
   "execution_count": 234,
   "metadata": {
    "colab": {
     "base_uri": "https://localhost:8080/",
     "height": 35
    },
    "colab_type": "code",
    "id": "FFo58mOarmk9",
    "outputId": "ff49fdd3-3de7-41bf-90f9-a9d44c16e528"
   },
   "outputs": [],
   "source": [
    "import prime_extra"
   ]
  },
  {
   "cell_type": "markdown",
   "metadata": {
    "colab_type": "text",
    "id": "tnP0zJLKrmk-"
   },
   "source": [
    "If we now execute the same file with the Python interpreter, we get a different result:"
   ]
  },
  {
   "cell_type": "code",
   "execution_count": 235,
   "metadata": {
    "colab": {
     "base_uri": "https://localhost:8080/",
     "height": 35
    },
    "colab_type": "code",
    "id": "CT488Kozrmk-",
    "outputId": "f57a12ed-a45f-415d-81dd-0ebb6eff629c"
   },
   "outputs": [
    {
     "name": "stdout",
     "output_type": "stream",
     "text": [
      "__main__\n"
     ]
    }
   ],
   "source": [
    "run prime_extra"
   ]
  },
  {
   "cell_type": "markdown",
   "metadata": {
    "colab_type": "text",
    "id": "BRX-MF27rmlA"
   },
   "source": [
    "That way we can create python source files that can both be imported and used as scripts. This is also a precaution to ensure that a python source file does not execute code incorrectly when imported as a module.\n",
    "\n",
    "Many Python projects often have a main python script to launch the main application. A typical master program (prime_main.py) is shown below:\n",
    "\n",
    "    # -*- coding: utf-8 -*-\n",
    "    \n",
    "    import prime\n",
    "    \n",
    "    if __name__ == \"__main__\":\n",
    "        \n",
    "        print(prime.is_prime(6))\n",
    "        print(prime.is_prime(5))\n",
    "        \n",
    "The code in the if-statement is only executed when run as a script."
   ]
  },
  {
   "cell_type": "code",
   "execution_count": 241,
   "metadata": {
    "colab": {
     "base_uri": "https://localhost:8080/",
     "height": 53
    },
    "colab_type": "code",
    "id": "q8iIkAQvrmlA",
    "outputId": "a5267945-87af-4bb0-cc0d-301180b47e4f"
   },
   "outputs": [
    {
     "name": "stdout",
     "output_type": "stream",
     "text": [
      "False\n",
      "True\n"
     ]
    }
   ],
   "source": [
    "run prime_main"
   ]
  },
  {
   "cell_type": "code",
   "execution_count": 242,
   "metadata": {
    "colab": {},
    "colab_type": "code",
    "id": "MkgQmd2xrmlB"
   },
   "outputs": [],
   "source": [
    "import prime_main"
   ]
  },
  {
   "cell_type": "markdown",
   "metadata": {
    "colab_type": "text",
    "id": "Sk4deUrlrmlD"
   },
   "source": [
    " # Formatting output data"
   ]
  },
  {
   "cell_type": "markdown",
   "metadata": {
    "colab_type": "text",
    "id": "zl_g_LW5rmlD"
   },
   "source": [
    "When printing, printing is often required in some way. Python contains many ways to do this. In Python 3, this is done using the **.format()** method of a string object. In the following example, values are placed in the string with placeholders \\{ \\}"
   ]
  },
  {
   "cell_type": "code",
   "execution_count": 243,
   "metadata": {
    "colab": {
     "base_uri": "https://localhost:8080/",
     "height": 35
    },
    "colab_type": "code",
    "id": "Cc36FPkKrmlD",
    "outputId": "b6a7def3-1a73-4908-b19e-736db9c6290b"
   },
   "outputs": [
    {
     "name": "stdout",
     "output_type": "stream",
     "text": [
      "2.0, 45.0, 1500, My string\n"
     ]
    }
   ],
   "source": [
    "a = 2.0\n",
    "b = 45.0\n",
    "c = 1500\n",
    "d = \"My string\"\n",
    "\n",
    "form_string = \"{}, {}, {}, {}\".format(a, b, c, d)\n",
    "\n",
    "print(form_string)"
   ]
  },
  {
   "cell_type": "markdown",
   "metadata": {
    "colab_type": "text",
    "id": "aN90vIudrmlF"
   },
   "source": [
    "You can also refer to the variable with indices in the placeholders."
   ]
  },
  {
   "cell_type": "code",
   "execution_count": 244,
   "metadata": {
    "colab": {
     "base_uri": "https://localhost:8080/",
     "height": 35
    },
    "colab_type": "code",
    "id": "L3CCs1JFrmlG",
    "outputId": "9cc48d21-513f-4a7e-95a8-cbecef09f91b"
   },
   "outputs": [
    {
     "name": "stdout",
     "output_type": "stream",
     "text": [
      "My string, 1500, 45.0, 2.0\n"
     ]
    }
   ],
   "source": [
    "form_string = \"{3}, {2}, {1}, {0}\".format(a, b, c, d)\n",
    "print(form_string)"
   ]
  },
  {
   "cell_type": "markdown",
   "metadata": {
    "colab_type": "text",
    "id": "Ca0AptwJrmlI"
   },
   "source": [
    "## String formatting"
   ]
  },
  {
   "cell_type": "markdown",
   "metadata": {
    "colab_type": "text",
    "id": "VisYAmLrrmlJ"
   },
   "source": [
    "For string variables, a width can be given for printing. The given string will then be placed within the specified width. By default, the string is left-aligned in the field. In the following example, the string \"Python 3\" is placed in a 15-character wide field with different formatting options"
   ]
  },
  {
   "cell_type": "code",
   "execution_count": 245,
   "metadata": {
    "colab": {},
    "colab_type": "code",
    "id": "aKgvkn5DrmlK",
    "outputId": "78b7ac9d-172c-4bcd-8c7c-e76c4d48aa93"
   },
   "outputs": [
    {
     "name": "stdout",
     "output_type": "stream",
     "text": [
      ">Python 3       <\n"
     ]
    }
   ],
   "source": [
    "form_string = \">{:15}<\".format(\"Python 3\")\n",
    "print(form_string)"
   ]
  },
  {
   "cell_type": "markdown",
   "metadata": {
    "colab_type": "text",
    "id": "Bel7TNYTrmlL"
   },
   "source": [
    "Right alignment is done by using > in the placeholder.\n"
   ]
  },
  {
   "cell_type": "code",
   "execution_count": 246,
   "metadata": {
    "colab": {
     "base_uri": "https://localhost:8080/",
     "height": 35
    },
    "colab_type": "code",
    "id": "hOhWt8GxrmlL",
    "outputId": "9a16e2b0-3919-4faa-b8e0-22cb043e5876"
   },
   "outputs": [
    {
     "name": "stdout",
     "output_type": "stream",
     "text": [
      ">       Python 3<\n"
     ]
    }
   ],
   "source": [
    "form_string = \">{:>15}<\".format(\"Python 3\")\n",
    "print(form_string)"
   ]
  },
  {
   "cell_type": "markdown",
   "metadata": {
    "colab_type": "text",
    "id": "mmgbgwTXrmlO"
   },
   "source": [
    "Centering is achieved by using the ^ operator\n"
   ]
  },
  {
   "cell_type": "code",
   "execution_count": 247,
   "metadata": {
    "colab": {
     "base_uri": "https://localhost:8080/",
     "height": 35
    },
    "colab_type": "code",
    "id": "cmvKXekMrmlO",
    "outputId": "ab5578ba-48fd-4aa1-abea-f8f87d00ae36"
   },
   "outputs": [
    {
     "name": "stdout",
     "output_type": "stream",
     "text": [
      ">   Python 3    <\n"
     ]
    }
   ],
   "source": [
    "form_string = \">{:^15}<\".format(\"Python 3\")\n",
    "print(form_string)"
   ]
  },
  {
   "cell_type": "markdown",
   "metadata": {
    "colab_type": "text",
    "id": "qmDtDGuTrmlP"
   },
   "source": [
    "To fill in, enter a fill character in the placeholder:\n"
   ]
  },
  {
   "cell_type": "code",
   "execution_count": 248,
   "metadata": {
    "colab": {
     "base_uri": "https://localhost:8080/",
     "height": 35
    },
    "colab_type": "code",
    "id": "Y6Qb1GuwrmlQ",
    "outputId": "781afcd0-5395-452e-d0e2-f8d1c436339b"
   },
   "outputs": [
    {
     "name": "stdout",
     "output_type": "stream",
     "text": [
      ">___Python 3____<\n"
     ]
    }
   ],
   "source": [
    "form_string = \">{:_^15}<\".format(\"Python 3\")\n",
    "print(form_string)"
   ]
  },
  {
   "cell_type": "markdown",
   "metadata": {
    "colab_type": "text",
    "id": "kOsdXBWtrmlR"
   },
   "source": [
    "## Formatting of integers\n"
   ]
  },
  {
   "cell_type": "markdown",
   "metadata": {
    "colab_type": "text",
    "id": "1pwZ9FPhrmlS"
   },
   "source": [
    "Just as for strings, printing of integers can also be controlled with placeholders. The placeholder for integers is **\\{:d\\}** as shown in the example below:"
   ]
  },
  {
   "cell_type": "code",
   "execution_count": 249,
   "metadata": {
    "colab": {
     "base_uri": "https://localhost:8080/",
     "height": 35
    },
    "colab_type": "code",
    "id": "TnxO8WjFrmlS",
    "outputId": "d6688bb2-a7ac-4dbf-d8c3-d9dcfbce9c68"
   },
   "outputs": [
    {
     "name": "stdout",
     "output_type": "stream",
     "text": [
      ">42<\n"
     ]
    }
   ],
   "source": [
    "form_string = \">{:d}<\".format(42)\n",
    "print(form_string)"
   ]
  },
  {
   "cell_type": "markdown",
   "metadata": {
    "colab_type": "text",
    "id": "nXZTsittrmlU"
   },
   "source": [
    "The field width can also be controlled just as for strings:"
   ]
  },
  {
   "cell_type": "code",
   "execution_count": 250,
   "metadata": {
    "colab": {
     "base_uri": "https://localhost:8080/",
     "height": 106
    },
    "colab_type": "code",
    "id": "qw7HRUIGrmlU",
    "outputId": "c5afada0-2cdc-42ee-8ea4-0f4cbea014b8"
   },
   "outputs": [
    {
     "name": "stdout",
     "output_type": "stream",
     "text": [
      ">        42<\n",
      ">        42<\n",
      ">42        <\n",
      ">    42    <\n",
      ">42________<\n"
     ]
    }
   ],
   "source": [
    "print(\">{:10d}<\".format(42))\n",
    "print(\">{:>10d}<\".format(42))\n",
    "print(\">{:<10d}<\".format(42))\n",
    "print(\">{:^10d}<\".format(42))\n",
    "print(\">{:_<10d}<\".format(42))"
   ]
  },
  {
   "cell_type": "markdown",
   "metadata": {
    "colab_type": "text",
    "id": "7_Si7LTxrmll"
   },
   "source": [
    "## Formatting floating point values"
   ]
  },
  {
   "cell_type": "markdown",
   "metadata": {
    "colab_type": "text",
    "id": "oimO9vxJrmll"
   },
   "source": [
    "Fixed form of floating point is formatted using the **\\{:f\\}** placeholder. Field width and number of decimal places can be specified. In the following example, the field width 10 and the number of decimal places are varied from 2 to 6."
   ]
  },
  {
   "cell_type": "code",
   "execution_count": 251,
   "metadata": {
    "colab": {
     "base_uri": "https://localhost:8080/",
     "height": 71
    },
    "colab_type": "code",
    "id": "U2_UZntZrmll",
    "outputId": "c4f81a40-693b-44ac-baee-caebaa57a95d"
   },
   "outputs": [
    {
     "name": "stdout",
     "output_type": "stream",
     "text": [
      ">      3.14<\n",
      ">    3.1416<\n",
      ">  3.141593<\n"
     ]
    }
   ],
   "source": [
    "print(\">{:10.2f}<\".format(3.141592653589793))\n",
    "print(\">{:10.4f}<\".format(3.141592653589793))\n",
    "print(\">{:10.6f}<\".format(3.141592653589793))"
   ]
  },
  {
   "cell_type": "markdown",
   "metadata": {
    "colab_type": "text",
    "id": "762ubqocrmlm"
   },
   "source": [
    "Scientific notation can be specified with the placeholder **{:e}**."
   ]
  },
  {
   "cell_type": "code",
   "execution_count": 252,
   "metadata": {
    "colab": {
     "base_uri": "https://localhost:8080/",
     "height": 71
    },
    "colab_type": "code",
    "id": "IDVT5x5Frmln",
    "outputId": "306192ec-0f3b-4d55-d499-958ea911959a"
   },
   "outputs": [
    {
     "name": "stdout",
     "output_type": "stream",
     "text": [
      ">       3.14e+00<\n",
      ">     3.1416e+00<\n",
      ">   3.141593e+00<\n"
     ]
    }
   ],
   "source": [
    "print(\">{:15.2e}<\".format(3.141592653589793))\n",
    "print(\">{:15.4e}<\".format(3.141592653589793))\n",
    "print(\">{:15.6e}<\".format(3.141592653589793))"
   ]
  },
  {
   "cell_type": "markdown",
   "metadata": {
    "colab_type": "text",
    "id": "uq7z_nWBrmlo"
   },
   "source": [
    "## Named placeholders"
   ]
  },
  {
   "cell_type": "markdown",
   "metadata": {
    "colab_type": "text",
    "id": "FN9umca0rmlo"
   },
   "source": [
    "To support more complex formatting, it is possible to use named placeholders with the **.format()** method. Parameters must then be named in the call to the **.format()** method:"
   ]
  },
  {
   "cell_type": "code",
   "execution_count": 253,
   "metadata": {
    "colab": {
     "base_uri": "https://localhost:8080/",
     "height": 35
    },
    "colab_type": "code",
    "id": "nLDhzqeSrmlp",
    "outputId": "e2167d3f-cf74-4540-e326-2737f1b801c4"
   },
   "outputs": [
    {
     "name": "stdout",
     "output_type": "stream",
     "text": [
      "(0.0, 2.0)\n"
     ]
    }
   ],
   "source": [
    "print(\"({x}, {y})\".format(x = 0.0, y = 2.0))"
   ]
  },
  {
   "cell_type": "markdown",
   "metadata": {
    "colab_type": "text",
    "id": "m5uc2ebArmlq"
   },
   "source": [
    "It is also possible to directly use a dictionary in the **.format()** method.\n"
   ]
  },
  {
   "cell_type": "code",
   "execution_count": 254,
   "metadata": {
    "colab": {
     "base_uri": "https://localhost:8080/",
     "height": 35
    },
    "colab_type": "code",
    "id": "23XemrXPrmlq",
    "outputId": "7f4906b4-f156-4ba5-d7dc-f5239d416afc"
   },
   "outputs": [
    {
     "name": "stdout",
     "output_type": "stream",
     "text": [
      "42, 3.14, Python\n"
     ]
    }
   ],
   "source": [
    "params = {\"value1\": 42, \"value2\": 3.14, \"value3\": \"Python\"}\n",
    "print(\"{value1}, {value2}, {value3}\".format(**params))"
   ]
  },
  {
   "cell_type": "markdown",
   "metadata": {
    "colab_type": "text",
    "id": "tSBxEmuMrmls"
   },
   "source": [
    "Everything in Python is stored in lookup lists, even the variables are defined in a lookup list. In the following example, variables are defined in the script and the glossary of global variables can be returned with the **globals()** function."
   ]
  },
  {
   "cell_type": "code",
   "execution_count": 258,
   "metadata": {
    "colab": {
     "base_uri": "https://localhost:8080/",
     "height": 35
    },
    "colab_type": "code",
    "id": "E7Ozao4Ormlt",
    "outputId": "510133ee-1250-479d-e28b-ffd285b36072"
   },
   "outputs": [
    {
     "name": "stdout",
     "output_type": "stream",
     "text": [
      "34, 84, Easy as pie!\n"
     ]
    }
   ],
   "source": [
    "value1 = 34\n",
    "value2 = 84\n",
    "value3 = \"Easy as pie!\"\n",
    "print(\"{value1}, {value2}, {value3}\".format(**globals()))"
   ]
  },
  {
   "cell_type": "markdown",
   "metadata": {
    "colab_type": "text",
    "id": "fq7QJVR3rmlu"
   },
   "source": [
    "# Reading and writing files"
   ]
  },
  {
   "cell_type": "markdown",
   "metadata": {
    "colab_type": "text",
    "id": "RzbheewRrmlv"
   },
   "source": [
    "One of the most important tasks in many applications is the ability to read and write files. To read and write files in Python, a special file object must be created. This file object creates a link between Python and a file in the file system. With this object you can then write and read from the selected file.\n",
    "\n",
    "A file object is created with the **open()** statement."
   ]
  },
  {
   "cell_type": "markdown",
   "metadata": {
    "colab_type": "text",
    "id": "qKYfDI79rmlv"
   },
   "source": [
    "## Writing to a file"
   ]
  },
  {
   "cell_type": "markdown",
   "metadata": {
    "colab_type": "text",
    "id": "rUjW7WwVrmlw"
   },
   "source": [
    "Text files are stored as rows of text. A text file can be opened for writing with the **open()** function.\n"
   ]
  },
  {
   "cell_type": "code",
   "execution_count": null,
   "metadata": {
    "colab": {},
    "colab_type": "code",
    "id": "D_zvm8lurmlx"
   },
   "outputs": [],
   "source": [
    "text_file = open(\"myfile.txt\", \"w\")"
   ]
  },
  {
   "cell_type": "markdown",
   "metadata": {
    "colab_type": "text",
    "id": "-ufvtSabrmly"
   },
   "source": [
    "**text_file** is now our link to the file **myfile.txt** to which we will write.\n",
    "\n",
    "Writing to the file is done using the **.write()** method. The method basically acts as the **print()** function except that it adds aging to the control character for a new row after the call. New rows must specify the strings that are written to the file. In the following code writes to the file 3 times to print 2 lines."
   ]
  },
  {
   "cell_type": "code",
   "execution_count": null,
   "metadata": {
    "colab": {
     "base_uri": "https://localhost:8080/",
     "height": 35
    },
    "colab_type": "code",
    "id": "3Mwbm2svrmly",
    "outputId": "065e5a04-cdbf-4ad9-9ff9-5394d33432c1"
   },
   "outputs": [],
   "source": [
    "text_file.write(\"Filens innehåll. \")\n",
    "text_file.write(\"Detta skrivs ut på samma rad.\\n\")\n",
    "text_file.write(\"Denna text kommer på en ny rad\")"
   ]
  },
  {
   "cell_type": "markdown",
   "metadata": {
    "colab_type": "text",
    "id": "2jvPhDy5rml0"
   },
   "source": [
    "When we are ready to write to our file, it must be closed so that the operating system does not think it is still open. This is done with the meotden **.close()**."
   ]
  },
  {
   "cell_type": "code",
   "execution_count": null,
   "metadata": {
    "colab": {},
    "colab_type": "code",
    "id": "7gtWJ2jRrml0"
   },
   "outputs": [],
   "source": [
    "text_file.close()"
   ]
  },
  {
   "cell_type": "markdown",
   "metadata": {
    "colab_type": "text",
    "id": "MfoZXMTMrml2"
   },
   "source": [
    "The contents of the file is now:"
   ]
  },
  {
   "cell_type": "code",
   "execution_count": null,
   "metadata": {
    "colab": {
     "base_uri": "https://localhost:8080/",
     "height": 53
    },
    "colab_type": "code",
    "id": "Dn_V6WJdrml2",
    "outputId": "f0675777-f2de-4096-f287-be713f92fcd7"
   },
   "outputs": [],
   "source": [
    "!cat myfile.txt"
   ]
  },
  {
   "cell_type": "markdown",
   "metadata": {
    "colab_type": "text",
    "id": "PTYnxdfrrml3"
   },
   "source": [
    "## Reading from a file"
   ]
  },
  {
   "cell_type": "markdown",
   "metadata": {
    "colab_type": "text",
    "id": "81FMnIktrml3"
   },
   "source": [
    "Opening a file for reading also happens with the **open()** function and the extra parameter \"r\""
   ]
  },
  {
   "cell_type": "code",
   "execution_count": null,
   "metadata": {
    "colab": {},
    "colab_type": "code",
    "id": "-ch5fWW7rml3"
   },
   "outputs": [],
   "source": [
    "text_file = open(\"myfile.txt\", \"r\")"
   ]
  },
  {
   "cell_type": "markdown",
   "metadata": {
    "colab_type": "text",
    "id": "AXbf5eKXrml6"
   },
   "source": [
    "The entire file can be read into a string using the **.read()** method."
   ]
  },
  {
   "cell_type": "code",
   "execution_count": null,
   "metadata": {
    "colab": {
     "base_uri": "https://localhost:8080/",
     "height": 53
    },
    "colab_type": "code",
    "id": "KEuu8waCrml6",
    "outputId": "e1407268-38f1-4fbb-eb41-9e69969e3881"
   },
   "outputs": [],
   "source": [
    "content = text_file.read()\n",
    "text_file.close()\n",
    "\n",
    "print(content)"
   ]
  },
  {
   "cell_type": "markdown",
   "metadata": {
    "colab_type": "text",
    "id": "Rwcua3Nbrml7"
   },
   "source": [
    "Using **.read()** for large files can be very inefficient as the entire file must be stored in a single string. Then it is better to use the **.readline()** method to read one line at a time."
   ]
  },
  {
   "cell_type": "code",
   "execution_count": null,
   "metadata": {
    "colab": {
     "base_uri": "https://localhost:8080/",
     "height": 71
    },
    "colab_type": "code",
    "id": "Iit_IEvbrml7",
    "outputId": "c1b8ad50-4d27-4992-f6ec-1123bcacf3e4"
   },
   "outputs": [],
   "source": [
    "text_file = open(\"myfile.txt\", \"r\")\n",
    "\n",
    "line = text_file.readline()\n",
    "while line!='':\n",
    "    print(\">\"+line)\n",
    "    line = text_file.readline()\n",
    "    \n",
    "text_file.close()"
   ]
  },
  {
   "cell_type": "markdown",
   "metadata": {
    "colab_type": "text",
    "id": "aSFSkAT6rml9"
   },
   "source": [
    "The line between the print statements is because **.readline()** also reads any return characters from the files. We can use **.rstrip()** to remove these control characters."
   ]
  },
  {
   "cell_type": "code",
   "execution_count": null,
   "metadata": {
    "colab": {
     "base_uri": "https://localhost:8080/",
     "height": 53
    },
    "colab_type": "code",
    "id": "ybHaxOWYrml9",
    "outputId": "13e51782-04e4-4251-d10d-a58fef37e96e"
   },
   "outputs": [],
   "source": [
    "text_file = open(\"myfile.txt\", \"r\")\n",
    "\n",
    "line = text_file.readline().rstrip()\n",
    "\n",
    "while line!='':\n",
    "    print(\">\"+line)\n",
    "    line = text_file.readline().rstrip()\n",
    "\n",
    "text_file.close()"
   ]
  },
  {
   "cell_type": "markdown",
   "metadata": {
    "colab_type": "text",
    "id": "0TDzNthxrmmA"
   },
   "source": [
    "It is also possible to iterate over a file using the statement:"
   ]
  },
  {
   "cell_type": "code",
   "execution_count": null,
   "metadata": {
    "colab": {
     "base_uri": "https://localhost:8080/",
     "height": 53
    },
    "colab_type": "code",
    "id": "5wxta1ZPrmmA",
    "outputId": "0c255917-5e6f-4748-e11c-e40168d542cd"
   },
   "outputs": [],
   "source": [
    "text_file = open(\"myfile.txt\", \"r\")\n",
    "\n",
    "for line in text_file:\n",
    "    print(\">\"+line.rstrip())\n",
    "\n",
    "text_file.close()"
   ]
  },
  {
   "cell_type": "markdown",
   "metadata": {
    "colab_type": "text",
    "id": "x72QcNA7rmmB"
   },
   "source": [
    "Det går att läsa in hela filen till en lista av strängar genom att använda metoden **.readlines()** på filobjektet."
   ]
  },
  {
   "cell_type": "code",
   "execution_count": null,
   "metadata": {
    "colab": {
     "base_uri": "https://localhost:8080/",
     "height": 35
    },
    "colab_type": "code",
    "id": "1fFm4zOcrmmB",
    "outputId": "e0d26fb9-6c48-4799-f4f5-029a38dc858c"
   },
   "outputs": [],
   "source": [
    "text_file = open(\"myfile.txt\", \"r\")\n",
    "lines = text_file.readlines()\n",
    "text_file.close()\n",
    "\n",
    "print(lines)"
   ]
  },
  {
   "cell_type": "markdown",
   "metadata": {
    "colab_type": "text",
    "id": "_2ayLOWarmmE"
   },
   "source": [
    "## Open files using the with-statement"
   ]
  },
  {
   "cell_type": "markdown",
   "metadata": {
    "colab_type": "text",
    "id": "BE9iHHorrmmE"
   },
   "source": [
    "Closing files after use is very important. To ensure that **.close()** will always be called, a special language construct, the **with** statement can be used. The code block for a ** with ** statement guarantees that the **.close()** method is always called.\n",
    "\n",
    "The following code opens a file with the **with** statement"
   ]
  },
  {
   "cell_type": "code",
   "execution_count": null,
   "metadata": {
    "colab": {
     "base_uri": "https://localhost:8080/",
     "height": 35
    },
    "colab_type": "code",
    "id": "BXLY7oCirmmE",
    "outputId": "43567576-65c1-47b3-f7ae-98270ed92a82"
   },
   "outputs": [],
   "source": [
    "with open(\"myfile.txt\", \"r\") as text_file:\n",
    "    lines = text_file.readlines()\n",
    "\n",
    "print(lines)"
   ]
  },
  {
   "cell_type": "markdown",
   "metadata": {
    "colab_type": "text",
    "id": "riNMCKkOrmmG"
   },
   "source": [
    "# Error handling"
   ]
  },
  {
   "cell_type": "markdown",
   "metadata": {
    "colab_type": "text",
    "id": "zPyY2K1vrmmH"
   },
   "source": [
    "Error management is often handled by calling features to investigate error status and then taking action depending on what the function returns. Handling errors in this way often makes the code easily complex. The following example checks whether a file exists before opening it. However, there may be several reasons why a file cannot be opened, which is not handled by the example:"
   ]
  },
  {
   "cell_type": "code",
   "execution_count": null,
   "metadata": {
    "colab": {
     "base_uri": "https://localhost:8080/",
     "height": 35
    },
    "colab_type": "code",
    "id": "ZopQbIMFrmmH",
    "outputId": "ae3832ef-ed73-4362-a2fd-3558b9c6cf4f"
   },
   "outputs": [],
   "source": [
    "import os\n",
    "\n",
    "filename = \"myfil.txt\"\n",
    "\n",
    "if os.path.exists(filename):\n",
    "    with open(filename, \"r\") as text_file:\n",
    "        lines = text_file.readlines()\n",
    "else:\n",
    "    print(\"Filen \"+filename+\" hittades inte!\")"
   ]
  },
  {
   "cell_type": "markdown",
   "metadata": {
    "colab_type": "text",
    "id": "XzTrhUn7rmmI"
   },
   "source": [
    "## Error handling with exceptions"
   ]
  },
  {
   "cell_type": "markdown",
   "metadata": {
    "colab_type": "text",
    "id": "MZDFc4ukrmmI"
   },
   "source": [
    "The most common way to handle errors in Python is through exceptions. Most features in Python generate exceptions when an error occurs. You probably have these when your code doesn't work. If you run the following example, an exception is generated."
   ]
  },
  {
   "cell_type": "code",
   "execution_count": null,
   "metadata": {
    "colab": {
     "base_uri": "https://localhost:8080/",
     "height": 187
    },
    "colab_type": "code",
    "id": "M2BxYDGGrmmI",
    "outputId": "c6c1f740-ddef-41c7-a465-05617ea70e5f"
   },
   "outputs": [],
   "source": [
    "with open(\"myfil.txt\", \"r\") as text_file:\n",
    "    lines = text_file.readlines()"
   ]
  },
  {
   "cell_type": "markdown",
   "metadata": {
    "colab_type": "text",
    "id": "Cpn-EjFQrmmK"
   },
   "source": [
    "FileNotFoundError is an exception. We can improve our code to handle all exceptions by using the **try..except** statement."
   ]
  },
  {
   "cell_type": "code",
   "execution_count": null,
   "metadata": {
    "colab": {
     "base_uri": "https://localhost:8080/",
     "height": 35
    },
    "colab_type": "code",
    "id": "H1U0XwdirmmK",
    "outputId": "077b55a3-b16e-462e-d676-37be0dd10aee"
   },
   "outputs": [],
   "source": [
    "try:\n",
    "    with open(\"myfil.txt\", \"r\") as text_file:\n",
    "        lines = text_file.readlines()\n",
    "except:\n",
    "    print(\"Filen kunde inte öppnas\")"
   ]
  },
  {
   "cell_type": "markdown",
   "metadata": {
    "colab_type": "text",
    "id": "kurLt5-KrmmL"
   },
   "source": [
    "The problem with the above code is it captures **all** exceptions. The errors cannot be distinguished."
   ]
  },
  {
   "cell_type": "markdown",
   "metadata": {
    "colab_type": "text",
    "id": "fay28tKJrmmL"
   },
   "source": [
    "## Handling specific exceptions\n"
   ]
  },
  {
   "cell_type": "markdown",
   "metadata": {
    "colab_type": "text",
    "id": "NOzaavuZrmmL"
   },
   "source": [
    "You can specify which exceptions you are interested in by modifying the **try..except** statement according to:\n"
   ]
  },
  {
   "cell_type": "code",
   "execution_count": null,
   "metadata": {
    "colab": {
     "base_uri": "https://localhost:8080/",
     "height": 35
    },
    "colab_type": "code",
    "id": "nT5IYQSSrmmM",
    "outputId": "5940a289-5911-444d-a4ba-d37265e33a8b"
   },
   "outputs": [],
   "source": [
    "try:\n",
    "    with open(\"myfil.txt\", \"r\") as text_file:\n",
    "        lines = text_file.readlines()\n",
    "except FileNotFoundError:\n",
    "    print(\"Filen hittades inte.\")"
   ]
  },
  {
   "cell_type": "markdown",
   "metadata": {
    "colab_type": "text",
    "id": "kd83jHw1rmmN"
   },
   "source": [
    "The code can be extended to even handle the PermissionDenied exception that is generated if you do not have permission to read a file. More exceptions are specified with more **except** blocks in the code for the specific exceptions."
   ]
  },
  {
   "cell_type": "code",
   "execution_count": null,
   "metadata": {
    "colab": {
     "base_uri": "https://localhost:8080/",
     "height": 35
    },
    "colab_type": "code",
    "id": "W1YwlL8zrmmO",
    "outputId": "f15c90c5-afb8-4efc-8a7e-ee5ee452dbaa"
   },
   "outputs": [],
   "source": [
    "try:\n",
    "    with open(\"myfil.txt\", \"r\") as text_file:\n",
    "        lines = text_file.readlines()\n",
    "except FileNotFoundError:\n",
    "    print(\"Filen hittades inte.\")\n",
    "except PermissionError:\n",
    "    print(\"Vi har inte rätt att läsa filen.\")"
   ]
  },
  {
   "cell_type": "markdown",
   "metadata": {
    "colab_type": "text",
    "id": "nOO8J2DRrmmP"
   },
   "source": [
    "In this way we can handle various exceptions more fine-grained."
   ]
  },
  {
   "cell_type": "markdown",
   "metadata": {
    "colab_type": "text",
    "id": "8UDi1rKcrmmP"
   },
   "source": [
    "## Additional information from exceptions"
   ]
  },
  {
   "cell_type": "markdown",
   "metadata": {
    "colab_type": "text",
    "id": "EBVQRcehrmmQ"
   },
   "source": [
    "Many exceptions send with extra information with the exception. To get this information, we need to add an exception item in the **try..except** statement:"
   ]
  },
  {
   "cell_type": "code",
   "execution_count": null,
   "metadata": {
    "colab": {
     "base_uri": "https://localhost:8080/",
     "height": 35
    },
    "colab_type": "code",
    "id": "frmXcA-ormmQ",
    "outputId": "3cd753c9-bbd3-4fd9-a654-fb7077f89eab"
   },
   "outputs": [],
   "source": [
    "try:\n",
    "    with open(\"myfil.txt\", \"r\") as text_file:\n",
    "        lines = text_file.readlines()\n",
    "except FileNotFoundError as e:\n",
    "    print(\"Filen\", e.filename, \"kunde inte öppnas.\")\n",
    "except PermissionError as e:\n",
    "    print(\"Felsträngen är '\"+e.strerror+\"'\")"
   ]
  },
  {
   "cell_type": "markdown",
   "metadata": {
    "colab_type": "text",
    "id": "3a0Yrz-KrmmR"
   },
   "source": [
    "## Ensuring code execution after an execption"
   ]
  },
  {
   "cell_type": "markdown",
   "metadata": {
    "colab_type": "text",
    "id": "SHnCdWZ3rmmR"
   },
   "source": [
    "Python also offers the **try..finally** statement, which ensures that the code in the **finally** block is always executed even if an exception is generated. The following examples illustrate this."
   ]
  },
  {
   "cell_type": "code",
   "execution_count": null,
   "metadata": {
    "colab": {
     "base_uri": "https://localhost:8080/",
     "height": 214
    },
    "colab_type": "code",
    "id": "diLAl6t-f20i",
    "outputId": "f79e23f7-7108-45a8-cb0e-936523cc2055"
   },
   "outputs": [],
   "source": [
    "!wget https://raw.githubusercontent.com/jonaslindemann/guide_to_python/master/chapters/kapitel3/notebooks/numbers.txt"
   ]
  },
  {
   "cell_type": "code",
   "execution_count": null,
   "metadata": {
    "colab": {
     "base_uri": "https://localhost:8080/",
     "height": 53
    },
    "colab_type": "code",
    "id": "yBhh0hClrmmS",
    "outputId": "1466085b-ebdc-49aa-c135-03b1f3dceab6"
   },
   "outputs": [],
   "source": [
    "try:\n",
    "    input_file = open(\"numbers.txt\", \"r\")\n",
    "    output_file = open(\"sums.txt\", \"w\")\n",
    "    lines = input_file.readlines()\n",
    "    for line in lines:\n",
    "        items = line.strip().split()\n",
    "        numbers = []\n",
    "        for item in items:\n",
    "            numbers.append(int(item))\n",
    "        \n",
    "        output_file.write(\"%d\\n\" % sum(numbers))\n",
    "except ValueError:\n",
    "    print(\"Felaktiga indata på rad\", line)\n",
    "finally:\n",
    "    print(\"Stäng öppna filer.\")\n",
    "    input_file.close()\n",
    "    output_file.close()"
   ]
  },
  {
   "cell_type": "code",
   "execution_count": null,
   "metadata": {
    "colab": {},
    "colab_type": "code",
    "id": "5tLZnryRrmmS"
   },
   "outputs": [],
   "source": []
  }
 ],
 "metadata": {
  "colab": {
   "name": "Introduction to Python.ipynb",
   "provenance": [],
   "toc_visible": true,
   "version": "0.3.2"
  },
  "kernelspec": {
   "display_name": "Python 3",
   "language": "python",
   "name": "python3"
  },
  "language_info": {
   "codemirror_mode": {
    "name": "ipython",
    "version": 3
   },
   "file_extension": ".py",
   "mimetype": "text/x-python",
   "name": "python",
   "nbconvert_exporter": "python",
   "pygments_lexer": "ipython3",
   "version": "3.7.3"
  }
 },
 "nbformat": 4,
 "nbformat_minor": 1
}
