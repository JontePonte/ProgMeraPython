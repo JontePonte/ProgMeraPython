{
  "nbformat": 4,
  "nbformat_minor": 0,
  "metadata": {
    "colab": {
      "name": "Introduction to NumPy.ipynb",
      "version": "0.3.2",
      "provenance": [],
      "toc_visible": true
    },
    "language_info": {
      "codemirror_mode": {
        "name": "ipython",
        "version": 3
      },
      "file_extension": ".py",
      "mimetype": "text/x-python",
      "name": "python",
      "nbconvert_exporter": "python",
      "pygments_lexer": "ipython3",
      "version": "3.6.5"
    },
    "kernelspec": {
      "display_name": "Python 3",
      "language": "python",
      "name": "python3"
    }
  },
  "cells": [
    {
      "metadata": {
        "id": "PHQIhI4AJ_En",
        "colab_type": "text"
      },
      "cell_type": "markdown",
      "source": [
        "# Om NumPy\n",
        "\n",
        "* Python-tillägg för att hantera stora arrayer av samma datatyper.\n",
        "  * Vektorer\n",
        "  * Matriser\n",
        "  * ...\n",
        "* Normala datastrukturer i Python är flexibla, men för långsamma för numeriska operationer."
      ]
    },
    {
      "metadata": {
        "id": "6X5eYkzaJ_Ew",
        "colab_type": "text"
      },
      "cell_type": "markdown",
      "source": [
        "# Använda NumPy\n",
        "\n",
        "NumPy importeras enligt följande konvention."
      ]
    },
    {
      "metadata": {
        "id": "ibj88ipqJ_Ez",
        "colab_type": "code",
        "colab": {}
      },
      "cell_type": "code",
      "source": [
        "import numpy as np"
      ],
      "execution_count": 0,
      "outputs": []
    },
    {
      "metadata": {
        "id": "vu5lluaiJ_E_",
        "colab_type": "text"
      },
      "cell_type": "markdown",
      "source": [
        "Anledningen till att vi inte bara importerar **numpy** utan importerar den som **np** är för att slippa skriva **numpy.** framför varje sats eller uttryck vi skriver. Det är inte heller rekommenderat att använda **from** för att importera NumPy eftersom det kan krocka med andra funktioner i Python.\n"
      ]
    },
    {
      "metadata": {
        "id": "CGA6ivkiJ_FB",
        "colab_type": "text"
      },
      "cell_type": "markdown",
      "source": [
        "# Array-objekt\n",
        "\n",
        "Array-objektet är den huvudsakliga datatype in NumPy. För att vara effektiva vid numeriska operationer allokeras alla array-objekt som kontinuerliga block av värden i minnet.\n"
      ]
    },
    {
      "metadata": {
        "id": "6wiX2ti8J_FF",
        "colab_type": "text"
      },
      "cell_type": "markdown",
      "source": [
        "## Skapa array-objekt\n",
        "\n",
        "Nya array-objekt kan skapas med **np.array()**-funktionen. Första argumentet innehåller en lista eller en nästlad lista med värden. Sista argumentet anger datatypen för arrayen.\n"
      ]
    },
    {
      "metadata": {
        "id": "-OCYjJq8J_FH",
        "colab_type": "code",
        "colab": {
          "base_uri": "https://localhost:8080/",
          "height": 35
        },
        "outputId": "d58f99d2-7fea-4615-ee96-876d86d188da"
      },
      "cell_type": "code",
      "source": [
        "a = np.array([1, 2, 3], float)\n",
        "print(a)"
      ],
      "execution_count": 3,
      "outputs": [
        {
          "output_type": "stream",
          "text": [
            "[1. 2. 3.]\n"
          ],
          "name": "stdout"
        }
      ]
    },
    {
      "metadata": {
        "id": "zuyOQTPTJ_FS",
        "colab_type": "text"
      },
      "cell_type": "markdown",
      "source": [
        "Om ingen datatyp anges kommer NumPy att definiera datatypen beroende på vad anges som indata till funktionen."
      ]
    },
    {
      "metadata": {
        "id": "8PpHYLOTJ_FU",
        "colab_type": "code",
        "colab": {
          "base_uri": "https://localhost:8080/",
          "height": 35
        },
        "outputId": "1f8b07fb-731f-41b3-f219-fe1c3dc994c2"
      },
      "cell_type": "code",
      "source": [
        "a = np.array([1, 2, 3])\n",
        "print(a)"
      ],
      "execution_count": 4,
      "outputs": [
        {
          "output_type": "stream",
          "text": [
            "[1 2 3]\n"
          ],
          "name": "stdout"
        }
      ]
    },
    {
      "metadata": {
        "id": "IjC2QvEMJ_Fe",
        "colab_type": "code",
        "colab": {
          "base_uri": "https://localhost:8080/",
          "height": 35
        },
        "outputId": "343ea1c6-71d3-4c42-dbf5-54dac0f4fec5"
      },
      "cell_type": "code",
      "source": [
        "a = np.array([1.0, 2.0, 3.0])\n",
        "print(a)"
      ],
      "execution_count": 5,
      "outputs": [
        {
          "output_type": "stream",
          "text": [
            "[1. 2. 3.]\n"
          ],
          "name": "stdout"
        }
      ]
    },
    {
      "metadata": {
        "id": "5l4jMjXiJ_Fn",
        "colab_type": "text"
      },
      "cell_type": "markdown",
      "source": [
        "Jämfört med listor kan array-objekt bara innehålla värden av samma typ."
      ]
    },
    {
      "metadata": {
        "id": "UADr91iyJ_Fr",
        "colab_type": "text"
      },
      "cell_type": "markdown",
      "source": [
        "### Flerdimensionella arrayer"
      ]
    },
    {
      "metadata": {
        "id": "xqI3DpwQJ_Ft",
        "colab_type": "text"
      },
      "cell_type": "markdown",
      "source": [
        "Flerdimensionella arryer kan skapas genom att ange nästlade listor i **np.array()** funktionen.\n"
      ]
    },
    {
      "metadata": {
        "id": "SYm_hUI4J_Fx",
        "colab_type": "code",
        "colab": {
          "base_uri": "https://localhost:8080/",
          "height": 88
        },
        "outputId": "b99026e9-1eb7-42fc-cabc-2a608878b2ee"
      },
      "cell_type": "code",
      "source": [
        "a = np.array([[1,2],[3,4]])\n",
        "print(a)\n",
        "\n",
        "b = np.array([[1,2,3,4],[5,6,7,8]], float)\n",
        "print(b)"
      ],
      "execution_count": 6,
      "outputs": [
        {
          "output_type": "stream",
          "text": [
            "[[1 2]\n",
            " [3 4]]\n",
            "[[1. 2. 3. 4.]\n",
            " [5. 6. 7. 8.]]\n"
          ],
          "name": "stdout"
        }
      ]
    },
    {
      "metadata": {
        "id": "ym3arjCYJ_F8",
        "colab_type": "text"
      },
      "cell_type": "markdown",
      "source": [
        "## Att använda arrayer"
      ]
    },
    {
      "metadata": {
        "id": "PJz-CpUTJ_GA",
        "colab_type": "text"
      },
      "cell_type": "markdown",
      "source": [
        "Arrays lagras alltid som 1-dimensionella block av värden i minnet. Dimensioner är egentligen bara ett sätt att komma till olika positioner i en 1-dimensionell matris.\n",
        "\n",
        "NumPy lagrar arrayer i minnet rad-vis, vilket också hur C och C++ lagrar tvådimensionella arrayer. Fortran lagrar arrayer kolumnvis. Följande figur visar hur detta sker i minnet:\n",
        "\n",
        "![variable references 1](https://github.com/jonaslindemann/guide_to_python/blob/master/chapters/kapitel5/notebooks/images/array1.png?raw=1)"
      ]
    },
    {
      "metadata": {
        "id": "ICWiq46FJ_GC",
        "colab_type": "text"
      },
      "cell_type": "markdown",
      "source": [
        "### Array information\n",
        "\n",
        "Det finns flera sätt att få information om array-objekt. En av de viktigare egenskaperna är array-objektets form, vilket kan fås genom egenskaper **.shape**.\n",
        "\n"
      ]
    },
    {
      "metadata": {
        "id": "oXSwCceTJ_GJ",
        "colab_type": "code",
        "colab": {
          "base_uri": "https://localhost:8080/",
          "height": 71
        },
        "outputId": "9e66b884-3985-4fe6-d8ff-eaa01278632e"
      },
      "cell_type": "code",
      "source": [
        "a = np.array([1,2,3,4])\n",
        "b = np.array([[1,2],[3,4]])\n",
        "c = np.array([[[1,2,3,4],\n",
        "               [5,6,7,8]],\n",
        "              [[1,2,3,4],\n",
        "               [5,6,7,8]]],float)\n",
        "\n",
        "print(a.shape)\n",
        "print(b.shape)\n",
        "print(c.shape)"
      ],
      "execution_count": 7,
      "outputs": [
        {
          "output_type": "stream",
          "text": [
            "(4,)\n",
            "(2, 2)\n",
            "(2, 2, 4)\n"
          ],
          "name": "stdout"
        }
      ]
    },
    {
      "metadata": {
        "id": "fbQaqtoOJ_GR",
        "colab_type": "text"
      },
      "cell_type": "markdown",
      "source": [
        "För tvådimensionella array-objekt kan variabler för antalet rader och kolumner tilldelas genom följande kod:"
      ]
    },
    {
      "metadata": {
        "id": "dPfM8Kq1J_GS",
        "colab_type": "code",
        "colab": {
          "base_uri": "https://localhost:8080/",
          "height": 35
        },
        "outputId": "5343cffc-0326-4906-88c5-68b9b559782f"
      },
      "cell_type": "code",
      "source": [
        "r, c = b.shape\n",
        "print(r, c)"
      ],
      "execution_count": 8,
      "outputs": [
        {
          "output_type": "stream",
          "text": [
            "2 2\n"
          ],
          "name": "stdout"
        }
      ]
    },
    {
      "metadata": {
        "id": "jzTwhvC_J_GY",
        "colab_type": "text"
      },
      "cell_type": "markdown",
      "source": [
        "Antalet dimensioner för ett array-objekt nås genom egenskapen **.ndim**"
      ]
    },
    {
      "metadata": {
        "id": "IFHVmyVRJ_GZ",
        "colab_type": "code",
        "colab": {
          "base_uri": "https://localhost:8080/",
          "height": 35
        },
        "outputId": "fe6ab76d-7919-4942-ab7e-33086ee11153"
      },
      "cell_type": "code",
      "source": [
        "print(b.ndim)"
      ],
      "execution_count": 9,
      "outputs": [
        {
          "output_type": "stream",
          "text": [
            "2\n"
          ],
          "name": "stdout"
        }
      ]
    },
    {
      "metadata": {
        "id": "xPzVVcbsJ_Gi",
        "colab_type": "text"
      },
      "cell_type": "markdown",
      "source": [
        "Det finns fler andra egenskaper som kan vara intressanta att få ut. Några av dessa visas i följande exempel:\n"
      ]
    },
    {
      "metadata": {
        "id": "jb7YvtmHJ_Gk",
        "colab_type": "code",
        "colab": {
          "base_uri": "https://localhost:8080/",
          "height": 106
        },
        "outputId": "36c4dc7a-8f71-4cd0-dc10-29b6b77d84be"
      },
      "cell_type": "code",
      "source": [
        "b = np.array([[1,2],[3,4]])\n",
        "print(\"array shape =\", b.shape) # Size\n",
        "print(\"array ndim =\", b.ndim)   # Number of dimensions\n",
        "print(\"array dtype =\", b.dtype) # Data type\n",
        "print(\"array size =\", b.size)   # Number of elements in the array\n",
        "print(\"array itemsize =\", b.itemsize) # Size of an element in bytes"
      ],
      "execution_count": 10,
      "outputs": [
        {
          "output_type": "stream",
          "text": [
            "array shape = (2, 2)\n",
            "array ndim = 2\n",
            "array dtype = int64\n",
            "array size = 4\n",
            "array itemsize = 8\n"
          ],
          "name": "stdout"
        }
      ]
    },
    {
      "metadata": {
        "id": "AA1BPfnvJ_Gq",
        "colab_type": "text"
      },
      "cell_type": "markdown",
      "source": [
        "### Ändra formen på en array"
      ]
    },
    {
      "metadata": {
        "id": "z73gI02pJ_Gr",
        "colab_type": "text"
      },
      "cell_type": "markdown",
      "source": [
        "**.reshape()** metoden kan användas för att ändra formen på en array. Så länge antalet värden i en array inte ändras kommer NumPy inte att omallkoera minnet för arrayen. För att visa att detta inte sker definierar vi först en funktion som returnerar array-objektes minnesaddress:\n"
      ]
    },
    {
      "metadata": {
        "id": "4zot9DrrJ_Gv",
        "colab_type": "code",
        "colab": {}
      },
      "cell_type": "code",
      "source": [
        "def memory_of(a):\n",
        "    return a.__array_interface__[\"data\"][0]"
      ],
      "execution_count": 0,
      "outputs": []
    },
    {
      "metadata": {
        "id": "nsrql-dmJ_G2",
        "colab_type": "text"
      },
      "cell_type": "markdown",
      "source": [
        "I följande exempel ändrar vi formen på ett array-objekt och undersöker om minnesallokeringen ändras genom detta.\n"
      ]
    },
    {
      "metadata": {
        "id": "cTL5iYeeJ_G5",
        "colab_type": "code",
        "colab": {
          "base_uri": "https://localhost:8080/",
          "height": 160
        },
        "outputId": "99e4ab2e-4a1b-4a15-e652-c54f8d25ec21"
      },
      "cell_type": "code",
      "source": [
        "a = np.array([[1,2],[3,4]])\n",
        "\n",
        "print(a)\n",
        "print(memory_of(a))\n",
        "\n",
        "a_flat = np.reshape(a, [4,1])\n",
        "\n",
        "print(a_flat)\n",
        "print(memory_of(a_flat))"
      ],
      "execution_count": 12,
      "outputs": [
        {
          "output_type": "stream",
          "text": [
            "[[1 2]\n",
            " [3 4]]\n",
            "47099136\n",
            "[[1]\n",
            " [2]\n",
            " [3]\n",
            " [4]]\n",
            "47099136\n"
          ],
          "name": "stdout"
        }
      ]
    },
    {
      "metadata": {
        "id": "wr4cyXI0J_HL",
        "colab_type": "text"
      },
      "cell_type": "markdown",
      "source": [
        "Vi ser här att minnet för array-objekten inte ändras och både **a** och **a_flat** pekar på samma minnesområde.\n"
      ]
    },
    {
      "metadata": {
        "id": "3lMfsBHEJ_HN",
        "colab_type": "text"
      },
      "cell_type": "markdown",
      "source": [
        "Ändrar man värden i **a** kommer också att ändra värden i **a_flat**\n"
      ]
    },
    {
      "metadata": {
        "id": "rXdFWeWbJ_HR",
        "colab_type": "code",
        "colab": {
          "base_uri": "https://localhost:8080/",
          "height": 124
        },
        "outputId": "a52323c3-e0d6-45a0-da7e-ead3e3186ecc"
      },
      "cell_type": "code",
      "source": [
        "a[0,0] = 42\n",
        "\n",
        "print(a)\n",
        "print(a_flat)"
      ],
      "execution_count": 13,
      "outputs": [
        {
          "output_type": "stream",
          "text": [
            "[[42  2]\n",
            " [ 3  4]]\n",
            "[[42]\n",
            " [ 2]\n",
            " [ 3]\n",
            " [ 4]]\n"
          ],
          "name": "stdout"
        }
      ]
    },
    {
      "metadata": {
        "id": "hWgl6jBIJ_Ha",
        "colab_type": "text"
      },
      "cell_type": "markdown",
      "source": [
        "Om man inte är ute efter detta när man gör tilldelningar av arrayer måste man använda metoden **.copy()** för att skapa en kopia av array-objektet.\n"
      ]
    },
    {
      "metadata": {
        "id": "J-vueTobJ_Hd",
        "colab_type": "code",
        "colab": {
          "base_uri": "https://localhost:8080/",
          "height": 124
        },
        "outputId": "ac8c9b0d-093d-4a75-99c9-cae5c8b47e9f"
      },
      "cell_type": "code",
      "source": [
        "c = a.copy()\n",
        "c[0,0] = 84\n",
        "\n",
        "print(a)\n",
        "print(memory_of(a))\n",
        "\n",
        "print(c)\n",
        "print(memory_of(c))"
      ],
      "execution_count": 14,
      "outputs": [
        {
          "output_type": "stream",
          "text": [
            "[[42  2]\n",
            " [ 3  4]]\n",
            "47099136\n",
            "[[84  2]\n",
            " [ 3  4]]\n",
            "47099168\n"
          ],
          "name": "stdout"
        }
      ]
    },
    {
      "metadata": {
        "id": "zyUsCmayJ_Hn",
        "colab_type": "text"
      },
      "cell_type": "markdown",
      "source": [
        "Nu refererar inte **c** till samma minnes address som **a**.\n"
      ]
    },
    {
      "metadata": {
        "id": "BU-PygH-J_Ho",
        "colab_type": "text"
      },
      "cell_type": "markdown",
      "source": [
        "Fler exempel:\n"
      ]
    },
    {
      "metadata": {
        "id": "PkgKMC6pJ_Hp",
        "colab_type": "code",
        "colab": {
          "base_uri": "https://localhost:8080/",
          "height": 214
        },
        "outputId": "c2a8b7d5-241a-4bca-810a-717def3268a3"
      },
      "cell_type": "code",
      "source": [
        "b = np.array([[1,2,3,4],[5,6,7,8]], float)\n",
        "print(b)\n",
        "\n",
        "b_shaped = np.reshape(b, [8,])\n",
        "print(b_shaped)\n",
        "\n",
        "b_shaped = np.reshape(b, [4,2])\n",
        "print(b_shaped)\n",
        "\n",
        "# **Please note** this is not the same as:\n",
        "b_trans = np.transpose(b)\n",
        "print(b_trans)"
      ],
      "execution_count": 15,
      "outputs": [
        {
          "output_type": "stream",
          "text": [
            "[[1. 2. 3. 4.]\n",
            " [5. 6. 7. 8.]]\n",
            "[1. 2. 3. 4. 5. 6. 7. 8.]\n",
            "[[1. 2.]\n",
            " [3. 4.]\n",
            " [5. 6.]\n",
            " [7. 8.]]\n",
            "[[1. 5.]\n",
            " [2. 6.]\n",
            " [3. 7.]\n",
            " [4. 8.]]\n"
          ],
          "name": "stdout"
        }
      ]
    },
    {
      "metadata": {
        "id": "NNaOl9pXJ_Hw",
        "colab_type": "text"
      },
      "cell_type": "markdown",
      "source": [
        "### Ändra storleken på en array"
      ]
    },
    {
      "metadata": {
        "id": "uLspLRPOJ_Hx",
        "colab_type": "text"
      },
      "cell_type": "markdown",
      "source": [
        "**.resize()**-metoden används för att ändra storleken på ett redan existerande array-objekt. Existerande värde kommer att bibehållas i den mån det är möjligt. Nya värden kommer att fyllas med värden från det tidigare array-objektet.\n"
      ]
    },
    {
      "metadata": {
        "id": "MCUb1CTUJ_Hy",
        "colab_type": "code",
        "colab": {
          "base_uri": "https://localhost:8080/",
          "height": 356
        },
        "outputId": "a817fc65-675a-42f8-905d-b2f9a42b2f04"
      },
      "cell_type": "code",
      "source": [
        "base = np.array([[1,2],[3,4]])\n",
        "print(base)\n",
        "\n",
        "big = np.resize(base, [9,9])\n",
        "print(big)\n",
        "\n",
        "big = np.resize(base, [4,4])\n",
        "print(big)\n",
        "\n",
        "big = np.resize(base, [4,2])\n",
        "print(big)"
      ],
      "execution_count": 16,
      "outputs": [
        {
          "output_type": "stream",
          "text": [
            "[[1 2]\n",
            " [3 4]]\n",
            "[[1 2 3 4 1 2 3 4 1]\n",
            " [2 3 4 1 2 3 4 1 2]\n",
            " [3 4 1 2 3 4 1 2 3]\n",
            " [4 1 2 3 4 1 2 3 4]\n",
            " [1 2 3 4 1 2 3 4 1]\n",
            " [2 3 4 1 2 3 4 1 2]\n",
            " [3 4 1 2 3 4 1 2 3]\n",
            " [4 1 2 3 4 1 2 3 4]\n",
            " [1 2 3 4 1 2 3 4 1]]\n",
            "[[1 2 3 4]\n",
            " [1 2 3 4]\n",
            " [1 2 3 4]\n",
            " [1 2 3 4]]\n",
            "[[1 2]\n",
            " [3 4]\n",
            " [1 2]\n",
            " [3 4]]\n"
          ],
          "name": "stdout"
        }
      ]
    },
    {
      "metadata": {
        "id": "tmVaXVWPJ_H3",
        "colab_type": "text"
      },
      "cell_type": "markdown",
      "source": [
        "## Funktioner för att skapa array-objekt"
      ]
    },
    {
      "metadata": {
        "id": "-Ea8gjc6J_H5",
        "colab_type": "text"
      },
      "cell_type": "markdown",
      "source": [
        "I många fall är det omöjligt att skapa arrayer med hjälp av funktionen **np.array()**. För att skapa större arrayer innehåller NumPy ett antal funktioner för att skapa olika typer av arrayer.\n"
      ]
    },
    {
      "metadata": {
        "id": "YTs8leb5J_H7",
        "colab_type": "text"
      },
      "cell_type": "markdown",
      "source": [
        "### Array-objekt med nollor\n",
        "\n",
        "En vanlig typ av array-objekt är en array fylld med nollor. Dessa kan skapas med funktionen **np.zeros()**. Funktionen tar formen på array-objektet som skall skapas som argument samt ett argument för datatypen.\n"
      ]
    },
    {
      "metadata": {
        "id": "mRRlEqL8J_H8",
        "colab_type": "code",
        "colab": {
          "base_uri": "https://localhost:8080/",
          "height": 88
        },
        "outputId": "5c942b3c-7ccf-4e44-f006-6153d8f4999f"
      },
      "cell_type": "code",
      "source": [
        "a = np.zeros([4,4])\n",
        "print(a)"
      ],
      "execution_count": 17,
      "outputs": [
        {
          "output_type": "stream",
          "text": [
            "[[0. 0. 0. 0.]\n",
            " [0. 0. 0. 0.]\n",
            " [0. 0. 0. 0.]\n",
            " [0. 0. 0. 0.]]\n"
          ],
          "name": "stdout"
        }
      ]
    },
    {
      "metadata": {
        "id": "lce4xQZvJ_IG",
        "colab_type": "code",
        "colab": {
          "base_uri": "https://localhost:8080/",
          "height": 88
        },
        "outputId": "d0b98ce8-9013-4882-da90-9ce34aa983f9"
      },
      "cell_type": "code",
      "source": [
        "b = np.zeros([4,4], int)\n",
        "print(b)"
      ],
      "execution_count": 18,
      "outputs": [
        {
          "output_type": "stream",
          "text": [
            "[[0 0 0 0]\n",
            " [0 0 0 0]\n",
            " [0 0 0 0]\n",
            " [0 0 0 0]]\n"
          ],
          "name": "stdout"
        }
      ]
    },
    {
      "metadata": {
        "id": "qRJefnwfJ_IN",
        "colab_type": "text"
      },
      "cell_type": "markdown",
      "source": [
        "### Array-objekt med ettor"
      ]
    },
    {
      "metadata": {
        "id": "2G_IgtjOJ_IN",
        "colab_type": "text"
      },
      "cell_type": "markdown",
      "source": [
        "Arrayer med ettor skapas på samma sätt med funktionen **np.ones()**.\n"
      ]
    },
    {
      "metadata": {
        "id": "3wfOCjbbJ_IP",
        "colab_type": "code",
        "colab": {
          "base_uri": "https://localhost:8080/",
          "height": 106
        },
        "outputId": "156c378b-29c0-41ea-b6bc-c92d8c066f4d"
      },
      "cell_type": "code",
      "source": [
        "c = np.ones([5,10], float)\n",
        "print(c)"
      ],
      "execution_count": 19,
      "outputs": [
        {
          "output_type": "stream",
          "text": [
            "[[1. 1. 1. 1. 1. 1. 1. 1. 1. 1.]\n",
            " [1. 1. 1. 1. 1. 1. 1. 1. 1. 1.]\n",
            " [1. 1. 1. 1. 1. 1. 1. 1. 1. 1.]\n",
            " [1. 1. 1. 1. 1. 1. 1. 1. 1. 1.]\n",
            " [1. 1. 1. 1. 1. 1. 1. 1. 1. 1.]]\n"
          ],
          "name": "stdout"
        }
      ]
    },
    {
      "metadata": {
        "id": "QXOh77gfJ_IU",
        "colab_type": "text"
      },
      "cell_type": "markdown",
      "source": [
        "Det är möjligt att med hjälp av **np.ones()** skapa arrayer med ett viss värde:"
      ]
    },
    {
      "metadata": {
        "id": "wpkW8PjwJ_IU",
        "colab_type": "code",
        "colab": {
          "base_uri": "https://localhost:8080/",
          "height": 106
        },
        "outputId": "d4b92080-056b-4918-e7b6-f030b890792c"
      },
      "cell_type": "code",
      "source": [
        "c = np.ones([5,10], float) * 42.0\n",
        "print(c)"
      ],
      "execution_count": 20,
      "outputs": [
        {
          "output_type": "stream",
          "text": [
            "[[42. 42. 42. 42. 42. 42. 42. 42. 42. 42.]\n",
            " [42. 42. 42. 42. 42. 42. 42. 42. 42. 42.]\n",
            " [42. 42. 42. 42. 42. 42. 42. 42. 42. 42.]\n",
            " [42. 42. 42. 42. 42. 42. 42. 42. 42. 42.]\n",
            " [42. 42. 42. 42. 42. 42. 42. 42. 42. 42.]]\n"
          ],
          "name": "stdout"
        }
      ]
    },
    {
      "metadata": {
        "id": "Vo2LKEtsJ_IY",
        "colab_type": "text"
      },
      "cell_type": "markdown",
      "source": [
        "### Array områden"
      ]
    },
    {
      "metadata": {
        "id": "Eo_8fmJgJ_Ia",
        "colab_type": "text"
      },
      "cell_type": "markdown",
      "source": [
        "I många tillämpningar behöver man skapa array-object med områden av siffervärden. Detta kan göras med funktionen **np.arange()** som påminner om standard python-funktionen **range()**. En array med 10 element och värden från 0 till 9 skapas med:\n"
      ]
    },
    {
      "metadata": {
        "id": "ESEtuFrqJ_Ib",
        "colab_type": "code",
        "colab": {
          "base_uri": "https://localhost:8080/",
          "height": 35
        },
        "outputId": "814a8ab8-886a-45a3-e1ae-ff6376f74c32"
      },
      "cell_type": "code",
      "source": [
        "a = np.arange(10)\n",
        "print(a)"
      ],
      "execution_count": 21,
      "outputs": [
        {
          "output_type": "stream",
          "text": [
            "[0 1 2 3 4 5 6 7 8 9]\n"
          ],
          "name": "stdout"
        }
      ]
    },
    {
      "metadata": {
        "id": "pu_ZgJ71J_Ie",
        "colab_type": "text"
      },
      "cell_type": "markdown",
      "source": [
        "Genom att kombinera **np.arange()** med **np.reshape()** är det möjligt att skapa olika array-objekt fyllda med värdeområden:\n"
      ]
    },
    {
      "metadata": {
        "id": "UYStj7p-J_If",
        "colab_type": "code",
        "colab": {
          "base_uri": "https://localhost:8080/",
          "height": 196
        },
        "outputId": "3b0a38f6-b02a-42c3-cfe9-ff8b31cb6fc2"
      },
      "cell_type": "code",
      "source": [
        "b = np.reshape(np.arange(100), [10,10])\n",
        "print(b)"
      ],
      "execution_count": 22,
      "outputs": [
        {
          "output_type": "stream",
          "text": [
            "[[ 0  1  2  3  4  5  6  7  8  9]\n",
            " [10 11 12 13 14 15 16 17 18 19]\n",
            " [20 21 22 23 24 25 26 27 28 29]\n",
            " [30 31 32 33 34 35 36 37 38 39]\n",
            " [40 41 42 43 44 45 46 47 48 49]\n",
            " [50 51 52 53 54 55 56 57 58 59]\n",
            " [60 61 62 63 64 65 66 67 68 69]\n",
            " [70 71 72 73 74 75 76 77 78 79]\n",
            " [80 81 82 83 84 85 86 87 88 89]\n",
            " [90 91 92 93 94 95 96 97 98 99]]\n"
          ],
          "name": "stdout"
        }
      ]
    },
    {
      "metadata": {
        "id": "zEj1UlvDJ_Im",
        "colab_type": "text"
      },
      "cell_type": "markdown",
      "source": [
        "Det är möjlig att ge start, slut och steglängd precis som **range()**-funktionen\n"
      ]
    },
    {
      "metadata": {
        "id": "uy-Ae4qJJ_Im",
        "colab_type": "code",
        "colab": {
          "base_uri": "https://localhost:8080/",
          "height": 71
        },
        "outputId": "f9777dd5-cf1e-49e1-d91a-b635a78bf472"
      },
      "cell_type": "code",
      "source": [
        "a = np.arange(-10,10)\n",
        "print(a)\n",
        "\n",
        "a = np.arange(-10,10,2)\n",
        "print(a)"
      ],
      "execution_count": 23,
      "outputs": [
        {
          "output_type": "stream",
          "text": [
            "[-10  -9  -8  -7  -6  -5  -4  -3  -2  -1   0   1   2   3   4   5   6   7\n",
            "   8   9]\n",
            "[-10  -8  -6  -4  -2   0   2   4   6   8]\n"
          ],
          "name": "stdout"
        }
      ]
    },
    {
      "metadata": {
        "id": "ao-Sy50FJ_Iv",
        "colab_type": "text"
      },
      "cell_type": "markdown",
      "source": [
        "Precis som för **np.array()** är det också möjligt att ange datatyp för områdes-arrayen.\n"
      ]
    },
    {
      "metadata": {
        "id": "wm9o2koCJ_Iv",
        "colab_type": "code",
        "colab": {
          "base_uri": "https://localhost:8080/",
          "height": 35
        },
        "outputId": "e6833ada-6802-4bec-e41c-c84c2be16fdb"
      },
      "cell_type": "code",
      "source": [
        "a = np.arange(-10,10,2, dtype=float)\n",
        "print(a)"
      ],
      "execution_count": 24,
      "outputs": [
        {
          "output_type": "stream",
          "text": [
            "[-10.  -8.  -6.  -4.  -2.   0.   2.   4.   6.   8.]\n"
          ],
          "name": "stdout"
        }
      ]
    },
    {
      "metadata": {
        "id": "IBcFF1p6J_I4",
        "colab_type": "text"
      },
      "cell_type": "markdown",
      "source": [
        "### Indentitetsarrayer"
      ]
    },
    {
      "metadata": {
        "id": "SG7GCi1wJ_I9",
        "colab_type": "text"
      },
      "cell_type": "markdown",
      "source": [
        "En annan vanlig array-typ är identitetsmatrisen. Denna kan lätt skapas med funktionen **np.identity()**-funktionen. Funktionen tar storleken som indata samt en valfritt argument för datatypen.\n"
      ]
    },
    {
      "metadata": {
        "id": "StkWZMyhJ_I-",
        "colab_type": "code",
        "colab": {
          "base_uri": "https://localhost:8080/",
          "height": 196
        },
        "outputId": "b7f0891d-25eb-4ae1-a788-223981d894c8"
      },
      "cell_type": "code",
      "source": [
        "i = np.identity(10)\n",
        "print(i)"
      ],
      "execution_count": 25,
      "outputs": [
        {
          "output_type": "stream",
          "text": [
            "[[1. 0. 0. 0. 0. 0. 0. 0. 0. 0.]\n",
            " [0. 1. 0. 0. 0. 0. 0. 0. 0. 0.]\n",
            " [0. 0. 1. 0. 0. 0. 0. 0. 0. 0.]\n",
            " [0. 0. 0. 1. 0. 0. 0. 0. 0. 0.]\n",
            " [0. 0. 0. 0. 1. 0. 0. 0. 0. 0.]\n",
            " [0. 0. 0. 0. 0. 1. 0. 0. 0. 0.]\n",
            " [0. 0. 0. 0. 0. 0. 1. 0. 0. 0.]\n",
            " [0. 0. 0. 0. 0. 0. 0. 1. 0. 0.]\n",
            " [0. 0. 0. 0. 0. 0. 0. 0. 1. 0.]\n",
            " [0. 0. 0. 0. 0. 0. 0. 0. 0. 1.]]\n"
          ],
          "name": "stdout"
        }
      ]
    },
    {
      "metadata": {
        "id": "pjQdYIDEJ_JD",
        "colab_type": "text"
      },
      "cell_type": "markdown",
      "source": [
        "### Array-objekt med linjär variation"
      ]
    },
    {
      "metadata": {
        "id": "Co7H18fqJ_JF",
        "colab_type": "text"
      },
      "cell_type": "markdown",
      "source": [
        "**np.arange()** fungerar bäst om området är heltal. Om man behöver ett mer precist område är det bättre att använda funktionen **np.linspace()**. Funktionen tar start, slutvärde och antalet värden i array-objektet som indata. Värdena mellan start och slutvärde interpoleras av funktionen.\n"
      ]
    },
    {
      "metadata": {
        "id": "rWXVzlERJ_JG",
        "colab_type": "code",
        "colab": {
          "base_uri": "https://localhost:8080/",
          "height": 124
        },
        "outputId": "0f0276a3-74ae-4d3d-8def-4479bf1e476f"
      },
      "cell_type": "code",
      "source": [
        "x = np.linspace(0,1.0,10)\n",
        "print(x)\n",
        "\n",
        "x = np.linspace(0,1.0,20)\n",
        "print(x)"
      ],
      "execution_count": 26,
      "outputs": [
        {
          "output_type": "stream",
          "text": [
            "[0.         0.11111111 0.22222222 0.33333333 0.44444444 0.55555556\n",
            " 0.66666667 0.77777778 0.88888889 1.        ]\n",
            "[0.         0.05263158 0.10526316 0.15789474 0.21052632 0.26315789\n",
            " 0.31578947 0.36842105 0.42105263 0.47368421 0.52631579 0.57894737\n",
            " 0.63157895 0.68421053 0.73684211 0.78947368 0.84210526 0.89473684\n",
            " 0.94736842 1.        ]\n"
          ],
          "name": "stdout"
        }
      ]
    },
    {
      "metadata": {
        "id": "xNwJ2m91J_JK",
        "colab_type": "text"
      },
      "cell_type": "markdown",
      "source": [
        "# Array uttryck"
      ]
    },
    {
      "metadata": {
        "id": "a8ASQBsZJ_JM",
        "colab_type": "text"
      },
      "cell_type": "markdown",
      "source": [
        "Alla Python operatorer kan användas med arrayer. Alla operationer utförs elementvis på värdena i array-objektet.\n"
      ]
    },
    {
      "metadata": {
        "id": "YA5haTJZJ_JO",
        "colab_type": "code",
        "colab": {
          "base_uri": "https://localhost:8080/",
          "height": 106
        },
        "outputId": "48069192-88e2-4c24-e97e-6a215a8239d1"
      },
      "cell_type": "code",
      "source": [
        "a = np.arange(25).reshape([5,5])\n",
        "print(a)"
      ],
      "execution_count": 27,
      "outputs": [
        {
          "output_type": "stream",
          "text": [
            "[[ 0  1  2  3  4]\n",
            " [ 5  6  7  8  9]\n",
            " [10 11 12 13 14]\n",
            " [15 16 17 18 19]\n",
            " [20 21 22 23 24]]\n"
          ],
          "name": "stdout"
        }
      ]
    },
    {
      "metadata": {
        "id": "bAbHiNE9J_Ji",
        "colab_type": "text"
      },
      "cell_type": "markdown",
      "source": [
        "Elementvis addition:\n"
      ]
    },
    {
      "metadata": {
        "id": "zIwSF3DeJ_Ji",
        "colab_type": "code",
        "colab": {
          "base_uri": "https://localhost:8080/",
          "height": 106
        },
        "outputId": "9520b26d-adec-4818-bc36-1d6299ebc766"
      },
      "cell_type": "code",
      "source": [
        "print(a+3)"
      ],
      "execution_count": 28,
      "outputs": [
        {
          "output_type": "stream",
          "text": [
            "[[ 3  4  5  6  7]\n",
            " [ 8  9 10 11 12]\n",
            " [13 14 15 16 17]\n",
            " [18 19 20 21 22]\n",
            " [23 24 25 26 27]]\n"
          ],
          "name": "stdout"
        }
      ]
    },
    {
      "metadata": {
        "id": "-UGWtGirJ_Jo",
        "colab_type": "text"
      },
      "cell_type": "markdown",
      "source": [
        "Elementvis multiplikation:\n"
      ]
    },
    {
      "metadata": {
        "id": "LVzBua0bJ_Jp",
        "colab_type": "code",
        "colab": {
          "base_uri": "https://localhost:8080/",
          "height": 106
        },
        "outputId": "9b69eb0f-3dfb-4eb1-eb71-6e39235aa333"
      },
      "cell_type": "code",
      "source": [
        "print(a*3)"
      ],
      "execution_count": 29,
      "outputs": [
        {
          "output_type": "stream",
          "text": [
            "[[ 0  3  6  9 12]\n",
            " [15 18 21 24 27]\n",
            " [30 33 36 39 42]\n",
            " [45 48 51 54 57]\n",
            " [60 63 66 69 72]]\n"
          ],
          "name": "stdout"
        }
      ]
    },
    {
      "metadata": {
        "id": "GJ9oyiLzJ_Jt",
        "colab_type": "text"
      },
      "cell_type": "markdown",
      "source": [
        "Det går också att använda det vanliga matematiska funktionerna på array-objekt:\n"
      ]
    },
    {
      "metadata": {
        "id": "6wcJWlHyJ_Ju",
        "colab_type": "code",
        "colab": {
          "base_uri": "https://localhost:8080/",
          "height": 106
        },
        "outputId": "313f5c27-5055-4915-bbc3-61db6e097222"
      },
      "cell_type": "code",
      "source": [
        "print(np.sin(a))"
      ],
      "execution_count": 30,
      "outputs": [
        {
          "output_type": "stream",
          "text": [
            "[[ 0.          0.84147098  0.90929743  0.14112001 -0.7568025 ]\n",
            " [-0.95892427 -0.2794155   0.6569866   0.98935825  0.41211849]\n",
            " [-0.54402111 -0.99999021 -0.53657292  0.42016704  0.99060736]\n",
            " [ 0.65028784 -0.28790332 -0.96139749 -0.75098725  0.14987721]\n",
            " [ 0.91294525  0.83665564 -0.00885131 -0.8462204  -0.90557836]]\n"
          ],
          "name": "stdout"
        }
      ]
    },
    {
      "metadata": {
        "id": "cgzaPjfKJ_J1",
        "colab_type": "text"
      },
      "cell_type": "markdown",
      "source": [
        "Negation:"
      ]
    },
    {
      "metadata": {
        "id": "QJ_tlH4IJ_J2",
        "colab_type": "code",
        "colab": {
          "base_uri": "https://localhost:8080/",
          "height": 106
        },
        "outputId": "c111c045-27e8-499c-a14b-6942016427a2"
      },
      "cell_type": "code",
      "source": [
        "print(-a)"
      ],
      "execution_count": 31,
      "outputs": [
        {
          "output_type": "stream",
          "text": [
            "[[  0  -1  -2  -3  -4]\n",
            " [ -5  -6  -7  -8  -9]\n",
            " [-10 -11 -12 -13 -14]\n",
            " [-15 -16 -17 -18 -19]\n",
            " [-20 -21 -22 -23 -24]]\n"
          ],
          "name": "stdout"
        }
      ]
    },
    {
      "metadata": {
        "id": "ZL_H60n1J_J6",
        "colab_type": "text"
      },
      "cell_type": "markdown",
      "source": [
        "Det går också att använda operatorerna mellan olika array-objekt:\n"
      ]
    },
    {
      "metadata": {
        "id": "M998URqBJ_J6",
        "colab_type": "code",
        "colab": {
          "base_uri": "https://localhost:8080/",
          "height": 106
        },
        "outputId": "16d47e7d-bf48-4467-af5d-32cefa955768"
      },
      "cell_type": "code",
      "source": [
        "print(a+a)"
      ],
      "execution_count": 32,
      "outputs": [
        {
          "output_type": "stream",
          "text": [
            "[[ 0  2  4  6  8]\n",
            " [10 12 14 16 18]\n",
            " [20 22 24 26 28]\n",
            " [30 32 34 36 38]\n",
            " [40 42 44 46 48]]\n"
          ],
          "name": "stdout"
        }
      ]
    },
    {
      "metadata": {
        "id": "xPSJG80_J_J-",
        "colab_type": "text"
      },
      "cell_type": "markdown",
      "source": [
        "Array-storlekarna behäver inte vara samma. Operationerna på den mindre arrayen kommer att upprepas på den större arrayen:\n"
      ]
    },
    {
      "metadata": {
        "id": "uWIQ0TWJJ_KA",
        "colab_type": "code",
        "colab": {
          "base_uri": "https://localhost:8080/",
          "height": 214
        },
        "outputId": "65d4018a-85bb-4cb1-ba66-c55379dc9987"
      },
      "cell_type": "code",
      "source": [
        "a = np.array([1,2,3]) \n",
        "b = np.ones([5,3])\n",
        "print(a)\n",
        "print(b)\n",
        "print(a+b)"
      ],
      "execution_count": 33,
      "outputs": [
        {
          "output_type": "stream",
          "text": [
            "[1 2 3]\n",
            "[[1. 1. 1.]\n",
            " [1. 1. 1.]\n",
            " [1. 1. 1.]\n",
            " [1. 1. 1.]\n",
            " [1. 1. 1.]]\n",
            "[[2. 3. 4.]\n",
            " [2. 3. 4.]\n",
            " [2. 3. 4.]\n",
            " [2. 3. 4.]\n",
            " [2. 3. 4.]]\n"
          ],
          "name": "stdout"
        }
      ]
    },
    {
      "metadata": {
        "id": "dlFShRaoJ_KH",
        "colab_type": "text"
      },
      "cell_type": "markdown",
      "source": [
        "## Matrismultiplikation"
      ]
    },
    {
      "metadata": {
        "id": "lFgFEQCFJ_KJ",
        "colab_type": "text"
      },
      "cell_type": "markdown",
      "source": [
        "**\\*** operatorn för arrayer är ekvivalent till elementvis multiplikation. För att utföra en matrismultiplikation används istället funktionen **.dot()** eller **@**-operatorn.\n"
      ]
    },
    {
      "metadata": {
        "id": "wIIGT9XxJ_KK",
        "colab_type": "code",
        "colab": {
          "base_uri": "https://localhost:8080/",
          "height": 231
        },
        "outputId": "65c344a3-44b4-43f4-86d2-593cdd38aa64"
      },
      "cell_type": "code",
      "source": [
        "a = np.reshape(np.arange(16), [4,4])\n",
        "print(a)\n",
        "print(a.dot(a))\n",
        "print(a @ a)"
      ],
      "execution_count": 34,
      "outputs": [
        {
          "output_type": "stream",
          "text": [
            "[[ 0  1  2  3]\n",
            " [ 4  5  6  7]\n",
            " [ 8  9 10 11]\n",
            " [12 13 14 15]]\n",
            "[[ 56  62  68  74]\n",
            " [152 174 196 218]\n",
            " [248 286 324 362]\n",
            " [344 398 452 506]]\n",
            "[[ 56  62  68  74]\n",
            " [152 174 196 218]\n",
            " [248 286 324 362]\n",
            " [344 398 452 506]]\n"
          ],
          "name": "stdout"
        }
      ]
    },
    {
      "metadata": {
        "id": "jZGr7Y8JJ_KV",
        "colab_type": "text"
      },
      "cell_type": "markdown",
      "source": [
        "# Delområden"
      ]
    },
    {
      "metadata": {
        "id": "3AXFS6VVJ_KX",
        "colab_type": "text"
      },
      "cell_type": "markdown",
      "source": [
        "Att nå specifika element i en array använder man säg av Pythons normala index operator **\\[ ]**\n"
      ]
    },
    {
      "metadata": {
        "id": "TBNaDerPJ_Kb",
        "colab_type": "code",
        "colab": {
          "base_uri": "https://localhost:8080/",
          "height": 178
        },
        "outputId": "f1ebf06f-644d-4596-9b7f-2f104f240d78"
      },
      "cell_type": "code",
      "source": [
        "a = np.arange(25)\n",
        "print(a)\n",
        "print(a[2])\n",
        "\n",
        "b = np.arange(25).reshape([5,5])\n",
        "\n",
        "print(b)\n",
        "print(b[1,2])"
      ],
      "execution_count": 35,
      "outputs": [
        {
          "output_type": "stream",
          "text": [
            "[ 0  1  2  3  4  5  6  7  8  9 10 11 12 13 14 15 16 17 18 19 20 21 22 23\n",
            " 24]\n",
            "2\n",
            "[[ 0  1  2  3  4]\n",
            " [ 5  6  7  8  9]\n",
            " [10 11 12 13 14]\n",
            " [15 16 17 18 19]\n",
            " [20 21 22 23 24]]\n",
            "7\n"
          ],
          "name": "stdout"
        }
      ]
    },
    {
      "metadata": {
        "id": "fen2l_YPJ_Kg",
        "colab_type": "text"
      },
      "cell_type": "markdown",
      "source": [
        "Tilldelning av värde i en array sker på samma sätt:\n",
        "\n"
      ]
    },
    {
      "metadata": {
        "id": "1CC7oLdbJ_Kh",
        "colab_type": "code",
        "colab": {
          "base_uri": "https://localhost:8080/",
          "height": 142
        },
        "outputId": "8ba23dad-11bf-43d9-8fec-ddbbc38bdf88"
      },
      "cell_type": "code",
      "source": [
        "a[2] = 42\n",
        "b[1,2] = 42\n",
        "\n",
        "print(a)\n",
        "print(b)"
      ],
      "execution_count": 36,
      "outputs": [
        {
          "output_type": "stream",
          "text": [
            "[ 0  1 42  3  4  5  6  7  8  9 10 11 12 13 14 15 16 17 18 19 20 21 22 23\n",
            " 24]\n",
            "[[ 0  1  2  3  4]\n",
            " [ 5  6 42  8  9]\n",
            " [10 11 12 13 14]\n",
            " [15 16 17 18 19]\n",
            " [20 21 22 23 24]]\n"
          ],
          "name": "stdout"
        }
      ]
    },
    {
      "metadata": {
        "id": "7M-6lBD_J_Kk",
        "colab_type": "text"
      },
      "cell_type": "markdown",
      "source": [
        "Det är också möjligt att referera till delområden. Notationen beskrivs i följande punkter:\n",
        "\n",
        "* a[start:slut] - värden mellan*start* och *slut-1*\n",
        "* a[start:] - värden mellan *start* to the *slut*\n",
        "* a[:slut] - värden upp till *slut-1*\n",
        "* a[:] - Alla värden"
      ]
    },
    {
      "metadata": {
        "id": "tfEa2uLmJ_Kk",
        "colab_type": "code",
        "colab": {
          "base_uri": "https://localhost:8080/",
          "height": 35
        },
        "outputId": "a94dbbea-16a1-4163-c77e-f08489a8d495"
      },
      "cell_type": "code",
      "source": [
        "a = np.arange(25)\n",
        "print(a[1:5])"
      ],
      "execution_count": 37,
      "outputs": [
        {
          "output_type": "stream",
          "text": [
            "[1 2 3 4]\n"
          ],
          "name": "stdout"
        }
      ]
    },
    {
      "metadata": {
        "id": "y5azZhTqJ_Kr",
        "colab_type": "text"
      },
      "cell_type": "markdown",
      "source": [
        "NumPy försöker i de flesta fall återanvända allokerat minne när man skapar delområden.\n"
      ]
    },
    {
      "metadata": {
        "id": "3AKtKsqZJ_Ks",
        "colab_type": "code",
        "colab": {
          "base_uri": "https://localhost:8080/",
          "height": 196
        },
        "outputId": "bb149e23-69f7-4788-ed86-f506a3815308"
      },
      "cell_type": "code",
      "source": [
        "a = np.arange(25)\n",
        "\n",
        "print(a)\n",
        "print(memory_of(a))\n",
        "print(a.data)\n",
        "\n",
        "b = a[1:5]\n",
        "\n",
        "print(b)\n",
        "print(memory_of(b))\n",
        "print(b.data)\n",
        "\n",
        "b[0] = 42\n",
        "\n",
        "print(a)\n",
        "print(b)"
      ],
      "execution_count": 38,
      "outputs": [
        {
          "output_type": "stream",
          "text": [
            "[ 0  1  2  3  4  5  6  7  8  9 10 11 12 13 14 15 16 17 18 19 20 21 22 23\n",
            " 24]\n",
            "44690272\n",
            "<memory at 0x7fcc9ffe8b88>\n",
            "[1 2 3 4]\n",
            "44690280\n",
            "<memory at 0x7fcc9ffe8b88>\n",
            "[ 0 42  2  3  4  5  6  7  8  9 10 11 12 13 14 15 16 17 18 19 20 21 22 23\n",
            " 24]\n",
            "[42  2  3  4]\n"
          ],
          "name": "stdout"
        }
      ]
    },
    {
      "metadata": {
        "id": "mmdURMl-J_Kx",
        "colab_type": "text"
      },
      "cell_type": "markdown",
      "source": [
        "Fler exempel på delområden:\n"
      ]
    },
    {
      "metadata": {
        "id": "dULN08DUJ_Ky",
        "colab_type": "code",
        "colab": {
          "base_uri": "https://localhost:8080/",
          "height": 124
        },
        "outputId": "e109257e-2e3d-443c-ba30-4f1e266dcb37"
      },
      "cell_type": "code",
      "source": [
        "a = np.arange(16)\n",
        "\n",
        "print(a)\n",
        "print(a[:-1]) # Alla element utom det sista\n",
        "print(a[:-2]) # Alla element utom de två sista\n",
        "print(a[-1]) # Sista elementet i a\n",
        "print(a[4:10:2]) # Alla element 4 till 9 med steg 2\n",
        "print(a[::-1]) # Alla element i A i omvänd ordning"
      ],
      "execution_count": 39,
      "outputs": [
        {
          "output_type": "stream",
          "text": [
            "[ 0  1  2  3  4  5  6  7  8  9 10 11 12 13 14 15]\n",
            "[ 0  1  2  3  4  5  6  7  8  9 10 11 12 13 14]\n",
            "[ 0  1  2  3  4  5  6  7  8  9 10 11 12 13]\n",
            "15\n",
            "[4 6 8]\n",
            "[15 14 13 12 11 10  9  8  7  6  5  4  3  2  1  0]\n"
          ],
          "name": "stdout"
        }
      ]
    },
    {
      "metadata": {
        "id": "2107DDgsJ_K2",
        "colab_type": "text"
      },
      "cell_type": "markdown",
      "source": [
        "Delområden kan användas i flerdimensionella arrayer också:\n"
      ]
    },
    {
      "metadata": {
        "id": "DalYUZcKJ_K2",
        "colab_type": "code",
        "colab": {
          "base_uri": "https://localhost:8080/",
          "height": 374
        },
        "outputId": "0b820f97-cb09-422a-c800-5b744dae37b1"
      },
      "cell_type": "code",
      "source": [
        "b = np.reshape(a, (4,4))\n",
        "\n",
        "print(b)\n",
        "print(b[:,0]) # Alla rader i kolumn 0\n",
        "print(b[:,0:2]) # Alla rader för kolumn 0..1\n",
        "print(b[0,:]) # Alla kolumner i rad 0\n",
        "print(b[0:2,:]) # Alla kolumner för rad 0..1\n",
        "print(b[-1,:]) # Sista raden i b\n",
        "print(b[:,-1]) # Sista kolumnen i b\n",
        "print(b[::2,:]) # Varannan rad i b\n",
        "print(b[:,::2]) # Varannan kolumn i b"
      ],
      "execution_count": 40,
      "outputs": [
        {
          "output_type": "stream",
          "text": [
            "[[ 0  1  2  3]\n",
            " [ 4  5  6  7]\n",
            " [ 8  9 10 11]\n",
            " [12 13 14 15]]\n",
            "[ 0  4  8 12]\n",
            "[[ 0  1]\n",
            " [ 4  5]\n",
            " [ 8  9]\n",
            " [12 13]]\n",
            "[0 1 2 3]\n",
            "[[0 1 2 3]\n",
            " [4 5 6 7]]\n",
            "[12 13 14 15]\n",
            "[ 3  7 11 15]\n",
            "[[ 0  1  2  3]\n",
            " [ 8  9 10 11]]\n",
            "[[ 0  2]\n",
            " [ 4  6]\n",
            " [ 8 10]\n",
            " [12 14]]\n"
          ],
          "name": "stdout"
        }
      ]
    },
    {
      "metadata": {
        "id": "cOyvAJ7hJ_LF",
        "colab_type": "text"
      },
      "cell_type": "markdown",
      "source": [
        "Det är också möjlig att blanda array-objekt och listor när man skapar array-objekt:\n"
      ]
    },
    {
      "metadata": {
        "id": "ZrLTI_VgJ_LG",
        "colab_type": "code",
        "colab": {}
      },
      "cell_type": "code",
      "source": [
        "b[1] = [42,42,42,42]"
      ],
      "execution_count": 0,
      "outputs": []
    },
    {
      "metadata": {
        "id": "8raPKq43J_LI",
        "colab_type": "code",
        "colab": {}
      },
      "cell_type": "code",
      "source": [
        "b[:,2] = [42,42,42,42]"
      ],
      "execution_count": 0,
      "outputs": []
    },
    {
      "metadata": {
        "id": "yye1u9LcJ_LO",
        "colab_type": "code",
        "colab": {
          "base_uri": "https://localhost:8080/",
          "height": 88
        },
        "outputId": "f6d2df50-140c-4e71-fdab-39d3bc960c98"
      },
      "cell_type": "code",
      "source": [
        "print(b)"
      ],
      "execution_count": 43,
      "outputs": [
        {
          "output_type": "stream",
          "text": [
            "[[ 0  1 42  3]\n",
            " [42 42 42 42]\n",
            " [ 8  9 42 11]\n",
            " [12 13 42 15]]\n"
          ],
          "name": "stdout"
        }
      ]
    },
    {
      "metadata": {
        "id": "jJqk7zPiJ_LT",
        "colab_type": "text"
      },
      "cell_type": "markdown",
      "source": [
        "# Array metoder"
      ]
    },
    {
      "metadata": {
        "id": "eGCH_6ZqJ_LT",
        "colab_type": "text"
      },
      "cell_type": "markdown",
      "source": [
        "Det finns ett antal funktioner som kan vara viktiga när man arbetar med array-objekt:\n"
      ]
    },
    {
      "metadata": {
        "id": "5sFxcefRJ_LV",
        "colab_type": "text"
      },
      "cell_type": "markdown",
      "source": [
        "## Beräkna summan av värden i arrayer"
      ]
    },
    {
      "metadata": {
        "id": "QkRs7ymFJ_LW",
        "colab_type": "text"
      },
      "cell_type": "markdown",
      "source": [
        "**.sum()** metoden kan användas för att beräkna summan av arrayer på olika sätt:\n"
      ]
    },
    {
      "metadata": {
        "id": "sq3WkwpeJ_LW",
        "colab_type": "code",
        "colab": {
          "base_uri": "https://localhost:8080/",
          "height": 142
        },
        "outputId": "5c8e1363-c208-46f8-d35f-2e861824ab14"
      },
      "cell_type": "code",
      "source": [
        "a = np.arange(36).reshape(6,6)\n",
        "\n",
        "print(a)\n",
        "print(a.sum())"
      ],
      "execution_count": 44,
      "outputs": [
        {
          "output_type": "stream",
          "text": [
            "[[ 0  1  2  3  4  5]\n",
            " [ 6  7  8  9 10 11]\n",
            " [12 13 14 15 16 17]\n",
            " [18 19 20 21 22 23]\n",
            " [24 25 26 27 28 29]\n",
            " [30 31 32 33 34 35]]\n",
            "630\n"
          ],
          "name": "stdout"
        }
      ]
    },
    {
      "metadata": {
        "id": "XUtRdxN_J_LZ",
        "colab_type": "code",
        "colab": {
          "base_uri": "https://localhost:8080/",
          "height": 53
        },
        "outputId": "3c68fd04-e7e2-4289-84de-46b8496c3864"
      },
      "cell_type": "code",
      "source": [
        "print(a.sum(0)) # Summera kolumner\n",
        "print(a.sum(1)) # Summera rader"
      ],
      "execution_count": 45,
      "outputs": [
        {
          "output_type": "stream",
          "text": [
            "[ 90  96 102 108 114 120]\n",
            "[ 15  51  87 123 159 195]\n"
          ],
          "name": "stdout"
        }
      ]
    },
    {
      "metadata": {
        "id": "o8blfWGUJ_Lk",
        "colab_type": "text"
      },
      "cell_type": "markdown",
      "source": [
        "## Beräkna produkten av en array"
      ]
    },
    {
      "metadata": {
        "id": "TxsybmgPJ_Lm",
        "colab_type": "text"
      },
      "cell_type": "markdown",
      "source": [
        "Metoden **.prod()** kan användas på samma sätt som **.sum()**, men beräknar istället produkten av värdena i arrayen.\n"
      ]
    },
    {
      "metadata": {
        "id": "4yWTknMPJ_Lp",
        "colab_type": "code",
        "colab": {
          "base_uri": "https://localhost:8080/",
          "height": 124
        },
        "outputId": "3b1a8f34-a8d8-4025-fb07-b09b10e5edef"
      },
      "cell_type": "code",
      "source": [
        "a = np.arange(1,37,dtype=float).reshape(6,6)\n",
        "print(a)"
      ],
      "execution_count": 55,
      "outputs": [
        {
          "output_type": "stream",
          "text": [
            "[[ 1.  2.  3.  4.  5.  6.]\n",
            " [ 7.  8.  9. 10. 11. 12.]\n",
            " [13. 14. 15. 16. 17. 18.]\n",
            " [19. 20. 21. 22. 23. 24.]\n",
            " [25. 26. 27. 28. 29. 30.]\n",
            " [31. 32. 33. 34. 35. 36.]]\n"
          ],
          "name": "stdout"
        }
      ]
    },
    {
      "metadata": {
        "id": "eJUrEyfUJ_Lv",
        "colab_type": "code",
        "colab": {
          "base_uri": "https://localhost:8080/",
          "height": 71
        },
        "outputId": "c78c0f2e-7ec4-4780-f3d2-3edacb6fdf86"
      },
      "cell_type": "code",
      "source": [
        "print(a.prod(0)) # Produkten av kolumner\n",
        "print(a.prod(1)) # Produkten av rader"
      ],
      "execution_count": 56,
      "outputs": [
        {
          "output_type": "stream",
          "text": [
            "[ 1339975.  3727360.  7577955. 13404160. 21827575. 33592320.]\n",
            "[7.20000000e+02 6.65280000e+05 1.33660800e+07 9.69091200e+07\n",
            " 4.27518000e+08 1.40241024e+09]\n"
          ],
          "name": "stdout"
        }
      ]
    },
    {
      "metadata": {
        "id": "vdnmcCGkJ_L2",
        "colab_type": "text"
      },
      "cell_type": "markdown",
      "source": [
        "# Matris-objekt (Matrix)"
      ]
    },
    {
      "metadata": {
        "id": "L0L8rFhiJ_L2",
        "colab_type": "text"
      },
      "cell_type": "markdown",
      "source": [
        "NumPy innehåller också speciella datatyper för att hantera matriser enligt den matematiska definitionen. Matriser skapas genom att använda klassen **np.matrix**, vilken ärver sin funktionalitet från array-klassen. Klassen implementera många vanliga operationer inom linjär algebra.\n"
      ]
    },
    {
      "metadata": {
        "id": "jPEv9fqvJ_L5",
        "colab_type": "code",
        "colab": {
          "base_uri": "https://localhost:8080/",
          "height": 303
        },
        "outputId": "a14b8df9-d21a-435b-8a70-6abec7c0fff2"
      },
      "cell_type": "code",
      "source": [
        "A = np.matrix( [[1,2,3],[11,12,13],[21,22,23]])\n",
        "x = np.matrix( [[1],[2],[3]] )\n",
        "y = np.matrix( [[1,2,3]] )\n",
        "\n",
        "print(A)\n",
        "print(x)\n",
        "print(y)\n",
        "print(A.T) # Matrix transpose\n",
        "print(A*x) # Matrix mulitply A * x\n",
        "print(A.I) # Matrix inverse"
      ],
      "execution_count": 57,
      "outputs": [
        {
          "output_type": "stream",
          "text": [
            "[[ 1  2  3]\n",
            " [11 12 13]\n",
            " [21 22 23]]\n",
            "[[1]\n",
            " [2]\n",
            " [3]]\n",
            "[[1 2 3]]\n",
            "[[ 1 11 21]\n",
            " [ 2 12 22]\n",
            " [ 3 13 23]]\n",
            "[[ 14]\n",
            " [ 74]\n",
            " [134]]\n",
            "[[ 2.81474977e+14 -5.62949953e+14  2.81474977e+14]\n",
            " [-5.62949953e+14  1.12589991e+15 -5.62949953e+14]\n",
            " [ 2.81474977e+14 -5.62949953e+14  2.81474977e+14]]\n"
          ],
          "name": "stdout"
        }
      ]
    },
    {
      "metadata": {
        "id": "MbahwHy_J_L7",
        "colab_type": "text"
      },
      "cell_type": "markdown",
      "source": [
        "# Läsa och skriva arrayer"
      ]
    },
    {
      "metadata": {
        "id": "kjScRThAJ_L8",
        "colab_type": "text"
      },
      "cell_type": "markdown",
      "source": [
        "NumPy har många sätt att hantera skrivning och läsning av array-objekt:\n",
        "\n",
        "* Skriva arrayer i NumPy:s egna binära format NPY/NPZ.\n",
        "* Texfiler med värden rad för rad.\n",
        "* Direkt läsning och skrivning av binära filer."
      ]
    },
    {
      "metadata": {
        "id": "ewL1gd8cJ_L9",
        "colab_type": "text"
      },
      "cell_type": "markdown",
      "source": [
        "## Läsa och skriva NPY/NPZ filer"
      ]
    },
    {
      "metadata": {
        "id": "0zRn2seaJ_L-",
        "colab_type": "text"
      },
      "cell_type": "markdown",
      "source": [
        "### Skriva NPY filer"
      ]
    },
    {
      "metadata": {
        "id": "q-INhBioJ_L_",
        "colab_type": "code",
        "colab": {}
      },
      "cell_type": "code",
      "source": [
        "import numpy as np\n",
        "\n",
        "x = np.linspace(0.0, 1.0, 100)\n",
        "y = np.random.uniform(0.0, 1.0, 100)\n",
        "\n",
        "np.save(\"x.npy\", x)\n",
        "np.save(\"y.npy\", y)"
      ],
      "execution_count": 0,
      "outputs": []
    },
    {
      "metadata": {
        "id": "W3_u3ZqjJ_MB",
        "colab_type": "text"
      },
      "cell_type": "markdown",
      "source": [
        "### Läsa NPY filer"
      ]
    },
    {
      "metadata": {
        "id": "PSxxVJe0J_MC",
        "colab_type": "code",
        "colab": {
          "base_uri": "https://localhost:8080/",
          "height": 287
        },
        "outputId": "a915df4f-7df9-4874-a1b8-ae268a58f21c"
      },
      "cell_type": "code",
      "source": [
        "import matplotlib.pyplot as plt\n",
        "\n",
        "x = np.load(\"x.npy\")\n",
        "y = np.load(\"y.npy\")\n",
        "\n",
        "plt.plot(x, y, 'o')"
      ],
      "execution_count": 60,
      "outputs": [
        {
          "output_type": "execute_result",
          "data": {
            "text/plain": [
              "[<matplotlib.lines.Line2D at 0x7fcc9d2392e8>]"
            ]
          },
          "metadata": {
            "tags": []
          },
          "execution_count": 60
        },
        {
          "output_type": "display_data",
          "data": {
            "image/png": "[encoded data removed]",
            "text/plain": [
              "<Figure size 432x288 with 1 Axes>"
            ]
          },
          "metadata": {
            "tags": []
          }
        }
      ]
    },
    {
      "metadata": {
        "id": "oXHsktzQJ_MH",
        "colab_type": "text"
      },
      "cell_type": "markdown",
      "source": [
        "### Använda filobjekt tillsammans med NPY-filer"
      ]
    },
    {
      "metadata": {
        "id": "ZtBIE_2DJ_MH",
        "colab_type": "code",
        "colab": {}
      },
      "cell_type": "code",
      "source": [
        "x = np.linspace(0.0, 1.0, 100)\n",
        "y = np.random.uniform(0.0, 1.0, 100)\n",
        "\n",
        "with open(\"xy.dat\", \"wb\") as f:\n",
        "    np.save(f, x)\n",
        "    np.save(f, y)"
      ],
      "execution_count": 0,
      "outputs": []
    },
    {
      "metadata": {
        "id": "efbmJfkEJ_MJ",
        "colab_type": "code",
        "colab": {
          "base_uri": "https://localhost:8080/",
          "height": 287
        },
        "outputId": "8113cf9b-6499-4a0d-c68e-14a5929e253c"
      },
      "cell_type": "code",
      "source": [
        "import matplotlib.pyplot as plt\n",
        "\n",
        "with open(\"xy.dat\", \"rb\") as f:\n",
        "    x = np.load(f)\n",
        "    y = np.load(f)\n",
        "\n",
        "plt.plot(x, y, 'o')"
      ],
      "execution_count": 62,
      "outputs": [
        {
          "output_type": "execute_result",
          "data": {
            "text/plain": [
              "[<matplotlib.lines.Line2D at 0x7fcc9d20fda0>]"
            ]
          },
          "metadata": {
            "tags": []
          },
          "execution_count": 62
        },
        {
          "output_type": "display_data",
          "data": {
            "image/png": "[encoded data removed]",
            "text/plain": [
              "<Figure size 432x288 with 1 Axes>"
            ]
          },
          "metadata": {
            "tags": []
          }
        }
      ]
    },
    {
      "metadata": {
        "id": "RzyxFjNEJ_MO",
        "colab_type": "text"
      },
      "cell_type": "markdown",
      "source": [
        "# Lösa ekvationssystem"
      ]
    },
    {
      "metadata": {
        "id": "Qn9RUl6WJ_MP",
        "colab_type": "text"
      },
      "cell_type": "markdown",
      "source": [
        "En vanlig operation inom linjär algebra och ingenjörsuppgifter är att kunna lösa ekvationssystem av typen\n",
        "\n",
        "\n",
        "Ax = b\n",
        "\n",
        "NumPy innehåller en funktion för just detta,  **np.linalg()**."
      ]
    },
    {
      "metadata": {
        "id": "tPRmFPXOJ_MP",
        "colab_type": "code",
        "colab": {
          "base_uri": "https://localhost:8080/",
          "height": 178
        },
        "outputId": "f0c34c37-d330-40cc-977b-e341b5e65b42"
      },
      "cell_type": "code",
      "source": [
        "A = np.matrix(\n",
        "    [[1, 2, 3], \n",
        "     [11, 12, 13], \n",
        "     [21, 22, 23]]\n",
        ")\n",
        "\n",
        "b = np.matrix(\n",
        "    [[1], \n",
        "     [2], \n",
        "     [3]])\n",
        "\n",
        "print(A)\n",
        "print(b)\n",
        "\n",
        "x = np.linalg.solve(A, b)\n",
        "\n",
        "print(x)"
      ],
      "execution_count": 63,
      "outputs": [
        {
          "output_type": "stream",
          "text": [
            "[[ 1  2  3]\n",
            " [11 12 13]\n",
            " [21 22 23]]\n",
            "[[1]\n",
            " [2]\n",
            " [3]]\n",
            "[[-0.01875]\n",
            " [-0.6625 ]\n",
            " [ 0.78125]]\n"
          ],
          "name": "stdout"
        }
      ]
    }
  ]
}