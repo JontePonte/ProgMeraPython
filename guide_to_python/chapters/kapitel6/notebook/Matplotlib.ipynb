{
  "nbformat": 4,
  "nbformat_minor": 0,
  "metadata": {
    "colab": {
      "name": "Matplotlib.ipynb",
      "provenance": []
    },
    "language_info": {
      "codemirror_mode": {
        "name": "ipython",
        "version": 3
      },
      "file_extension": ".py",
      "mimetype": "text/x-python",
      "name": "python",
      "nbconvert_exporter": "python",
      "pygments_lexer": "ipython3",
      "version": "3.6.1"
    },
    "kernelspec": {
      "display_name": "Python 3",
      "language": "python",
      "name": "python3"
    }
  },
  "cells": [
    {
      "cell_type": "markdown",
      "metadata": {
        "id": "LrN9OdQMwR7A",
        "colab_type": "text"
      },
      "source": [
        "# Plottning med Matplotlib"
      ]
    },
    {
      "cell_type": "markdown",
      "metadata": {
        "id": "91lRf-9wwR7G",
        "colab_type": "text"
      },
      "source": [
        "## Referensmaterial och exempel"
      ]
    },
    {
      "cell_type": "markdown",
      "metadata": {
        "id": "cmD0OFYdwR7I",
        "colab_type": "text"
      },
      "source": [
        "https://matplotlib.org/api/pyplot_summary.html\n",
        "\n",
        "https://matplotlib.org/users/tutorials.html"
      ]
    },
    {
      "cell_type": "markdown",
      "metadata": {
        "id": "qASxHV49wR7L",
        "colab_type": "text"
      },
      "source": [
        "## Använda Matplotlib"
      ]
    },
    {
      "cell_type": "markdown",
      "metadata": {
        "id": "BJWAMNGgwR7P",
        "colab_type": "text"
      },
      "source": [
        "The enklaste sättet att använda Matplotlib är genom modulen **pyplot**. Det rekommenderade sättet att importera Matplotlib visas i följande kod:\n"
      ]
    },
    {
      "cell_type": "code",
      "metadata": {
        "id": "PgjVWO2swR7R",
        "colab_type": "code",
        "colab": {}
      },
      "source": [
        "import matplotlib.pyplot as plt"
      ],
      "execution_count": 0,
      "outputs": []
    },
    {
      "cell_type": "markdown",
      "metadata": {
        "id": "kETq7O38wR7b",
        "colab_type": "text"
      },
      "source": [
        "# Enkel plottning"
      ]
    },
    {
      "cell_type": "markdown",
      "metadata": {
        "id": "zwQBzMvCwR7e",
        "colab_type": "text"
      },
      "source": [
        "Den enklaste sättet att plott en enkel plot är att anropa **plot()** funktonen med en lista av värden. Kör man i Spyder måste man också anropa funktionen **show()** för att plottfönstret skall visas. Kör man Matplotlib från en Notebook som här kommer plottningen att automatiskt ske.\n"
      ]
    },
    {
      "cell_type": "code",
      "metadata": {
        "id": "zLo8ZF4TwR7i",
        "colab_type": "code",
        "colab": {}
      },
      "source": [
        "plt.plot([1,2,3,4])\n",
        "plt.show()"
      ],
      "execution_count": 0,
      "outputs": []
    },
    {
      "cell_type": "markdown",
      "metadata": {
        "id": "wzUSMfkFwR7s",
        "colab_type": "text"
      },
      "source": [
        "Use the show function to display the plot."
      ]
    },
    {
      "cell_type": "markdown",
      "metadata": {
        "id": "FApu95wvwR74",
        "colab_type": "text"
      },
      "source": [
        "# Plotta NumPy arrayer"
      ]
    },
    {
      "cell_type": "code",
      "metadata": {
        "id": "naMtB_7cwR75",
        "colab_type": "code",
        "colab": {}
      },
      "source": [
        "import numpy as np"
      ],
      "execution_count": 0,
      "outputs": []
    },
    {
      "cell_type": "markdown",
      "metadata": {
        "id": "wynapDp5wR8B",
        "colab_type": "text"
      },
      "source": [
        "För att plotta en funktion skapar vi först 2 arrayer, en för x och en för y:"
      ]
    },
    {
      "cell_type": "code",
      "metadata": {
        "id": "0cQc6OomwR8D",
        "colab_type": "code",
        "colab": {}
      },
      "source": [
        "x = np.arange(0.0, 2*np.pi, 0.1)\n",
        "y = np.sin(x)"
      ],
      "execution_count": 0,
      "outputs": []
    },
    {
      "cell_type": "markdown",
      "metadata": {
        "id": "CDkLJJ3ywR8L",
        "colab_type": "text"
      },
      "source": [
        "Vi plottar funktionen genom att anropa **plot()** med arrayerna x och y:"
      ]
    },
    {
      "cell_type": "code",
      "metadata": {
        "id": "dsYuEEbowR8P",
        "colab_type": "code",
        "colab": {}
      },
      "source": [
        "plt.plot(x, y)\n",
        "plt.show()"
      ],
      "execution_count": 0,
      "outputs": []
    },
    {
      "cell_type": "markdown",
      "metadata": {
        "id": "m-n0ntSLwR8c",
        "colab_type": "text"
      },
      "source": [
        "# Ändra linjetyp"
      ]
    },
    {
      "cell_type": "markdown",
      "metadata": {
        "id": "etKtlCxhwR8e",
        "colab_type": "text"
      },
      "source": [
        "Använd MATLAB:s syntax för att ange färger för serier och punktegenskaper.\n"
      ]
    },
    {
      "cell_type": "code",
      "metadata": {
        "id": "6bXT7tHmwR8e",
        "colab_type": "code",
        "colab": {}
      },
      "source": [
        "plt.plot(x, y, 'ro')\n",
        "plt.show()"
      ],
      "execution_count": 0,
      "outputs": []
    },
    {
      "cell_type": "code",
      "metadata": {
        "id": "tzx9c4D8wR8l",
        "colab_type": "code",
        "colab": {}
      },
      "source": [
        "plt.plot(x, y, 'bo-')\n",
        "plt.show()"
      ],
      "execution_count": 0,
      "outputs": []
    },
    {
      "cell_type": "code",
      "metadata": {
        "id": "7cdrVwRKwR8v",
        "colab_type": "code",
        "colab": {}
      },
      "source": [
        "plt.plot(x, y, 'b--')\n",
        "plt.show()"
      ],
      "execution_count": 0,
      "outputs": []
    },
    {
      "cell_type": "code",
      "metadata": {
        "id": "UENlWT3SwR83",
        "colab_type": "code",
        "colab": {}
      },
      "source": [
        "plt.plot(x, y, 'b+')\n",
        "plt.show()"
      ],
      "execution_count": 0,
      "outputs": []
    },
    {
      "cell_type": "code",
      "metadata": {
        "id": "0ZgI9RFKwR89",
        "colab_type": "code",
        "colab": {}
      },
      "source": [
        "plt.plot(x, y, 'g+-')\n",
        "plt.show()"
      ],
      "execution_count": 0,
      "outputs": []
    },
    {
      "cell_type": "markdown",
      "metadata": {
        "id": "2_1tzGB7wR9G",
        "colab_type": "text"
      },
      "source": [
        "# Flera serier i samma plot"
      ]
    },
    {
      "cell_type": "code",
      "metadata": {
        "id": "o4QgQG_jwR9H",
        "colab_type": "code",
        "colab": {}
      },
      "source": [
        "x = np.arange(0.0, 2*np.pi, 0.1)\n",
        "y1 = np.sin(x)\n",
        "y2 = np.cos(x)"
      ],
      "execution_count": 0,
      "outputs": []
    },
    {
      "cell_type": "markdown",
      "metadata": {
        "id": "3_B2i-RTwR9Q",
        "colab_type": "text"
      },
      "source": [
        "Flera serier kan plottas samtidigt genom att lägga till dessa i **plot()**-funktionens argument.\n"
      ]
    },
    {
      "cell_type": "code",
      "metadata": {
        "id": "vihZjYASwR9S",
        "colab_type": "code",
        "colab": {}
      },
      "source": [
        "plt.plot(x, y1, 'r-', x, y2, 'b-')\n",
        "plt.show()"
      ],
      "execution_count": 0,
      "outputs": []
    },
    {
      "cell_type": "markdown",
      "metadata": {
        "id": "Q2GApVqawR9e",
        "colab_type": "text"
      },
      "source": [
        "# Ändra seriers egenskaper"
      ]
    },
    {
      "cell_type": "code",
      "metadata": {
        "id": "ot2J09gIwR9e",
        "colab_type": "code",
        "colab": {}
      },
      "source": [
        "plt.plot(x, y1, 'r-', x, y2, 'b-', linewidth=4.0) # Ändra linjetjocklek för alla serier.\n",
        "plt.show()"
      ],
      "execution_count": 0,
      "outputs": []
    },
    {
      "cell_type": "code",
      "metadata": {
        "id": "9k4rV-ktwR9n",
        "colab_type": "code",
        "colab": {}
      },
      "source": [
        "line1, line2 = plt.plot(x, y1, 'r-', x, y2, 'b-')\n",
        "line1.set_linewidth(4.0)\n",
        "line2.set_linewidth(8.0)\n",
        "plt.show()"
      ],
      "execution_count": 0,
      "outputs": []
    },
    {
      "cell_type": "code",
      "metadata": {
        "id": "TetgI54KwR9y",
        "colab_type": "code",
        "colab": {}
      },
      "source": [
        "lines = plt.plot(x, y1, 'r-', x, y2, 'b-') # lines är en lista av Line2D-objekt\n",
        "plt.setp(lines, linewidth = 8.0) # Sätter egenskaper för alla linjer i lines\n",
        "plt.show()"
      ],
      "execution_count": 0,
      "outputs": []
    },
    {
      "cell_type": "markdown",
      "metadata": {
        "id": "5YAfyVMFwR93",
        "colab_type": "text"
      },
      "source": [
        "# Plotta till flera figurfönster"
      ]
    },
    {
      "cell_type": "markdown",
      "metadata": {
        "id": "DTdGPipawR95",
        "colab_type": "text"
      },
      "source": [
        "Flera figurer kan skapas genom att använda **figure()** funktionen. Figurer kan ges nummer, så att man kan ange till vilken figur man plottar till.\n"
      ]
    },
    {
      "cell_type": "code",
      "metadata": {
        "id": "V5hOR0SRwR97",
        "colab_type": "code",
        "colab": {}
      },
      "source": [
        "plt.figure(1)\n",
        "plt.plot(x, y1, 'r-')\n",
        "\n",
        "plt.figure(2)\n",
        "plt.plot(x, y2, 'b-')\n",
        "\n",
        "plt.show()"
      ],
      "execution_count": 0,
      "outputs": []
    },
    {
      "cell_type": "markdown",
      "metadata": {
        "id": "-w3E3OdewR-A",
        "colab_type": "text"
      },
      "source": [
        "# Subplottar"
      ]
    },
    {
      "cell_type": "markdown",
      "metadata": {
        "id": "fH4xRBeWwR-B",
        "colab_type": "text"
      },
      "source": [
        "Ofta måste plotter kombineras i en enda plot. Detta görs med **subplots()**-funktionen. Argument till funktionerna ges av ett särskilt heltal bestående av 3 nummer. De första siffrorna ger raderna och kolumnerna för plotten. Det sista numret anger id:t för subplotten.\n",
        "\n",
        "211 - [2x1] id = 1\n",
        "\n",
        "212 - [2x1] id = 2"
      ]
    },
    {
      "cell_type": "code",
      "metadata": {
        "id": "njNwq-sBwR-B",
        "colab_type": "code",
        "colab": {}
      },
      "source": [
        "plt.figure(1)\n",
        "plt.subplot(211) # Subplot med 2 rader, 1 kolumn och första plotten.\n",
        "plt.plot(x, y1, 'r-')\n",
        "\n",
        "plt.subplot(212)\n",
        "plt.plot(x, y2, 'b-') # Subplot med 2 rader, 1 kolumn och andra plotten.\n",
        "\n",
        "plt.show()"
      ],
      "execution_count": 0,
      "outputs": []
    },
    {
      "cell_type": "code",
      "metadata": {
        "id": "88cj4XYXwR-K",
        "colab_type": "code",
        "colab": {}
      },
      "source": [
        "plt.figure(1)\n",
        "plt.subplot(121) # Subplot med 1 rad, 2 kolumner och första plotten.\n",
        "plt.plot(x, y1, 'r-')\n",
        "\n",
        "plt.subplot(122)\n",
        "plt.plot(x, y2, 'b-') # Subplot med 1 rad, 2 kolumner och andra plotten.\n",
        "\n",
        "plt.show()"
      ],
      "execution_count": 0,
      "outputs": []
    },
    {
      "cell_type": "markdown",
      "metadata": {
        "id": "cuNEDp3wwR-R",
        "colab_type": "text"
      },
      "source": [
        "# Dekorera plotter - titla och axelrubriker"
      ]
    },
    {
      "cell_type": "markdown",
      "metadata": {
        "id": "dsDphm1TwR-S",
        "colab_type": "text"
      },
      "source": [
        "Det finns flera funktioner för att dekorera plottar i Matplotlib. Alla funktioner i Matplotlib arbetar med den aktiva figuren. Växling mellan figurer / delplottar görs genom att använda funktionerna **figure()** och **subplot()**."
      ]
    },
    {
      "cell_type": "code",
      "metadata": {
        "id": "cYkFS6zMwR-T",
        "colab_type": "code",
        "colab": {}
      },
      "source": [
        "plt.figure(1)\n",
        "plt.subplot(211) # Byt till plot 211\n",
        "plt.xlabel(\"x\")\n",
        "plt.ylabel(\"y1\")\n",
        "plt.plot(x, y1, 'r-')\n",
        "\n",
        "plt.subplot(212) # Byt till plot 212\n",
        "plt.xlabel(\"x\")\n",
        "plt.ylabel(\"y2\")\n",
        "plt.plot(x, y2, 'b-')\n",
        "\n",
        "plt.show()"
      ],
      "execution_count": 0,
      "outputs": []
    },
    {
      "cell_type": "markdown",
      "metadata": {
        "id": "QSKf07mpwR-Y",
        "colab_type": "text"
      },
      "source": [
        "Text kan läggas till ett diagram med hjälp av **text()**-funktionen. Texten placeras med samma koordinaterna som för plotten. LaTeX-kommandon kan användas för att visa matematiska funktioner i diagrammet."
      ]
    },
    {
      "cell_type": "code",
      "metadata": {
        "id": "5tmOf-ytwR-a",
        "colab_type": "code",
        "colab": {}
      },
      "source": [
        "plt.figure(1)\n",
        "plt.xlabel(\"x\")\n",
        "plt.ylabel(\"y\")\n",
        "plt.text(np.pi/2, 0.8, r'$sin(x=\\frac{pi}{2})$', horizontalalignment='center')\n",
        "plt.plot(x, y, 'r-')\n",
        "plt.show()"
      ],
      "execution_count": 0,
      "outputs": []
    },
    {
      "cell_type": "markdown",
      "metadata": {
        "id": "3gjOjbj2wR-h",
        "colab_type": "text"
      },
      "source": [
        "Justering av texten kan ändras med argumentet *horizontalalignment* till **text()**-funktionen.\n"
      ]
    },
    {
      "cell_type": "markdown",
      "metadata": {
        "id": "n-9w_RFIwR-i",
        "colab_type": "text"
      },
      "source": [
        "Annoteringar kan också göras med **annotate()** funktionen.\n"
      ]
    },
    {
      "cell_type": "code",
      "metadata": {
        "id": "ibwI5szEwR-i",
        "colab_type": "code",
        "colab": {}
      },
      "source": [
        "plt.figure(1)\n",
        "plt.xlabel(\"x\")\n",
        "plt.ylabel(\"y\")\n",
        "plt.annotate('max', xy=(np.pi/2, 1), xytext=(np.pi/2, 0.5),\n",
        "            arrowprops=dict(facecolor='black', shrink=0.05), horizontalalignment='center'\n",
        "            )\n",
        "plt.plot(x, y, 'r-')\n",
        "\n",
        "plt.show()"
      ],
      "execution_count": 0,
      "outputs": []
    },
    {
      "cell_type": "markdown",
      "metadata": {
        "id": "ptx1LBaNwR-m",
        "colab_type": "text"
      },
      "source": [
        "Axelgränser kan sättas med funktionerna **xlim()** och **ylim()**:\n"
      ]
    },
    {
      "cell_type": "code",
      "metadata": {
        "id": "xaoAlJh_wR-n",
        "colab_type": "code",
        "colab": {}
      },
      "source": [
        "plt.figure(1)\n",
        "plt.xlabel(\"x\")\n",
        "plt.ylabel(\"y\")\n",
        "plt.xlim(0.0, np.pi)\n",
        "plt.ylim(0.0, 1.0)\n",
        "plt.annotate('max', xy=(np.pi/2, 1), xytext=(np.pi/2, 0.5),\n",
        "            arrowprops=dict(facecolor='black', shrink=0.05),\n",
        "            )\n",
        "plt.plot(x, y, 'r-')\n",
        "plt.show()"
      ],
      "execution_count": 0,
      "outputs": []
    },
    {
      "cell_type": "markdown",
      "metadata": {
        "id": "40MmFLHFwR-r",
        "colab_type": "text"
      },
      "source": [
        "Axlarnas skalor kan också ändras från linjära till logaritmiska genom att använda funktionerna **xscale()** och **yscale()**.\n"
      ]
    },
    {
      "cell_type": "code",
      "metadata": {
        "id": "5CsaAgrGwR-t",
        "colab_type": "code",
        "colab": {}
      },
      "source": [
        "x = np.arange(0,2.0, 0.01)\n",
        "y = np.exp(x)\n",
        "\n",
        "plt.figure(1)\n",
        "plt.yscale('log')\n",
        "plt.xlabel(\"x\")\n",
        "plt.ylabel(\"y\")\n",
        "plt.plot(x, y, 'r-')\n",
        "\n",
        "plt.show()"
      ],
      "execution_count": 0,
      "outputs": []
    },
    {
      "cell_type": "markdown",
      "metadata": {
        "id": "vd8WBXHzwR-y",
        "colab_type": "text"
      },
      "source": [
        "# Fler plottyper"
      ]
    },
    {
      "cell_type": "markdown",
      "metadata": {
        "id": "Oire_e76wR-0",
        "colab_type": "text"
      },
      "source": [
        "## Histogram - hist()"
      ]
    },
    {
      "cell_type": "code",
      "metadata": {
        "id": "BqXHIxgtwR-0",
        "colab_type": "code",
        "colab": {}
      },
      "source": [
        "np.random.seed(0)\n",
        "\n",
        "# exempel data\n",
        "\n",
        "mu = 100  # medelvärde för distributionen\n",
        "sigma = 15  # standardavvikelse för distributionen\n",
        "\n",
        "x = mu + sigma * np.random.randn(437)\n",
        "\n",
        "num_bins = 50\n",
        "\n",
        "plt.hist(x, num_bins, density=1)\n",
        "\n",
        "plt.xlabel('Smarts')\n",
        "plt.ylabel('Probability density')\n",
        "\n",
        "plt.show()"
      ],
      "execution_count": 0,
      "outputs": []
    },
    {
      "cell_type": "markdown",
      "metadata": {
        "id": "FM8U1j2ewR_B",
        "colab_type": "text"
      },
      "source": [
        "## Stapeldiagram"
      ]
    },
    {
      "cell_type": "code",
      "metadata": {
        "id": "YO5Y8dVgwR_C",
        "colab_type": "code",
        "colab": {}
      },
      "source": [
        "np.random.seed(0)\n",
        "\n",
        "# example data\n",
        "x = np.arange(20)+1.0\n",
        "y = np.random.rand(20)\n",
        "\n",
        "plt.bar(x, y)\n",
        "plt.xlim(0,21)\n",
        "plt.xticks(range(1,20+1))\n",
        "\n",
        "plt.show()"
      ],
      "execution_count": 0,
      "outputs": []
    },
    {
      "cell_type": "markdown",
      "metadata": {
        "id": "CZ6fPSs2wR_F",
        "colab_type": "text"
      },
      "source": [
        "## Spridningsplottar"
      ]
    },
    {
      "cell_type": "code",
      "metadata": {
        "id": "gePRMBGSwR_G",
        "colab_type": "code",
        "colab": {}
      },
      "source": [
        "for color in ['red', 'green', 'blue']:\n",
        "    n = 750\n",
        "    x, y = np.random.rand(2, n)\n",
        "    scale = 200.0 * np.random.rand(n)\n",
        "    plt.scatter(x, y, c=color, s=scale, label=color,\n",
        "                alpha=0.3, edgecolors='none')\n",
        "\n",
        "plt.legend()   # Lägger till en förklaring i diagrammet\n",
        "plt.grid(True) # Anger att vi vill ha ett rutnät i diagrammet\n",
        "\n",
        "plt.show()"
      ],
      "execution_count": 0,
      "outputs": []
    },
    {
      "cell_type": "markdown",
      "metadata": {
        "id": "uCr7XYLVwR_L",
        "colab_type": "text"
      },
      "source": [
        "## Konturplottar"
      ]
    },
    {
      "cell_type": "code",
      "metadata": {
        "id": "124XyGPNwR_L",
        "colab_type": "code",
        "colab": {}
      },
      "source": [
        "N = 100\n",
        "\n",
        "x = np.linspace(-6.0, 6.0, N)\n",
        "y = np.linspace(-6.0, 6.0, N)\n",
        "\n",
        "X, Y = np.meshgrid(x, y)\n",
        "\n",
        "z = np.sin(0.5*X*Y)\n",
        "\n",
        "plt.contourf(X, Y, z, cmap=plt.cm.RdBu) # cmap anger färgskala\n",
        "plt.colorbar() # Lägger till en färgskala i plotten\n",
        "\n",
        "plt.show()"
      ],
      "execution_count": 0,
      "outputs": []
    },
    {
      "cell_type": "markdown",
      "metadata": {
        "id": "D886D96nwR_P",
        "colab_type": "text"
      },
      "source": [
        "## Visa bilder"
      ]
    },
    {
      "cell_type": "code",
      "metadata": {
        "id": "Gcqv_tfDwR_R",
        "colab_type": "code",
        "colab": {}
      },
      "source": [
        "import matplotlib.cbook as cbook\n",
        "\n",
        "image_file = cbook.get_sample_data('ada.png')\n",
        "image = plt.imread(image_file)\n",
        "\n",
        "plt.imshow(image)\n",
        "plt.axis('off')  # ta bort axlarna\n",
        "plt.show()"
      ],
      "execution_count": 0,
      "outputs": []
    },
    {
      "cell_type": "markdown",
      "metadata": {
        "id": "VZypklw5wR_T",
        "colab_type": "text"
      },
      "source": [
        "Hur pixlarna skall mjukas ut eller interpoleras kan också styras:\n"
      ]
    },
    {
      "cell_type": "code",
      "metadata": {
        "id": "Hm_F169GwR_U",
        "colab_type": "code",
        "colab": {}
      },
      "source": [
        "# from the docs:\n",
        "\n",
        "# If interpolation is None, default to rc image.interpolation. See also\n",
        "# the filternorm and filterrad parameters. If interpolation is 'none', then\n",
        "# no interpolation is performed on the Agg, ps and pdf backends. Other\n",
        "# backends will fall back to 'nearest'.\n",
        "#\n",
        "# http://matplotlib.org/api/pyplot_api.html#matplotlib.pyplot.imshow\n",
        "\n",
        "methods = [None, 'none', 'nearest', 'bilinear', 'bicubic', 'spline16',\n",
        "           'spline36', 'hanning', 'hamming', 'hermite', 'kaiser', 'quadric',\n",
        "           'catrom', 'gaussian', 'bessel', 'mitchell', 'sinc', 'lanczos']\n",
        "\n",
        "np.random.seed(0)\n",
        "grid = np.random.rand(4, 4)\n",
        "\n",
        "fig, axes = plt.subplots(3, 6, figsize=(12, 6),\n",
        "                         subplot_kw={'xticks': [], 'yticks': []})\n",
        "\n",
        "fig.subplots_adjust(hspace=0.3, wspace=0.05)\n",
        "\n",
        "for ax, interp_method in zip(axes.flat, methods):\n",
        "    ax.imshow(grid, interpolation=interp_method, cmap='viridis')\n",
        "    ax.set_title(interp_method)\n",
        "\n",
        "plt.show()"
      ],
      "execution_count": 0,
      "outputs": []
    },
    {
      "cell_type": "markdown",
      "metadata": {
        "id": "-Lg6DS6iwR_X",
        "colab_type": "text"
      },
      "source": [
        "## Flödeslinjeplottar"
      ]
    },
    {
      "cell_type": "code",
      "metadata": {
        "id": "TH_vwVzFwR_X",
        "colab_type": "code",
        "colab": {}
      },
      "source": [
        "Y, X = np.mgrid[-3:3:100j, -3:3:100j]\n",
        "U = -1 - X**2 + Y\n",
        "V = 1 + X - Y**2\n",
        "speed = np.sqrt(U*U + V*V)\n",
        "\n",
        "fig0, ax0 = plt.subplots()\n",
        "strm = ax0.streamplot(X, Y, U, V, color=U, linewidth=2, cmap=plt.cm.autumn)\n",
        "fig0.colorbar(strm.lines)\n",
        "\n",
        "fig1, (ax1, ax2) = plt.subplots(ncols=2)\n",
        "ax1.streamplot(X, Y, U, V, density=[0.5, 1])\n",
        "\n",
        "lw = 5*speed / speed.max()\n",
        "ax2.streamplot(X, Y, U, V, density=0.6, color='k', linewidth=lw)\n",
        "\n",
        "fig2, (ax3, ax4) = plt.subplots(ncols=2)\n",
        "ax3.contourf(X, Y, U, cmap=plt.cm.RdBu)\n",
        "ax4.contourf(X, Y, V, cmap=plt.cm.RdBu)\n",
        "\n",
        "plt.show()"
      ],
      "execution_count": 0,
      "outputs": []
    },
    {
      "cell_type": "markdown",
      "metadata": {
        "id": "FhlmTg6LwR_l",
        "colab_type": "text"
      },
      "source": [
        "## Sektordiagram"
      ]
    },
    {
      "cell_type": "code",
      "metadata": {
        "id": "oDxlGQh-wR_m",
        "colab_type": "code",
        "colab": {}
      },
      "source": [
        "labels = 'Frogs', 'Hogs', 'Dogs', 'Logs'\n",
        "sizes = [15, 30, 45, 10]\n",
        "explode = (0, 0.1, 0, 0)  # only \"explode\" the 2nd slice (i.e. 'Hogs')\n",
        "\n",
        "fig1, ax1 = plt.subplots()\n",
        "\n",
        "ax1.pie(sizes, labels=labels)\n",
        "\n",
        "#ax1.pie(sizes, explode=explode, labels=labels, autopct='%1.1f%%',\n",
        "#        shadow=True, startangle=90)\n",
        "\n",
        "ax1.axis('equal')  \n",
        "\n",
        "plt.show()"
      ],
      "execution_count": 0,
      "outputs": []
    },
    {
      "cell_type": "code",
      "metadata": {
        "id": "KCHOVe-_wR_q",
        "colab_type": "code",
        "colab": {}
      },
      "source": [
        "N = 20\n",
        "theta = np.linspace(0.0, 2 * np.pi, N, endpoint=False)\n",
        "radii = 10 * np.random.rand(N)\n",
        "width = np.pi / 4 * np.random.rand(N)\n",
        "\n",
        "ax = plt.subplot(111, projection='polar')\n",
        "bars = ax.bar(theta, radii, width=width, bottom=0.0)\n",
        "\n",
        "for r, bar in zip(radii, bars):\n",
        "    bar.set_facecolor(plt.cm.viridis(r / 10.))\n",
        "    bar.set_alpha(0.5)\n",
        "\n",
        "plt.show()"
      ],
      "execution_count": 0,
      "outputs": []
    },
    {
      "cell_type": "markdown",
      "metadata": {
        "id": "wFeSzqMNwR_r",
        "colab_type": "text"
      },
      "source": [
        "## 3D plot"
      ]
    },
    {
      "cell_type": "code",
      "metadata": {
        "id": "y7_-jzsFwR_s",
        "colab_type": "code",
        "colab": {}
      },
      "source": [
        "from mpl_toolkits.mplot3d import axes3d\n",
        "import matplotlib.pyplot as plt\n",
        "from matplotlib import cm\n",
        "\n",
        "N = 100\n",
        "\n",
        "x = np.linspace(-6.0, 6.0, N)\n",
        "y = np.linspace(-6.0, 6.0, N)\n",
        "\n",
        "X, Y = np.meshgrid(x, y)\n",
        "\n",
        "z = np.sin(0.5*X*Y)\n",
        "\n",
        "fig = plt.figure()\n",
        "ax = fig.gca(projection='3d')\n",
        "ax.plot_surface(X, Y, z, cmap=plt.cm.RdBu)\n",
        "\n",
        "ax.set_xlabel('X')\n",
        "ax.set_ylabel('Y')\n",
        "ax.set_zlabel('Z')\n",
        "ax.set_zlim(-5, 5)\n",
        "plt.show()\n"
      ],
      "execution_count": 0,
      "outputs": []
    },
    {
      "cell_type": "code",
      "metadata": {
        "id": "LcyLnYjeLQHF",
        "colab_type": "code",
        "colab": {}
      },
      "source": [
        ""
      ],
      "execution_count": 0,
      "outputs": []
    }
  ]
}