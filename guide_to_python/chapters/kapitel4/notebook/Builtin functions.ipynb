{
 "cells": [
  {
   "cell_type": "markdown",
   "metadata": {},
   "source": [
    "# System functions"
   ]
  },
  {
   "cell_type": "markdown",
   "metadata": {},
   "source": [
    "## Environment variables"
   ]
  },
  {
   "cell_type": "code",
   "execution_count": null,
   "metadata": {},
   "outputs": [],
   "source": [
    "import os\n",
    "\n",
    "print(os.environ[\"PATH\"])\n",
    "\n",
    "for variable in os.environ:\n",
    "    print(\"%s = %s\" % (variable, os.environ[variable]))\n",
    "\n",
    "os.environ[\"TEST\"] = \"Nytt värde\"\n",
    "print(os.environ[\"TEST\"])"
   ]
  },
  {
   "cell_type": "markdown",
   "metadata": {},
   "source": [
    "## Accessing the system path"
   ]
  },
  {
   "cell_type": "code",
   "execution_count": null,
   "metadata": {},
   "outputs": [],
   "source": [
    "import os\n",
    "\n",
    "exe_path_list = os.get_exec_path()\n",
    "\n",
    "for path in exe_path_list:\n",
    "    print(path)"
   ]
  },
  {
   "cell_type": "markdown",
   "metadata": {},
   "source": [
    "## Changing and querying the working directory"
   ]
  },
  {
   "cell_type": "code",
   "execution_count": null,
   "metadata": {},
   "outputs": [],
   "source": [
    "import os\n",
    "\n",
    "cwd = os.getcwd()\n",
    "print(cwd)\n",
    "\n",
    "os.chdir(\"..\")\n",
    "print(os.getcwd())\n",
    "os.chdir(cwd)"
   ]
  },
  {
   "cell_type": "markdown",
   "metadata": {},
   "source": [
    "## Listing files in a directory"
   ]
  },
  {
   "cell_type": "code",
   "execution_count": null,
   "metadata": {},
   "outputs": [],
   "source": [
    "import os\n",
    "\n",
    "for item in os.listdir():\n",
    "    print(item)\n",
    "\n",
    "for item in os.listdir():\n",
    "    if os.path.isdir(item):\n",
    "        print(\"Katalog:\", item)\n",
    "    if os.path.isfile(item):\n",
    "        print(\"Fil    :\", item)"
   ]
  },
  {
   "cell_type": "markdown",
   "metadata": {},
   "source": [
    "## Directory manipulation"
   ]
  },
  {
   "cell_type": "code",
   "execution_count": null,
   "metadata": {},
   "outputs": [],
   "source": [
    "import os\n",
    "\n",
    "cwd = os.getcwd()\n",
    "\n",
    "if not os.path.exists(\"os5\"):\n",
    "    os.mkdir(\"os5\")\n",
    "\n",
    "os.chdir(\"os5\")\n",
    "\n",
    "os.mkdir(\"testdir\")\n",
    "\n",
    "with open(\"testfile\", \"w\") as f:\n",
    "    f.write(\"testfile\")\n",
    "\n",
    "print(os.listdir())\n",
    "\n",
    "os.rename(\"testfile\", \"testfile2\")\n",
    "\n",
    "print(os.listdir())\n",
    "\n",
    "os.rmdir(\"testdir\")\n",
    "os.remove(\"testfile2\")\n",
    "\n",
    "print(os.listdir())\n",
    "\n",
    "os.chdir(cwd)"
   ]
  },
  {
   "cell_type": "markdown",
   "metadata": {},
   "source": [
    "## Listing and querying file information"
   ]
  },
  {
   "cell_type": "code",
   "execution_count": null,
   "metadata": {},
   "outputs": [],
   "source": [
    "import os\n",
    "\n",
    "with os.scandir() as it:\n",
    "    for entry in it:\n",
    "        print(\"------------------------\")\n",
    "        print(\"name\", entry.name)\n",
    "        print(\"path\", entry.path)\n",
    "        print(\"is_dir\", entry.is_dir())\n",
    "        print(\"is_file\", entry.is_file())"
   ]
  },
  {
   "cell_type": "markdown",
   "metadata": {},
   "source": [
    "## Walking directories with os.walk()"
   ]
  },
  {
   "cell_type": "code",
   "execution_count": null,
   "metadata": {},
   "outputs": [],
   "source": [
    "import os\n",
    "\n",
    "for root, dirs, files in os.walk(\".\"):\n",
    "    print(\"--->\")\n",
    "    print(root)\n",
    "    print(dirs)\n",
    "    print(files)\n",
    "    print(\"<---\")"
   ]
  },
  {
   "cell_type": "markdown",
   "metadata": {},
   "source": [
    "## Querying file information"
   ]
  },
  {
   "cell_type": "code",
   "execution_count": null,
   "metadata": {},
   "outputs": [],
   "source": [
    "import os\n",
    "\n",
    "statinfo = os.stat(\"os5\")\n",
    "\n",
    "print(statinfo)"
   ]
  },
  {
   "cell_type": "markdown",
   "metadata": {},
   "source": [
    "## Path manipulation"
   ]
  },
  {
   "cell_type": "code",
   "execution_count": null,
   "metadata": {},
   "outputs": [],
   "source": [
    "import os\n",
    "\n",
    "print(os.path.abspath('.'))\n",
    "print(os.path.basename('/home/user/test.txt'))\n",
    "print(os.path.dirname('/home/user/test.txt'))\n",
    "\n",
    "if os.path.exists('/home/user/test.txt'):\n",
    "    print('test.txt is valid')\n",
    "else:\n",
    "    print('test.txt is not valid')\n",
    "\n",
    "print(os.path.expanduser('~'))\n",
    "\n",
    "print(os.path.getatime('ospath1.py'))\n",
    "print(os.path.getmtime('ospath1.py'))\n",
    "print(os.path.getctime('ospath1.py'))\n",
    "\n",
    "print(os.path.getsize('ospath1.py'))\n",
    "\n",
    "if os.path.isabs('ospath1.py'):\n",
    "    print('Absolute path')\n",
    "else:\n",
    "    print('No absolute path')\n",
    "\n",
    "if os.path.isabs(\"C:/Users/jonas/Development/python_book/examples/rtl/ospath1.py\"):\n",
    "    print('Absolute path')\n",
    "else:\n",
    "    print('No absolute path')\n",
    "\n",
    "if os.path.isfile('ospath1.py'):\n",
    "    print('ospath1.py is a file')\n",
    "else:\n",
    "    print('ospath1.py is not a file')\n",
    "\n",
    "if os.path.isdir('ospath1.py'):\n",
    "    print('ospath1.py is a directory')\n",
    "else:\n",
    "    print('ospath1.py is not a directory')\n",
    "\n",
    "dir_name = 'c:\\\\Users\\\\jonas'\n",
    "file_name = 'test.txt'\n",
    "\n",
    "file_path = os.path.join(dir_name, file_name)\n",
    "\n",
    "print(file_path)\n",
    "print(os.path.split(file_path))\n",
    "print(os.path.splitdrive(file_path))\n",
    "print(os.path.splitext(file_path))"
   ]
  },
  {
   "cell_type": "markdown",
   "metadata": {},
   "source": [
    "## Path manipulation using pathlib"
   ]
  },
  {
   "cell_type": "code",
   "execution_count": null,
   "metadata": {},
   "outputs": [],
   "source": [
    "import pathlib as pl\n",
    "\n",
    "p = pl.Path('.')\n",
    "p = p / \"test\"\n",
    "print(p)\n",
    "\n",
    "print(p.exists())\n",
    "\n",
    "q = p.resolve()\n",
    "print(q)\n",
    "\n",
    "\n",
    "print(q.parts)\n",
    "print(q.drive)\n",
    "\n",
    "r = pl.Path.cwd()\n",
    "print(r)\n",
    "\n",
    "print(r.exists())\n",
    "print(r.is_dir())\n",
    "print(r.is_file())\n",
    "\n",
    "\n",
    "s = pl.Path.home()\n",
    "print(s)"
   ]
  },
  {
   "cell_type": "markdown",
   "metadata": {},
   "source": [
    "## Iterating with pathlib"
   ]
  },
  {
   "cell_type": "code",
   "execution_count": null,
   "metadata": {},
   "outputs": [],
   "source": [
    "import pathlib as pl\n",
    "\n",
    "p = pl.Path(\".\")\n",
    "\n",
    "for x in p.iterdir():\n",
    "    if x.is_dir():\n",
    "        print(x,'- katalog')\n",
    "    else:\n",
    "        print(x,'- fil')"
   ]
  },
  {
   "cell_type": "markdown",
   "metadata": {},
   "source": [
    "## Current path manipulation using pathlib"
   ]
  },
  {
   "cell_type": "code",
   "execution_count": null,
   "metadata": {},
   "outputs": [],
   "source": [
    "import os\n",
    "import pathlib as pl\n",
    "\n",
    "p = pl.Path('..')\n",
    "\n",
    "os.chdir(p)\n",
    "\n",
    "q = pl.Path.cwd()\n",
    "print(q)"
   ]
  },
  {
   "cell_type": "code",
   "execution_count": null,
   "metadata": {},
   "outputs": [],
   "source": [
    "import os\n",
    "import pathlib as pl\n",
    "\n",
    "new_path = pl.Path('..')\n",
    "old_path = pl.Path.cwd()\n",
    "\n",
    "os.chdir(new_path)\n",
    "\n",
    "print(pl.Path.cwd())\n",
    "\n",
    "os.chdir(old_path)\n",
    "\n",
    "print(pl.Path.cwd())"
   ]
  },
  {
   "cell_type": "markdown",
   "metadata": {},
   "source": [
    "## Temporary files"
   ]
  },
  {
   "cell_type": "code",
   "execution_count": null,
   "metadata": {},
   "outputs": [],
   "source": [
    "import os, tempfile\n",
    "\n",
    "temp_fd, temp_path = tempfile.mkstemp()\n",
    "\n",
    "print('Temporär fil', temp_path, 'skapad.')\n",
    "print('Är det en faktiskt fil:', os.path.isfile(temp_path))\n",
    "\n",
    "try:\n",
    "    with open(temp_fd, 'w+t') as temp_file:\n",
    "        temp_file = open(temp_fd, 'w+t')\n",
    "        temp_file.write('this is written to the temp file')\n",
    "        temp_file.seek(0)\n",
    "        print(temp_file.read())\n",
    "finally:\n",
    "    os.remove(temp_path)\n",
    "\n",
    "print(os.path.isfile(temp_path))"
   ]
  },
  {
   "cell_type": "code",
   "execution_count": null,
   "metadata": {},
   "outputs": [],
   "source": [
    "import os, tempfile\n",
    "\n",
    "with tempfile.TemporaryFile('w+t') as temp_file:\n",
    "    print('Temporär fil', temp_file.name, 'skapad.')\n",
    "    print(os.path.isfile(temp_file.name))\n",
    "    temp_file.write('this is written to the temp file')\n",
    "    temp_file.seek(0)\n",
    "    print(temp_file.read())\n",
    "\n",
    "print(os.path.isfile(temp_file.name))"
   ]
  },
  {
   "cell_type": "markdown",
   "metadata": {},
   "source": [
    "# Starting other programs from Python"
   ]
  },
  {
   "cell_type": "markdown",
   "metadata": {},
   "source": [
    "## Starting program using the subprocess module"
   ]
  },
  {
   "cell_type": "code",
   "execution_count": 1,
   "metadata": {},
   "outputs": [
    {
     "name": "stdout",
     "output_type": "stream",
     "text": [
      "Processen returnerade 0\n"
     ]
    }
   ],
   "source": [
    "import subprocess\n",
    "\n",
    "result = subprocess.run(['ping', '-n', '1','www.google.se'])\n",
    "\n",
    "if result.returncode == 0:\n",
    "    print('Processen returnerade 0')\n",
    "else:\n",
    "    print('Processen returnerade felkoden = ', result.returncode)"
   ]
  },
  {
   "cell_type": "code",
   "execution_count": 2,
   "metadata": {},
   "outputs": [
    {
     "name": "stdout",
     "output_type": "stream",
     "text": [
      "Processen returnerade 0\n",
      "Utdata:\n",
      " Volume in drive C is Local Disk\n",
      " Volume Serial Number is 82A6-EE0C\n",
      "\n",
      " Directory of C:\\Users\\jonas\\Development\\guide_to_python\\chapters\\kapitel4\\notebook\n",
      "\n",
      "2019-09-20  11:05    <DIR>          .\n",
      "2019-09-20  11:05    <DIR>          ..\n",
      "2019-09-19  15:11    <DIR>          .ipynb_checkpoints\n",
      "2019-09-20  11:05           275ÿ113 bild1.jpg\n",
      "2019-09-20  11:05           407ÿ167 bild2.jpg\n",
      "2019-09-20  11:05           284ÿ656 Builtin functions.ipynb\n",
      "2019-09-20  11:05               181 config1.ini\n",
      "2019-09-20  11:05               188 config2.ini\n",
      "2019-09-20  11:05               111 config3.ini\n",
      "2019-09-20  11:05               260 example1.csv\n",
      "2019-09-20  11:05                39 example2.csv\n",
      "2019-09-20  11:05                39 example3.csv\n",
      "2019-09-20  11:05           686ÿ080 myarchive.tar.gz\n",
      "2019-09-20  11:05           682ÿ490 myarchive.zip\n",
      "2019-09-20  11:05    <DIR>          mytar\n",
      "2019-09-20  11:05    <DIR>          mytar_all\n",
      "2019-09-20  11:05    <DIR>          myzip\n",
      "2019-09-20  11:05    <DIR>          myzip_all\n",
      "2019-09-19  15:54    <DIR>          os5\n",
      "              11 File(s)      2ÿ336ÿ324 bytes\n",
      "               8 Dir(s)  207ÿ458ÿ840ÿ576 bytes free\n",
      "\n"
     ]
    }
   ],
   "source": [
    "import subprocess\n",
    "\n",
    "result = subprocess.run('dir', shell=True, stdout=subprocess.PIPE, universal_newlines=True)\n",
    "\n",
    "if result.returncode == 0:\n",
    "    print('Processen returnerade 0')\n",
    "    print('Utdata:')\n",
    "    print(result.stdout)\n",
    "else:\n",
    "    print('Processen returnerade felkoden = ', result.returncode)"
   ]
  },
  {
   "cell_type": "code",
   "execution_count": 3,
   "metadata": {},
   "outputs": [
    {
     "name": "stdout",
     "output_type": "stream",
     "text": [
      "Processen returnerade 0\n"
     ]
    }
   ],
   "source": [
    "import subprocess\n",
    "\n",
    "p = subprocess.Popen(['ping', '-n', '1', 'localhost'])\n",
    "p.wait()\n",
    "\n",
    "if p.returncode == 0:\n",
    "    print('Processen returnerade 0')\n",
    "else:\n",
    "    print('Processen returnerade felkoden = ', p.returncode)"
   ]
  },
  {
   "cell_type": "code",
   "execution_count": 4,
   "metadata": {},
   "outputs": [
    {
     "name": "stdout",
     "output_type": "stream",
     "text": [
      "Väntar...\n",
      "Väntar...\n",
      "Väntar...\n",
      "Väntar...\n",
      "Väntar...\n",
      "Väntar...\n",
      "Väntar...\n",
      "Väntar...\n",
      "Väntar...\n",
      "Väntar...\n",
      "Processen returnerade 0\n"
     ]
    }
   ],
   "source": [
    "import subprocess, time\n",
    "\n",
    "p = subprocess.Popen(['ping', '-n', '10', 'www.google.se'])\n",
    "\n",
    "while p.poll() is None:\n",
    "    print('Väntar...')\n",
    "    time.sleep(1)\n",
    "\n",
    "if p.returncode == 0:\n",
    "    print('Processen returnerade 0')\n",
    "else:\n",
    "    print('Processen returnerade felkoden = ', p.returncode)"
   ]
  },
  {
   "cell_type": "code",
   "execution_count": 5,
   "metadata": {},
   "outputs": [
    {
     "name": "stdout",
     "output_type": "stream",
     "text": [
      "Väntar...\n",
      "Väntar...\n",
      "Väntar...\n",
      "Väntar...\n",
      "Väntar...\n",
      "Väntar...\n",
      "Väntar...\n",
      "Väntar...\n",
      "Väntar...\n",
      "Väntar...\n",
      "Väntar...\n",
      "Väntar...\n",
      "Väntar...\n",
      "Väntar...\n",
      "Väntar...\n",
      "Processen returnerade 0\n",
      "standard output:\n",
      "\n",
      "Tracing route to www.google.se [108.177.127.94]\n",
      "over a maximum of 4 hops:\n",
      "\n",
      "  1     3 ms    11 ms     7 ms  10.1.0.1 \n",
      "  2     8 ms     7 ms     6 ms  130.235.133.145 \n",
      "  3   181 ms     7 ms     7 ms  r001a-f001a.net.lu.se [130.235.217.1] \n",
      "  4     6 ms     4 ms     6 ms  jr1a-r1a.net.lu.se [130.235.217.60] \n",
      "\n",
      "Trace complete.\n",
      "\n",
      "standard error:\n",
      "\n"
     ]
    }
   ],
   "source": [
    "import subprocess, time\n",
    "\n",
    "p = subprocess.Popen(['tracert', '-h', '4', 'www.google.se'], stdout=subprocess.PIPE, stderr=subprocess.PIPE, universal_newlines=True)\n",
    "\n",
    "while p.poll() is None:\n",
    "    print('Väntar...')\n",
    "    time.sleep(1)\n",
    "\n",
    "stdout, stderr = p.communicate()\n",
    "\n",
    "if p.returncode == 0:\n",
    "    print('Processen returnerade 0')\n",
    "    print('standard output:')\n",
    "    print(stdout)\n",
    "    print('standard error:')\n",
    "    print(stderr)\n",
    "else:\n",
    "    print('Processen returnerade felkoden = ', p.returncode)"
   ]
  },
  {
   "cell_type": "code",
   "execution_count": null,
   "metadata": {},
   "outputs": [],
   "source": [
    "import subprocess\n",
    "\n",
    "with subprocess.Popen(['tracert', '-h', '4', 'www.google.se'], stdout=subprocess.PIPE, stderr=subprocess.PIPE) as p:\n",
    "    stdout, stderr = p.communicate()\n",
    "\n",
    "    if p.returncode == 0:\n",
    "        print('Processen returnerade 0')\n",
    "        print('standard output:')\n",
    "        print(stdout)\n",
    "        print('standard error:')\n",
    "        print(stderr)\n",
    "    else:\n",
    "        print('Processen returnerade felkoden = ', p.returncode)"
   ]
  },
  {
   "cell_type": "code",
   "execution_count": 6,
   "metadata": {},
   "outputs": [
    {
     "name": "stdout",
     "output_type": "stream",
     "text": [
      "> Volume in drive C is Local Disk\n",
      "> Volume Serial Number is 82A6-EE0C\n",
      ">\n",
      "> Directory of C:\\Users\\jonas\\Development\\guide_to_python\\chapters\\kapitel4\\notebook\n",
      ">\n",
      ">2019-09-20  11:13    <DIR>          .\n",
      ">2019-09-20  11:13    <DIR>          ..\n",
      ">2019-09-19  15:11    <DIR>          .ipynb_checkpoints\n",
      ">2019-09-20  11:05           275ÿ113 bild1.jpg\n",
      ">2019-09-20  11:05           407ÿ167 bild2.jpg\n",
      ">2019-09-20  11:13            28ÿ111 Builtin functions.ipynb\n",
      ">2019-09-20  11:05               181 config1.ini\n",
      ">2019-09-20  11:05               188 config2.ini\n",
      ">2019-09-20  11:05               111 config3.ini\n",
      ">2019-09-20  11:05               260 example1.csv\n",
      ">2019-09-20  11:05                39 example2.csv\n",
      ">2019-09-20  11:05                39 example3.csv\n",
      ">2019-09-20  11:05           686ÿ080 myarchive.tar.gz\n",
      ">2019-09-20  11:05           682ÿ490 myarchive.zip\n",
      ">2019-09-20  11:05    <DIR>          mytar\n",
      ">2019-09-20  11:05    <DIR>          mytar_all\n",
      ">2019-09-20  11:05    <DIR>          myzip\n",
      ">2019-09-20  11:05    <DIR>          myzip_all\n",
      ">2019-09-19  15:54    <DIR>          os5\n",
      ">              11 File(s)      2ÿ079ÿ779 bytes\n",
      ">               8 Dir(s)  207ÿ454ÿ728ÿ192 bytes free\n",
      ">\n"
     ]
    }
   ],
   "source": [
    "import subprocess\n",
    "\n",
    "\n",
    "def execute_with_output(cmd):\n",
    "\n",
    "    with subprocess.Popen(cmd, shell=True, stdout=subprocess.PIPE, universal_newlines=True) as p:\n",
    "        stdout, _ = p.communicate()\n",
    "\n",
    "        if p.returncode == 0:\n",
    "            return stdout\n",
    "        else:\n",
    "            return None\n",
    "\n",
    "\n",
    "if __name__ == \"__main__\":\n",
    "\n",
    "    output = execute_with_output('dir')\n",
    "\n",
    "    if output is not None:\n",
    "\n",
    "        lines = output.split(\"\\n\")\n",
    "\n",
    "        for line in lines:\n",
    "            print('>' + line)\n",
    "    else:\n",
    "        print('Ingen utdata returnerades.')"
   ]
  },
  {
   "cell_type": "markdown",
   "metadata": {},
   "source": [
    "# Structured logging of events"
   ]
  },
  {
   "cell_type": "code",
   "execution_count": null,
   "metadata": {},
   "outputs": [],
   "source": [
    "import logging\n",
    "\n",
    "def do_some_logging():\n",
    "    logging.debug(\"Detta är ett testmeddelande...\")\n",
    "    logging.info(\"Detta är ett informationsmeddelande...\")\n",
    "    logging.warning(\"Detta är en varning...\")\n",
    "    logging.error(\"Detta är ett felmeddelande...\")\n",
    "    logging.critical(\"Detta är ett kritiskt fel...\")\n",
    "    logging.critical(\"-----------------------------\")\n",
    "\n",
    "logging.getLogger().setLevel(logging.DEBUG)\n",
    "\n",
    "do_some_logging()\n",
    "\n",
    "logging.getLogger().setLevel(logging.ERROR)\n",
    "\n",
    "do_some_logging()"
   ]
  },
  {
   "cell_type": "code",
   "execution_count": null,
   "metadata": {},
   "outputs": [],
   "source": [
    "import logging\n",
    "\n",
    "def do_some_logging2(logger):\n",
    "    logger.debug(\"Detta är ett testmeddelande...\")\n",
    "    logger.info(\"Detta är ett informationsmeddelande...\")\n",
    "    logger.warning(\"Detta är en varning...\")\n",
    "    logger.error(\"Detta är ett felmeddelande...\")\n",
    "    logger.critical(\"Detta är ett kritiskt fel...\")\n",
    "    logger.critical(\"-----------------------------\")\n",
    "\n",
    "\n",
    "mylog = logging.getLogger(\"mylog\")\n",
    "mylog.setLevel(logging.DEBUG)\n",
    "\n",
    "do_some_logging2(mylog)\n",
    "\n",
    "print(\"Loglevel ERROR\")\n",
    "\n",
    "mylog.setLevel(logging.ERROR)\n",
    "\n",
    "do_some_logging2(mylog)"
   ]
  },
  {
   "cell_type": "code",
   "execution_count": null,
   "metadata": {},
   "outputs": [],
   "source": [
    "import logging\n",
    "\n",
    "def do_some_logging(logger):\n",
    "    logger.debug(\"Detta är ett testmeddelande...\")\n",
    "    logger.info(\"Detta är ett informationsmeddelande...\")\n",
    "    logger.warning(\"Detta är en varning...\")\n",
    "    logger.error(\"Detta är ett felmeddelande...\")\n",
    "    logger.critical(\"Detta är ett kritiskt fel...\")\n",
    "\n",
    "logging.basicConfig(level=logging.DEBUG, format='%(asctime)-15s %(name)-10s %(levelname)-8s %(message)s')\n",
    "\n",
    "mylog = logging.getLogger(\"mylog\")\n",
    "mylog.setLevel(logging.DEBUG)\n",
    "\n",
    "do_some_logging(mylog)"
   ]
  },
  {
   "cell_type": "markdown",
   "metadata": {},
   "source": [
    "# Storing variables and data structures"
   ]
  },
  {
   "cell_type": "code",
   "execution_count": 11,
   "metadata": {},
   "outputs": [
    {
     "name": "stdout",
     "output_type": "stream",
     "text": [
      "{'a number': 42, 'a list': [1, 2, 3, 4], 'a dict': {'a': 1, 'b': 2}}\n",
      "{\"a number\": 42, \"a list\": [1, 2, 3, 4], \"a dict\": {\"a\": 1, \"b\": 2}}\n"
     ]
    }
   ],
   "source": [
    "import json\n",
    "\n",
    "my_data = {\"a number\": 42, \"a list\": [1, 2, 3, 4], \"a dict\": {'a': 1, 'b': 2}}\n",
    "\n",
    "with open(\"mydata.json\", \"w\") as my_file:\n",
    "    json.dump(my_data, my_file)\n",
    "\n",
    "with open(\"mydata.json\", \"r\") as my_file:\n",
    "    my_data_copy = json.load(my_file)\n",
    "\n",
    "print(my_data_copy)\n",
    "!type mydata.json"
   ]
  },
  {
   "cell_type": "code",
   "execution_count": null,
   "metadata": {},
   "outputs": [],
   "source": [
    "import json\n",
    "\n",
    "my_data = {\"a number\": 42, \"a list\": [1, 2, 3, 4], \"a dict\": {'a': 1, 'b': 2}}\n",
    "\n",
    "json_string = json.dumps(my_data)\n",
    "\n",
    "print(json_string)\n",
    "\n",
    "my_data_copy = json.loads(json_string)\n",
    "\n",
    "print(my_data_copy)"
   ]
  },
  {
   "cell_type": "code",
   "execution_count": 12,
   "metadata": {},
   "outputs": [
    {
     "name": "stdout",
     "output_type": "stream",
     "text": [
      "{\n",
      "    \"a dict\": {\n",
      "        \"a\": 1,\n",
      "        \"b\": 2\n",
      "    },\n",
      "    \"a list\": [\n",
      "        1,\n",
      "        2,\n",
      "        3,\n",
      "        4\n",
      "    ],\n",
      "    \"a number\": 42\n",
      "}\n"
     ]
    }
   ],
   "source": [
    "import json\n",
    "\n",
    "my_data = {\"a number\": 42, \"a list\": [1, 2, 3, 4], \"a dict\": {'a': 1, 'b': 2}}\n",
    "\n",
    "print(json.dumps(my_data, sort_keys=True, indent=4))"
   ]
  },
  {
   "cell_type": "code",
   "execution_count": 8,
   "metadata": {},
   "outputs": [
    {
     "name": "stdout",
     "output_type": "stream",
     "text": [
      "{'a number': 42, 'a list': [1, 2, 3, 4], 'a dict': {'a': 1, 'b': 2}}\n",
      "€\u0003}q\u0000(\u0000\u0000\u0000a numberq\u0001K*X\u0006\u0000\u0000\u0000a listq\u0002]q\u0003(K\u0001K\u0002K\u0003K\u0004eX\u0006\u0000\u0000\u0000a dictq\u0004}q\u0005(X\u0001\u0000\u0000\u0000aq\u0006K\u0001X\u0001\u0000\u0000\u0000bq\u0007K\u0002uu.\n"
     ]
    }
   ],
   "source": [
    "import pickle\n",
    "\n",
    "my_data = {\"a number\": 42, \"a list\": [1, 2, 3, 4], \"a dict\": {'a': 1, 'b': 2}}\n",
    "\n",
    "with open(\"my_data.pkl\", \"wb\") as my_file:\n",
    "    pickle.dump(my_data, my_file)\n",
    "\n",
    "with open(\"my_data.pkl\", \"rb\") as my_file:\n",
    "    my_data_copy = pickle.load(my_file)\n",
    "\n",
    "print(my_data_copy)\n",
    "!type my_data.pkl"
   ]
  },
  {
   "cell_type": "code",
   "execution_count": null,
   "metadata": {
    "scrolled": true
   },
   "outputs": [],
   "source": [
    "import pickle\n",
    "\n",
    "my_data = {\"a number\": 42, \"a list\": [1, 2, 3, 4], \"a dict\": {'a': 1, 'b': 2}}\n",
    "\n",
    "with open(\"my_data_text.pkl\", \"wb\") as my_file:\n",
    "    pickle.dump(my_data, my_file, protocol=0)\n",
    "\n",
    "with open(\"my_data_text.pkl\", \"rb\") as my_file:\n",
    "    my_data_copy = pickle.load(my_file)\n",
    "\n",
    "print(my_data_copy)"
   ]
  },
  {
   "cell_type": "code",
   "execution_count": 9,
   "metadata": {},
   "outputs": [
    {
     "name": "stdout",
     "output_type": "stream",
     "text": [
      "b'\\x80\\x03}q\\x00(X\\x08\\x00\\x00\\x00a numberq\\x01K*X\\x06\\x00\\x00\\x00a listq\\x02]q\\x03(K\\x01K\\x02K\\x03K\\x04eX\\x06\\x00\\x00\\x00a dictq\\x04}q\\x05(X\\x01\\x00\\x00\\x00aq\\x06K\\x01X\\x01\\x00\\x00\\x00bq\\x07K\\x02uu.'\n",
      "{'a number': 42, 'a list': [1, 2, 3, 4], 'a dict': {'a': 1, 'b': 2}}\n"
     ]
    }
   ],
   "source": [
    "import pickle\n",
    "\n",
    "my_data = {\"a number\": 42, \"a list\": [1, 2, 3, 4], \"a dict\": {'a': 1, 'b': 2}}\n",
    "\n",
    "my_data_dump = pickle.dumps(my_data)\n",
    "\n",
    "print(my_data_dump)\n",
    "\n",
    "my_data_copy = pickle.loads(my_data_dump)\n",
    "\n",
    "print(my_data_copy)"
   ]
  },
  {
   "cell_type": "markdown",
   "metadata": {},
   "source": [
    "# Data archiving and compression"
   ]
  },
  {
   "cell_type": "code",
   "execution_count": 13,
   "metadata": {},
   "outputs": [
    {
     "name": "stdout",
     "output_type": "stream",
     "text": [
      "['bild1.jpg', 'bild2.jpg']\n",
      "[<TarInfo 'bild1.jpg' at 0x1e4664e3e58>, <TarInfo 'bild2.jpg' at 0x1e4665ea1d8>]\n",
      "?rw-rw-rw- 0/0     275113 2019-09-20 11:05:26 bild1.jpg \n",
      "?rw-rw-rw- 0/0     407167 2019-09-20 11:05:26 bild2.jpg \n"
     ]
    }
   ],
   "source": [
    "import tarfile as tf\n",
    "\n",
    "with tf.TarFile(\"myarchive.tar.gz\", \"w\") as mytar:\n",
    "    mytar.add(\"bild1.jpg\")\n",
    "    mytar.add(\"bild2.jpg\")\n",
    "\n",
    "with tf.TarFile(\"myarchive.tar.gz\", \"r\") as mytar:\n",
    "    print(mytar.getnames())\n",
    "    print(mytar.getmembers())\n",
    "    mytar.extract(\"bild1.jpg\", \"mytar\")\n",
    "    mytar.extractall(\"mytar_all\")\n",
    "    mytar.list(verbose=True)"
   ]
  },
  {
   "cell_type": "code",
   "execution_count": 14,
   "metadata": {},
   "outputs": [
    {
     "name": "stdout",
     "output_type": "stream",
     "text": [
      " Volume in drive C is Local Disk\n",
      " Volume Serial Number is 82A6-EE0C\n",
      "\n",
      " Directory of C:\\Users\\jonas\\Development\\guide_to_python\\chapters\\kapitel4\\notebook\n",
      "\n",
      "2019-09-20  11:35    <DIR>          .\n",
      "2019-09-20  11:35    <DIR>          ..\n",
      "2019-09-19  15:11    <DIR>          .ipynb_checkpoints\n",
      "2019-09-20  11:05           275ÿ113 bild1.jpg\n",
      "2019-09-20  11:05           407ÿ167 bild2.jpg\n",
      "2019-09-20  11:35            30ÿ736 Builtin functions.ipynb\n",
      "2019-09-20  11:05               181 config1.ini\n",
      "2019-09-20  11:05               188 config2.ini\n",
      "2019-09-20  11:05               111 config3.ini\n",
      "2019-09-20  11:05               260 example1.csv\n",
      "2019-09-20  11:05                39 example2.csv\n",
      "2019-09-20  11:05                39 example3.csv\n",
      "2019-09-20  11:36           686ÿ080 myarchive.tar.gz\n",
      "2019-09-20  11:05           682ÿ490 myarchive.zip\n",
      "2019-09-20  11:33                68 mydata.json\n",
      "2019-09-20  11:05    <DIR>          mytar\n",
      "2019-09-20  11:05    <DIR>          mytar_all\n",
      "2019-09-20  11:05    <DIR>          myzip\n",
      "2019-09-20  11:05    <DIR>          myzip_all\n",
      "2019-09-20  11:30                89 my_data.pkl\n",
      "2019-09-19  15:54    <DIR>          os5\n",
      "              13 File(s)      2ÿ082ÿ561 bytes\n",
      "               8 Dir(s)  207ÿ451ÿ041ÿ792 bytes free\n"
     ]
    }
   ],
   "source": [
    "!dir"
   ]
  },
  {
   "cell_type": "code",
   "execution_count": 16,
   "metadata": {},
   "outputs": [
    {
     "name": "stdout",
     "output_type": "stream",
     "text": [
      "['bild1.jpg', 'bild2.jpg']\n",
      "<ZipInfo filename='bild1.jpg' filemode='-rw-rw-rw-' file_size=275113>\n",
      "File Name                                             Modified             Size\n",
      "bild1.jpg                                      2019-09-20 11:05:26       275113\n",
      "bild2.jpg                                      2019-09-20 11:05:26       407167\n"
     ]
    },
    {
     "data": {
      "image/png": "[encoded data removed]",
      "text/plain": [
       "<Figure size 432x288 with 1 Axes>"
      ]
     },
     "metadata": {
      "needs_background": "light"
     },
     "output_type": "display_data"
    }
   ],
   "source": [
    "import zipfile as zf\n",
    "import matplotlib.pyplot as plt\n",
    "\n",
    "with zf.ZipFile(\"myarchive.zip\", \"w\") as myzip:\n",
    "    myzip.write(\"bild1.jpg\")\n",
    "    myzip.write(\"bild2.jpg\")\n",
    "\n",
    "with zf.ZipFile(\"myarchive.zip\", \"r\") as myzip:\n",
    "    print(myzip.namelist())\n",
    "    print(myzip.getinfo(\"bild1.jpg\"))\n",
    "    myzip.extract(\"bild2.jpg\", \"myzip\")\n",
    "    myzip.extractall(\"myzip_all\")\n",
    "    myzip.printdir()\n",
    "    with myzip.open(\"bild2.jpg\") as myfile:\n",
    "        image = plt.imread(myfile)        \n",
    "    plt.imshow(image)\n",
    "    plt.show()"
   ]
  },
  {
   "cell_type": "code",
   "execution_count": 17,
   "metadata": {},
   "outputs": [
    {
     "name": "stdout",
     "output_type": "stream",
     "text": [
      "2825\n",
      "1926\n",
      "{'a number': 42, 'a list': [0, 1, 2, 3, 4, 5, 6, 7, 8, 9, 10, 11, 12, 13, 14, 15, 16, 17, 18, 19, 20, 21, 22, 23, 24, 25, 26, 27, 28, 29, 30, 31, 32, 33, 34, 35, 36, 37, 38, 39, 40, 41, 42, 43, 44, 45, 46, 47, 48, 49, 50, 51, 52, 53, 54, 55, 56, 57, 58, 59, 60, 61, 62, 63, 64, 65, 66, 67, 68, 69, 70, 71, 72, 73, 74, 75, 76, 77, 78, 79, 80, 81, 82, 83, 84, 85, 86, 87, 88, 89, 90, 91, 92, 93, 94, 95, 96, 97, 98, 99, 100, 101, 102, 103, 104, 105, 106, 107, 108, 109, 110, 111, 112, 113, 114, 115, 116, 117, 118, 119, 120, 121, 122, 123, 124, 125, 126, 127, 128, 129, 130, 131, 132, 133, 134, 135, 136, 137, 138, 139, 140, 141, 142, 143, 144, 145, 146, 147, 148, 149, 150, 151, 152, 153, 154, 155, 156, 157, 158, 159, 160, 161, 162, 163, 164, 165, 166, 167, 168, 169, 170, 171, 172, 173, 174, 175, 176, 177, 178, 179, 180, 181, 182, 183, 184, 185, 186, 187, 188, 189, 190, 191, 192, 193, 194, 195, 196, 197, 198, 199, 200, 201, 202, 203, 204, 205, 206, 207, 208, 209, 210, 211, 212, 213, 214, 215, 216, 217, 218, 219, 220, 221, 222, 223, 224, 225, 226, 227, 228, 229, 230, 231, 232, 233, 234, 235, 236, 237, 238, 239, 240, 241, 242, 243, 244, 245, 246, 247, 248, 249, 250, 251, 252, 253, 254, 255, 256, 257, 258, 259, 260, 261, 262, 263, 264, 265, 266, 267, 268, 269, 270, 271, 272, 273, 274, 275, 276, 277, 278, 279, 280, 281, 282, 283, 284, 285, 286, 287, 288, 289, 290, 291, 292, 293, 294, 295, 296, 297, 298, 299, 300, 301, 302, 303, 304, 305, 306, 307, 308, 309, 310, 311, 312, 313, 314, 315, 316, 317, 318, 319, 320, 321, 322, 323, 324, 325, 326, 327, 328, 329, 330, 331, 332, 333, 334, 335, 336, 337, 338, 339, 340, 341, 342, 343, 344, 345, 346, 347, 348, 349, 350, 351, 352, 353, 354, 355, 356, 357, 358, 359, 360, 361, 362, 363, 364, 365, 366, 367, 368, 369, 370, 371, 372, 373, 374, 375, 376, 377, 378, 379, 380, 381, 382, 383, 384, 385, 386, 387, 388, 389, 390, 391, 392, 393, 394, 395, 396, 397, 398, 399, 400, 401, 402, 403, 404, 405, 406, 407, 408, 409, 410, 411, 412, 413, 414, 415, 416, 417, 418, 419, 420, 421, 422, 423, 424, 425, 426, 427, 428, 429, 430, 431, 432, 433, 434, 435, 436, 437, 438, 439, 440, 441, 442, 443, 444, 445, 446, 447, 448, 449, 450, 451, 452, 453, 454, 455, 456, 457, 458, 459, 460, 461, 462, 463, 464, 465, 466, 467, 468, 469, 470, 471, 472, 473, 474, 475, 476, 477, 478, 479, 480, 481, 482, 483, 484, 485, 486, 487, 488, 489, 490, 491, 492, 493, 494, 495, 496, 497, 498, 499, 500, 501, 502, 503, 504, 505, 506, 507, 508, 509, 510, 511, 512, 513, 514, 515, 516, 517, 518, 519, 520, 521, 522, 523, 524, 525, 526, 527, 528, 529, 530, 531, 532, 533, 534, 535, 536, 537, 538, 539, 540, 541, 542, 543, 544, 545, 546, 547, 548, 549, 550, 551, 552, 553, 554, 555, 556, 557, 558, 559, 560, 561, 562, 563, 564, 565, 566, 567, 568, 569, 570, 571, 572, 573, 574, 575, 576, 577, 578, 579, 580, 581, 582, 583, 584, 585, 586, 587, 588, 589, 590, 591, 592, 593, 594, 595, 596, 597, 598, 599, 600, 601, 602, 603, 604, 605, 606, 607, 608, 609, 610, 611, 612, 613, 614, 615, 616, 617, 618, 619, 620, 621, 622, 623, 624, 625, 626, 627, 628, 629, 630, 631, 632, 633, 634, 635, 636, 637, 638, 639, 640, 641, 642, 643, 644, 645, 646, 647, 648, 649, 650, 651, 652, 653, 654, 655, 656, 657, 658, 659, 660, 661, 662, 663, 664, 665, 666, 667, 668, 669, 670, 671, 672, 673, 674, 675, 676, 677, 678, 679, 680, 681, 682, 683, 684, 685, 686, 687, 688, 689, 690, 691, 692, 693, 694, 695, 696, 697, 698, 699, 700, 701, 702, 703, 704, 705, 706, 707, 708, 709, 710, 711, 712, 713, 714, 715, 716, 717, 718, 719, 720, 721, 722, 723, 724, 725, 726, 727, 728, 729, 730, 731, 732, 733, 734, 735, 736, 737, 738, 739, 740, 741, 742, 743, 744, 745, 746, 747, 748, 749, 750, 751, 752, 753, 754, 755, 756, 757, 758, 759, 760, 761, 762, 763, 764, 765, 766, 767, 768, 769, 770, 771, 772, 773, 774, 775, 776, 777, 778, 779, 780, 781, 782, 783, 784, 785, 786, 787, 788, 789, 790, 791, 792, 793, 794, 795, 796, 797, 798, 799, 800, 801, 802, 803, 804, 805, 806, 807, 808, 809, 810, 811, 812, 813, 814, 815, 816, 817, 818, 819, 820, 821, 822, 823, 824, 825, 826, 827, 828, 829, 830, 831, 832, 833, 834, 835, 836, 837, 838, 839, 840, 841, 842, 843, 844, 845, 846, 847, 848, 849, 850, 851, 852, 853, 854, 855, 856, 857, 858, 859, 860, 861, 862, 863, 864, 865, 866, 867, 868, 869, 870, 871, 872, 873, 874, 875, 876, 877, 878, 879, 880, 881, 882, 883, 884, 885, 886, 887, 888, 889, 890, 891, 892, 893, 894, 895, 896, 897, 898, 899, 900, 901, 902, 903, 904, 905, 906, 907, 908, 909, 910, 911, 912, 913, 914, 915, 916, 917, 918, 919, 920, 921, 922, 923, 924, 925, 926, 927, 928, 929, 930, 931, 932, 933, 934, 935, 936, 937, 938, 939, 940, 941, 942, 943, 944, 945, 946, 947, 948, 949, 950, 951, 952, 953, 954, 955, 956, 957, 958, 959, 960, 961, 962, 963, 964, 965, 966, 967, 968, 969, 970, 971, 972, 973, 974, 975, 976, 977, 978, 979, 980, 981, 982, 983, 984, 985, 986, 987, 988, 989, 990, 991, 992, 993, 994, 995, 996, 997, 998, 999], 'a dict': {'a': 1, 'b': 2}}\n"
     ]
    }
   ],
   "source": [
    "import pickle, zlib\n",
    "\n",
    "my_data = {\"a number\": 42, \"a list\": list(range(1000)), \"a dict\": {'a': 1, 'b': 2}}\n",
    "\n",
    "my_data_dump = pickle.dumps(my_data)\n",
    "print(len(my_data_dump))\n",
    "\n",
    "my_data_compressed = zlib.compress(my_data_dump)\n",
    "print(len(my_data_compressed))\n",
    "\n",
    "my_data_uncompressed = zlib.decompress(my_data_compressed)\n",
    "\n",
    "my_data_copy = pickle.loads(my_data_uncompressed)\n",
    "print(my_data_copy)"
   ]
  },
  {
   "cell_type": "markdown",
   "metadata": {},
   "source": [
    "# Special file formats"
   ]
  },
  {
   "cell_type": "code",
   "execution_count": 21,
   "metadata": {},
   "outputs": [
    {
     "name": "stdout",
     "output_type": "stream",
     "text": [
      "[DEFAULT]\n",
      "ServerAliveInterval = 45\n",
      "Compression = yes\n",
      "CompressionLevel = 9\n",
      "ForwardX11 = yes\n",
      "\n",
      "[bitbucket.org]\n",
      "User = hg\n",
      "\n",
      "[topsecret.server.com]\n",
      "Port = 50022\n",
      "ForwardX11 = no\n"
     ]
    }
   ],
   "source": [
    "!type config1.ini"
   ]
  },
  {
   "cell_type": "code",
   "execution_count": 22,
   "metadata": {},
   "outputs": [
    {
     "name": "stdout",
     "output_type": "stream",
     "text": [
      "['bitbucket.org', 'topsecret.server.com']\n",
      "hg\n",
      "section = bitbucket.org\n",
      "user = hg\n",
      "serveraliveinterval = 45\n",
      "compression = yes\n",
      "compressionlevel = 9\n",
      "forwardx11 = yes\n",
      "section = topsecret.server.com\n",
      "port = 50022\n",
      "forwardx11 = no\n",
      "serveraliveinterval = 45\n",
      "compression = yes\n",
      "compressionlevel = 9\n",
      "jonas\n"
     ]
    }
   ],
   "source": [
    "import configparser\n",
    "\n",
    "config = configparser.ConfigParser()\n",
    "config.read(\"config1.ini\")\n",
    "\n",
    "sections = config.sections()\n",
    "print(sections)\n",
    "\n",
    "print(config[\"bitbucket.org\"][\"user\"])\n",
    "\n",
    "for section in config.sections():\n",
    "    print(\"section =\", section)\n",
    "    keys = config[section].keys()\n",
    "    for key in keys:\n",
    "        print(key, \"=\", config[section][key])\n",
    "        \n",
    "config[\"bitbucket.org\"][\"user\"] = \"jonas\"\n",
    "print(config[\"bitbucket.org\"][\"user\"])\n",
    "\n",
    "with open(\"config2.ini\", \"w\") as config_file:\n",
    "    config.write(config_file)"
   ]
  },
  {
   "cell_type": "code",
   "execution_count": 23,
   "metadata": {},
   "outputs": [],
   "source": [
    "\n",
    "import configparser\n",
    "\n",
    "config = configparser.ConfigParser()\n",
    "\n",
    "config[\"DEFAULT\"] = {\n",
    "        \"Rating\":\"No rating\",\n",
    "        \"Length\":\"No length\"\n",
    "        }\n",
    "\n",
    "config[\"Dr Who\"] = {\"Rating\":\"9/9\"}\n",
    "config[\"Firefly\"] = {\"Length\":\"Too long\"}\n",
    "\n",
    "with open(\"config3.ini\", \"w\") as config_file:\n",
    "    config.write(config_file)\n",
    "    "
   ]
  },
  {
   "cell_type": "code",
   "execution_count": 24,
   "metadata": {},
   "outputs": [
    {
     "name": "stdout",
     "output_type": "stream",
     "text": [
      "[DEFAULT]\n",
      "rating = No rating\n",
      "length = No length\n",
      "\n",
      "[Dr Who]\n",
      "rating = 9/9\n",
      "\n",
      "[Firefly]\n",
      "length = Too long\n",
      "\n"
     ]
    }
   ],
   "source": [
    "!type config3.ini"
   ]
  },
  {
   "cell_type": "code",
   "execution_count": 25,
   "metadata": {},
   "outputs": [
    {
     "name": "stdout",
     "output_type": "stream",
     "text": [
      "['Year', 'Make', 'Model', 'Description', 'Price']\n",
      "['1997', 'Ford', 'E350', 'ac, abs, moon', '3000.00']\n",
      "['1999', 'Chevy', 'Venture \"Extended Edition\"', '', '4900.00']\n",
      "['1999', 'Chevy', 'Venture \"Extended Edition, Very Large\"', '', '5000.00']\n",
      "['1996', 'Jeep', 'Grand Cherokee', 'MUST SELL!air, moon roof, loaded', '4799.00']\n"
     ]
    }
   ],
   "source": [
    "import csv\n",
    "\n",
    "with open('example1.csv', 'r') as csv_file:\n",
    "    csv_data = csv.reader(csv_file, delimiter=',')\n",
    "    for row in csv_data:\n",
    "        print(row)\n",
    "\n",
    "with open('example2.csv', 'w') as csv_file:\n",
    "    csv_writer = csv.writer(csv_file, delimiter=',')\n",
    "    csv_writer.writerow(['Beteckning', 'Antal'])\n",
    "    csv_writer.writerow(['Gurka', '2'])\n",
    "    csv_writer.writerow(['Tomat', '4'])\n",
    "    \n",
    "l = [[\"Beteckning\", \"Antal\"],[\"Gurka\", \"2\"], [\"Tomat\", \"4\"]]\n",
    "\n",
    "with open('example3.csv', 'w') as csv_file:\n",
    "    csv_writer = csv.writer(csv_file, delimiter=',')\n",
    "    csv_writer.writerows(l)"
   ]
  },
  {
   "cell_type": "code",
   "execution_count": null,
   "metadata": {},
   "outputs": [],
   "source": []
  }
 ],
 "metadata": {
  "kernelspec": {
   "display_name": "Python 3",
   "language": "python",
   "name": "python3"
  },
  "language_info": {
   "codemirror_mode": {
    "name": "ipython",
    "version": 3
   },
   "file_extension": ".py",
   "mimetype": "text/x-python",
   "name": "python",
   "nbconvert_exporter": "python",
   "pygments_lexer": "ipython3",
   "version": "3.7.3"
  },
  "nbTranslate": {
   "displayLangs": [
    "*"
   ],
   "hotkey": "alt-t",
   "langInMainMenu": true,
   "sourceLang": "en",
   "targetLang": "fr",
   "useGoogleTranslate": true
  }
 },
 "nbformat": 4,
 "nbformat_minor": 2
}
